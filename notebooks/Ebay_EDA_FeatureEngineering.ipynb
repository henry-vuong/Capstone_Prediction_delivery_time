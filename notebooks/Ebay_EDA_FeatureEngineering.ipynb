{
 "cells": [
  {
   "attachments": {},
   "cell_type": "markdown",
   "id": "68767797",
   "metadata": {},
   "source": [
    "# Capstone Projecy: Prediction Delivery Time For Online Shopping\n",
    "\n",
    "Huy Hoang Vuong | June 25, 2023\n",
    "\n",
    "This Project is focused on predicting the estimated delivery time for the online shopping order, which helps to improve the customer experience by assisting them to answer the question: \"When do I get my order ?\" as close as possible.\n",
    "\n",
    "\n",
    "***Please Note:*** This is Notebook 1 of 2 that was used to explore the data, find some missing or abnormal variables, and fill it up. There are also feature engineering steps to create a new feature and delete the duplicate element when the new feature is created.\n",
    "The output of this step will be able to create a new CSV file which is clean (no missing or duplicate) and a new feature filled up."
   ]
  },
  {
   "cell_type": "code",
   "execution_count": 80,
   "id": "89766dd5",
   "metadata": {},
   "outputs": [],
   "source": [
    "#import all package need\n",
    "import numpy as np\n",
    "import pandas as pd\n",
    "import matplotlib.pyplot as plt\n",
    "import plotly.express as px\n",
    "import seaborn as sns\n",
    "from sklearn.preprocessing import OrdinalEncoder\n",
    "import datetime as dt\n",
    "import datetime \n",
    "import pytz\n",
    "from dateutil import tz\n",
    "from dateutil import parser"
   ]
  },
  {
   "attachments": {},
   "cell_type": "markdown",
   "id": "f2e62489",
   "metadata": {},
   "source": [
    "## EDA"
   ]
  },
  {
   "attachments": {},
   "cell_type": "markdown",
   "id": "47e66aa4",
   "metadata": {},
   "source": [
    "Loading data"
   ]
  },
  {
   "attachments": {},
   "cell_type": "markdown",
   "id": "e85df53c",
   "metadata": {},
   "source": [
    "As the data is too big, we first working in the shortcut of the total data with 500000 rows."
   ]
  },
  {
   "cell_type": "code",
   "execution_count": 81,
   "id": "5aaa5330",
   "metadata": {},
   "outputs": [],
   "source": [
    "df_ebay = pd.read_csv('../data/raw/ebayShort.csv', nrows=100000 ,index_col=0)"
   ]
  },
  {
   "attachments": {},
   "cell_type": "markdown",
   "id": "ffa42a73",
   "metadata": {},
   "source": [
    "### Explore Data\n"
   ]
  },
  {
   "cell_type": "code",
   "execution_count": 82,
   "id": "7962e25e",
   "metadata": {},
   "outputs": [
    {
     "data": {
      "text/html": [
       "<div>\n",
       "<style scoped>\n",
       "    .dataframe tbody tr th:only-of-type {\n",
       "        vertical-align: middle;\n",
       "    }\n",
       "\n",
       "    .dataframe tbody tr th {\n",
       "        vertical-align: top;\n",
       "    }\n",
       "\n",
       "    .dataframe thead th {\n",
       "        text-align: right;\n",
       "    }\n",
       "</style>\n",
       "<table border=\"1\" class=\"dataframe\">\n",
       "  <thead>\n",
       "    <tr style=\"text-align: right;\">\n",
       "      <th></th>\n",
       "      <th>b2c_c2c</th>\n",
       "      <th>seller_id</th>\n",
       "      <th>declared_handling_days</th>\n",
       "      <th>acceptance_scan_timestamp</th>\n",
       "      <th>shipment_method_id</th>\n",
       "      <th>shipping_fee</th>\n",
       "      <th>carrier_min_estimate</th>\n",
       "      <th>carrier_max_estimate</th>\n",
       "      <th>item_zip</th>\n",
       "      <th>buyer_zip</th>\n",
       "      <th>category_id</th>\n",
       "      <th>item_price</th>\n",
       "      <th>quantity</th>\n",
       "      <th>payment_datetime</th>\n",
       "      <th>delivery_date</th>\n",
       "      <th>weight</th>\n",
       "      <th>weight_units</th>\n",
       "      <th>package_size</th>\n",
       "      <th>record_number</th>\n",
       "    </tr>\n",
       "  </thead>\n",
       "  <tbody>\n",
       "    <tr>\n",
       "      <th>0</th>\n",
       "      <td>B2C</td>\n",
       "      <td>25454</td>\n",
       "      <td>3.0</td>\n",
       "      <td>2019-03-26 15:11:00.000-07:00</td>\n",
       "      <td>0</td>\n",
       "      <td>0.0</td>\n",
       "      <td>3</td>\n",
       "      <td>5</td>\n",
       "      <td>97219</td>\n",
       "      <td>49040</td>\n",
       "      <td>13</td>\n",
       "      <td>27.95</td>\n",
       "      <td>1</td>\n",
       "      <td>2019-03-24 03:56:49.000-07:00</td>\n",
       "      <td>2019-03-29</td>\n",
       "      <td>5</td>\n",
       "      <td>1</td>\n",
       "      <td>LETTER</td>\n",
       "      <td>1</td>\n",
       "    </tr>\n",
       "    <tr>\n",
       "      <th>1</th>\n",
       "      <td>C2C</td>\n",
       "      <td>6727381</td>\n",
       "      <td>2.0</td>\n",
       "      <td>2018-06-02 12:53:00.000-07:00</td>\n",
       "      <td>0</td>\n",
       "      <td>3.0</td>\n",
       "      <td>3</td>\n",
       "      <td>5</td>\n",
       "      <td>11415-3528</td>\n",
       "      <td>62521</td>\n",
       "      <td>0</td>\n",
       "      <td>20.50</td>\n",
       "      <td>1</td>\n",
       "      <td>2018-06-01 13:43:54.000-07:00</td>\n",
       "      <td>2018-06-05</td>\n",
       "      <td>0</td>\n",
       "      <td>1</td>\n",
       "      <td>PACKAGE_THICK_ENVELOPE</td>\n",
       "      <td>2</td>\n",
       "    </tr>\n",
       "    <tr>\n",
       "      <th>2</th>\n",
       "      <td>B2C</td>\n",
       "      <td>18507</td>\n",
       "      <td>1.0</td>\n",
       "      <td>2019-01-07 16:22:00.000-05:00</td>\n",
       "      <td>0</td>\n",
       "      <td>4.5</td>\n",
       "      <td>3</td>\n",
       "      <td>5</td>\n",
       "      <td>27292</td>\n",
       "      <td>53010</td>\n",
       "      <td>1</td>\n",
       "      <td>19.90</td>\n",
       "      <td>1</td>\n",
       "      <td>2019-01-06 00:02:00.000-05:00</td>\n",
       "      <td>2019-01-10</td>\n",
       "      <td>9</td>\n",
       "      <td>1</td>\n",
       "      <td>PACKAGE_THICK_ENVELOPE</td>\n",
       "      <td>3</td>\n",
       "    </tr>\n",
       "    <tr>\n",
       "      <th>3</th>\n",
       "      <td>B2C</td>\n",
       "      <td>4677</td>\n",
       "      <td>1.0</td>\n",
       "      <td>2018-12-17 16:56:00.000-08:00</td>\n",
       "      <td>0</td>\n",
       "      <td>0.0</td>\n",
       "      <td>3</td>\n",
       "      <td>5</td>\n",
       "      <td>90703</td>\n",
       "      <td>80022</td>\n",
       "      <td>1</td>\n",
       "      <td>35.50</td>\n",
       "      <td>1</td>\n",
       "      <td>2018-12-16 10:28:28.000-08:00</td>\n",
       "      <td>2018-12-21</td>\n",
       "      <td>8</td>\n",
       "      <td>1</td>\n",
       "      <td>PACKAGE_THICK_ENVELOPE</td>\n",
       "      <td>4</td>\n",
       "    </tr>\n",
       "    <tr>\n",
       "      <th>4</th>\n",
       "      <td>B2C</td>\n",
       "      <td>4677</td>\n",
       "      <td>1.0</td>\n",
       "      <td>2018-07-27 16:48:00.000-07:00</td>\n",
       "      <td>0</td>\n",
       "      <td>0.0</td>\n",
       "      <td>3</td>\n",
       "      <td>5</td>\n",
       "      <td>90703</td>\n",
       "      <td>55070</td>\n",
       "      <td>1</td>\n",
       "      <td>25.00</td>\n",
       "      <td>1</td>\n",
       "      <td>2018-07-26 18:20:02.000-07:00</td>\n",
       "      <td>2018-07-30</td>\n",
       "      <td>3</td>\n",
       "      <td>1</td>\n",
       "      <td>PACKAGE_THICK_ENVELOPE</td>\n",
       "      <td>5</td>\n",
       "    </tr>\n",
       "  </tbody>\n",
       "</table>\n",
       "</div>"
      ],
      "text/plain": [
       "  b2c_c2c  seller_id  declared_handling_days      acceptance_scan_timestamp  \\\n",
       "0     B2C      25454                     3.0  2019-03-26 15:11:00.000-07:00   \n",
       "1     C2C    6727381                     2.0  2018-06-02 12:53:00.000-07:00   \n",
       "2     B2C      18507                     1.0  2019-01-07 16:22:00.000-05:00   \n",
       "3     B2C       4677                     1.0  2018-12-17 16:56:00.000-08:00   \n",
       "4     B2C       4677                     1.0  2018-07-27 16:48:00.000-07:00   \n",
       "\n",
       "   shipment_method_id  shipping_fee  carrier_min_estimate  \\\n",
       "0                   0           0.0                     3   \n",
       "1                   0           3.0                     3   \n",
       "2                   0           4.5                     3   \n",
       "3                   0           0.0                     3   \n",
       "4                   0           0.0                     3   \n",
       "\n",
       "   carrier_max_estimate    item_zip buyer_zip  category_id  item_price  \\\n",
       "0                     5       97219     49040           13       27.95   \n",
       "1                     5  11415-3528     62521            0       20.50   \n",
       "2                     5       27292     53010            1       19.90   \n",
       "3                     5       90703     80022            1       35.50   \n",
       "4                     5       90703     55070            1       25.00   \n",
       "\n",
       "   quantity               payment_datetime delivery_date  weight  \\\n",
       "0         1  2019-03-24 03:56:49.000-07:00    2019-03-29       5   \n",
       "1         1  2018-06-01 13:43:54.000-07:00    2018-06-05       0   \n",
       "2         1  2019-01-06 00:02:00.000-05:00    2019-01-10       9   \n",
       "3         1  2018-12-16 10:28:28.000-08:00    2018-12-21       8   \n",
       "4         1  2018-07-26 18:20:02.000-07:00    2018-07-30       3   \n",
       "\n",
       "   weight_units            package_size  record_number  \n",
       "0             1                  LETTER              1  \n",
       "1             1  PACKAGE_THICK_ENVELOPE              2  \n",
       "2             1  PACKAGE_THICK_ENVELOPE              3  \n",
       "3             1  PACKAGE_THICK_ENVELOPE              4  \n",
       "4             1  PACKAGE_THICK_ENVELOPE              5  "
      ]
     },
     "execution_count": 82,
     "metadata": {},
     "output_type": "execute_result"
    }
   ],
   "source": [
    "# Look at the first 5 row\n",
    "df_ebay.head(5)"
   ]
  },
  {
   "cell_type": "code",
   "execution_count": 83,
   "id": "d2b54046",
   "metadata": {},
   "outputs": [
    {
     "data": {
      "text/html": [
       "<div>\n",
       "<style scoped>\n",
       "    .dataframe tbody tr th:only-of-type {\n",
       "        vertical-align: middle;\n",
       "    }\n",
       "\n",
       "    .dataframe tbody tr th {\n",
       "        vertical-align: top;\n",
       "    }\n",
       "\n",
       "    .dataframe thead th {\n",
       "        text-align: right;\n",
       "    }\n",
       "</style>\n",
       "<table border=\"1\" class=\"dataframe\">\n",
       "  <thead>\n",
       "    <tr style=\"text-align: right;\">\n",
       "      <th></th>\n",
       "      <th>b2c_c2c</th>\n",
       "      <th>seller_id</th>\n",
       "      <th>declared_handling_days</th>\n",
       "      <th>acceptance_scan_timestamp</th>\n",
       "      <th>shipment_method_id</th>\n",
       "      <th>shipping_fee</th>\n",
       "      <th>carrier_min_estimate</th>\n",
       "      <th>carrier_max_estimate</th>\n",
       "      <th>item_zip</th>\n",
       "      <th>buyer_zip</th>\n",
       "      <th>category_id</th>\n",
       "      <th>item_price</th>\n",
       "      <th>quantity</th>\n",
       "      <th>payment_datetime</th>\n",
       "      <th>delivery_date</th>\n",
       "      <th>weight</th>\n",
       "      <th>weight_units</th>\n",
       "      <th>package_size</th>\n",
       "      <th>record_number</th>\n",
       "    </tr>\n",
       "  </thead>\n",
       "  <tbody>\n",
       "    <tr>\n",
       "      <th>34255</th>\n",
       "      <td>C2C</td>\n",
       "      <td>538035</td>\n",
       "      <td>1.0</td>\n",
       "      <td>2019-10-21 16:21:00.000-04:00</td>\n",
       "      <td>1</td>\n",
       "      <td>8.3</td>\n",
       "      <td>2</td>\n",
       "      <td>5</td>\n",
       "      <td>28210</td>\n",
       "      <td>30328</td>\n",
       "      <td>0</td>\n",
       "      <td>34.99</td>\n",
       "      <td>1</td>\n",
       "      <td>2019-10-19 23:55:59.000-04:00</td>\n",
       "      <td>2019-10-23</td>\n",
       "      <td>32</td>\n",
       "      <td>1</td>\n",
       "      <td>PACKAGE_THICK_ENVELOPE</td>\n",
       "      <td>34256</td>\n",
       "    </tr>\n",
       "    <tr>\n",
       "      <th>89007</th>\n",
       "      <td>B2C</td>\n",
       "      <td>77</td>\n",
       "      <td>1.0</td>\n",
       "      <td>2019-02-11 15:51:00.000-05:00</td>\n",
       "      <td>0</td>\n",
       "      <td>0.0</td>\n",
       "      <td>3</td>\n",
       "      <td>5</td>\n",
       "      <td>37932</td>\n",
       "      <td>95926</td>\n",
       "      <td>6</td>\n",
       "      <td>22.91</td>\n",
       "      <td>1</td>\n",
       "      <td>2019-02-10 02:38:22.000-05:00</td>\n",
       "      <td>2019-02-13</td>\n",
       "      <td>10</td>\n",
       "      <td>1</td>\n",
       "      <td>PACKAGE_THICK_ENVELOPE</td>\n",
       "      <td>89008</td>\n",
       "    </tr>\n",
       "    <tr>\n",
       "      <th>70375</th>\n",
       "      <td>C2C</td>\n",
       "      <td>109931</td>\n",
       "      <td>2.0</td>\n",
       "      <td>2019-09-16 14:15:00.000-04:00</td>\n",
       "      <td>0</td>\n",
       "      <td>0.0</td>\n",
       "      <td>3</td>\n",
       "      <td>5</td>\n",
       "      <td>44053</td>\n",
       "      <td>78253</td>\n",
       "      <td>3</td>\n",
       "      <td>14.39</td>\n",
       "      <td>1</td>\n",
       "      <td>2019-09-14 15:17:20.000-04:00</td>\n",
       "      <td>2019-09-18</td>\n",
       "      <td>16</td>\n",
       "      <td>1</td>\n",
       "      <td>PACKAGE_THICK_ENVELOPE</td>\n",
       "      <td>70376</td>\n",
       "    </tr>\n",
       "    <tr>\n",
       "      <th>5131</th>\n",
       "      <td>C2C</td>\n",
       "      <td>1031039</td>\n",
       "      <td>3.0</td>\n",
       "      <td>2018-05-21 10:06:00.000-04:00</td>\n",
       "      <td>1</td>\n",
       "      <td>0.0</td>\n",
       "      <td>2</td>\n",
       "      <td>5</td>\n",
       "      <td>24168</td>\n",
       "      <td>97267</td>\n",
       "      <td>9</td>\n",
       "      <td>25.00</td>\n",
       "      <td>2</td>\n",
       "      <td>2018-05-20 17:12:19.000-04:00</td>\n",
       "      <td>2018-05-23</td>\n",
       "      <td>168</td>\n",
       "      <td>1</td>\n",
       "      <td>PACKAGE_THICK_ENVELOPE</td>\n",
       "      <td>5132</td>\n",
       "    </tr>\n",
       "    <tr>\n",
       "      <th>85420</th>\n",
       "      <td>B2C</td>\n",
       "      <td>18345</td>\n",
       "      <td>2.0</td>\n",
       "      <td>2018-01-16 10:07:00.000-08:00</td>\n",
       "      <td>0</td>\n",
       "      <td>0.0</td>\n",
       "      <td>3</td>\n",
       "      <td>5</td>\n",
       "      <td>518000</td>\n",
       "      <td>78852</td>\n",
       "      <td>5</td>\n",
       "      <td>26.95</td>\n",
       "      <td>1</td>\n",
       "      <td>2018-01-13 21:00:15.000-08:00</td>\n",
       "      <td>2018-01-19</td>\n",
       "      <td>0</td>\n",
       "      <td>1</td>\n",
       "      <td>PACKAGE_THICK_ENVELOPE</td>\n",
       "      <td>85421</td>\n",
       "    </tr>\n",
       "  </tbody>\n",
       "</table>\n",
       "</div>"
      ],
      "text/plain": [
       "      b2c_c2c  seller_id  declared_handling_days  \\\n",
       "34255     C2C     538035                     1.0   \n",
       "89007     B2C         77                     1.0   \n",
       "70375     C2C     109931                     2.0   \n",
       "5131      C2C    1031039                     3.0   \n",
       "85420     B2C      18345                     2.0   \n",
       "\n",
       "           acceptance_scan_timestamp  shipment_method_id  shipping_fee  \\\n",
       "34255  2019-10-21 16:21:00.000-04:00                   1           8.3   \n",
       "89007  2019-02-11 15:51:00.000-05:00                   0           0.0   \n",
       "70375  2019-09-16 14:15:00.000-04:00                   0           0.0   \n",
       "5131   2018-05-21 10:06:00.000-04:00                   1           0.0   \n",
       "85420  2018-01-16 10:07:00.000-08:00                   0           0.0   \n",
       "\n",
       "       carrier_min_estimate  carrier_max_estimate item_zip buyer_zip  \\\n",
       "34255                     2                     5    28210     30328   \n",
       "89007                     3                     5    37932     95926   \n",
       "70375                     3                     5    44053     78253   \n",
       "5131                      2                     5    24168     97267   \n",
       "85420                     3                     5   518000     78852   \n",
       "\n",
       "       category_id  item_price  quantity               payment_datetime  \\\n",
       "34255            0       34.99         1  2019-10-19 23:55:59.000-04:00   \n",
       "89007            6       22.91         1  2019-02-10 02:38:22.000-05:00   \n",
       "70375            3       14.39         1  2019-09-14 15:17:20.000-04:00   \n",
       "5131             9       25.00         2  2018-05-20 17:12:19.000-04:00   \n",
       "85420            5       26.95         1  2018-01-13 21:00:15.000-08:00   \n",
       "\n",
       "      delivery_date  weight  weight_units            package_size  \\\n",
       "34255    2019-10-23      32             1  PACKAGE_THICK_ENVELOPE   \n",
       "89007    2019-02-13      10             1  PACKAGE_THICK_ENVELOPE   \n",
       "70375    2019-09-18      16             1  PACKAGE_THICK_ENVELOPE   \n",
       "5131     2018-05-23     168             1  PACKAGE_THICK_ENVELOPE   \n",
       "85420    2018-01-19       0             1  PACKAGE_THICK_ENVELOPE   \n",
       "\n",
       "       record_number  \n",
       "34255          34256  \n",
       "89007          89008  \n",
       "70375          70376  \n",
       "5131            5132  \n",
       "85420          85421  "
      ]
     },
     "execution_count": 83,
     "metadata": {},
     "output_type": "execute_result"
    }
   ],
   "source": [
    "#Look at 5 random row\n",
    "df_ebay.sample(5)"
   ]
  },
  {
   "cell_type": "code",
   "execution_count": 84,
   "id": "433d66e8",
   "metadata": {},
   "outputs": [
    {
     "name": "stdout",
     "output_type": "stream",
     "text": [
      "There are 100000 columns and 19 rows\n"
     ]
    }
   ],
   "source": [
    "#check the shape of the dataset\n",
    "print(f'There are {df_ebay.shape[0]} columns and {df_ebay.shape[1]} rows')"
   ]
  },
  {
   "cell_type": "code",
   "execution_count": 85,
   "id": "893fa645",
   "metadata": {},
   "outputs": [
    {
     "data": {
      "text/plain": [
       "b2c_c2c                       object\n",
       "seller_id                      int64\n",
       "declared_handling_days       float64\n",
       "acceptance_scan_timestamp     object\n",
       "shipment_method_id             int64\n",
       "shipping_fee                 float64\n",
       "carrier_min_estimate           int64\n",
       "carrier_max_estimate           int64\n",
       "item_zip                      object\n",
       "buyer_zip                     object\n",
       "category_id                    int64\n",
       "item_price                   float64\n",
       "quantity                       int64\n",
       "payment_datetime              object\n",
       "delivery_date                 object\n",
       "weight                         int64\n",
       "weight_units                   int64\n",
       "package_size                  object\n",
       "record_number                  int64\n",
       "dtype: object"
      ]
     },
     "execution_count": 85,
     "metadata": {},
     "output_type": "execute_result"
    }
   ],
   "source": [
    "# Get a quick overview of dataset variables\n",
    "df_ebay.dtypes"
   ]
  },
  {
   "attachments": {},
   "cell_type": "markdown",
   "id": "e2ad1d26",
   "metadata": {},
   "source": [
    "Show the columns which is not numeric"
   ]
  },
  {
   "cell_type": "code",
   "execution_count": 86,
   "id": "309d3385",
   "metadata": {},
   "outputs": [
    {
     "data": {
      "text/html": [
       "<div>\n",
       "<style scoped>\n",
       "    .dataframe tbody tr th:only-of-type {\n",
       "        vertical-align: middle;\n",
       "    }\n",
       "\n",
       "    .dataframe tbody tr th {\n",
       "        vertical-align: top;\n",
       "    }\n",
       "\n",
       "    .dataframe thead th {\n",
       "        text-align: right;\n",
       "    }\n",
       "</style>\n",
       "<table border=\"1\" class=\"dataframe\">\n",
       "  <thead>\n",
       "    <tr style=\"text-align: right;\">\n",
       "      <th></th>\n",
       "      <th>b2c_c2c</th>\n",
       "      <th>acceptance_scan_timestamp</th>\n",
       "      <th>item_zip</th>\n",
       "      <th>buyer_zip</th>\n",
       "      <th>payment_datetime</th>\n",
       "      <th>delivery_date</th>\n",
       "      <th>package_size</th>\n",
       "    </tr>\n",
       "  </thead>\n",
       "  <tbody>\n",
       "    <tr>\n",
       "      <th>0</th>\n",
       "      <td>B2C</td>\n",
       "      <td>2019-03-26 15:11:00.000-07:00</td>\n",
       "      <td>97219</td>\n",
       "      <td>49040</td>\n",
       "      <td>2019-03-24 03:56:49.000-07:00</td>\n",
       "      <td>2019-03-29</td>\n",
       "      <td>LETTER</td>\n",
       "    </tr>\n",
       "    <tr>\n",
       "      <th>1</th>\n",
       "      <td>C2C</td>\n",
       "      <td>2018-06-02 12:53:00.000-07:00</td>\n",
       "      <td>11415-3528</td>\n",
       "      <td>62521</td>\n",
       "      <td>2018-06-01 13:43:54.000-07:00</td>\n",
       "      <td>2018-06-05</td>\n",
       "      <td>PACKAGE_THICK_ENVELOPE</td>\n",
       "    </tr>\n",
       "    <tr>\n",
       "      <th>2</th>\n",
       "      <td>B2C</td>\n",
       "      <td>2019-01-07 16:22:00.000-05:00</td>\n",
       "      <td>27292</td>\n",
       "      <td>53010</td>\n",
       "      <td>2019-01-06 00:02:00.000-05:00</td>\n",
       "      <td>2019-01-10</td>\n",
       "      <td>PACKAGE_THICK_ENVELOPE</td>\n",
       "    </tr>\n",
       "    <tr>\n",
       "      <th>3</th>\n",
       "      <td>B2C</td>\n",
       "      <td>2018-12-17 16:56:00.000-08:00</td>\n",
       "      <td>90703</td>\n",
       "      <td>80022</td>\n",
       "      <td>2018-12-16 10:28:28.000-08:00</td>\n",
       "      <td>2018-12-21</td>\n",
       "      <td>PACKAGE_THICK_ENVELOPE</td>\n",
       "    </tr>\n",
       "    <tr>\n",
       "      <th>4</th>\n",
       "      <td>B2C</td>\n",
       "      <td>2018-07-27 16:48:00.000-07:00</td>\n",
       "      <td>90703</td>\n",
       "      <td>55070</td>\n",
       "      <td>2018-07-26 18:20:02.000-07:00</td>\n",
       "      <td>2018-07-30</td>\n",
       "      <td>PACKAGE_THICK_ENVELOPE</td>\n",
       "    </tr>\n",
       "  </tbody>\n",
       "</table>\n",
       "</div>"
      ],
      "text/plain": [
       "  b2c_c2c      acceptance_scan_timestamp    item_zip buyer_zip  \\\n",
       "0     B2C  2019-03-26 15:11:00.000-07:00       97219     49040   \n",
       "1     C2C  2018-06-02 12:53:00.000-07:00  11415-3528     62521   \n",
       "2     B2C  2019-01-07 16:22:00.000-05:00       27292     53010   \n",
       "3     B2C  2018-12-17 16:56:00.000-08:00       90703     80022   \n",
       "4     B2C  2018-07-27 16:48:00.000-07:00       90703     55070   \n",
       "\n",
       "                payment_datetime delivery_date            package_size  \n",
       "0  2019-03-24 03:56:49.000-07:00    2019-03-29                  LETTER  \n",
       "1  2018-06-01 13:43:54.000-07:00    2018-06-05  PACKAGE_THICK_ENVELOPE  \n",
       "2  2019-01-06 00:02:00.000-05:00    2019-01-10  PACKAGE_THICK_ENVELOPE  \n",
       "3  2018-12-16 10:28:28.000-08:00    2018-12-21  PACKAGE_THICK_ENVELOPE  \n",
       "4  2018-07-26 18:20:02.000-07:00    2018-07-30  PACKAGE_THICK_ENVELOPE  "
      ]
     },
     "execution_count": 86,
     "metadata": {},
     "output_type": "execute_result"
    }
   ],
   "source": [
    "# 5 rows showing only 'object' columns\n",
    "df_ebay.select_dtypes('object').head()"
   ]
  },
  {
   "attachments": {},
   "cell_type": "markdown",
   "id": "b64762e0",
   "metadata": {},
   "source": [
    "### Data cleanding"
   ]
  },
  {
   "attachments": {},
   "cell_type": "markdown",
   "id": "0fcd7f0e",
   "metadata": {},
   "source": [
    "First let do some common checking in the dataset.\n",
    " -  Null value\n",
    " -  Duplicate row"
   ]
  },
  {
   "attachments": {},
   "cell_type": "markdown",
   "id": "92871d64",
   "metadata": {},
   "source": [
    "#### Check null and duplicate"
   ]
  },
  {
   "cell_type": "code",
   "execution_count": 87,
   "id": "732aeced",
   "metadata": {},
   "outputs": [
    {
     "data": {
      "text/plain": [
       "False"
      ]
     },
     "execution_count": 87,
     "metadata": {},
     "output_type": "execute_result"
    }
   ],
   "source": [
    "# checking duplicate rows\n",
    "df_ebay.duplicated().any()"
   ]
  },
  {
   "attachments": {},
   "cell_type": "markdown",
   "id": "9f6923e8",
   "metadata": {},
   "source": [
    "There are no duplicate row in the database"
   ]
  },
  {
   "cell_type": "code",
   "execution_count": 88,
   "id": "fe190cea",
   "metadata": {},
   "outputs": [
    {
     "data": {
      "text/plain": [
       "b2c_c2c                         0\n",
       "seller_id                       0\n",
       "declared_handling_days       4958\n",
       "acceptance_scan_timestamp       0\n",
       "shipment_method_id              0\n",
       "shipping_fee                    0\n",
       "carrier_min_estimate            0\n",
       "carrier_max_estimate            0\n",
       "item_zip                        0\n",
       "buyer_zip                       0\n",
       "category_id                     0\n",
       "item_price                      0\n",
       "quantity                        0\n",
       "payment_datetime                0\n",
       "delivery_date                   0\n",
       "weight                          0\n",
       "weight_units                    0\n",
       "package_size                    0\n",
       "record_number                   0\n",
       "dtype: int64"
      ]
     },
     "execution_count": 88,
     "metadata": {},
     "output_type": "execute_result"
    }
   ],
   "source": [
    "#Checking null\n",
    "df_ebay.isna().sum()"
   ]
  },
  {
   "attachments": {},
   "cell_type": "markdown",
   "id": "895da9cf",
   "metadata": {},
   "source": [
    "There are missing values in the `declared_handling_day` column"
   ]
  },
  {
   "cell_type": "code",
   "execution_count": 89,
   "id": "f054c3bb",
   "metadata": {},
   "outputs": [
    {
     "data": {
      "text/html": [
       "<div>\n",
       "<style scoped>\n",
       "    .dataframe tbody tr th:only-of-type {\n",
       "        vertical-align: middle;\n",
       "    }\n",
       "\n",
       "    .dataframe tbody tr th {\n",
       "        vertical-align: top;\n",
       "    }\n",
       "\n",
       "    .dataframe thead th {\n",
       "        text-align: right;\n",
       "    }\n",
       "</style>\n",
       "<table border=\"1\" class=\"dataframe\">\n",
       "  <thead>\n",
       "    <tr style=\"text-align: right;\">\n",
       "      <th></th>\n",
       "      <th>b2c_c2c</th>\n",
       "      <th>seller_id</th>\n",
       "      <th>declared_handling_days</th>\n",
       "      <th>acceptance_scan_timestamp</th>\n",
       "      <th>shipment_method_id</th>\n",
       "      <th>shipping_fee</th>\n",
       "      <th>carrier_min_estimate</th>\n",
       "      <th>carrier_max_estimate</th>\n",
       "      <th>item_zip</th>\n",
       "      <th>buyer_zip</th>\n",
       "      <th>category_id</th>\n",
       "      <th>item_price</th>\n",
       "      <th>quantity</th>\n",
       "      <th>payment_datetime</th>\n",
       "      <th>delivery_date</th>\n",
       "      <th>weight</th>\n",
       "      <th>weight_units</th>\n",
       "      <th>package_size</th>\n",
       "      <th>record_number</th>\n",
       "    </tr>\n",
       "  </thead>\n",
       "  <tbody>\n",
       "    <tr>\n",
       "      <th>111</th>\n",
       "      <td>B2C</td>\n",
       "      <td>1369</td>\n",
       "      <td>NaN</td>\n",
       "      <td>2018-01-19 12:20:00.000-05:00</td>\n",
       "      <td>0</td>\n",
       "      <td>0.00</td>\n",
       "      <td>3</td>\n",
       "      <td>5</td>\n",
       "      <td>32703</td>\n",
       "      <td>32042</td>\n",
       "      <td>5</td>\n",
       "      <td>5.80</td>\n",
       "      <td>1</td>\n",
       "      <td>2018-01-18 20:50:28.000-05:00</td>\n",
       "      <td>2018-01-26</td>\n",
       "      <td>3</td>\n",
       "      <td>1</td>\n",
       "      <td>PACKAGE_THICK_ENVELOPE</td>\n",
       "      <td>112</td>\n",
       "    </tr>\n",
       "    <tr>\n",
       "      <th>190</th>\n",
       "      <td>B2C</td>\n",
       "      <td>15812</td>\n",
       "      <td>NaN</td>\n",
       "      <td>2018-10-31 15:00:00.000-07:00</td>\n",
       "      <td>0</td>\n",
       "      <td>1.95</td>\n",
       "      <td>3</td>\n",
       "      <td>5</td>\n",
       "      <td>49938-2038</td>\n",
       "      <td>55418</td>\n",
       "      <td>12</td>\n",
       "      <td>2.95</td>\n",
       "      <td>1</td>\n",
       "      <td>2018-10-31 09:38:02.000-07:00</td>\n",
       "      <td>2018-11-02</td>\n",
       "      <td>2</td>\n",
       "      <td>1</td>\n",
       "      <td>PACKAGE_THICK_ENVELOPE</td>\n",
       "      <td>191</td>\n",
       "    </tr>\n",
       "    <tr>\n",
       "      <th>243</th>\n",
       "      <td>B2C</td>\n",
       "      <td>19122</td>\n",
       "      <td>NaN</td>\n",
       "      <td>2018-11-27 21:34:00.000-08:00</td>\n",
       "      <td>0</td>\n",
       "      <td>0.00</td>\n",
       "      <td>3</td>\n",
       "      <td>5</td>\n",
       "      <td>90014</td>\n",
       "      <td>72202</td>\n",
       "      <td>8</td>\n",
       "      <td>14.00</td>\n",
       "      <td>1</td>\n",
       "      <td>2018-11-23 13:32:25.000-08:00</td>\n",
       "      <td>2018-11-30</td>\n",
       "      <td>3</td>\n",
       "      <td>1</td>\n",
       "      <td>PACKAGE_THICK_ENVELOPE</td>\n",
       "      <td>244</td>\n",
       "    </tr>\n",
       "    <tr>\n",
       "      <th>300</th>\n",
       "      <td>C2C</td>\n",
       "      <td>982206</td>\n",
       "      <td>NaN</td>\n",
       "      <td>2018-11-20 22:14:00.000-05:00</td>\n",
       "      <td>0</td>\n",
       "      <td>3.25</td>\n",
       "      <td>3</td>\n",
       "      <td>5</td>\n",
       "      <td>19114</td>\n",
       "      <td>01001</td>\n",
       "      <td>0</td>\n",
       "      <td>8.00</td>\n",
       "      <td>1</td>\n",
       "      <td>2018-11-17 15:46:03.000-05:00</td>\n",
       "      <td>2018-11-23</td>\n",
       "      <td>0</td>\n",
       "      <td>1</td>\n",
       "      <td>PACKAGE_THICK_ENVELOPE</td>\n",
       "      <td>301</td>\n",
       "    </tr>\n",
       "    <tr>\n",
       "      <th>348</th>\n",
       "      <td>B2C</td>\n",
       "      <td>15830</td>\n",
       "      <td>NaN</td>\n",
       "      <td>2018-01-19 23:11:31.000-08:00</td>\n",
       "      <td>0</td>\n",
       "      <td>0.00</td>\n",
       "      <td>3</td>\n",
       "      <td>5</td>\n",
       "      <td>19124-2342</td>\n",
       "      <td>33050</td>\n",
       "      <td>5</td>\n",
       "      <td>5.32</td>\n",
       "      <td>1</td>\n",
       "      <td>2018-01-18 15:37:56.000-08:00</td>\n",
       "      <td>2018-01-23</td>\n",
       "      <td>0</td>\n",
       "      <td>1</td>\n",
       "      <td>NONE</td>\n",
       "      <td>349</td>\n",
       "    </tr>\n",
       "  </tbody>\n",
       "</table>\n",
       "</div>"
      ],
      "text/plain": [
       "    b2c_c2c  seller_id  declared_handling_days      acceptance_scan_timestamp  \\\n",
       "111     B2C       1369                     NaN  2018-01-19 12:20:00.000-05:00   \n",
       "190     B2C      15812                     NaN  2018-10-31 15:00:00.000-07:00   \n",
       "243     B2C      19122                     NaN  2018-11-27 21:34:00.000-08:00   \n",
       "300     C2C     982206                     NaN  2018-11-20 22:14:00.000-05:00   \n",
       "348     B2C      15830                     NaN  2018-01-19 23:11:31.000-08:00   \n",
       "\n",
       "     shipment_method_id  shipping_fee  carrier_min_estimate  \\\n",
       "111                   0          0.00                     3   \n",
       "190                   0          1.95                     3   \n",
       "243                   0          0.00                     3   \n",
       "300                   0          3.25                     3   \n",
       "348                   0          0.00                     3   \n",
       "\n",
       "     carrier_max_estimate    item_zip buyer_zip  category_id  item_price  \\\n",
       "111                     5       32703     32042            5        5.80   \n",
       "190                     5  49938-2038     55418           12        2.95   \n",
       "243                     5       90014     72202            8       14.00   \n",
       "300                     5       19114     01001            0        8.00   \n",
       "348                     5  19124-2342     33050            5        5.32   \n",
       "\n",
       "     quantity               payment_datetime delivery_date  weight  \\\n",
       "111         1  2018-01-18 20:50:28.000-05:00    2018-01-26       3   \n",
       "190         1  2018-10-31 09:38:02.000-07:00    2018-11-02       2   \n",
       "243         1  2018-11-23 13:32:25.000-08:00    2018-11-30       3   \n",
       "300         1  2018-11-17 15:46:03.000-05:00    2018-11-23       0   \n",
       "348         1  2018-01-18 15:37:56.000-08:00    2018-01-23       0   \n",
       "\n",
       "     weight_units            package_size  record_number  \n",
       "111             1  PACKAGE_THICK_ENVELOPE            112  \n",
       "190             1  PACKAGE_THICK_ENVELOPE            191  \n",
       "243             1  PACKAGE_THICK_ENVELOPE            244  \n",
       "300             1  PACKAGE_THICK_ENVELOPE            301  \n",
       "348             1                    NONE            349  "
      ]
     },
     "execution_count": 89,
     "metadata": {},
     "output_type": "execute_result"
    }
   ],
   "source": [
    "df_null=df_ebay[df_ebay.isna().any(axis=1)]\n",
    "df_null.head()\n"
   ]
  },
  {
   "attachments": {},
   "cell_type": "markdown",
   "id": "0f9a3541",
   "metadata": {},
   "source": [
    "We are going to fill the NaN value for `declared_handling_days` column by find the average of `declared_handling_days` from the same seller_id"
   ]
  },
  {
   "cell_type": "code",
   "execution_count": 90,
   "id": "c0e51501",
   "metadata": {},
   "outputs": [
    {
     "data": {
      "text/html": [
       "<div>\n",
       "<style scoped>\n",
       "    .dataframe tbody tr th:only-of-type {\n",
       "        vertical-align: middle;\n",
       "    }\n",
       "\n",
       "    .dataframe tbody tr th {\n",
       "        vertical-align: top;\n",
       "    }\n",
       "\n",
       "    .dataframe thead th {\n",
       "        text-align: right;\n",
       "    }\n",
       "</style>\n",
       "<table border=\"1\" class=\"dataframe\">\n",
       "  <thead>\n",
       "    <tr style=\"text-align: right;\">\n",
       "      <th></th>\n",
       "      <th>b2c_c2c</th>\n",
       "      <th>seller_id</th>\n",
       "      <th>declared_handling_days</th>\n",
       "      <th>acceptance_scan_timestamp</th>\n",
       "      <th>shipment_method_id</th>\n",
       "      <th>shipping_fee</th>\n",
       "      <th>carrier_min_estimate</th>\n",
       "      <th>carrier_max_estimate</th>\n",
       "      <th>item_zip</th>\n",
       "      <th>buyer_zip</th>\n",
       "      <th>category_id</th>\n",
       "      <th>item_price</th>\n",
       "      <th>quantity</th>\n",
       "      <th>payment_datetime</th>\n",
       "      <th>delivery_date</th>\n",
       "      <th>weight</th>\n",
       "      <th>weight_units</th>\n",
       "      <th>package_size</th>\n",
       "      <th>record_number</th>\n",
       "    </tr>\n",
       "  </thead>\n",
       "  <tbody>\n",
       "    <tr>\n",
       "      <th>0</th>\n",
       "      <td>B2C</td>\n",
       "      <td>25454</td>\n",
       "      <td>3.0</td>\n",
       "      <td>2019-03-26 15:11:00.000-07:00</td>\n",
       "      <td>0</td>\n",
       "      <td>0.0</td>\n",
       "      <td>3</td>\n",
       "      <td>5</td>\n",
       "      <td>97219</td>\n",
       "      <td>49040</td>\n",
       "      <td>13</td>\n",
       "      <td>27.95</td>\n",
       "      <td>1</td>\n",
       "      <td>2019-03-24 03:56:49.000-07:00</td>\n",
       "      <td>2019-03-29</td>\n",
       "      <td>5</td>\n",
       "      <td>1</td>\n",
       "      <td>LETTER</td>\n",
       "      <td>1</td>\n",
       "    </tr>\n",
       "    <tr>\n",
       "      <th>1</th>\n",
       "      <td>C2C</td>\n",
       "      <td>6727381</td>\n",
       "      <td>2.0</td>\n",
       "      <td>2018-06-02 12:53:00.000-07:00</td>\n",
       "      <td>0</td>\n",
       "      <td>3.0</td>\n",
       "      <td>3</td>\n",
       "      <td>5</td>\n",
       "      <td>11415-3528</td>\n",
       "      <td>62521</td>\n",
       "      <td>0</td>\n",
       "      <td>20.50</td>\n",
       "      <td>1</td>\n",
       "      <td>2018-06-01 13:43:54.000-07:00</td>\n",
       "      <td>2018-06-05</td>\n",
       "      <td>0</td>\n",
       "      <td>1</td>\n",
       "      <td>PACKAGE_THICK_ENVELOPE</td>\n",
       "      <td>2</td>\n",
       "    </tr>\n",
       "    <tr>\n",
       "      <th>2</th>\n",
       "      <td>B2C</td>\n",
       "      <td>18507</td>\n",
       "      <td>1.0</td>\n",
       "      <td>2019-01-07 16:22:00.000-05:00</td>\n",
       "      <td>0</td>\n",
       "      <td>4.5</td>\n",
       "      <td>3</td>\n",
       "      <td>5</td>\n",
       "      <td>27292</td>\n",
       "      <td>53010</td>\n",
       "      <td>1</td>\n",
       "      <td>19.90</td>\n",
       "      <td>1</td>\n",
       "      <td>2019-01-06 00:02:00.000-05:00</td>\n",
       "      <td>2019-01-10</td>\n",
       "      <td>9</td>\n",
       "      <td>1</td>\n",
       "      <td>PACKAGE_THICK_ENVELOPE</td>\n",
       "      <td>3</td>\n",
       "    </tr>\n",
       "    <tr>\n",
       "      <th>3</th>\n",
       "      <td>B2C</td>\n",
       "      <td>4677</td>\n",
       "      <td>1.0</td>\n",
       "      <td>2018-12-17 16:56:00.000-08:00</td>\n",
       "      <td>0</td>\n",
       "      <td>0.0</td>\n",
       "      <td>3</td>\n",
       "      <td>5</td>\n",
       "      <td>90703</td>\n",
       "      <td>80022</td>\n",
       "      <td>1</td>\n",
       "      <td>35.50</td>\n",
       "      <td>1</td>\n",
       "      <td>2018-12-16 10:28:28.000-08:00</td>\n",
       "      <td>2018-12-21</td>\n",
       "      <td>8</td>\n",
       "      <td>1</td>\n",
       "      <td>PACKAGE_THICK_ENVELOPE</td>\n",
       "      <td>4</td>\n",
       "    </tr>\n",
       "    <tr>\n",
       "      <th>4</th>\n",
       "      <td>B2C</td>\n",
       "      <td>4677</td>\n",
       "      <td>1.0</td>\n",
       "      <td>2018-07-27 16:48:00.000-07:00</td>\n",
       "      <td>0</td>\n",
       "      <td>0.0</td>\n",
       "      <td>3</td>\n",
       "      <td>5</td>\n",
       "      <td>90703</td>\n",
       "      <td>55070</td>\n",
       "      <td>1</td>\n",
       "      <td>25.00</td>\n",
       "      <td>1</td>\n",
       "      <td>2018-07-26 18:20:02.000-07:00</td>\n",
       "      <td>2018-07-30</td>\n",
       "      <td>3</td>\n",
       "      <td>1</td>\n",
       "      <td>PACKAGE_THICK_ENVELOPE</td>\n",
       "      <td>5</td>\n",
       "    </tr>\n",
       "  </tbody>\n",
       "</table>\n",
       "</div>"
      ],
      "text/plain": [
       "  b2c_c2c  seller_id  declared_handling_days      acceptance_scan_timestamp  \\\n",
       "0     B2C      25454                     3.0  2019-03-26 15:11:00.000-07:00   \n",
       "1     C2C    6727381                     2.0  2018-06-02 12:53:00.000-07:00   \n",
       "2     B2C      18507                     1.0  2019-01-07 16:22:00.000-05:00   \n",
       "3     B2C       4677                     1.0  2018-12-17 16:56:00.000-08:00   \n",
       "4     B2C       4677                     1.0  2018-07-27 16:48:00.000-07:00   \n",
       "\n",
       "   shipment_method_id  shipping_fee  carrier_min_estimate  \\\n",
       "0                   0           0.0                     3   \n",
       "1                   0           3.0                     3   \n",
       "2                   0           4.5                     3   \n",
       "3                   0           0.0                     3   \n",
       "4                   0           0.0                     3   \n",
       "\n",
       "   carrier_max_estimate    item_zip buyer_zip  category_id  item_price  \\\n",
       "0                     5       97219     49040           13       27.95   \n",
       "1                     5  11415-3528     62521            0       20.50   \n",
       "2                     5       27292     53010            1       19.90   \n",
       "3                     5       90703     80022            1       35.50   \n",
       "4                     5       90703     55070            1       25.00   \n",
       "\n",
       "   quantity               payment_datetime delivery_date  weight  \\\n",
       "0         1  2019-03-24 03:56:49.000-07:00    2019-03-29       5   \n",
       "1         1  2018-06-01 13:43:54.000-07:00    2018-06-05       0   \n",
       "2         1  2019-01-06 00:02:00.000-05:00    2019-01-10       9   \n",
       "3         1  2018-12-16 10:28:28.000-08:00    2018-12-21       8   \n",
       "4         1  2018-07-26 18:20:02.000-07:00    2018-07-30       3   \n",
       "\n",
       "   weight_units            package_size  record_number  \n",
       "0             1                  LETTER              1  \n",
       "1             1  PACKAGE_THICK_ENVELOPE              2  \n",
       "2             1  PACKAGE_THICK_ENVELOPE              3  \n",
       "3             1  PACKAGE_THICK_ENVELOPE              4  \n",
       "4             1  PACKAGE_THICK_ENVELOPE              5  "
      ]
     },
     "execution_count": 90,
     "metadata": {},
     "output_type": "execute_result"
    }
   ],
   "source": [
    "#get all the data without nan value\n",
    "df_no_nan= df_ebay[df_ebay.notna().all(axis=1)]\n",
    "df_no_nan.head()"
   ]
  },
  {
   "cell_type": "code",
   "execution_count": 91,
   "id": "260d7376",
   "metadata": {},
   "outputs": [
    {
     "data": {
      "text/plain": [
       "1.6365606784369016"
      ]
     },
     "execution_count": 91,
     "metadata": {},
     "output_type": "execute_result"
    }
   ],
   "source": [
    "#Mean of not nan\n",
    "handling_mean= df_no_nan['declared_handling_days'].mean()\n",
    "handling_mean"
   ]
  },
  {
   "cell_type": "code",
   "execution_count": 92,
   "id": "ccf9a700",
   "metadata": {},
   "outputs": [],
   "source": [
    "#Get the average for each seller_id\n",
    "handling_day_mean_by_id=df_no_nan.groupby('seller_id').agg({'declared_handling_days':'mean'})"
   ]
  },
  {
   "cell_type": "code",
   "execution_count": 93,
   "id": "32327608",
   "metadata": {},
   "outputs": [],
   "source": [
    "handling_days= df_ebay['declared_handling_days']\n",
    "seller_id= df_ebay['seller_id']"
   ]
  },
  {
   "cell_type": "code",
   "execution_count": 94,
   "id": "b466b9c8",
   "metadata": {},
   "outputs": [],
   "source": [
    "handling_days_list=[]\n",
    "# find the NaN value in declared_hadling_day and fill value with the mean of the handling days from same seller\n",
    "for index, day in enumerate(handling_days):\n",
    "    if np.isnan(day):\n",
    "        seller= seller_id[index]\n",
    "        if seller in handling_day_mean_by_id.index:\n",
    "            handling_days_list.append(round(handling_day_mean_by_id[handling_day_mean_by_id.index==seller].values[0][0]))\n",
    "        # if the seller is not in the seller list, fill with mean of handling days\n",
    "        else:\n",
    "            handling_days_list.append(round(handling_mean))\n",
    "    else:\n",
    "        handling_days_list.append(day)\n",
    "df_ebay['declared_handling_days']= handling_days_list"
   ]
  },
  {
   "cell_type": "code",
   "execution_count": 95,
   "id": "401bfbe8",
   "metadata": {},
   "outputs": [
    {
     "data": {
      "text/plain": [
       "1.0     51941\n",
       "2.0     21336\n",
       "3.0     16782\n",
       "0.0      7018\n",
       "5.0      1485\n",
       "4.0       781\n",
       "10.0      415\n",
       "15.0      100\n",
       "30.0       68\n",
       "20.0       64\n",
       "8.0         4\n",
       "6.0         3\n",
       "9.0         1\n",
       "16.0        1\n",
       "14.0        1\n",
       "Name: declared_handling_days, dtype: int64"
      ]
     },
     "execution_count": 95,
     "metadata": {},
     "output_type": "execute_result"
    }
   ],
   "source": [
    "#check is there any missing\n",
    "df_ebay['declared_handling_days'].value_counts()"
   ]
  },
  {
   "attachments": {},
   "cell_type": "markdown",
   "id": "06d9dc3b",
   "metadata": {},
   "source": [
    "#### Checking is there any unsusal value in columns."
   ]
  },
  {
   "cell_type": "code",
   "execution_count": 96,
   "id": "2308f113",
   "metadata": {},
   "outputs": [
    {
     "data": {
      "text/html": [
       "<div>\n",
       "<style scoped>\n",
       "    .dataframe tbody tr th:only-of-type {\n",
       "        vertical-align: middle;\n",
       "    }\n",
       "\n",
       "    .dataframe tbody tr th {\n",
       "        vertical-align: top;\n",
       "    }\n",
       "\n",
       "    .dataframe thead th {\n",
       "        text-align: right;\n",
       "    }\n",
       "</style>\n",
       "<table border=\"1\" class=\"dataframe\">\n",
       "  <thead>\n",
       "    <tr style=\"text-align: right;\">\n",
       "      <th></th>\n",
       "      <th>b2c_c2c</th>\n",
       "      <th>seller_id</th>\n",
       "      <th>declared_handling_days</th>\n",
       "      <th>acceptance_scan_timestamp</th>\n",
       "      <th>shipment_method_id</th>\n",
       "      <th>shipping_fee</th>\n",
       "      <th>carrier_min_estimate</th>\n",
       "      <th>carrier_max_estimate</th>\n",
       "      <th>item_zip</th>\n",
       "      <th>buyer_zip</th>\n",
       "      <th>category_id</th>\n",
       "      <th>item_price</th>\n",
       "      <th>quantity</th>\n",
       "      <th>payment_datetime</th>\n",
       "      <th>delivery_date</th>\n",
       "      <th>weight</th>\n",
       "      <th>weight_units</th>\n",
       "      <th>package_size</th>\n",
       "      <th>record_number</th>\n",
       "    </tr>\n",
       "  </thead>\n",
       "  <tbody>\n",
       "    <tr>\n",
       "      <th>19357</th>\n",
       "      <td>C2C</td>\n",
       "      <td>708260</td>\n",
       "      <td>2.0</td>\n",
       "      <td>2018-09-19 11:16:00.000-04:00</td>\n",
       "      <td>12</td>\n",
       "      <td>65.00</td>\n",
       "      <td>-1</td>\n",
       "      <td>-1</td>\n",
       "      <td>45504</td>\n",
       "      <td>01412000</td>\n",
       "      <td>3</td>\n",
       "      <td>61.00</td>\n",
       "      <td>1</td>\n",
       "      <td>2018-09-17 22:31:41.000-04:00</td>\n",
       "      <td>2018-10-08</td>\n",
       "      <td>48</td>\n",
       "      <td>1</td>\n",
       "      <td>PACKAGE_THICK_ENVELOPE</td>\n",
       "      <td>19358</td>\n",
       "    </tr>\n",
       "    <tr>\n",
       "      <th>19975</th>\n",
       "      <td>B2C</td>\n",
       "      <td>908</td>\n",
       "      <td>1.0</td>\n",
       "      <td>2019-01-04 12:13:00.000-05:00</td>\n",
       "      <td>12</td>\n",
       "      <td>12.00</td>\n",
       "      <td>-1</td>\n",
       "      <td>-1</td>\n",
       "      <td>03104</td>\n",
       "      <td>28232</td>\n",
       "      <td>2</td>\n",
       "      <td>22.44</td>\n",
       "      <td>1</td>\n",
       "      <td>2019-01-03 10:28:28.000-05:00</td>\n",
       "      <td>2019-01-31</td>\n",
       "      <td>0</td>\n",
       "      <td>1</td>\n",
       "      <td>LETTER</td>\n",
       "      <td>19976</td>\n",
       "    </tr>\n",
       "    <tr>\n",
       "      <th>27005</th>\n",
       "      <td>B2C</td>\n",
       "      <td>269</td>\n",
       "      <td>0.0</td>\n",
       "      <td>2018-08-20 13:48:00.000-07:00</td>\n",
       "      <td>12</td>\n",
       "      <td>1.70</td>\n",
       "      <td>-1</td>\n",
       "      <td>-1</td>\n",
       "      <td>93535-4990</td>\n",
       "      <td>L1T 3L7</td>\n",
       "      <td>4</td>\n",
       "      <td>2.20</td>\n",
       "      <td>1</td>\n",
       "      <td>2018-08-16 21:31:07.000-07:00</td>\n",
       "      <td>2018-08-29</td>\n",
       "      <td>2</td>\n",
       "      <td>1</td>\n",
       "      <td>PACKAGE_THICK_ENVELOPE</td>\n",
       "      <td>27006</td>\n",
       "    </tr>\n",
       "    <tr>\n",
       "      <th>34165</th>\n",
       "      <td>C2C</td>\n",
       "      <td>173517</td>\n",
       "      <td>2.0</td>\n",
       "      <td>2019-10-08 20:54:00.000-04:00</td>\n",
       "      <td>15</td>\n",
       "      <td>0.00</td>\n",
       "      <td>0</td>\n",
       "      <td>1</td>\n",
       "      <td>32064</td>\n",
       "      <td>12570</td>\n",
       "      <td>3</td>\n",
       "      <td>15.00</td>\n",
       "      <td>1</td>\n",
       "      <td>2019-10-07 02:34:18.000-04:00</td>\n",
       "      <td>2019-10-10</td>\n",
       "      <td>0</td>\n",
       "      <td>1</td>\n",
       "      <td>PACKAGE_THICK_ENVELOPE</td>\n",
       "      <td>34166</td>\n",
       "    </tr>\n",
       "    <tr>\n",
       "      <th>38042</th>\n",
       "      <td>B2C</td>\n",
       "      <td>102172</td>\n",
       "      <td>1.0</td>\n",
       "      <td>2018-01-29 14:25:00.000-06:00</td>\n",
       "      <td>12</td>\n",
       "      <td>0.95</td>\n",
       "      <td>-1</td>\n",
       "      <td>-1</td>\n",
       "      <td>53538</td>\n",
       "      <td>7570090</td>\n",
       "      <td>4</td>\n",
       "      <td>8.00</td>\n",
       "      <td>1</td>\n",
       "      <td>2018-01-28 13:21:39.000-06:00</td>\n",
       "      <td>2018-02-15</td>\n",
       "      <td>0</td>\n",
       "      <td>1</td>\n",
       "      <td>NONE</td>\n",
       "      <td>38043</td>\n",
       "    </tr>\n",
       "    <tr>\n",
       "      <th>42391</th>\n",
       "      <td>B2C</td>\n",
       "      <td>102172</td>\n",
       "      <td>1.0</td>\n",
       "      <td>2019-01-22 15:59:00.000-06:00</td>\n",
       "      <td>12</td>\n",
       "      <td>0.00</td>\n",
       "      <td>-1</td>\n",
       "      <td>-1</td>\n",
       "      <td>53538</td>\n",
       "      <td>7570090</td>\n",
       "      <td>4</td>\n",
       "      <td>10.55</td>\n",
       "      <td>1</td>\n",
       "      <td>2019-01-20 14:22:22.000-06:00</td>\n",
       "      <td>2019-01-30</td>\n",
       "      <td>0</td>\n",
       "      <td>1</td>\n",
       "      <td>NONE</td>\n",
       "      <td>42392</td>\n",
       "    </tr>\n",
       "    <tr>\n",
       "      <th>63216</th>\n",
       "      <td>B2C</td>\n",
       "      <td>1762594</td>\n",
       "      <td>2.0</td>\n",
       "      <td>2018-05-18 11:16:00.000-07:00</td>\n",
       "      <td>12</td>\n",
       "      <td>0.00</td>\n",
       "      <td>-1</td>\n",
       "      <td>-1</td>\n",
       "      <td>94124</td>\n",
       "      <td>80099</td>\n",
       "      <td>30</td>\n",
       "      <td>105.00</td>\n",
       "      <td>1</td>\n",
       "      <td>2018-05-16 12:55:36.000-07:00</td>\n",
       "      <td>2018-05-22</td>\n",
       "      <td>16</td>\n",
       "      <td>1</td>\n",
       "      <td>PACKAGE_THICK_ENVELOPE</td>\n",
       "      <td>63217</td>\n",
       "    </tr>\n",
       "    <tr>\n",
       "      <th>66574</th>\n",
       "      <td>B2C</td>\n",
       "      <td>40345</td>\n",
       "      <td>4.0</td>\n",
       "      <td>2018-11-27 18:38:00.000-05:00</td>\n",
       "      <td>12</td>\n",
       "      <td>10.00</td>\n",
       "      <td>-1</td>\n",
       "      <td>-1</td>\n",
       "      <td>48038</td>\n",
       "      <td>B3H 2T1</td>\n",
       "      <td>11</td>\n",
       "      <td>39.99</td>\n",
       "      <td>1</td>\n",
       "      <td>2018-11-27 08:51:13.000-05:00</td>\n",
       "      <td>2018-12-10</td>\n",
       "      <td>3</td>\n",
       "      <td>1</td>\n",
       "      <td>PACKAGE_THICK_ENVELOPE</td>\n",
       "      <td>66575</td>\n",
       "    </tr>\n",
       "    <tr>\n",
       "      <th>66892</th>\n",
       "      <td>C2C</td>\n",
       "      <td>225573</td>\n",
       "      <td>3.0</td>\n",
       "      <td>2019-01-11 18:45:00.000-06:00</td>\n",
       "      <td>15</td>\n",
       "      <td>0.00</td>\n",
       "      <td>0</td>\n",
       "      <td>1</td>\n",
       "      <td>55124</td>\n",
       "      <td>44647</td>\n",
       "      <td>9</td>\n",
       "      <td>28.96</td>\n",
       "      <td>3</td>\n",
       "      <td>2019-01-10 06:47:25.000-06:00</td>\n",
       "      <td>2019-01-14</td>\n",
       "      <td>0</td>\n",
       "      <td>1</td>\n",
       "      <td>NONE</td>\n",
       "      <td>66893</td>\n",
       "    </tr>\n",
       "    <tr>\n",
       "      <th>73682</th>\n",
       "      <td>B2C</td>\n",
       "      <td>8073</td>\n",
       "      <td>3.0</td>\n",
       "      <td>2018-06-07 08:22:00.000-07:00</td>\n",
       "      <td>15</td>\n",
       "      <td>0.00</td>\n",
       "      <td>0</td>\n",
       "      <td>1</td>\n",
       "      <td>89030</td>\n",
       "      <td>70769</td>\n",
       "      <td>5</td>\n",
       "      <td>11.99</td>\n",
       "      <td>1</td>\n",
       "      <td>2018-06-04 10:53:25.000-07:00</td>\n",
       "      <td>2018-06-09</td>\n",
       "      <td>0</td>\n",
       "      <td>1</td>\n",
       "      <td>NONE</td>\n",
       "      <td>73683</td>\n",
       "    </tr>\n",
       "    <tr>\n",
       "      <th>73683</th>\n",
       "      <td>B2C</td>\n",
       "      <td>8073</td>\n",
       "      <td>3.0</td>\n",
       "      <td>2018-03-13 16:05:00.000-07:00</td>\n",
       "      <td>15</td>\n",
       "      <td>0.00</td>\n",
       "      <td>0</td>\n",
       "      <td>1</td>\n",
       "      <td>89030</td>\n",
       "      <td>98520</td>\n",
       "      <td>5</td>\n",
       "      <td>10.99</td>\n",
       "      <td>1</td>\n",
       "      <td>2018-03-11 23:05:02.000-07:00</td>\n",
       "      <td>2018-03-17</td>\n",
       "      <td>0</td>\n",
       "      <td>1</td>\n",
       "      <td>NONE</td>\n",
       "      <td>73684</td>\n",
       "    </tr>\n",
       "    <tr>\n",
       "      <th>75603</th>\n",
       "      <td>B2C</td>\n",
       "      <td>8073</td>\n",
       "      <td>3.0</td>\n",
       "      <td>2018-05-14 22:21:00.000-07:00</td>\n",
       "      <td>15</td>\n",
       "      <td>0.00</td>\n",
       "      <td>0</td>\n",
       "      <td>1</td>\n",
       "      <td>89030</td>\n",
       "      <td>60164</td>\n",
       "      <td>5</td>\n",
       "      <td>11.99</td>\n",
       "      <td>1</td>\n",
       "      <td>2018-05-14 01:44:04.000-07:00</td>\n",
       "      <td>2018-05-16</td>\n",
       "      <td>0</td>\n",
       "      <td>1</td>\n",
       "      <td>LETTER</td>\n",
       "      <td>75604</td>\n",
       "    </tr>\n",
       "    <tr>\n",
       "      <th>78072</th>\n",
       "      <td>B2C</td>\n",
       "      <td>66159</td>\n",
       "      <td>3.0</td>\n",
       "      <td>2018-09-13 11:25:00.000-06:00</td>\n",
       "      <td>12</td>\n",
       "      <td>23.50</td>\n",
       "      <td>-1</td>\n",
       "      <td>-1</td>\n",
       "      <td>79968</td>\n",
       "      <td>154-0012</td>\n",
       "      <td>6</td>\n",
       "      <td>116.50</td>\n",
       "      <td>1</td>\n",
       "      <td>2018-09-12 17:44:51.000-06:00</td>\n",
       "      <td>2018-09-21</td>\n",
       "      <td>16</td>\n",
       "      <td>1</td>\n",
       "      <td>PACKAGE_THICK_ENVELOPE</td>\n",
       "      <td>78073</td>\n",
       "    </tr>\n",
       "    <tr>\n",
       "      <th>78140</th>\n",
       "      <td>B2C</td>\n",
       "      <td>5197</td>\n",
       "      <td>1.0</td>\n",
       "      <td>2018-09-24 20:33:00.000-04:00</td>\n",
       "      <td>12</td>\n",
       "      <td>25.00</td>\n",
       "      <td>-1</td>\n",
       "      <td>-1</td>\n",
       "      <td>07307</td>\n",
       "      <td>8241587</td>\n",
       "      <td>18</td>\n",
       "      <td>9.99</td>\n",
       "      <td>1</td>\n",
       "      <td>2018-09-22 15:44:17.000-04:00</td>\n",
       "      <td>2018-10-20</td>\n",
       "      <td>0</td>\n",
       "      <td>1</td>\n",
       "      <td>PACKAGE_THICK_ENVELOPE</td>\n",
       "      <td>78141</td>\n",
       "    </tr>\n",
       "    <tr>\n",
       "      <th>98005</th>\n",
       "      <td>B2C</td>\n",
       "      <td>23064</td>\n",
       "      <td>1.0</td>\n",
       "      <td>2018-06-05 15:06:00.000-04:00</td>\n",
       "      <td>12</td>\n",
       "      <td>4.49</td>\n",
       "      <td>-1</td>\n",
       "      <td>-1</td>\n",
       "      <td>18045</td>\n",
       "      <td>K9J2P6</td>\n",
       "      <td>6</td>\n",
       "      <td>5.49</td>\n",
       "      <td>1</td>\n",
       "      <td>2018-06-04 08:30:13.000-04:00</td>\n",
       "      <td>2018-06-13</td>\n",
       "      <td>4</td>\n",
       "      <td>1</td>\n",
       "      <td>PACKAGE_THICK_ENVELOPE</td>\n",
       "      <td>98006</td>\n",
       "    </tr>\n",
       "  </tbody>\n",
       "</table>\n",
       "</div>"
      ],
      "text/plain": [
       "      b2c_c2c  seller_id  declared_handling_days  \\\n",
       "19357     C2C     708260                     2.0   \n",
       "19975     B2C        908                     1.0   \n",
       "27005     B2C        269                     0.0   \n",
       "34165     C2C     173517                     2.0   \n",
       "38042     B2C     102172                     1.0   \n",
       "42391     B2C     102172                     1.0   \n",
       "63216     B2C    1762594                     2.0   \n",
       "66574     B2C      40345                     4.0   \n",
       "66892     C2C     225573                     3.0   \n",
       "73682     B2C       8073                     3.0   \n",
       "73683     B2C       8073                     3.0   \n",
       "75603     B2C       8073                     3.0   \n",
       "78072     B2C      66159                     3.0   \n",
       "78140     B2C       5197                     1.0   \n",
       "98005     B2C      23064                     1.0   \n",
       "\n",
       "           acceptance_scan_timestamp  shipment_method_id  shipping_fee  \\\n",
       "19357  2018-09-19 11:16:00.000-04:00                  12         65.00   \n",
       "19975  2019-01-04 12:13:00.000-05:00                  12         12.00   \n",
       "27005  2018-08-20 13:48:00.000-07:00                  12          1.70   \n",
       "34165  2019-10-08 20:54:00.000-04:00                  15          0.00   \n",
       "38042  2018-01-29 14:25:00.000-06:00                  12          0.95   \n",
       "42391  2019-01-22 15:59:00.000-06:00                  12          0.00   \n",
       "63216  2018-05-18 11:16:00.000-07:00                  12          0.00   \n",
       "66574  2018-11-27 18:38:00.000-05:00                  12         10.00   \n",
       "66892  2019-01-11 18:45:00.000-06:00                  15          0.00   \n",
       "73682  2018-06-07 08:22:00.000-07:00                  15          0.00   \n",
       "73683  2018-03-13 16:05:00.000-07:00                  15          0.00   \n",
       "75603  2018-05-14 22:21:00.000-07:00                  15          0.00   \n",
       "78072  2018-09-13 11:25:00.000-06:00                  12         23.50   \n",
       "78140  2018-09-24 20:33:00.000-04:00                  12         25.00   \n",
       "98005  2018-06-05 15:06:00.000-04:00                  12          4.49   \n",
       "\n",
       "       carrier_min_estimate  carrier_max_estimate    item_zip buyer_zip  \\\n",
       "19357                    -1                    -1       45504  01412000   \n",
       "19975                    -1                    -1       03104     28232   \n",
       "27005                    -1                    -1  93535-4990   L1T 3L7   \n",
       "34165                     0                     1       32064     12570   \n",
       "38042                    -1                    -1       53538   7570090   \n",
       "42391                    -1                    -1       53538   7570090   \n",
       "63216                    -1                    -1       94124     80099   \n",
       "66574                    -1                    -1       48038   B3H 2T1   \n",
       "66892                     0                     1       55124     44647   \n",
       "73682                     0                     1       89030     70769   \n",
       "73683                     0                     1       89030     98520   \n",
       "75603                     0                     1       89030     60164   \n",
       "78072                    -1                    -1       79968  154-0012   \n",
       "78140                    -1                    -1       07307   8241587   \n",
       "98005                    -1                    -1       18045    K9J2P6   \n",
       "\n",
       "       category_id  item_price  quantity               payment_datetime  \\\n",
       "19357            3       61.00         1  2018-09-17 22:31:41.000-04:00   \n",
       "19975            2       22.44         1  2019-01-03 10:28:28.000-05:00   \n",
       "27005            4        2.20         1  2018-08-16 21:31:07.000-07:00   \n",
       "34165            3       15.00         1  2019-10-07 02:34:18.000-04:00   \n",
       "38042            4        8.00         1  2018-01-28 13:21:39.000-06:00   \n",
       "42391            4       10.55         1  2019-01-20 14:22:22.000-06:00   \n",
       "63216           30      105.00         1  2018-05-16 12:55:36.000-07:00   \n",
       "66574           11       39.99         1  2018-11-27 08:51:13.000-05:00   \n",
       "66892            9       28.96         3  2019-01-10 06:47:25.000-06:00   \n",
       "73682            5       11.99         1  2018-06-04 10:53:25.000-07:00   \n",
       "73683            5       10.99         1  2018-03-11 23:05:02.000-07:00   \n",
       "75603            5       11.99         1  2018-05-14 01:44:04.000-07:00   \n",
       "78072            6      116.50         1  2018-09-12 17:44:51.000-06:00   \n",
       "78140           18        9.99         1  2018-09-22 15:44:17.000-04:00   \n",
       "98005            6        5.49         1  2018-06-04 08:30:13.000-04:00   \n",
       "\n",
       "      delivery_date  weight  weight_units            package_size  \\\n",
       "19357    2018-10-08      48             1  PACKAGE_THICK_ENVELOPE   \n",
       "19975    2019-01-31       0             1                  LETTER   \n",
       "27005    2018-08-29       2             1  PACKAGE_THICK_ENVELOPE   \n",
       "34165    2019-10-10       0             1  PACKAGE_THICK_ENVELOPE   \n",
       "38042    2018-02-15       0             1                    NONE   \n",
       "42391    2019-01-30       0             1                    NONE   \n",
       "63216    2018-05-22      16             1  PACKAGE_THICK_ENVELOPE   \n",
       "66574    2018-12-10       3             1  PACKAGE_THICK_ENVELOPE   \n",
       "66892    2019-01-14       0             1                    NONE   \n",
       "73682    2018-06-09       0             1                    NONE   \n",
       "73683    2018-03-17       0             1                    NONE   \n",
       "75603    2018-05-16       0             1                  LETTER   \n",
       "78072    2018-09-21      16             1  PACKAGE_THICK_ENVELOPE   \n",
       "78140    2018-10-20       0             1  PACKAGE_THICK_ENVELOPE   \n",
       "98005    2018-06-13       4             1  PACKAGE_THICK_ENVELOPE   \n",
       "\n",
       "       record_number  \n",
       "19357          19358  \n",
       "19975          19976  \n",
       "27005          27006  \n",
       "34165          34166  \n",
       "38042          38043  \n",
       "42391          42392  \n",
       "63216          63217  \n",
       "66574          66575  \n",
       "66892          66893  \n",
       "73682          73683  \n",
       "73683          73684  \n",
       "75603          75604  \n",
       "78072          78073  \n",
       "78140          78141  \n",
       "98005          98006  "
      ]
     },
     "execution_count": 96,
     "metadata": {},
     "output_type": "execute_result"
    }
   ],
   "source": [
    "#check is there any row in carrier_max_estimate and carrier_min_estimate have the unsual value\n",
    "df_ebay[(df_ebay['carrier_max_estimate']<=0 ) | (df_ebay['carrier_min_estimate']<=0)]"
   ]
  },
  {
   "attachments": {},
   "cell_type": "markdown",
   "id": "303c6f15",
   "metadata": {},
   "source": [
    "Seem like there are some rows with the value of `carrier_max_estimate` and `carrier_min_estimate` is -1. We are going to spend more investigate on it"
   ]
  },
  {
   "cell_type": "code",
   "execution_count": 97,
   "id": "dd4cef81",
   "metadata": {},
   "outputs": [
    {
     "name": "stdout",
     "output_type": "stream",
     "text": [
      "(10, 19)\n"
     ]
    },
    {
     "data": {
      "text/html": [
       "<div>\n",
       "<style scoped>\n",
       "    .dataframe tbody tr th:only-of-type {\n",
       "        vertical-align: middle;\n",
       "    }\n",
       "\n",
       "    .dataframe tbody tr th {\n",
       "        vertical-align: top;\n",
       "    }\n",
       "\n",
       "    .dataframe thead th {\n",
       "        text-align: right;\n",
       "    }\n",
       "</style>\n",
       "<table border=\"1\" class=\"dataframe\">\n",
       "  <thead>\n",
       "    <tr style=\"text-align: right;\">\n",
       "      <th></th>\n",
       "      <th>b2c_c2c</th>\n",
       "      <th>seller_id</th>\n",
       "      <th>declared_handling_days</th>\n",
       "      <th>acceptance_scan_timestamp</th>\n",
       "      <th>shipment_method_id</th>\n",
       "      <th>shipping_fee</th>\n",
       "      <th>carrier_min_estimate</th>\n",
       "      <th>carrier_max_estimate</th>\n",
       "      <th>item_zip</th>\n",
       "      <th>buyer_zip</th>\n",
       "      <th>category_id</th>\n",
       "      <th>item_price</th>\n",
       "      <th>quantity</th>\n",
       "      <th>payment_datetime</th>\n",
       "      <th>delivery_date</th>\n",
       "      <th>weight</th>\n",
       "      <th>weight_units</th>\n",
       "      <th>package_size</th>\n",
       "      <th>record_number</th>\n",
       "    </tr>\n",
       "  </thead>\n",
       "  <tbody>\n",
       "    <tr>\n",
       "      <th>19357</th>\n",
       "      <td>C2C</td>\n",
       "      <td>708260</td>\n",
       "      <td>2.0</td>\n",
       "      <td>2018-09-19 11:16:00.000-04:00</td>\n",
       "      <td>12</td>\n",
       "      <td>65.00</td>\n",
       "      <td>-1</td>\n",
       "      <td>-1</td>\n",
       "      <td>45504</td>\n",
       "      <td>01412000</td>\n",
       "      <td>3</td>\n",
       "      <td>61.00</td>\n",
       "      <td>1</td>\n",
       "      <td>2018-09-17 22:31:41.000-04:00</td>\n",
       "      <td>2018-10-08</td>\n",
       "      <td>48</td>\n",
       "      <td>1</td>\n",
       "      <td>PACKAGE_THICK_ENVELOPE</td>\n",
       "      <td>19358</td>\n",
       "    </tr>\n",
       "    <tr>\n",
       "      <th>19975</th>\n",
       "      <td>B2C</td>\n",
       "      <td>908</td>\n",
       "      <td>1.0</td>\n",
       "      <td>2019-01-04 12:13:00.000-05:00</td>\n",
       "      <td>12</td>\n",
       "      <td>12.00</td>\n",
       "      <td>-1</td>\n",
       "      <td>-1</td>\n",
       "      <td>03104</td>\n",
       "      <td>28232</td>\n",
       "      <td>2</td>\n",
       "      <td>22.44</td>\n",
       "      <td>1</td>\n",
       "      <td>2019-01-03 10:28:28.000-05:00</td>\n",
       "      <td>2019-01-31</td>\n",
       "      <td>0</td>\n",
       "      <td>1</td>\n",
       "      <td>LETTER</td>\n",
       "      <td>19976</td>\n",
       "    </tr>\n",
       "    <tr>\n",
       "      <th>27005</th>\n",
       "      <td>B2C</td>\n",
       "      <td>269</td>\n",
       "      <td>0.0</td>\n",
       "      <td>2018-08-20 13:48:00.000-07:00</td>\n",
       "      <td>12</td>\n",
       "      <td>1.70</td>\n",
       "      <td>-1</td>\n",
       "      <td>-1</td>\n",
       "      <td>93535-4990</td>\n",
       "      <td>L1T 3L7</td>\n",
       "      <td>4</td>\n",
       "      <td>2.20</td>\n",
       "      <td>1</td>\n",
       "      <td>2018-08-16 21:31:07.000-07:00</td>\n",
       "      <td>2018-08-29</td>\n",
       "      <td>2</td>\n",
       "      <td>1</td>\n",
       "      <td>PACKAGE_THICK_ENVELOPE</td>\n",
       "      <td>27006</td>\n",
       "    </tr>\n",
       "    <tr>\n",
       "      <th>38042</th>\n",
       "      <td>B2C</td>\n",
       "      <td>102172</td>\n",
       "      <td>1.0</td>\n",
       "      <td>2018-01-29 14:25:00.000-06:00</td>\n",
       "      <td>12</td>\n",
       "      <td>0.95</td>\n",
       "      <td>-1</td>\n",
       "      <td>-1</td>\n",
       "      <td>53538</td>\n",
       "      <td>7570090</td>\n",
       "      <td>4</td>\n",
       "      <td>8.00</td>\n",
       "      <td>1</td>\n",
       "      <td>2018-01-28 13:21:39.000-06:00</td>\n",
       "      <td>2018-02-15</td>\n",
       "      <td>0</td>\n",
       "      <td>1</td>\n",
       "      <td>NONE</td>\n",
       "      <td>38043</td>\n",
       "    </tr>\n",
       "    <tr>\n",
       "      <th>42391</th>\n",
       "      <td>B2C</td>\n",
       "      <td>102172</td>\n",
       "      <td>1.0</td>\n",
       "      <td>2019-01-22 15:59:00.000-06:00</td>\n",
       "      <td>12</td>\n",
       "      <td>0.00</td>\n",
       "      <td>-1</td>\n",
       "      <td>-1</td>\n",
       "      <td>53538</td>\n",
       "      <td>7570090</td>\n",
       "      <td>4</td>\n",
       "      <td>10.55</td>\n",
       "      <td>1</td>\n",
       "      <td>2019-01-20 14:22:22.000-06:00</td>\n",
       "      <td>2019-01-30</td>\n",
       "      <td>0</td>\n",
       "      <td>1</td>\n",
       "      <td>NONE</td>\n",
       "      <td>42392</td>\n",
       "    </tr>\n",
       "    <tr>\n",
       "      <th>63216</th>\n",
       "      <td>B2C</td>\n",
       "      <td>1762594</td>\n",
       "      <td>2.0</td>\n",
       "      <td>2018-05-18 11:16:00.000-07:00</td>\n",
       "      <td>12</td>\n",
       "      <td>0.00</td>\n",
       "      <td>-1</td>\n",
       "      <td>-1</td>\n",
       "      <td>94124</td>\n",
       "      <td>80099</td>\n",
       "      <td>30</td>\n",
       "      <td>105.00</td>\n",
       "      <td>1</td>\n",
       "      <td>2018-05-16 12:55:36.000-07:00</td>\n",
       "      <td>2018-05-22</td>\n",
       "      <td>16</td>\n",
       "      <td>1</td>\n",
       "      <td>PACKAGE_THICK_ENVELOPE</td>\n",
       "      <td>63217</td>\n",
       "    </tr>\n",
       "    <tr>\n",
       "      <th>66574</th>\n",
       "      <td>B2C</td>\n",
       "      <td>40345</td>\n",
       "      <td>4.0</td>\n",
       "      <td>2018-11-27 18:38:00.000-05:00</td>\n",
       "      <td>12</td>\n",
       "      <td>10.00</td>\n",
       "      <td>-1</td>\n",
       "      <td>-1</td>\n",
       "      <td>48038</td>\n",
       "      <td>B3H 2T1</td>\n",
       "      <td>11</td>\n",
       "      <td>39.99</td>\n",
       "      <td>1</td>\n",
       "      <td>2018-11-27 08:51:13.000-05:00</td>\n",
       "      <td>2018-12-10</td>\n",
       "      <td>3</td>\n",
       "      <td>1</td>\n",
       "      <td>PACKAGE_THICK_ENVELOPE</td>\n",
       "      <td>66575</td>\n",
       "    </tr>\n",
       "    <tr>\n",
       "      <th>78072</th>\n",
       "      <td>B2C</td>\n",
       "      <td>66159</td>\n",
       "      <td>3.0</td>\n",
       "      <td>2018-09-13 11:25:00.000-06:00</td>\n",
       "      <td>12</td>\n",
       "      <td>23.50</td>\n",
       "      <td>-1</td>\n",
       "      <td>-1</td>\n",
       "      <td>79968</td>\n",
       "      <td>154-0012</td>\n",
       "      <td>6</td>\n",
       "      <td>116.50</td>\n",
       "      <td>1</td>\n",
       "      <td>2018-09-12 17:44:51.000-06:00</td>\n",
       "      <td>2018-09-21</td>\n",
       "      <td>16</td>\n",
       "      <td>1</td>\n",
       "      <td>PACKAGE_THICK_ENVELOPE</td>\n",
       "      <td>78073</td>\n",
       "    </tr>\n",
       "    <tr>\n",
       "      <th>78140</th>\n",
       "      <td>B2C</td>\n",
       "      <td>5197</td>\n",
       "      <td>1.0</td>\n",
       "      <td>2018-09-24 20:33:00.000-04:00</td>\n",
       "      <td>12</td>\n",
       "      <td>25.00</td>\n",
       "      <td>-1</td>\n",
       "      <td>-1</td>\n",
       "      <td>07307</td>\n",
       "      <td>8241587</td>\n",
       "      <td>18</td>\n",
       "      <td>9.99</td>\n",
       "      <td>1</td>\n",
       "      <td>2018-09-22 15:44:17.000-04:00</td>\n",
       "      <td>2018-10-20</td>\n",
       "      <td>0</td>\n",
       "      <td>1</td>\n",
       "      <td>PACKAGE_THICK_ENVELOPE</td>\n",
       "      <td>78141</td>\n",
       "    </tr>\n",
       "    <tr>\n",
       "      <th>98005</th>\n",
       "      <td>B2C</td>\n",
       "      <td>23064</td>\n",
       "      <td>1.0</td>\n",
       "      <td>2018-06-05 15:06:00.000-04:00</td>\n",
       "      <td>12</td>\n",
       "      <td>4.49</td>\n",
       "      <td>-1</td>\n",
       "      <td>-1</td>\n",
       "      <td>18045</td>\n",
       "      <td>K9J2P6</td>\n",
       "      <td>6</td>\n",
       "      <td>5.49</td>\n",
       "      <td>1</td>\n",
       "      <td>2018-06-04 08:30:13.000-04:00</td>\n",
       "      <td>2018-06-13</td>\n",
       "      <td>4</td>\n",
       "      <td>1</td>\n",
       "      <td>PACKAGE_THICK_ENVELOPE</td>\n",
       "      <td>98006</td>\n",
       "    </tr>\n",
       "  </tbody>\n",
       "</table>\n",
       "</div>"
      ],
      "text/plain": [
       "      b2c_c2c  seller_id  declared_handling_days  \\\n",
       "19357     C2C     708260                     2.0   \n",
       "19975     B2C        908                     1.0   \n",
       "27005     B2C        269                     0.0   \n",
       "38042     B2C     102172                     1.0   \n",
       "42391     B2C     102172                     1.0   \n",
       "63216     B2C    1762594                     2.0   \n",
       "66574     B2C      40345                     4.0   \n",
       "78072     B2C      66159                     3.0   \n",
       "78140     B2C       5197                     1.0   \n",
       "98005     B2C      23064                     1.0   \n",
       "\n",
       "           acceptance_scan_timestamp  shipment_method_id  shipping_fee  \\\n",
       "19357  2018-09-19 11:16:00.000-04:00                  12         65.00   \n",
       "19975  2019-01-04 12:13:00.000-05:00                  12         12.00   \n",
       "27005  2018-08-20 13:48:00.000-07:00                  12          1.70   \n",
       "38042  2018-01-29 14:25:00.000-06:00                  12          0.95   \n",
       "42391  2019-01-22 15:59:00.000-06:00                  12          0.00   \n",
       "63216  2018-05-18 11:16:00.000-07:00                  12          0.00   \n",
       "66574  2018-11-27 18:38:00.000-05:00                  12         10.00   \n",
       "78072  2018-09-13 11:25:00.000-06:00                  12         23.50   \n",
       "78140  2018-09-24 20:33:00.000-04:00                  12         25.00   \n",
       "98005  2018-06-05 15:06:00.000-04:00                  12          4.49   \n",
       "\n",
       "       carrier_min_estimate  carrier_max_estimate    item_zip buyer_zip  \\\n",
       "19357                    -1                    -1       45504  01412000   \n",
       "19975                    -1                    -1       03104     28232   \n",
       "27005                    -1                    -1  93535-4990   L1T 3L7   \n",
       "38042                    -1                    -1       53538   7570090   \n",
       "42391                    -1                    -1       53538   7570090   \n",
       "63216                    -1                    -1       94124     80099   \n",
       "66574                    -1                    -1       48038   B3H 2T1   \n",
       "78072                    -1                    -1       79968  154-0012   \n",
       "78140                    -1                    -1       07307   8241587   \n",
       "98005                    -1                    -1       18045    K9J2P6   \n",
       "\n",
       "       category_id  item_price  quantity               payment_datetime  \\\n",
       "19357            3       61.00         1  2018-09-17 22:31:41.000-04:00   \n",
       "19975            2       22.44         1  2019-01-03 10:28:28.000-05:00   \n",
       "27005            4        2.20         1  2018-08-16 21:31:07.000-07:00   \n",
       "38042            4        8.00         1  2018-01-28 13:21:39.000-06:00   \n",
       "42391            4       10.55         1  2019-01-20 14:22:22.000-06:00   \n",
       "63216           30      105.00         1  2018-05-16 12:55:36.000-07:00   \n",
       "66574           11       39.99         1  2018-11-27 08:51:13.000-05:00   \n",
       "78072            6      116.50         1  2018-09-12 17:44:51.000-06:00   \n",
       "78140           18        9.99         1  2018-09-22 15:44:17.000-04:00   \n",
       "98005            6        5.49         1  2018-06-04 08:30:13.000-04:00   \n",
       "\n",
       "      delivery_date  weight  weight_units            package_size  \\\n",
       "19357    2018-10-08      48             1  PACKAGE_THICK_ENVELOPE   \n",
       "19975    2019-01-31       0             1                  LETTER   \n",
       "27005    2018-08-29       2             1  PACKAGE_THICK_ENVELOPE   \n",
       "38042    2018-02-15       0             1                    NONE   \n",
       "42391    2019-01-30       0             1                    NONE   \n",
       "63216    2018-05-22      16             1  PACKAGE_THICK_ENVELOPE   \n",
       "66574    2018-12-10       3             1  PACKAGE_THICK_ENVELOPE   \n",
       "78072    2018-09-21      16             1  PACKAGE_THICK_ENVELOPE   \n",
       "78140    2018-10-20       0             1  PACKAGE_THICK_ENVELOPE   \n",
       "98005    2018-06-13       4             1  PACKAGE_THICK_ENVELOPE   \n",
       "\n",
       "       record_number  \n",
       "19357          19358  \n",
       "19975          19976  \n",
       "27005          27006  \n",
       "38042          38043  \n",
       "42391          42392  \n",
       "63216          63217  \n",
       "66574          66575  \n",
       "78072          78073  \n",
       "78140          78141  \n",
       "98005          98006  "
      ]
     },
     "execution_count": 97,
     "metadata": {},
     "output_type": "execute_result"
    }
   ],
   "source": [
    "df= df_ebay[(df_ebay['carrier_max_estimate']<0 ) | (df_ebay['carrier_min_estimate']<0)]\n",
    "print(df.shape)\n",
    "df"
   ]
  },
  {
   "attachments": {},
   "cell_type": "markdown",
   "id": "a1d0c259",
   "metadata": {},
   "source": [
    "As we can see all the records have `carrier_max_estimate` and `carrier_min_estimate` = -1 is belong to the shipment method 12. Let check with the `shipment_method_id`=12 is there any other value for the `carrier_max_estimate` and `carrier_min_estimate`"
   ]
  },
  {
   "cell_type": "code",
   "execution_count": 98,
   "id": "691034f6",
   "metadata": {},
   "outputs": [
    {
     "data": {
      "text/plain": [
       "carrier_max_estimate  carrier_min_estimate\n",
       "-1                    -1                      10\n",
       "dtype: int64"
      ]
     },
     "execution_count": 98,
     "metadata": {},
     "output_type": "execute_result"
    }
   ],
   "source": [
    "df_ebay[df_ebay['shipment_method_id']==12][['carrier_max_estimate', 'carrier_min_estimate']].value_counts()"
   ]
  },
  {
   "attachments": {},
   "cell_type": "markdown",
   "id": "985b696b",
   "metadata": {},
   "source": [
    "So we can see that all the record with the `shipment_method_id`=12 will have the `carrier_max_estimate`and `carrier_min_estimate` =-1 and some values are 0. For the 0 values, we can understand that the order will be processed in the same day, so we only need to take care about the -1 value. The solution is we will replace those negative value by the mean value of `carrier_max_estimate` and `carrier_min_estimate` from the `seller_id` =12"
   ]
  },
  {
   "cell_type": "code",
   "execution_count": 99,
   "id": "aa1649c2",
   "metadata": {},
   "outputs": [
    {
     "name": "stdout",
     "output_type": "stream",
     "text": [
      "Mean value of carrier_max_estimate is : 5.483628362836283\n"
     ]
    }
   ],
   "source": [
    "# Max estimate mean\n",
    "max_mean= df_ebay[df_ebay['shipment_method_id'] != 12]['carrier_max_estimate'].mean()\n",
    "\n",
    "print(f'Mean value of carrier_max_estimate is : {max_mean}')"
   ]
  },
  {
   "attachments": {},
   "cell_type": "markdown",
   "id": "c6222b61",
   "metadata": {},
   "source": [
    "Replace the `carrier_max_estimate` value in the row with `shipment_method_id`=12 by mean value of `carrier_max_estimate`"
   ]
  },
  {
   "cell_type": "code",
   "execution_count": 100,
   "id": "65248533",
   "metadata": {},
   "outputs": [],
   "source": [
    "df_ebay['carrier_max_estimate']= np.where(df_ebay['shipment_method_id']==12, max_mean, df_ebay['carrier_max_estimate'])"
   ]
  },
  {
   "cell_type": "code",
   "execution_count": 101,
   "id": "5707e831",
   "metadata": {},
   "outputs": [
    {
     "data": {
      "text/plain": [
       "19357    5.483628\n",
       "19975    5.483628\n",
       "27005    5.483628\n",
       "38042    5.483628\n",
       "42391    5.483628\n",
       "63216    5.483628\n",
       "66574    5.483628\n",
       "78072    5.483628\n",
       "78140    5.483628\n",
       "98005    5.483628\n",
       "Name: carrier_max_estimate, dtype: float64"
      ]
     },
     "execution_count": 101,
     "metadata": {},
     "output_type": "execute_result"
    }
   ],
   "source": [
    "#check\n",
    "df_ebay[df_ebay['shipment_method_id']==12]['carrier_max_estimate']"
   ]
  },
  {
   "cell_type": "code",
   "execution_count": 102,
   "id": "2ee78b6a",
   "metadata": {},
   "outputs": [
    {
     "name": "stdout",
     "output_type": "stream",
     "text": [
      "Mean value of carrier_min_estimate is: 2.6153515351535153\n"
     ]
    }
   ],
   "source": [
    "#Min estimate mean\n",
    "min_mean= df_ebay[df_ebay['shipment_method_id']!=12]['carrier_min_estimate'].mean()\n",
    "print(f'Mean value of carrier_min_estimate is: {min_mean}')"
   ]
  },
  {
   "attachments": {},
   "cell_type": "markdown",
   "id": "e9d31c4f",
   "metadata": {},
   "source": [
    "Replace the `carrier_min_estimate` value in the row with `shipment_method_id`=12 by mean value of `carrier_min_estimate`"
   ]
  },
  {
   "cell_type": "code",
   "execution_count": 103,
   "id": "b7479d4b",
   "metadata": {},
   "outputs": [],
   "source": [
    "df_ebay['carrier_min_estimate']= np.where(df_ebay['shipment_method_id']==12, min_mean, df_ebay['carrier_min_estimate'])"
   ]
  },
  {
   "cell_type": "code",
   "execution_count": 104,
   "id": "af741aa8",
   "metadata": {},
   "outputs": [
    {
     "data": {
      "text/plain": [
       "19357    2.615352\n",
       "19975    2.615352\n",
       "27005    2.615352\n",
       "38042    2.615352\n",
       "42391    2.615352\n",
       "63216    2.615352\n",
       "66574    2.615352\n",
       "78072    2.615352\n",
       "78140    2.615352\n",
       "98005    2.615352\n",
       "Name: carrier_min_estimate, dtype: float64"
      ]
     },
     "execution_count": 104,
     "metadata": {},
     "output_type": "execute_result"
    }
   ],
   "source": [
    "#Check\n",
    "df_ebay[df_ebay['shipment_method_id']==12]['carrier_min_estimate']"
   ]
  },
  {
   "attachments": {},
   "cell_type": "markdown",
   "id": "e16cb063",
   "metadata": {},
   "source": [
    "#### Convert the `acceptance_scan_timestamp` and `payment_datetime` \n"
   ]
  },
  {
   "attachments": {},
   "cell_type": "markdown",
   "id": "afc750e0",
   "metadata": {},
   "source": [
    "Working with `acceptance_scan_timestamp` and `payment_datetime`. convert all in to buyer timezone"
   ]
  },
  {
   "cell_type": "code",
   "execution_count": 105,
   "id": "2c7ce090",
   "metadata": {},
   "outputs": [
    {
     "data": {
      "text/html": [
       "<div>\n",
       "<style scoped>\n",
       "    .dataframe tbody tr th:only-of-type {\n",
       "        vertical-align: middle;\n",
       "    }\n",
       "\n",
       "    .dataframe tbody tr th {\n",
       "        vertical-align: top;\n",
       "    }\n",
       "\n",
       "    .dataframe thead th {\n",
       "        text-align: right;\n",
       "    }\n",
       "</style>\n",
       "<table border=\"1\" class=\"dataframe\">\n",
       "  <thead>\n",
       "    <tr style=\"text-align: right;\">\n",
       "      <th></th>\n",
       "      <th>acceptance_scan_timestamp</th>\n",
       "      <th>payment_datetime</th>\n",
       "    </tr>\n",
       "  </thead>\n",
       "  <tbody>\n",
       "    <tr>\n",
       "      <th>0</th>\n",
       "      <td>2019-03-26 15:11:00.000-07:00</td>\n",
       "      <td>2019-03-24 03:56:49.000-07:00</td>\n",
       "    </tr>\n",
       "    <tr>\n",
       "      <th>1</th>\n",
       "      <td>2018-06-02 12:53:00.000-07:00</td>\n",
       "      <td>2018-06-01 13:43:54.000-07:00</td>\n",
       "    </tr>\n",
       "    <tr>\n",
       "      <th>2</th>\n",
       "      <td>2019-01-07 16:22:00.000-05:00</td>\n",
       "      <td>2019-01-06 00:02:00.000-05:00</td>\n",
       "    </tr>\n",
       "    <tr>\n",
       "      <th>3</th>\n",
       "      <td>2018-12-17 16:56:00.000-08:00</td>\n",
       "      <td>2018-12-16 10:28:28.000-08:00</td>\n",
       "    </tr>\n",
       "    <tr>\n",
       "      <th>4</th>\n",
       "      <td>2018-07-27 16:48:00.000-07:00</td>\n",
       "      <td>2018-07-26 18:20:02.000-07:00</td>\n",
       "    </tr>\n",
       "    <tr>\n",
       "      <th>...</th>\n",
       "      <td>...</td>\n",
       "      <td>...</td>\n",
       "    </tr>\n",
       "    <tr>\n",
       "      <th>99995</th>\n",
       "      <td>2018-07-23 17:38:00.000-07:00</td>\n",
       "      <td>2018-07-22 12:35:12.000-07:00</td>\n",
       "    </tr>\n",
       "    <tr>\n",
       "      <th>99996</th>\n",
       "      <td>2018-04-17 10:16:00.000-05:00</td>\n",
       "      <td>2018-04-16 08:55:56.000-05:00</td>\n",
       "    </tr>\n",
       "    <tr>\n",
       "      <th>99997</th>\n",
       "      <td>2018-04-27 11:41:00.000-04:00</td>\n",
       "      <td>2018-04-26 11:52:36.000-04:00</td>\n",
       "    </tr>\n",
       "    <tr>\n",
       "      <th>99998</th>\n",
       "      <td>2018-08-20 21:05:00.000-04:00</td>\n",
       "      <td>2018-08-20 10:31:39.000-04:00</td>\n",
       "    </tr>\n",
       "    <tr>\n",
       "      <th>99999</th>\n",
       "      <td>2018-07-23 11:58:00.000-07:00</td>\n",
       "      <td>2018-07-21 18:10:24.000-07:00</td>\n",
       "    </tr>\n",
       "  </tbody>\n",
       "</table>\n",
       "<p>100000 rows × 2 columns</p>\n",
       "</div>"
      ],
      "text/plain": [
       "           acceptance_scan_timestamp               payment_datetime\n",
       "0      2019-03-26 15:11:00.000-07:00  2019-03-24 03:56:49.000-07:00\n",
       "1      2018-06-02 12:53:00.000-07:00  2018-06-01 13:43:54.000-07:00\n",
       "2      2019-01-07 16:22:00.000-05:00  2019-01-06 00:02:00.000-05:00\n",
       "3      2018-12-17 16:56:00.000-08:00  2018-12-16 10:28:28.000-08:00\n",
       "4      2018-07-27 16:48:00.000-07:00  2018-07-26 18:20:02.000-07:00\n",
       "...                              ...                            ...\n",
       "99995  2018-07-23 17:38:00.000-07:00  2018-07-22 12:35:12.000-07:00\n",
       "99996  2018-04-17 10:16:00.000-05:00  2018-04-16 08:55:56.000-05:00\n",
       "99997  2018-04-27 11:41:00.000-04:00  2018-04-26 11:52:36.000-04:00\n",
       "99998  2018-08-20 21:05:00.000-04:00  2018-08-20 10:31:39.000-04:00\n",
       "99999  2018-07-23 11:58:00.000-07:00  2018-07-21 18:10:24.000-07:00\n",
       "\n",
       "[100000 rows x 2 columns]"
      ]
     },
     "execution_count": 105,
     "metadata": {},
     "output_type": "execute_result"
    }
   ],
   "source": [
    "#Recall these 2 columns\n",
    "df_ebay[['acceptance_scan_timestamp', 'payment_datetime']]"
   ]
  },
  {
   "cell_type": "code",
   "execution_count": 106,
   "id": "4e9d74ba",
   "metadata": {},
   "outputs": [],
   "source": [
    "#asign value\n",
    "accept_date= df_ebay['acceptance_scan_timestamp']\n",
    "pay_date= df_ebay['payment_datetime']\n",
    "delivery_date= df_ebay['delivery_date']"
   ]
  },
  {
   "cell_type": "code",
   "execution_count": 107,
   "id": "9e476e86",
   "metadata": {},
   "outputs": [],
   "source": [
    "#Date convert function\n",
    "def convert_date_format(date_list):\n",
    "    '''\n",
    "        In this function, we will convert all the value in the acceptance_scan_timestamp, payment_datetime column in to the format of the delivery_date column \"%Y-%m-%d\"\n",
    "        The idea is convert all to the 0 timezone, then the value with the hour >11 will be rounded to the next day.\n",
    "        The reason to convert to next day is: the delivery company usually have the cut off time at 11am, any order place before 11am will be have 0 day delivery.\n",
    "    '''\n",
    "\n",
    "    output_format = \"%Y-%m-%d\"\n",
    "    dates=[]\n",
    "    # input_date= datetime.strftime(date[0], input_format)\n",
    "    for day in date_list:    \n",
    "        # Parse the original timestamp into a datetime object\n",
    "        dt = parser.parse(day)\n",
    "\n",
    "        # Extract the original timezone offset from the timestamp\n",
    "        original_timezone_offset = dt.strftime(\"%z\")\n",
    "\n",
    "        # Create a custom time zone with the original offset\n",
    "        day = tz.tzoffset(\"Custom\", datetime.timedelta(hours=int(original_timezone_offset[:3]), minutes=int(original_timezone_offset[3:])))\n",
    "\n",
    "        # Convert the timezone to the desired timezone (US/Eastern)\n",
    "        us_timezone = tz.gettz(\"US/Eastern\")\n",
    "        converted_dt = dt.replace(tzinfo=day).astimezone(us_timezone)\n",
    "\n",
    "        # Check if the hour is greater than 11\n",
    "        if converted_dt.hour > 11:\n",
    "            # Add one day to the converted datetime\n",
    "            converted_dt += datetime.timedelta(days=1)\n",
    "\n",
    "        # Remove the hour and timezone\n",
    "        converted_dt = converted_dt.replace(hour=0, minute=0, second=0, microsecond=0)\n",
    "\n",
    "        # Format the converted datetime object into the desired string format\n",
    "        converted_timestamp = converted_dt.strftime(\"%Y-%m-%d\")\n",
    "        # put in dates list\n",
    "        dates.append(converted_timestamp)\n",
    "    return dates"
   ]
  },
  {
   "cell_type": "code",
   "execution_count": 108,
   "id": "7f7e1060",
   "metadata": {},
   "outputs": [],
   "source": [
    "#convert\n",
    "df_ebay['acceptance_scan_timestamp']= convert_date_format(accept_date)\n",
    "df_ebay['payment_datetime']= convert_date_format(pay_date)"
   ]
  },
  {
   "cell_type": "code",
   "execution_count": 109,
   "id": "3f03fe77",
   "metadata": {},
   "outputs": [
    {
     "data": {
      "text/plain": [
       "0        2019-03-27\n",
       "1        2018-06-03\n",
       "2        2019-01-08\n",
       "3        2018-12-18\n",
       "4        2018-07-28\n",
       "            ...    \n",
       "99995    2018-07-24\n",
       "99996    2018-04-17\n",
       "99997    2018-04-27\n",
       "99998    2018-08-21\n",
       "99999    2018-07-24\n",
       "Name: acceptance_scan_timestamp, Length: 100000, dtype: object"
      ]
     },
     "execution_count": 109,
     "metadata": {},
     "output_type": "execute_result"
    }
   ],
   "source": [
    "#Santity check acceptance_scan_timestamp\n",
    "df_ebay['acceptance_scan_timestamp']"
   ]
  },
  {
   "cell_type": "code",
   "execution_count": 110,
   "id": "64a8c362",
   "metadata": {},
   "outputs": [
    {
     "data": {
      "text/plain": [
       "0        2019-03-24\n",
       "1        2018-06-02\n",
       "2        2019-01-06\n",
       "3        2018-12-17\n",
       "4        2018-07-27\n",
       "            ...    \n",
       "99995    2018-07-23\n",
       "99996    2018-04-16\n",
       "99997    2018-04-26\n",
       "99998    2018-08-20\n",
       "99999    2018-07-22\n",
       "Name: payment_datetime, Length: 100000, dtype: object"
      ]
     },
     "execution_count": 110,
     "metadata": {},
     "output_type": "execute_result"
    }
   ],
   "source": [
    "#Santity check payment_datetime\n",
    "df_ebay['payment_datetime']"
   ]
  },
  {
   "cell_type": "code",
   "execution_count": 111,
   "id": "7d967057",
   "metadata": {},
   "outputs": [],
   "source": [
    "#Conver delivery_date to datetime\n",
    "df_ebay['delivery_date'] = pd.to_datetime(df_ebay['delivery_date'])"
   ]
  },
  {
   "attachments": {},
   "cell_type": "markdown",
   "id": "4abbac9a",
   "metadata": {},
   "source": [
    "Check the table data after cleaning\n"
   ]
  },
  {
   "cell_type": "code",
   "execution_count": 112,
   "id": "e6a69d5f",
   "metadata": {},
   "outputs": [
    {
     "data": {
      "text/html": [
       "<div>\n",
       "<style scoped>\n",
       "    .dataframe tbody tr th:only-of-type {\n",
       "        vertical-align: middle;\n",
       "    }\n",
       "\n",
       "    .dataframe tbody tr th {\n",
       "        vertical-align: top;\n",
       "    }\n",
       "\n",
       "    .dataframe thead th {\n",
       "        text-align: right;\n",
       "    }\n",
       "</style>\n",
       "<table border=\"1\" class=\"dataframe\">\n",
       "  <thead>\n",
       "    <tr style=\"text-align: right;\">\n",
       "      <th></th>\n",
       "      <th>b2c_c2c</th>\n",
       "      <th>seller_id</th>\n",
       "      <th>declared_handling_days</th>\n",
       "      <th>acceptance_scan_timestamp</th>\n",
       "      <th>shipment_method_id</th>\n",
       "      <th>shipping_fee</th>\n",
       "      <th>carrier_min_estimate</th>\n",
       "      <th>carrier_max_estimate</th>\n",
       "      <th>item_zip</th>\n",
       "      <th>buyer_zip</th>\n",
       "      <th>category_id</th>\n",
       "      <th>item_price</th>\n",
       "      <th>quantity</th>\n",
       "      <th>payment_datetime</th>\n",
       "      <th>delivery_date</th>\n",
       "      <th>weight</th>\n",
       "      <th>weight_units</th>\n",
       "      <th>package_size</th>\n",
       "      <th>record_number</th>\n",
       "    </tr>\n",
       "  </thead>\n",
       "  <tbody>\n",
       "    <tr>\n",
       "      <th>0</th>\n",
       "      <td>B2C</td>\n",
       "      <td>25454</td>\n",
       "      <td>3.0</td>\n",
       "      <td>2019-03-27</td>\n",
       "      <td>0</td>\n",
       "      <td>0.0</td>\n",
       "      <td>3.0</td>\n",
       "      <td>5.0</td>\n",
       "      <td>97219</td>\n",
       "      <td>49040</td>\n",
       "      <td>13</td>\n",
       "      <td>27.95</td>\n",
       "      <td>1</td>\n",
       "      <td>2019-03-24</td>\n",
       "      <td>2019-03-29</td>\n",
       "      <td>5</td>\n",
       "      <td>1</td>\n",
       "      <td>LETTER</td>\n",
       "      <td>1</td>\n",
       "    </tr>\n",
       "    <tr>\n",
       "      <th>1</th>\n",
       "      <td>C2C</td>\n",
       "      <td>6727381</td>\n",
       "      <td>2.0</td>\n",
       "      <td>2018-06-03</td>\n",
       "      <td>0</td>\n",
       "      <td>3.0</td>\n",
       "      <td>3.0</td>\n",
       "      <td>5.0</td>\n",
       "      <td>11415-3528</td>\n",
       "      <td>62521</td>\n",
       "      <td>0</td>\n",
       "      <td>20.50</td>\n",
       "      <td>1</td>\n",
       "      <td>2018-06-02</td>\n",
       "      <td>2018-06-05</td>\n",
       "      <td>0</td>\n",
       "      <td>1</td>\n",
       "      <td>PACKAGE_THICK_ENVELOPE</td>\n",
       "      <td>2</td>\n",
       "    </tr>\n",
       "    <tr>\n",
       "      <th>2</th>\n",
       "      <td>B2C</td>\n",
       "      <td>18507</td>\n",
       "      <td>1.0</td>\n",
       "      <td>2019-01-08</td>\n",
       "      <td>0</td>\n",
       "      <td>4.5</td>\n",
       "      <td>3.0</td>\n",
       "      <td>5.0</td>\n",
       "      <td>27292</td>\n",
       "      <td>53010</td>\n",
       "      <td>1</td>\n",
       "      <td>19.90</td>\n",
       "      <td>1</td>\n",
       "      <td>2019-01-06</td>\n",
       "      <td>2019-01-10</td>\n",
       "      <td>9</td>\n",
       "      <td>1</td>\n",
       "      <td>PACKAGE_THICK_ENVELOPE</td>\n",
       "      <td>3</td>\n",
       "    </tr>\n",
       "    <tr>\n",
       "      <th>3</th>\n",
       "      <td>B2C</td>\n",
       "      <td>4677</td>\n",
       "      <td>1.0</td>\n",
       "      <td>2018-12-18</td>\n",
       "      <td>0</td>\n",
       "      <td>0.0</td>\n",
       "      <td>3.0</td>\n",
       "      <td>5.0</td>\n",
       "      <td>90703</td>\n",
       "      <td>80022</td>\n",
       "      <td>1</td>\n",
       "      <td>35.50</td>\n",
       "      <td>1</td>\n",
       "      <td>2018-12-17</td>\n",
       "      <td>2018-12-21</td>\n",
       "      <td>8</td>\n",
       "      <td>1</td>\n",
       "      <td>PACKAGE_THICK_ENVELOPE</td>\n",
       "      <td>4</td>\n",
       "    </tr>\n",
       "    <tr>\n",
       "      <th>4</th>\n",
       "      <td>B2C</td>\n",
       "      <td>4677</td>\n",
       "      <td>1.0</td>\n",
       "      <td>2018-07-28</td>\n",
       "      <td>0</td>\n",
       "      <td>0.0</td>\n",
       "      <td>3.0</td>\n",
       "      <td>5.0</td>\n",
       "      <td>90703</td>\n",
       "      <td>55070</td>\n",
       "      <td>1</td>\n",
       "      <td>25.00</td>\n",
       "      <td>1</td>\n",
       "      <td>2018-07-27</td>\n",
       "      <td>2018-07-30</td>\n",
       "      <td>3</td>\n",
       "      <td>1</td>\n",
       "      <td>PACKAGE_THICK_ENVELOPE</td>\n",
       "      <td>5</td>\n",
       "    </tr>\n",
       "  </tbody>\n",
       "</table>\n",
       "</div>"
      ],
      "text/plain": [
       "  b2c_c2c  seller_id  declared_handling_days acceptance_scan_timestamp  \\\n",
       "0     B2C      25454                     3.0                2019-03-27   \n",
       "1     C2C    6727381                     2.0                2018-06-03   \n",
       "2     B2C      18507                     1.0                2019-01-08   \n",
       "3     B2C       4677                     1.0                2018-12-18   \n",
       "4     B2C       4677                     1.0                2018-07-28   \n",
       "\n",
       "   shipment_method_id  shipping_fee  carrier_min_estimate  \\\n",
       "0                   0           0.0                   3.0   \n",
       "1                   0           3.0                   3.0   \n",
       "2                   0           4.5                   3.0   \n",
       "3                   0           0.0                   3.0   \n",
       "4                   0           0.0                   3.0   \n",
       "\n",
       "   carrier_max_estimate    item_zip buyer_zip  category_id  item_price  \\\n",
       "0                   5.0       97219     49040           13       27.95   \n",
       "1                   5.0  11415-3528     62521            0       20.50   \n",
       "2                   5.0       27292     53010            1       19.90   \n",
       "3                   5.0       90703     80022            1       35.50   \n",
       "4                   5.0       90703     55070            1       25.00   \n",
       "\n",
       "   quantity payment_datetime delivery_date  weight  weight_units  \\\n",
       "0         1       2019-03-24    2019-03-29       5             1   \n",
       "1         1       2018-06-02    2018-06-05       0             1   \n",
       "2         1       2019-01-06    2019-01-10       9             1   \n",
       "3         1       2018-12-17    2018-12-21       8             1   \n",
       "4         1       2018-07-27    2018-07-30       3             1   \n",
       "\n",
       "             package_size  record_number  \n",
       "0                  LETTER              1  \n",
       "1  PACKAGE_THICK_ENVELOPE              2  \n",
       "2  PACKAGE_THICK_ENVELOPE              3  \n",
       "3  PACKAGE_THICK_ENVELOPE              4  \n",
       "4  PACKAGE_THICK_ENVELOPE              5  "
      ]
     },
     "execution_count": 112,
     "metadata": {},
     "output_type": "execute_result"
    }
   ],
   "source": [
    "df_ebay.head()"
   ]
  },
  {
   "attachments": {},
   "cell_type": "markdown",
   "id": "e84b05f0",
   "metadata": {},
   "source": [
    "### Data Visualization"
   ]
  },
  {
   "attachments": {},
   "cell_type": "markdown",
   "id": "e279c271",
   "metadata": {},
   "source": [
    "Let see the percent of the kind of customer B2C(Business to Consumer) and C2C(Consumer to Consumer)"
   ]
  },
  {
   "cell_type": "code",
   "execution_count": 113,
   "id": "67735119",
   "metadata": {},
   "outputs": [
    {
     "data": {
      "text/plain": [
       "B2C    69720\n",
       "C2C    30280\n",
       "Name: b2c_c2c, dtype: int64"
      ]
     },
     "execution_count": 113,
     "metadata": {},
     "output_type": "execute_result"
    }
   ],
   "source": [
    "df_ebay['b2c_c2c'].value_counts()"
   ]
  },
  {
   "cell_type": "code",
   "execution_count": 114,
   "id": "3a140d0e",
   "metadata": {},
   "outputs": [
    {
     "data": {
      "application/vnd.plotly.v1+json": {
       "config": {
        "plotlyServerURL": "https://plot.ly"
       },
       "data": [
        {
         "domain": {
          "x": [
           0,
           1
          ],
          "y": [
           0,
           1
          ]
         },
         "hovertemplate": "label=%{label}<br>value=%{value}<extra></extra>",
         "labels": [
          "B2C",
          "C2C"
         ],
         "legendgroup": "",
         "name": "",
         "showlegend": true,
         "type": "pie",
         "values": [
          69720,
          30280
         ]
        }
       ],
       "layout": {
        "legend": {
         "tracegroupgap": 0
        },
        "template": {
         "data": {
          "bar": [
           {
            "error_x": {
             "color": "#2a3f5f"
            },
            "error_y": {
             "color": "#2a3f5f"
            },
            "marker": {
             "line": {
              "color": "#E5ECF6",
              "width": 0.5
             },
             "pattern": {
              "fillmode": "overlay",
              "size": 10,
              "solidity": 0.2
             }
            },
            "type": "bar"
           }
          ],
          "barpolar": [
           {
            "marker": {
             "line": {
              "color": "#E5ECF6",
              "width": 0.5
             },
             "pattern": {
              "fillmode": "overlay",
              "size": 10,
              "solidity": 0.2
             }
            },
            "type": "barpolar"
           }
          ],
          "carpet": [
           {
            "aaxis": {
             "endlinecolor": "#2a3f5f",
             "gridcolor": "white",
             "linecolor": "white",
             "minorgridcolor": "white",
             "startlinecolor": "#2a3f5f"
            },
            "baxis": {
             "endlinecolor": "#2a3f5f",
             "gridcolor": "white",
             "linecolor": "white",
             "minorgridcolor": "white",
             "startlinecolor": "#2a3f5f"
            },
            "type": "carpet"
           }
          ],
          "choropleth": [
           {
            "colorbar": {
             "outlinewidth": 0,
             "ticks": ""
            },
            "type": "choropleth"
           }
          ],
          "contour": [
           {
            "colorbar": {
             "outlinewidth": 0,
             "ticks": ""
            },
            "colorscale": [
             [
              0,
              "#0d0887"
             ],
             [
              0.1111111111111111,
              "#46039f"
             ],
             [
              0.2222222222222222,
              "#7201a8"
             ],
             [
              0.3333333333333333,
              "#9c179e"
             ],
             [
              0.4444444444444444,
              "#bd3786"
             ],
             [
              0.5555555555555556,
              "#d8576b"
             ],
             [
              0.6666666666666666,
              "#ed7953"
             ],
             [
              0.7777777777777778,
              "#fb9f3a"
             ],
             [
              0.8888888888888888,
              "#fdca26"
             ],
             [
              1,
              "#f0f921"
             ]
            ],
            "type": "contour"
           }
          ],
          "contourcarpet": [
           {
            "colorbar": {
             "outlinewidth": 0,
             "ticks": ""
            },
            "type": "contourcarpet"
           }
          ],
          "heatmap": [
           {
            "colorbar": {
             "outlinewidth": 0,
             "ticks": ""
            },
            "colorscale": [
             [
              0,
              "#0d0887"
             ],
             [
              0.1111111111111111,
              "#46039f"
             ],
             [
              0.2222222222222222,
              "#7201a8"
             ],
             [
              0.3333333333333333,
              "#9c179e"
             ],
             [
              0.4444444444444444,
              "#bd3786"
             ],
             [
              0.5555555555555556,
              "#d8576b"
             ],
             [
              0.6666666666666666,
              "#ed7953"
             ],
             [
              0.7777777777777778,
              "#fb9f3a"
             ],
             [
              0.8888888888888888,
              "#fdca26"
             ],
             [
              1,
              "#f0f921"
             ]
            ],
            "type": "heatmap"
           }
          ],
          "heatmapgl": [
           {
            "colorbar": {
             "outlinewidth": 0,
             "ticks": ""
            },
            "colorscale": [
             [
              0,
              "#0d0887"
             ],
             [
              0.1111111111111111,
              "#46039f"
             ],
             [
              0.2222222222222222,
              "#7201a8"
             ],
             [
              0.3333333333333333,
              "#9c179e"
             ],
             [
              0.4444444444444444,
              "#bd3786"
             ],
             [
              0.5555555555555556,
              "#d8576b"
             ],
             [
              0.6666666666666666,
              "#ed7953"
             ],
             [
              0.7777777777777778,
              "#fb9f3a"
             ],
             [
              0.8888888888888888,
              "#fdca26"
             ],
             [
              1,
              "#f0f921"
             ]
            ],
            "type": "heatmapgl"
           }
          ],
          "histogram": [
           {
            "marker": {
             "pattern": {
              "fillmode": "overlay",
              "size": 10,
              "solidity": 0.2
             }
            },
            "type": "histogram"
           }
          ],
          "histogram2d": [
           {
            "colorbar": {
             "outlinewidth": 0,
             "ticks": ""
            },
            "colorscale": [
             [
              0,
              "#0d0887"
             ],
             [
              0.1111111111111111,
              "#46039f"
             ],
             [
              0.2222222222222222,
              "#7201a8"
             ],
             [
              0.3333333333333333,
              "#9c179e"
             ],
             [
              0.4444444444444444,
              "#bd3786"
             ],
             [
              0.5555555555555556,
              "#d8576b"
             ],
             [
              0.6666666666666666,
              "#ed7953"
             ],
             [
              0.7777777777777778,
              "#fb9f3a"
             ],
             [
              0.8888888888888888,
              "#fdca26"
             ],
             [
              1,
              "#f0f921"
             ]
            ],
            "type": "histogram2d"
           }
          ],
          "histogram2dcontour": [
           {
            "colorbar": {
             "outlinewidth": 0,
             "ticks": ""
            },
            "colorscale": [
             [
              0,
              "#0d0887"
             ],
             [
              0.1111111111111111,
              "#46039f"
             ],
             [
              0.2222222222222222,
              "#7201a8"
             ],
             [
              0.3333333333333333,
              "#9c179e"
             ],
             [
              0.4444444444444444,
              "#bd3786"
             ],
             [
              0.5555555555555556,
              "#d8576b"
             ],
             [
              0.6666666666666666,
              "#ed7953"
             ],
             [
              0.7777777777777778,
              "#fb9f3a"
             ],
             [
              0.8888888888888888,
              "#fdca26"
             ],
             [
              1,
              "#f0f921"
             ]
            ],
            "type": "histogram2dcontour"
           }
          ],
          "mesh3d": [
           {
            "colorbar": {
             "outlinewidth": 0,
             "ticks": ""
            },
            "type": "mesh3d"
           }
          ],
          "parcoords": [
           {
            "line": {
             "colorbar": {
              "outlinewidth": 0,
              "ticks": ""
             }
            },
            "type": "parcoords"
           }
          ],
          "pie": [
           {
            "automargin": true,
            "type": "pie"
           }
          ],
          "scatter": [
           {
            "fillpattern": {
             "fillmode": "overlay",
             "size": 10,
             "solidity": 0.2
            },
            "type": "scatter"
           }
          ],
          "scatter3d": [
           {
            "line": {
             "colorbar": {
              "outlinewidth": 0,
              "ticks": ""
             }
            },
            "marker": {
             "colorbar": {
              "outlinewidth": 0,
              "ticks": ""
             }
            },
            "type": "scatter3d"
           }
          ],
          "scattercarpet": [
           {
            "marker": {
             "colorbar": {
              "outlinewidth": 0,
              "ticks": ""
             }
            },
            "type": "scattercarpet"
           }
          ],
          "scattergeo": [
           {
            "marker": {
             "colorbar": {
              "outlinewidth": 0,
              "ticks": ""
             }
            },
            "type": "scattergeo"
           }
          ],
          "scattergl": [
           {
            "marker": {
             "colorbar": {
              "outlinewidth": 0,
              "ticks": ""
             }
            },
            "type": "scattergl"
           }
          ],
          "scattermapbox": [
           {
            "marker": {
             "colorbar": {
              "outlinewidth": 0,
              "ticks": ""
             }
            },
            "type": "scattermapbox"
           }
          ],
          "scatterpolar": [
           {
            "marker": {
             "colorbar": {
              "outlinewidth": 0,
              "ticks": ""
             }
            },
            "type": "scatterpolar"
           }
          ],
          "scatterpolargl": [
           {
            "marker": {
             "colorbar": {
              "outlinewidth": 0,
              "ticks": ""
             }
            },
            "type": "scatterpolargl"
           }
          ],
          "scatterternary": [
           {
            "marker": {
             "colorbar": {
              "outlinewidth": 0,
              "ticks": ""
             }
            },
            "type": "scatterternary"
           }
          ],
          "surface": [
           {
            "colorbar": {
             "outlinewidth": 0,
             "ticks": ""
            },
            "colorscale": [
             [
              0,
              "#0d0887"
             ],
             [
              0.1111111111111111,
              "#46039f"
             ],
             [
              0.2222222222222222,
              "#7201a8"
             ],
             [
              0.3333333333333333,
              "#9c179e"
             ],
             [
              0.4444444444444444,
              "#bd3786"
             ],
             [
              0.5555555555555556,
              "#d8576b"
             ],
             [
              0.6666666666666666,
              "#ed7953"
             ],
             [
              0.7777777777777778,
              "#fb9f3a"
             ],
             [
              0.8888888888888888,
              "#fdca26"
             ],
             [
              1,
              "#f0f921"
             ]
            ],
            "type": "surface"
           }
          ],
          "table": [
           {
            "cells": {
             "fill": {
              "color": "#EBF0F8"
             },
             "line": {
              "color": "white"
             }
            },
            "header": {
             "fill": {
              "color": "#C8D4E3"
             },
             "line": {
              "color": "white"
             }
            },
            "type": "table"
           }
          ]
         },
         "layout": {
          "annotationdefaults": {
           "arrowcolor": "#2a3f5f",
           "arrowhead": 0,
           "arrowwidth": 1
          },
          "autotypenumbers": "strict",
          "coloraxis": {
           "colorbar": {
            "outlinewidth": 0,
            "ticks": ""
           }
          },
          "colorscale": {
           "diverging": [
            [
             0,
             "#8e0152"
            ],
            [
             0.1,
             "#c51b7d"
            ],
            [
             0.2,
             "#de77ae"
            ],
            [
             0.3,
             "#f1b6da"
            ],
            [
             0.4,
             "#fde0ef"
            ],
            [
             0.5,
             "#f7f7f7"
            ],
            [
             0.6,
             "#e6f5d0"
            ],
            [
             0.7,
             "#b8e186"
            ],
            [
             0.8,
             "#7fbc41"
            ],
            [
             0.9,
             "#4d9221"
            ],
            [
             1,
             "#276419"
            ]
           ],
           "sequential": [
            [
             0,
             "#0d0887"
            ],
            [
             0.1111111111111111,
             "#46039f"
            ],
            [
             0.2222222222222222,
             "#7201a8"
            ],
            [
             0.3333333333333333,
             "#9c179e"
            ],
            [
             0.4444444444444444,
             "#bd3786"
            ],
            [
             0.5555555555555556,
             "#d8576b"
            ],
            [
             0.6666666666666666,
             "#ed7953"
            ],
            [
             0.7777777777777778,
             "#fb9f3a"
            ],
            [
             0.8888888888888888,
             "#fdca26"
            ],
            [
             1,
             "#f0f921"
            ]
           ],
           "sequentialminus": [
            [
             0,
             "#0d0887"
            ],
            [
             0.1111111111111111,
             "#46039f"
            ],
            [
             0.2222222222222222,
             "#7201a8"
            ],
            [
             0.3333333333333333,
             "#9c179e"
            ],
            [
             0.4444444444444444,
             "#bd3786"
            ],
            [
             0.5555555555555556,
             "#d8576b"
            ],
            [
             0.6666666666666666,
             "#ed7953"
            ],
            [
             0.7777777777777778,
             "#fb9f3a"
            ],
            [
             0.8888888888888888,
             "#fdca26"
            ],
            [
             1,
             "#f0f921"
            ]
           ]
          },
          "colorway": [
           "#636efa",
           "#EF553B",
           "#00cc96",
           "#ab63fa",
           "#FFA15A",
           "#19d3f3",
           "#FF6692",
           "#B6E880",
           "#FF97FF",
           "#FECB52"
          ],
          "font": {
           "color": "#2a3f5f"
          },
          "geo": {
           "bgcolor": "white",
           "lakecolor": "white",
           "landcolor": "#E5ECF6",
           "showlakes": true,
           "showland": true,
           "subunitcolor": "white"
          },
          "hoverlabel": {
           "align": "left"
          },
          "hovermode": "closest",
          "mapbox": {
           "style": "light"
          },
          "paper_bgcolor": "white",
          "plot_bgcolor": "#E5ECF6",
          "polar": {
           "angularaxis": {
            "gridcolor": "white",
            "linecolor": "white",
            "ticks": ""
           },
           "bgcolor": "#E5ECF6",
           "radialaxis": {
            "gridcolor": "white",
            "linecolor": "white",
            "ticks": ""
           }
          },
          "scene": {
           "xaxis": {
            "backgroundcolor": "#E5ECF6",
            "gridcolor": "white",
            "gridwidth": 2,
            "linecolor": "white",
            "showbackground": true,
            "ticks": "",
            "zerolinecolor": "white"
           },
           "yaxis": {
            "backgroundcolor": "#E5ECF6",
            "gridcolor": "white",
            "gridwidth": 2,
            "linecolor": "white",
            "showbackground": true,
            "ticks": "",
            "zerolinecolor": "white"
           },
           "zaxis": {
            "backgroundcolor": "#E5ECF6",
            "gridcolor": "white",
            "gridwidth": 2,
            "linecolor": "white",
            "showbackground": true,
            "ticks": "",
            "zerolinecolor": "white"
           }
          },
          "shapedefaults": {
           "line": {
            "color": "#2a3f5f"
           }
          },
          "ternary": {
           "aaxis": {
            "gridcolor": "white",
            "linecolor": "white",
            "ticks": ""
           },
           "baxis": {
            "gridcolor": "white",
            "linecolor": "white",
            "ticks": ""
           },
           "bgcolor": "#E5ECF6",
           "caxis": {
            "gridcolor": "white",
            "linecolor": "white",
            "ticks": ""
           }
          },
          "title": {
           "x": 0.05
          },
          "xaxis": {
           "automargin": true,
           "gridcolor": "white",
           "linecolor": "white",
           "ticks": "",
           "title": {
            "standoff": 15
           },
           "zerolinecolor": "white",
           "zerolinewidth": 2
          },
          "yaxis": {
           "automargin": true,
           "gridcolor": "white",
           "linecolor": "white",
           "ticks": "",
           "title": {
            "standoff": 15
           },
           "zerolinecolor": "white",
           "zerolinewidth": 2
          }
         }
        },
        "title": {
         "text": "Contribution of C2C and B2C"
        }
       }
      }
     },
     "metadata": {},
     "output_type": "display_data"
    },
    {
     "data": {
      "text/plain": [
       "<Figure size 1600x1200 with 0 Axes>"
      ]
     },
     "metadata": {},
     "output_type": "display_data"
    }
   ],
   "source": [
    "plt.figure(figsize=(16, 12))\n",
    "fig= px.pie(df_ebay, values= df_ebay['b2c_c2c'].value_counts(), names=df_ebay['b2c_c2c'].unique(), title='Contribution of C2C and B2C')\n",
    "fig.show()"
   ]
  },
  {
   "attachments": {},
   "cell_type": "markdown",
   "id": "86800c33",
   "metadata": {},
   "source": [
    "Like most sellers, the business takes about 70.4% of the total amount of sales in the online selling platform, and consumer-to-consumer takes about 29.6% of the total amount, which is not a small amount."
   ]
  },
  {
   "attachments": {},
   "cell_type": "markdown",
   "id": "66f0c027",
   "metadata": {},
   "source": [
    "Let see overal how many day sellers need to proceesing order to make it ready to ship for customer "
   ]
  },
  {
   "cell_type": "code",
   "execution_count": 115,
   "id": "ee1e314f",
   "metadata": {},
   "outputs": [
    {
     "data": {
      "image/png": "[encoded data removed]",
      "text/plain": [
       "<Figure size 1200x800 with 1 Axes>"
      ]
     },
     "metadata": {},
     "output_type": "display_data"
    }
   ],
   "source": [
    "plt.figure(figsize=(12, 8))\n",
    "plt.bar(df_ebay['declared_handling_days'].unique(), df_ebay['declared_handling_days'].value_counts())\n",
    "plt.xlabel('Days')\n",
    "plt.ylabel('Amount of order')\n",
    "plt.yscale('log')\n",
    "plt.title('Days need to process order')\n",
    "plt.show()\n"
   ]
  },
  {
   "attachments": {},
   "cell_type": "markdown",
   "id": "7821157b",
   "metadata": {},
   "source": [
    "As we can see from the chart, most of the order will be ready to ship in range of 0 to 5 days. There is quite big amount for the 10, 15, 20 and 30 days need to be ready ship which is quite un common. This could be because of lack of inventory for some item."
   ]
  },
  {
   "attachments": {},
   "cell_type": "markdown",
   "id": "fef62f0a",
   "metadata": {},
   "source": [
    "How many order was packed in each type of package size"
   ]
  },
  {
   "cell_type": "code",
   "execution_count": 116,
   "id": "652be0d9",
   "metadata": {},
   "outputs": [
    {
     "data": {
      "image/png": "[encoded data removed]",
      "text/plain": [
       "<Figure size 1200x800 with 1 Axes>"
      ]
     },
     "metadata": {},
     "output_type": "display_data"
    }
   ],
   "source": [
    "plt.figure(figsize=(12, 8))\n",
    "plt.barh(df_ebay['package_size'].unique(), df_ebay['package_size'].value_counts())\n",
    "plt.title(\"Amount of package by package type\")\n",
    "plt.xlabel('Number of order')\n",
    "plt.ylabel('Package type')\n",
    "plt.show()"
   ]
  },
  {
   "attachments": {},
   "cell_type": "markdown",
   "id": "3682ca9c",
   "metadata": {},
   "source": [
    "Seem like most of the order is in small size and can be packed in `LETTER` size"
   ]
  },
  {
   "attachments": {},
   "cell_type": "markdown",
   "id": "b8b70270",
   "metadata": {},
   "source": [
    "Number of order by month"
   ]
  },
  {
   "cell_type": "code",
   "execution_count": 117,
   "id": "11b45ebb",
   "metadata": {},
   "outputs": [
    {
     "data": {
      "image/png": "[encoded data removed]",
      "text/plain": [
       "<Figure size 1200x800 with 1 Axes>"
      ]
     },
     "metadata": {},
     "output_type": "display_data"
    }
   ],
   "source": [
    "d= pd.to_datetime(df_ebay['payment_datetime'])\n",
    "d= d.dt.month.value_counts().sort_index()\n",
    "plt.figure(figsize=(12, 8))\n",
    "sns.lineplot(d)\n",
    "plt.title(\"Amount of order each month\")\n",
    "plt.xlabel(\"Month\")\n",
    "plt.ylabel(\"Amount of order\")\n",
    "plt.show()"
   ]
  },
  {
   "attachments": {},
   "cell_type": "markdown",
   "id": "d6aa57f5",
   "metadata": {},
   "source": [
    "Many people place orders in the early time of the year, January, and February, reaching the highest in March. There is something unfamiliar here: only a few people place orders in the range of October to December, which should be a busy time for the business."
   ]
  },
  {
   "attachments": {},
   "cell_type": "markdown",
   "id": "23d507d3",
   "metadata": {},
   "source": [
    "## Feature Engineering"
   ]
  },
  {
   "attachments": {},
   "cell_type": "markdown",
   "id": "6649561a",
   "metadata": {},
   "source": [
    "Let check out the distributions, we are going to check over all the column in the dataset"
   ]
  },
  {
   "cell_type": "code",
   "execution_count": 118,
   "id": "ef4e2af6",
   "metadata": {},
   "outputs": [
    {
     "name": "stdout",
     "output_type": "stream",
     "text": [
      "<class 'pandas.core.frame.DataFrame'>\n",
      "Int64Index: 100000 entries, 0 to 99999\n",
      "Data columns (total 19 columns):\n",
      " #   Column                     Non-Null Count   Dtype         \n",
      "---  ------                     --------------   -----         \n",
      " 0   b2c_c2c                    100000 non-null  object        \n",
      " 1   seller_id                  100000 non-null  int64         \n",
      " 2   declared_handling_days     100000 non-null  float64       \n",
      " 3   acceptance_scan_timestamp  100000 non-null  object        \n",
      " 4   shipment_method_id         100000 non-null  int64         \n",
      " 5   shipping_fee               100000 non-null  float64       \n",
      " 6   carrier_min_estimate       100000 non-null  float64       \n",
      " 7   carrier_max_estimate       100000 non-null  float64       \n",
      " 8   item_zip                   100000 non-null  object        \n",
      " 9   buyer_zip                  100000 non-null  object        \n",
      " 10  category_id                100000 non-null  int64         \n",
      " 11  item_price                 100000 non-null  float64       \n",
      " 12  quantity                   100000 non-null  int64         \n",
      " 13  payment_datetime           100000 non-null  object        \n",
      " 14  delivery_date              100000 non-null  datetime64[ns]\n",
      " 15  weight                     100000 non-null  int64         \n",
      " 16  weight_units               100000 non-null  int64         \n",
      " 17  package_size               100000 non-null  object        \n",
      " 18  record_number              100000 non-null  int64         \n",
      "dtypes: datetime64[ns](1), float64(5), int64(7), object(6)\n",
      "memory usage: 17.3+ MB\n"
     ]
    }
   ],
   "source": [
    "# Re call the dataset \n",
    "df_ebay.info()"
   ]
  },
  {
   "attachments": {},
   "cell_type": "markdown",
   "id": "b4d4c4c3",
   "metadata": {},
   "source": [
    "#### b2c_c2c\n",
    "Convert this column to binary value"
   ]
  },
  {
   "cell_type": "code",
   "execution_count": 119,
   "id": "16ababed",
   "metadata": {},
   "outputs": [
    {
     "data": {
      "text/plain": [
       "B2C    69720\n",
       "C2C    30280\n",
       "Name: b2c_c2c, dtype: int64"
      ]
     },
     "execution_count": 119,
     "metadata": {},
     "output_type": "execute_result"
    }
   ],
   "source": [
    "#checking the b2c_c2c column\n",
    "df_ebay['b2c_c2c'].value_counts()"
   ]
  },
  {
   "attachments": {},
   "cell_type": "markdown",
   "id": "7265d608",
   "metadata": {},
   "source": [
    "Convert `b2c_c2c` column to binary"
   ]
  },
  {
   "cell_type": "code",
   "execution_count": 120,
   "id": "419f37fe",
   "metadata": {},
   "outputs": [],
   "source": [
    "df_ebay['b2c_c2c']= np.where(df_ebay['b2c_c2c']=='B2C', 1, 0)"
   ]
  },
  {
   "cell_type": "code",
   "execution_count": 121,
   "id": "c441e935",
   "metadata": {},
   "outputs": [
    {
     "data": {
      "text/html": [
       "<div>\n",
       "<style scoped>\n",
       "    .dataframe tbody tr th:only-of-type {\n",
       "        vertical-align: middle;\n",
       "    }\n",
       "\n",
       "    .dataframe tbody tr th {\n",
       "        vertical-align: top;\n",
       "    }\n",
       "\n",
       "    .dataframe thead th {\n",
       "        text-align: right;\n",
       "    }\n",
       "</style>\n",
       "<table border=\"1\" class=\"dataframe\">\n",
       "  <thead>\n",
       "    <tr style=\"text-align: right;\">\n",
       "      <th></th>\n",
       "      <th>b2c_c2c</th>\n",
       "      <th>seller_id</th>\n",
       "      <th>declared_handling_days</th>\n",
       "      <th>acceptance_scan_timestamp</th>\n",
       "      <th>shipment_method_id</th>\n",
       "      <th>shipping_fee</th>\n",
       "      <th>carrier_min_estimate</th>\n",
       "      <th>carrier_max_estimate</th>\n",
       "      <th>item_zip</th>\n",
       "      <th>buyer_zip</th>\n",
       "      <th>category_id</th>\n",
       "      <th>item_price</th>\n",
       "      <th>quantity</th>\n",
       "      <th>payment_datetime</th>\n",
       "      <th>delivery_date</th>\n",
       "      <th>weight</th>\n",
       "      <th>weight_units</th>\n",
       "      <th>package_size</th>\n",
       "      <th>record_number</th>\n",
       "    </tr>\n",
       "  </thead>\n",
       "  <tbody>\n",
       "    <tr>\n",
       "      <th>0</th>\n",
       "      <td>1</td>\n",
       "      <td>25454</td>\n",
       "      <td>3.0</td>\n",
       "      <td>2019-03-27</td>\n",
       "      <td>0</td>\n",
       "      <td>0.0</td>\n",
       "      <td>3.0</td>\n",
       "      <td>5.0</td>\n",
       "      <td>97219</td>\n",
       "      <td>49040</td>\n",
       "      <td>13</td>\n",
       "      <td>27.95</td>\n",
       "      <td>1</td>\n",
       "      <td>2019-03-24</td>\n",
       "      <td>2019-03-29</td>\n",
       "      <td>5</td>\n",
       "      <td>1</td>\n",
       "      <td>LETTER</td>\n",
       "      <td>1</td>\n",
       "    </tr>\n",
       "    <tr>\n",
       "      <th>1</th>\n",
       "      <td>0</td>\n",
       "      <td>6727381</td>\n",
       "      <td>2.0</td>\n",
       "      <td>2018-06-03</td>\n",
       "      <td>0</td>\n",
       "      <td>3.0</td>\n",
       "      <td>3.0</td>\n",
       "      <td>5.0</td>\n",
       "      <td>11415-3528</td>\n",
       "      <td>62521</td>\n",
       "      <td>0</td>\n",
       "      <td>20.50</td>\n",
       "      <td>1</td>\n",
       "      <td>2018-06-02</td>\n",
       "      <td>2018-06-05</td>\n",
       "      <td>0</td>\n",
       "      <td>1</td>\n",
       "      <td>PACKAGE_THICK_ENVELOPE</td>\n",
       "      <td>2</td>\n",
       "    </tr>\n",
       "    <tr>\n",
       "      <th>2</th>\n",
       "      <td>1</td>\n",
       "      <td>18507</td>\n",
       "      <td>1.0</td>\n",
       "      <td>2019-01-08</td>\n",
       "      <td>0</td>\n",
       "      <td>4.5</td>\n",
       "      <td>3.0</td>\n",
       "      <td>5.0</td>\n",
       "      <td>27292</td>\n",
       "      <td>53010</td>\n",
       "      <td>1</td>\n",
       "      <td>19.90</td>\n",
       "      <td>1</td>\n",
       "      <td>2019-01-06</td>\n",
       "      <td>2019-01-10</td>\n",
       "      <td>9</td>\n",
       "      <td>1</td>\n",
       "      <td>PACKAGE_THICK_ENVELOPE</td>\n",
       "      <td>3</td>\n",
       "    </tr>\n",
       "    <tr>\n",
       "      <th>3</th>\n",
       "      <td>1</td>\n",
       "      <td>4677</td>\n",
       "      <td>1.0</td>\n",
       "      <td>2018-12-18</td>\n",
       "      <td>0</td>\n",
       "      <td>0.0</td>\n",
       "      <td>3.0</td>\n",
       "      <td>5.0</td>\n",
       "      <td>90703</td>\n",
       "      <td>80022</td>\n",
       "      <td>1</td>\n",
       "      <td>35.50</td>\n",
       "      <td>1</td>\n",
       "      <td>2018-12-17</td>\n",
       "      <td>2018-12-21</td>\n",
       "      <td>8</td>\n",
       "      <td>1</td>\n",
       "      <td>PACKAGE_THICK_ENVELOPE</td>\n",
       "      <td>4</td>\n",
       "    </tr>\n",
       "    <tr>\n",
       "      <th>4</th>\n",
       "      <td>1</td>\n",
       "      <td>4677</td>\n",
       "      <td>1.0</td>\n",
       "      <td>2018-07-28</td>\n",
       "      <td>0</td>\n",
       "      <td>0.0</td>\n",
       "      <td>3.0</td>\n",
       "      <td>5.0</td>\n",
       "      <td>90703</td>\n",
       "      <td>55070</td>\n",
       "      <td>1</td>\n",
       "      <td>25.00</td>\n",
       "      <td>1</td>\n",
       "      <td>2018-07-27</td>\n",
       "      <td>2018-07-30</td>\n",
       "      <td>3</td>\n",
       "      <td>1</td>\n",
       "      <td>PACKAGE_THICK_ENVELOPE</td>\n",
       "      <td>5</td>\n",
       "    </tr>\n",
       "  </tbody>\n",
       "</table>\n",
       "</div>"
      ],
      "text/plain": [
       "   b2c_c2c  seller_id  declared_handling_days acceptance_scan_timestamp  \\\n",
       "0        1      25454                     3.0                2019-03-27   \n",
       "1        0    6727381                     2.0                2018-06-03   \n",
       "2        1      18507                     1.0                2019-01-08   \n",
       "3        1       4677                     1.0                2018-12-18   \n",
       "4        1       4677                     1.0                2018-07-28   \n",
       "\n",
       "   shipment_method_id  shipping_fee  carrier_min_estimate  \\\n",
       "0                   0           0.0                   3.0   \n",
       "1                   0           3.0                   3.0   \n",
       "2                   0           4.5                   3.0   \n",
       "3                   0           0.0                   3.0   \n",
       "4                   0           0.0                   3.0   \n",
       "\n",
       "   carrier_max_estimate    item_zip buyer_zip  category_id  item_price  \\\n",
       "0                   5.0       97219     49040           13       27.95   \n",
       "1                   5.0  11415-3528     62521            0       20.50   \n",
       "2                   5.0       27292     53010            1       19.90   \n",
       "3                   5.0       90703     80022            1       35.50   \n",
       "4                   5.0       90703     55070            1       25.00   \n",
       "\n",
       "   quantity payment_datetime delivery_date  weight  weight_units  \\\n",
       "0         1       2019-03-24    2019-03-29       5             1   \n",
       "1         1       2018-06-02    2018-06-05       0             1   \n",
       "2         1       2019-01-06    2019-01-10       9             1   \n",
       "3         1       2018-12-17    2018-12-21       8             1   \n",
       "4         1       2018-07-27    2018-07-30       3             1   \n",
       "\n",
       "             package_size  record_number  \n",
       "0                  LETTER              1  \n",
       "1  PACKAGE_THICK_ENVELOPE              2  \n",
       "2  PACKAGE_THICK_ENVELOPE              3  \n",
       "3  PACKAGE_THICK_ENVELOPE              4  \n",
       "4  PACKAGE_THICK_ENVELOPE              5  "
      ]
     },
     "execution_count": 121,
     "metadata": {},
     "output_type": "execute_result"
    }
   ],
   "source": [
    "#Santity check\n",
    "df_ebay.head()"
   ]
  },
  {
   "attachments": {},
   "cell_type": "markdown",
   "id": "e6dc748c",
   "metadata": {},
   "source": [
    "#### Weigth and Weight_units"
   ]
  },
  {
   "cell_type": "code",
   "execution_count": 122,
   "id": "8018d599",
   "metadata": {},
   "outputs": [
    {
     "data": {
      "text/plain": [
       "1    100000\n",
       "Name: weight_units, dtype: int64"
      ]
     },
     "execution_count": 122,
     "metadata": {},
     "output_type": "execute_result"
    }
   ],
   "source": [
    "df_ebay['weight_units'].value_counts()"
   ]
  },
  {
   "attachments": {},
   "cell_type": "markdown",
   "id": "42373f00",
   "metadata": {},
   "source": [
    "There are 2 difference `weight_units` is 1 and 2. Let say 1 - 'lbs' and 2 - 'kg'. We are going to convert all the weight units to lb."
   ]
  },
  {
   "cell_type": "code",
   "execution_count": 123,
   "id": "6a4f722d",
   "metadata": {},
   "outputs": [
    {
     "data": {
      "text/html": [
       "<div>\n",
       "<style scoped>\n",
       "    .dataframe tbody tr th:only-of-type {\n",
       "        vertical-align: middle;\n",
       "    }\n",
       "\n",
       "    .dataframe tbody tr th {\n",
       "        vertical-align: top;\n",
       "    }\n",
       "\n",
       "    .dataframe thead th {\n",
       "        text-align: right;\n",
       "    }\n",
       "</style>\n",
       "<table border=\"1\" class=\"dataframe\">\n",
       "  <thead>\n",
       "    <tr style=\"text-align: right;\">\n",
       "      <th></th>\n",
       "      <th>b2c_c2c</th>\n",
       "      <th>seller_id</th>\n",
       "      <th>declared_handling_days</th>\n",
       "      <th>acceptance_scan_timestamp</th>\n",
       "      <th>shipment_method_id</th>\n",
       "      <th>shipping_fee</th>\n",
       "      <th>carrier_min_estimate</th>\n",
       "      <th>carrier_max_estimate</th>\n",
       "      <th>item_zip</th>\n",
       "      <th>buyer_zip</th>\n",
       "      <th>category_id</th>\n",
       "      <th>item_price</th>\n",
       "      <th>quantity</th>\n",
       "      <th>payment_datetime</th>\n",
       "      <th>delivery_date</th>\n",
       "      <th>weight</th>\n",
       "      <th>weight_units</th>\n",
       "      <th>package_size</th>\n",
       "      <th>record_number</th>\n",
       "    </tr>\n",
       "  </thead>\n",
       "  <tbody>\n",
       "  </tbody>\n",
       "</table>\n",
       "</div>"
      ],
      "text/plain": [
       "Empty DataFrame\n",
       "Columns: [b2c_c2c, seller_id, declared_handling_days, acceptance_scan_timestamp, shipment_method_id, shipping_fee, carrier_min_estimate, carrier_max_estimate, item_zip, buyer_zip, category_id, item_price, quantity, payment_datetime, delivery_date, weight, weight_units, package_size, record_number]\n",
       "Index: []"
      ]
     },
     "execution_count": 123,
     "metadata": {},
     "output_type": "execute_result"
    }
   ],
   "source": [
    "#check the record has weigtht unit =2 to able to compare\n",
    "df_ebay[df_ebay['weight_units']==2].head()"
   ]
  },
  {
   "cell_type": "code",
   "execution_count": 124,
   "id": "841a3056",
   "metadata": {},
   "outputs": [],
   "source": [
    "#Convert them in to lb.\n",
    "df_ebay['weight'] = np.where(df_ebay['weight_units']==1, df_ebay['weight'], df_ebay['weight']*2.20462 )"
   ]
  },
  {
   "attachments": {},
   "cell_type": "markdown",
   "id": "639a420d",
   "metadata": {},
   "source": [
    "check the record with `weight_units`=2 to see if the `weight` column is changed"
   ]
  },
  {
   "cell_type": "code",
   "execution_count": 125,
   "id": "3a3a77e9",
   "metadata": {},
   "outputs": [
    {
     "data": {
      "text/html": [
       "<div>\n",
       "<style scoped>\n",
       "    .dataframe tbody tr th:only-of-type {\n",
       "        vertical-align: middle;\n",
       "    }\n",
       "\n",
       "    .dataframe tbody tr th {\n",
       "        vertical-align: top;\n",
       "    }\n",
       "\n",
       "    .dataframe thead th {\n",
       "        text-align: right;\n",
       "    }\n",
       "</style>\n",
       "<table border=\"1\" class=\"dataframe\">\n",
       "  <thead>\n",
       "    <tr style=\"text-align: right;\">\n",
       "      <th></th>\n",
       "      <th>b2c_c2c</th>\n",
       "      <th>seller_id</th>\n",
       "      <th>declared_handling_days</th>\n",
       "      <th>acceptance_scan_timestamp</th>\n",
       "      <th>shipment_method_id</th>\n",
       "      <th>shipping_fee</th>\n",
       "      <th>carrier_min_estimate</th>\n",
       "      <th>carrier_max_estimate</th>\n",
       "      <th>item_zip</th>\n",
       "      <th>buyer_zip</th>\n",
       "      <th>category_id</th>\n",
       "      <th>item_price</th>\n",
       "      <th>quantity</th>\n",
       "      <th>payment_datetime</th>\n",
       "      <th>delivery_date</th>\n",
       "      <th>weight</th>\n",
       "      <th>weight_units</th>\n",
       "      <th>package_size</th>\n",
       "      <th>record_number</th>\n",
       "    </tr>\n",
       "  </thead>\n",
       "  <tbody>\n",
       "  </tbody>\n",
       "</table>\n",
       "</div>"
      ],
      "text/plain": [
       "Empty DataFrame\n",
       "Columns: [b2c_c2c, seller_id, declared_handling_days, acceptance_scan_timestamp, shipment_method_id, shipping_fee, carrier_min_estimate, carrier_max_estimate, item_zip, buyer_zip, category_id, item_price, quantity, payment_datetime, delivery_date, weight, weight_units, package_size, record_number]\n",
       "Index: []"
      ]
     },
     "execution_count": 125,
     "metadata": {},
     "output_type": "execute_result"
    }
   ],
   "source": [
    "df_ebay[df_ebay['weight_units']==2]"
   ]
  },
  {
   "attachments": {},
   "cell_type": "markdown",
   "id": "b5609392",
   "metadata": {},
   "source": [
    "All the `weight` with the `weight_units` = 2 are convert to the **lb** unit. So now we do not need to keep the weight column since all the weight is in the **lb**. Therefore, we are going to drop the `weight_units` column."
   ]
  },
  {
   "cell_type": "code",
   "execution_count": 126,
   "id": "5fd9e287",
   "metadata": {},
   "outputs": [],
   "source": [
    "df_ebay.drop(columns='weight_units', axis=1, inplace=True)"
   ]
  },
  {
   "cell_type": "code",
   "execution_count": 127,
   "id": "a02d6e10",
   "metadata": {},
   "outputs": [
    {
     "data": {
      "text/html": [
       "<div>\n",
       "<style scoped>\n",
       "    .dataframe tbody tr th:only-of-type {\n",
       "        vertical-align: middle;\n",
       "    }\n",
       "\n",
       "    .dataframe tbody tr th {\n",
       "        vertical-align: top;\n",
       "    }\n",
       "\n",
       "    .dataframe thead th {\n",
       "        text-align: right;\n",
       "    }\n",
       "</style>\n",
       "<table border=\"1\" class=\"dataframe\">\n",
       "  <thead>\n",
       "    <tr style=\"text-align: right;\">\n",
       "      <th></th>\n",
       "      <th>b2c_c2c</th>\n",
       "      <th>seller_id</th>\n",
       "      <th>declared_handling_days</th>\n",
       "      <th>acceptance_scan_timestamp</th>\n",
       "      <th>shipment_method_id</th>\n",
       "      <th>shipping_fee</th>\n",
       "      <th>carrier_min_estimate</th>\n",
       "      <th>carrier_max_estimate</th>\n",
       "      <th>item_zip</th>\n",
       "      <th>buyer_zip</th>\n",
       "      <th>category_id</th>\n",
       "      <th>item_price</th>\n",
       "      <th>quantity</th>\n",
       "      <th>payment_datetime</th>\n",
       "      <th>delivery_date</th>\n",
       "      <th>weight</th>\n",
       "      <th>package_size</th>\n",
       "      <th>record_number</th>\n",
       "    </tr>\n",
       "  </thead>\n",
       "  <tbody>\n",
       "    <tr>\n",
       "      <th>0</th>\n",
       "      <td>1</td>\n",
       "      <td>25454</td>\n",
       "      <td>3.0</td>\n",
       "      <td>2019-03-27</td>\n",
       "      <td>0</td>\n",
       "      <td>0.0</td>\n",
       "      <td>3.0</td>\n",
       "      <td>5.0</td>\n",
       "      <td>97219</td>\n",
       "      <td>49040</td>\n",
       "      <td>13</td>\n",
       "      <td>27.95</td>\n",
       "      <td>1</td>\n",
       "      <td>2019-03-24</td>\n",
       "      <td>2019-03-29</td>\n",
       "      <td>5.0</td>\n",
       "      <td>LETTER</td>\n",
       "      <td>1</td>\n",
       "    </tr>\n",
       "    <tr>\n",
       "      <th>1</th>\n",
       "      <td>0</td>\n",
       "      <td>6727381</td>\n",
       "      <td>2.0</td>\n",
       "      <td>2018-06-03</td>\n",
       "      <td>0</td>\n",
       "      <td>3.0</td>\n",
       "      <td>3.0</td>\n",
       "      <td>5.0</td>\n",
       "      <td>11415-3528</td>\n",
       "      <td>62521</td>\n",
       "      <td>0</td>\n",
       "      <td>20.50</td>\n",
       "      <td>1</td>\n",
       "      <td>2018-06-02</td>\n",
       "      <td>2018-06-05</td>\n",
       "      <td>0.0</td>\n",
       "      <td>PACKAGE_THICK_ENVELOPE</td>\n",
       "      <td>2</td>\n",
       "    </tr>\n",
       "    <tr>\n",
       "      <th>2</th>\n",
       "      <td>1</td>\n",
       "      <td>18507</td>\n",
       "      <td>1.0</td>\n",
       "      <td>2019-01-08</td>\n",
       "      <td>0</td>\n",
       "      <td>4.5</td>\n",
       "      <td>3.0</td>\n",
       "      <td>5.0</td>\n",
       "      <td>27292</td>\n",
       "      <td>53010</td>\n",
       "      <td>1</td>\n",
       "      <td>19.90</td>\n",
       "      <td>1</td>\n",
       "      <td>2019-01-06</td>\n",
       "      <td>2019-01-10</td>\n",
       "      <td>9.0</td>\n",
       "      <td>PACKAGE_THICK_ENVELOPE</td>\n",
       "      <td>3</td>\n",
       "    </tr>\n",
       "    <tr>\n",
       "      <th>3</th>\n",
       "      <td>1</td>\n",
       "      <td>4677</td>\n",
       "      <td>1.0</td>\n",
       "      <td>2018-12-18</td>\n",
       "      <td>0</td>\n",
       "      <td>0.0</td>\n",
       "      <td>3.0</td>\n",
       "      <td>5.0</td>\n",
       "      <td>90703</td>\n",
       "      <td>80022</td>\n",
       "      <td>1</td>\n",
       "      <td>35.50</td>\n",
       "      <td>1</td>\n",
       "      <td>2018-12-17</td>\n",
       "      <td>2018-12-21</td>\n",
       "      <td>8.0</td>\n",
       "      <td>PACKAGE_THICK_ENVELOPE</td>\n",
       "      <td>4</td>\n",
       "    </tr>\n",
       "    <tr>\n",
       "      <th>4</th>\n",
       "      <td>1</td>\n",
       "      <td>4677</td>\n",
       "      <td>1.0</td>\n",
       "      <td>2018-07-28</td>\n",
       "      <td>0</td>\n",
       "      <td>0.0</td>\n",
       "      <td>3.0</td>\n",
       "      <td>5.0</td>\n",
       "      <td>90703</td>\n",
       "      <td>55070</td>\n",
       "      <td>1</td>\n",
       "      <td>25.00</td>\n",
       "      <td>1</td>\n",
       "      <td>2018-07-27</td>\n",
       "      <td>2018-07-30</td>\n",
       "      <td>3.0</td>\n",
       "      <td>PACKAGE_THICK_ENVELOPE</td>\n",
       "      <td>5</td>\n",
       "    </tr>\n",
       "  </tbody>\n",
       "</table>\n",
       "</div>"
      ],
      "text/plain": [
       "   b2c_c2c  seller_id  declared_handling_days acceptance_scan_timestamp  \\\n",
       "0        1      25454                     3.0                2019-03-27   \n",
       "1        0    6727381                     2.0                2018-06-03   \n",
       "2        1      18507                     1.0                2019-01-08   \n",
       "3        1       4677                     1.0                2018-12-18   \n",
       "4        1       4677                     1.0                2018-07-28   \n",
       "\n",
       "   shipment_method_id  shipping_fee  carrier_min_estimate  \\\n",
       "0                   0           0.0                   3.0   \n",
       "1                   0           3.0                   3.0   \n",
       "2                   0           4.5                   3.0   \n",
       "3                   0           0.0                   3.0   \n",
       "4                   0           0.0                   3.0   \n",
       "\n",
       "   carrier_max_estimate    item_zip buyer_zip  category_id  item_price  \\\n",
       "0                   5.0       97219     49040           13       27.95   \n",
       "1                   5.0  11415-3528     62521            0       20.50   \n",
       "2                   5.0       27292     53010            1       19.90   \n",
       "3                   5.0       90703     80022            1       35.50   \n",
       "4                   5.0       90703     55070            1       25.00   \n",
       "\n",
       "   quantity payment_datetime delivery_date  weight            package_size  \\\n",
       "0         1       2019-03-24    2019-03-29     5.0                  LETTER   \n",
       "1         1       2018-06-02    2018-06-05     0.0  PACKAGE_THICK_ENVELOPE   \n",
       "2         1       2019-01-06    2019-01-10     9.0  PACKAGE_THICK_ENVELOPE   \n",
       "3         1       2018-12-17    2018-12-21     8.0  PACKAGE_THICK_ENVELOPE   \n",
       "4         1       2018-07-27    2018-07-30     3.0  PACKAGE_THICK_ENVELOPE   \n",
       "\n",
       "   record_number  \n",
       "0              1  \n",
       "1              2  \n",
       "2              3  \n",
       "3              4  \n",
       "4              5  "
      ]
     },
     "execution_count": 127,
     "metadata": {},
     "output_type": "execute_result"
    }
   ],
   "source": [
    "#check it\n",
    "df_ebay.head()"
   ]
  },
  {
   "attachments": {},
   "cell_type": "markdown",
   "id": "3894a05b",
   "metadata": {},
   "source": [
    "The `weigth_units` column has been dropped. "
   ]
  },
  {
   "attachments": {},
   "cell_type": "markdown",
   "id": "3684c4ba",
   "metadata": {},
   "source": [
    "#### Package_size"
   ]
  },
  {
   "attachments": {},
   "cell_type": "markdown",
   "id": "00c0358c",
   "metadata": {},
   "source": [
    "Check the `package_size` column"
   ]
  },
  {
   "cell_type": "code",
   "execution_count": 128,
   "id": "4da841d7",
   "metadata": {},
   "outputs": [
    {
     "data": {
      "text/plain": [
       "PACKAGE_THICK_ENVELOPE    84468\n",
       "NONE                       7065\n",
       "LETTER                     5787\n",
       "LARGE_ENVELOPE             1495\n",
       "LARGE_PACKAGE              1185\n",
       "Name: package_size, dtype: int64"
      ]
     },
     "execution_count": 128,
     "metadata": {},
     "output_type": "execute_result"
    }
   ],
   "source": [
    "#How many type of package \n",
    "df_ebay['package_size'].value_counts()"
   ]
  },
  {
   "attachments": {},
   "cell_type": "markdown",
   "id": "c51488fb",
   "metadata": {},
   "source": [
    "There are 5 type of package. so we can use the ordinal encoding to tranfer this column to numeric instead of category column. `'NONE': 0, 'LETTER': 1, 'LARGE_ENVELOPE': 2, 'LARGE_PACKAGE': 3, 'PACKAGE_THICK_ENVELOPE': 4`"
   ]
  },
  {
   "cell_type": "code",
   "execution_count": 129,
   "id": "e97dd276",
   "metadata": {},
   "outputs": [],
   "source": [
    "oe_package= OrdinalEncoder(categories=[['NONE', 'LETTER', 'LARGE_ENVELOPE',\n",
    "                                         'LARGE_PACKAGE', 'PACKAGE_THICK_ENVELOPE']])\n",
    "df_ebay['package_size']=oe_package.fit_transform(pd.DataFrame(df_ebay['package_size'])) "
   ]
  },
  {
   "cell_type": "code",
   "execution_count": 130,
   "id": "78eb24df",
   "metadata": {},
   "outputs": [
    {
     "data": {
      "text/plain": [
       "4.0    84468\n",
       "0.0     7065\n",
       "1.0     5787\n",
       "2.0     1495\n",
       "3.0     1185\n",
       "Name: package_size, dtype: int64"
      ]
     },
     "execution_count": 130,
     "metadata": {},
     "output_type": "execute_result"
    }
   ],
   "source": [
    "df_ebay['package_size'].value_counts()"
   ]
  },
  {
   "cell_type": "code",
   "execution_count": 131,
   "id": "0c2b5196",
   "metadata": {},
   "outputs": [
    {
     "data": {
      "text/html": [
       "<div>\n",
       "<style scoped>\n",
       "    .dataframe tbody tr th:only-of-type {\n",
       "        vertical-align: middle;\n",
       "    }\n",
       "\n",
       "    .dataframe tbody tr th {\n",
       "        vertical-align: top;\n",
       "    }\n",
       "\n",
       "    .dataframe thead th {\n",
       "        text-align: right;\n",
       "    }\n",
       "</style>\n",
       "<table border=\"1\" class=\"dataframe\">\n",
       "  <thead>\n",
       "    <tr style=\"text-align: right;\">\n",
       "      <th></th>\n",
       "      <th>b2c_c2c</th>\n",
       "      <th>seller_id</th>\n",
       "      <th>declared_handling_days</th>\n",
       "      <th>acceptance_scan_timestamp</th>\n",
       "      <th>shipment_method_id</th>\n",
       "      <th>shipping_fee</th>\n",
       "      <th>carrier_min_estimate</th>\n",
       "      <th>carrier_max_estimate</th>\n",
       "      <th>item_zip</th>\n",
       "      <th>buyer_zip</th>\n",
       "      <th>category_id</th>\n",
       "      <th>item_price</th>\n",
       "      <th>quantity</th>\n",
       "      <th>payment_datetime</th>\n",
       "      <th>delivery_date</th>\n",
       "      <th>weight</th>\n",
       "      <th>package_size</th>\n",
       "      <th>record_number</th>\n",
       "    </tr>\n",
       "  </thead>\n",
       "  <tbody>\n",
       "    <tr>\n",
       "      <th>0</th>\n",
       "      <td>1</td>\n",
       "      <td>25454</td>\n",
       "      <td>3.0</td>\n",
       "      <td>2019-03-27</td>\n",
       "      <td>0</td>\n",
       "      <td>0.0</td>\n",
       "      <td>3.0</td>\n",
       "      <td>5.0</td>\n",
       "      <td>97219</td>\n",
       "      <td>49040</td>\n",
       "      <td>13</td>\n",
       "      <td>27.95</td>\n",
       "      <td>1</td>\n",
       "      <td>2019-03-24</td>\n",
       "      <td>2019-03-29</td>\n",
       "      <td>5.0</td>\n",
       "      <td>1.0</td>\n",
       "      <td>1</td>\n",
       "    </tr>\n",
       "    <tr>\n",
       "      <th>1</th>\n",
       "      <td>0</td>\n",
       "      <td>6727381</td>\n",
       "      <td>2.0</td>\n",
       "      <td>2018-06-03</td>\n",
       "      <td>0</td>\n",
       "      <td>3.0</td>\n",
       "      <td>3.0</td>\n",
       "      <td>5.0</td>\n",
       "      <td>11415-3528</td>\n",
       "      <td>62521</td>\n",
       "      <td>0</td>\n",
       "      <td>20.50</td>\n",
       "      <td>1</td>\n",
       "      <td>2018-06-02</td>\n",
       "      <td>2018-06-05</td>\n",
       "      <td>0.0</td>\n",
       "      <td>4.0</td>\n",
       "      <td>2</td>\n",
       "    </tr>\n",
       "    <tr>\n",
       "      <th>2</th>\n",
       "      <td>1</td>\n",
       "      <td>18507</td>\n",
       "      <td>1.0</td>\n",
       "      <td>2019-01-08</td>\n",
       "      <td>0</td>\n",
       "      <td>4.5</td>\n",
       "      <td>3.0</td>\n",
       "      <td>5.0</td>\n",
       "      <td>27292</td>\n",
       "      <td>53010</td>\n",
       "      <td>1</td>\n",
       "      <td>19.90</td>\n",
       "      <td>1</td>\n",
       "      <td>2019-01-06</td>\n",
       "      <td>2019-01-10</td>\n",
       "      <td>9.0</td>\n",
       "      <td>4.0</td>\n",
       "      <td>3</td>\n",
       "    </tr>\n",
       "    <tr>\n",
       "      <th>3</th>\n",
       "      <td>1</td>\n",
       "      <td>4677</td>\n",
       "      <td>1.0</td>\n",
       "      <td>2018-12-18</td>\n",
       "      <td>0</td>\n",
       "      <td>0.0</td>\n",
       "      <td>3.0</td>\n",
       "      <td>5.0</td>\n",
       "      <td>90703</td>\n",
       "      <td>80022</td>\n",
       "      <td>1</td>\n",
       "      <td>35.50</td>\n",
       "      <td>1</td>\n",
       "      <td>2018-12-17</td>\n",
       "      <td>2018-12-21</td>\n",
       "      <td>8.0</td>\n",
       "      <td>4.0</td>\n",
       "      <td>4</td>\n",
       "    </tr>\n",
       "    <tr>\n",
       "      <th>4</th>\n",
       "      <td>1</td>\n",
       "      <td>4677</td>\n",
       "      <td>1.0</td>\n",
       "      <td>2018-07-28</td>\n",
       "      <td>0</td>\n",
       "      <td>0.0</td>\n",
       "      <td>3.0</td>\n",
       "      <td>5.0</td>\n",
       "      <td>90703</td>\n",
       "      <td>55070</td>\n",
       "      <td>1</td>\n",
       "      <td>25.00</td>\n",
       "      <td>1</td>\n",
       "      <td>2018-07-27</td>\n",
       "      <td>2018-07-30</td>\n",
       "      <td>3.0</td>\n",
       "      <td>4.0</td>\n",
       "      <td>5</td>\n",
       "    </tr>\n",
       "  </tbody>\n",
       "</table>\n",
       "</div>"
      ],
      "text/plain": [
       "   b2c_c2c  seller_id  declared_handling_days acceptance_scan_timestamp  \\\n",
       "0        1      25454                     3.0                2019-03-27   \n",
       "1        0    6727381                     2.0                2018-06-03   \n",
       "2        1      18507                     1.0                2019-01-08   \n",
       "3        1       4677                     1.0                2018-12-18   \n",
       "4        1       4677                     1.0                2018-07-28   \n",
       "\n",
       "   shipment_method_id  shipping_fee  carrier_min_estimate  \\\n",
       "0                   0           0.0                   3.0   \n",
       "1                   0           3.0                   3.0   \n",
       "2                   0           4.5                   3.0   \n",
       "3                   0           0.0                   3.0   \n",
       "4                   0           0.0                   3.0   \n",
       "\n",
       "   carrier_max_estimate    item_zip buyer_zip  category_id  item_price  \\\n",
       "0                   5.0       97219     49040           13       27.95   \n",
       "1                   5.0  11415-3528     62521            0       20.50   \n",
       "2                   5.0       27292     53010            1       19.90   \n",
       "3                   5.0       90703     80022            1       35.50   \n",
       "4                   5.0       90703     55070            1       25.00   \n",
       "\n",
       "   quantity payment_datetime delivery_date  weight  package_size  \\\n",
       "0         1       2019-03-24    2019-03-29     5.0           1.0   \n",
       "1         1       2018-06-02    2018-06-05     0.0           4.0   \n",
       "2         1       2019-01-06    2019-01-10     9.0           4.0   \n",
       "3         1       2018-12-17    2018-12-21     8.0           4.0   \n",
       "4         1       2018-07-27    2018-07-30     3.0           4.0   \n",
       "\n",
       "   record_number  \n",
       "0              1  \n",
       "1              2  \n",
       "2              3  \n",
       "3              4  \n",
       "4              5  "
      ]
     },
     "execution_count": 131,
     "metadata": {},
     "output_type": "execute_result"
    }
   ],
   "source": [
    "# Check it\n",
    "df_ebay.head()"
   ]
  },
  {
   "attachments": {},
   "cell_type": "markdown",
   "id": "9e4034e1",
   "metadata": {},
   "source": [
    "#### Item_zip and buyer_zip"
   ]
  },
  {
   "attachments": {},
   "cell_type": "markdown",
   "id": "dfdf6d67",
   "metadata": {},
   "source": [
    "Next we are going to calculate the distance between the buyer and the seller buy using there zip code in the `item_zip` and `buyer_zip` columns."
   ]
  },
  {
   "cell_type": "code",
   "execution_count": 132,
   "id": "1043b4e3",
   "metadata": {},
   "outputs": [
    {
     "name": "stdout",
     "output_type": "stream",
     "text": [
      "False\n",
      "False\n"
     ]
    }
   ],
   "source": [
    "#check any null value in these columns.\n",
    "print(df_ebay['item_zip'].isna().any())\n",
    "print(df_ebay['buyer_zip'].isna().any())"
   ]
  },
  {
   "cell_type": "code",
   "execution_count": 133,
   "id": "c11c69a7",
   "metadata": {},
   "outputs": [],
   "source": [
    "item_zip= df_ebay['item_zip']\n",
    "buyer_zip= df_ebay['buyer_zip']"
   ]
  },
  {
   "cell_type": "code",
   "execution_count": 134,
   "id": "5ffc6c00",
   "metadata": {},
   "outputs": [],
   "source": [
    "import mpu\n",
    "from uszipcode import SearchEngine\n",
    "# from pathlib_mate.pathlib2 import Path\n",
    "# import uszipcode.search as search\n",
    "\n",
    "def get_distance(item_zip, buyer_zip):\n",
    "    \"\"\"\n",
    "    We are going to use the package mpu and uszipcode to imporve the speed of calculating the distance between buyer and seller by using zip code. \n",
    "    These 2 packages make the speed of calculation much faster compare with using the geopy package\n",
    "\n",
    "    we are going to take 5 first number of the zipcode since there are some are in format 5+4 or 9(same format but missing the dash)\n",
    "    \"\"\"\n",
    "    if item_zip is not None and buyer_zip is not None:\n",
    "        search_location = SearchEngine()\n",
    "        item_location = search_location.by_zipcode(item_zip[0:5])\n",
    "        buyer_location =search_location.by_zipcode(buyer_zip[0:5])\n",
    "        if item_location is None or buyer_location is None:\n",
    "            return None\n",
    "        else:\n",
    "            lat1 =item_location.lat\n",
    "            long1 =item_location.lng\n",
    "            lat2 =buyer_location.lat\n",
    "            long2 =buyer_location.lng\n",
    "            distance = mpu.haversine_distance((lat1,long1),(lat2,long2)) \n",
    "            if lat1 is None or lat2 is None or long1 is None or long2 is None:\n",
    "                return None\n",
    "            return [distance, lat1, long1, lat2, long2]\n",
    "    else:\n",
    "        return None\n",
    "\n",
    "\n",
    "\n",
    "def add_zip_distance_column(item_zip, buyer_zip):\n",
    "    item_zip_str = item_zip.apply(lambda x: str(x))\n",
    "    buyer_zip_str = buyer_zip.apply(lambda x: str(x))\n",
    "\n",
    "    zips = pd.concat([item_zip_str, buyer_zip_str], axis=1)\n",
    "\n",
    "    zips['distance'] = zips.apply(lambda x: get_distance(x.item_zip, x.buyer_zip), axis=1)\n",
    "    \n",
    "    return zips['distance']"
   ]
  },
  {
   "cell_type": "code",
   "execution_count": 135,
   "id": "154132b4",
   "metadata": {},
   "outputs": [],
   "source": [
    "distance = add_zip_distance_column(item_zip, buyer_zip)"
   ]
  },
  {
   "cell_type": "code",
   "execution_count": 136,
   "id": "a84fa401",
   "metadata": {},
   "outputs": [
    {
     "data": {
      "text/plain": [
       "[1282.9080171786184, 40.71, -73.83, 39.85, -88.93]"
      ]
     },
     "execution_count": 136,
     "metadata": {},
     "output_type": "execute_result"
    }
   ],
   "source": [
    "distance[1]"
   ]
  },
  {
   "cell_type": "code",
   "execution_count": 137,
   "id": "0fce3853",
   "metadata": {},
   "outputs": [],
   "source": [
    "dis=[]\n",
    "buyer_lat=[]\n",
    "buyer_lon=[]\n",
    "seller_lat=[]\n",
    "seller_lon=[]\n",
    "for i in range(len(distance)):\n",
    "    if distance[i] is None:\n",
    "        dis.append(None)\n",
    "        buyer_lon.append(None)\n",
    "        buyer_lat.append(None)\n",
    "        seller_lon.append(None)\n",
    "        seller_lat.append(None)\n",
    "    else:\n",
    "        dis.append(distance[i][0])\n",
    "        buyer_lat.append(distance[i][3])\n",
    "        buyer_lon.append(distance[i][4])\n",
    "        seller_lat.append(distance[i][1])\n",
    "        seller_lon.append(distance[i][2])"
   ]
  },
  {
   "attachments": {},
   "cell_type": "markdown",
   "id": "0431bd71",
   "metadata": {},
   "source": [
    "Add the value of the distance in to the data frame"
   ]
  },
  {
   "cell_type": "code",
   "execution_count": 138,
   "id": "858f9ab3",
   "metadata": {},
   "outputs": [],
   "source": [
    "#add distance to dataframe\n",
    "df_ebay['distance']= dis\n",
    "df_ebay['buyyer_lat']=buyer_lat\n",
    "df_ebay['buyyer_lon']=buyer_lon\n",
    "df_ebay['seller_lon']=seller_lon\n",
    "df_ebay['seller_lat']=seller_lat"
   ]
  },
  {
   "cell_type": "code",
   "execution_count": 139,
   "id": "0db8d4a5",
   "metadata": {},
   "outputs": [
    {
     "data": {
      "text/html": [
       "<div>\n",
       "<style scoped>\n",
       "    .dataframe tbody tr th:only-of-type {\n",
       "        vertical-align: middle;\n",
       "    }\n",
       "\n",
       "    .dataframe tbody tr th {\n",
       "        vertical-align: top;\n",
       "    }\n",
       "\n",
       "    .dataframe thead th {\n",
       "        text-align: right;\n",
       "    }\n",
       "</style>\n",
       "<table border=\"1\" class=\"dataframe\">\n",
       "  <thead>\n",
       "    <tr style=\"text-align: right;\">\n",
       "      <th></th>\n",
       "      <th>b2c_c2c</th>\n",
       "      <th>seller_id</th>\n",
       "      <th>declared_handling_days</th>\n",
       "      <th>acceptance_scan_timestamp</th>\n",
       "      <th>shipment_method_id</th>\n",
       "      <th>shipping_fee</th>\n",
       "      <th>carrier_min_estimate</th>\n",
       "      <th>carrier_max_estimate</th>\n",
       "      <th>item_zip</th>\n",
       "      <th>buyer_zip</th>\n",
       "      <th>...</th>\n",
       "      <th>payment_datetime</th>\n",
       "      <th>delivery_date</th>\n",
       "      <th>weight</th>\n",
       "      <th>package_size</th>\n",
       "      <th>record_number</th>\n",
       "      <th>distance</th>\n",
       "      <th>buyyer_lat</th>\n",
       "      <th>buyyer_lon</th>\n",
       "      <th>seller_lon</th>\n",
       "      <th>seller_lat</th>\n",
       "    </tr>\n",
       "  </thead>\n",
       "  <tbody>\n",
       "    <tr>\n",
       "      <th>0</th>\n",
       "      <td>1</td>\n",
       "      <td>25454</td>\n",
       "      <td>3.0</td>\n",
       "      <td>2019-03-27</td>\n",
       "      <td>0</td>\n",
       "      <td>0.0</td>\n",
       "      <td>3.0</td>\n",
       "      <td>5.0</td>\n",
       "      <td>97219</td>\n",
       "      <td>49040</td>\n",
       "      <td>...</td>\n",
       "      <td>2019-03-24</td>\n",
       "      <td>2019-03-29</td>\n",
       "      <td>5.0</td>\n",
       "      <td>1.0</td>\n",
       "      <td>1</td>\n",
       "      <td>3001.839179</td>\n",
       "      <td>41.95</td>\n",
       "      <td>-85.32</td>\n",
       "      <td>-122.69</td>\n",
       "      <td>45.45</td>\n",
       "    </tr>\n",
       "    <tr>\n",
       "      <th>1</th>\n",
       "      <td>0</td>\n",
       "      <td>6727381</td>\n",
       "      <td>2.0</td>\n",
       "      <td>2018-06-03</td>\n",
       "      <td>0</td>\n",
       "      <td>3.0</td>\n",
       "      <td>3.0</td>\n",
       "      <td>5.0</td>\n",
       "      <td>11415-3528</td>\n",
       "      <td>62521</td>\n",
       "      <td>...</td>\n",
       "      <td>2018-06-02</td>\n",
       "      <td>2018-06-05</td>\n",
       "      <td>0.0</td>\n",
       "      <td>4.0</td>\n",
       "      <td>2</td>\n",
       "      <td>1282.908017</td>\n",
       "      <td>39.85</td>\n",
       "      <td>-88.93</td>\n",
       "      <td>-73.83</td>\n",
       "      <td>40.71</td>\n",
       "    </tr>\n",
       "    <tr>\n",
       "      <th>2</th>\n",
       "      <td>1</td>\n",
       "      <td>18507</td>\n",
       "      <td>1.0</td>\n",
       "      <td>2019-01-08</td>\n",
       "      <td>0</td>\n",
       "      <td>4.5</td>\n",
       "      <td>3.0</td>\n",
       "      <td>5.0</td>\n",
       "      <td>27292</td>\n",
       "      <td>53010</td>\n",
       "      <td>...</td>\n",
       "      <td>2019-01-06</td>\n",
       "      <td>2019-01-10</td>\n",
       "      <td>9.0</td>\n",
       "      <td>4.0</td>\n",
       "      <td>3</td>\n",
       "      <td>1104.444168</td>\n",
       "      <td>43.59</td>\n",
       "      <td>-88.28</td>\n",
       "      <td>-80.25</td>\n",
       "      <td>35.80</td>\n",
       "    </tr>\n",
       "    <tr>\n",
       "      <th>3</th>\n",
       "      <td>1</td>\n",
       "      <td>4677</td>\n",
       "      <td>1.0</td>\n",
       "      <td>2018-12-18</td>\n",
       "      <td>0</td>\n",
       "      <td>0.0</td>\n",
       "      <td>3.0</td>\n",
       "      <td>5.0</td>\n",
       "      <td>90703</td>\n",
       "      <td>80022</td>\n",
       "      <td>...</td>\n",
       "      <td>2018-12-17</td>\n",
       "      <td>2018-12-21</td>\n",
       "      <td>8.0</td>\n",
       "      <td>4.0</td>\n",
       "      <td>4</td>\n",
       "      <td>1353.390003</td>\n",
       "      <td>39.88</td>\n",
       "      <td>-104.80</td>\n",
       "      <td>-118.05</td>\n",
       "      <td>33.86</td>\n",
       "    </tr>\n",
       "    <tr>\n",
       "      <th>4</th>\n",
       "      <td>1</td>\n",
       "      <td>4677</td>\n",
       "      <td>1.0</td>\n",
       "      <td>2018-07-28</td>\n",
       "      <td>0</td>\n",
       "      <td>0.0</td>\n",
       "      <td>3.0</td>\n",
       "      <td>5.0</td>\n",
       "      <td>90703</td>\n",
       "      <td>55070</td>\n",
       "      <td>...</td>\n",
       "      <td>2018-07-27</td>\n",
       "      <td>2018-07-30</td>\n",
       "      <td>3.0</td>\n",
       "      <td>4.0</td>\n",
       "      <td>5</td>\n",
       "      <td>2456.330752</td>\n",
       "      <td>45.39</td>\n",
       "      <td>-93.38</td>\n",
       "      <td>-118.05</td>\n",
       "      <td>33.86</td>\n",
       "    </tr>\n",
       "    <tr>\n",
       "      <th>5</th>\n",
       "      <td>1</td>\n",
       "      <td>10514</td>\n",
       "      <td>1.0</td>\n",
       "      <td>2019-04-20</td>\n",
       "      <td>0</td>\n",
       "      <td>0.0</td>\n",
       "      <td>3.0</td>\n",
       "      <td>5.0</td>\n",
       "      <td>43215</td>\n",
       "      <td>77063</td>\n",
       "      <td>...</td>\n",
       "      <td>2019-04-19</td>\n",
       "      <td>2019-04-22</td>\n",
       "      <td>1.0</td>\n",
       "      <td>4.0</td>\n",
       "      <td>6</td>\n",
       "      <td>1608.340906</td>\n",
       "      <td>29.74</td>\n",
       "      <td>-95.52</td>\n",
       "      <td>-83.01</td>\n",
       "      <td>39.97</td>\n",
       "    </tr>\n",
       "  </tbody>\n",
       "</table>\n",
       "<p>6 rows × 23 columns</p>\n",
       "</div>"
      ],
      "text/plain": [
       "   b2c_c2c  seller_id  declared_handling_days acceptance_scan_timestamp  \\\n",
       "0        1      25454                     3.0                2019-03-27   \n",
       "1        0    6727381                     2.0                2018-06-03   \n",
       "2        1      18507                     1.0                2019-01-08   \n",
       "3        1       4677                     1.0                2018-12-18   \n",
       "4        1       4677                     1.0                2018-07-28   \n",
       "5        1      10514                     1.0                2019-04-20   \n",
       "\n",
       "   shipment_method_id  shipping_fee  carrier_min_estimate  \\\n",
       "0                   0           0.0                   3.0   \n",
       "1                   0           3.0                   3.0   \n",
       "2                   0           4.5                   3.0   \n",
       "3                   0           0.0                   3.0   \n",
       "4                   0           0.0                   3.0   \n",
       "5                   0           0.0                   3.0   \n",
       "\n",
       "   carrier_max_estimate    item_zip buyer_zip  ...  payment_datetime  \\\n",
       "0                   5.0       97219     49040  ...        2019-03-24   \n",
       "1                   5.0  11415-3528     62521  ...        2018-06-02   \n",
       "2                   5.0       27292     53010  ...        2019-01-06   \n",
       "3                   5.0       90703     80022  ...        2018-12-17   \n",
       "4                   5.0       90703     55070  ...        2018-07-27   \n",
       "5                   5.0       43215     77063  ...        2019-04-19   \n",
       "\n",
       "   delivery_date  weight package_size record_number     distance  buyyer_lat  \\\n",
       "0     2019-03-29     5.0          1.0             1  3001.839179       41.95   \n",
       "1     2018-06-05     0.0          4.0             2  1282.908017       39.85   \n",
       "2     2019-01-10     9.0          4.0             3  1104.444168       43.59   \n",
       "3     2018-12-21     8.0          4.0             4  1353.390003       39.88   \n",
       "4     2018-07-30     3.0          4.0             5  2456.330752       45.39   \n",
       "5     2019-04-22     1.0          4.0             6  1608.340906       29.74   \n",
       "\n",
       "   buyyer_lon  seller_lon  seller_lat  \n",
       "0      -85.32     -122.69       45.45  \n",
       "1      -88.93      -73.83       40.71  \n",
       "2      -88.28      -80.25       35.80  \n",
       "3     -104.80     -118.05       33.86  \n",
       "4      -93.38     -118.05       33.86  \n",
       "5      -95.52      -83.01       39.97  \n",
       "\n",
       "[6 rows x 23 columns]"
      ]
     },
     "execution_count": 139,
     "metadata": {},
     "output_type": "execute_result"
    }
   ],
   "source": [
    "df_ebay.head(6)"
   ]
  },
  {
   "attachments": {},
   "cell_type": "markdown",
   "id": "585a3fda",
   "metadata": {},
   "source": [
    "Take a look at th data  after change"
   ]
  },
  {
   "cell_type": "code",
   "execution_count": 140,
   "id": "b14d2fdc",
   "metadata": {},
   "outputs": [
    {
     "data": {
      "text/html": [
       "<div>\n",
       "<style scoped>\n",
       "    .dataframe tbody tr th:only-of-type {\n",
       "        vertical-align: middle;\n",
       "    }\n",
       "\n",
       "    .dataframe tbody tr th {\n",
       "        vertical-align: top;\n",
       "    }\n",
       "\n",
       "    .dataframe thead th {\n",
       "        text-align: right;\n",
       "    }\n",
       "</style>\n",
       "<table border=\"1\" class=\"dataframe\">\n",
       "  <thead>\n",
       "    <tr style=\"text-align: right;\">\n",
       "      <th></th>\n",
       "      <th>b2c_c2c</th>\n",
       "      <th>seller_id</th>\n",
       "      <th>declared_handling_days</th>\n",
       "      <th>acceptance_scan_timestamp</th>\n",
       "      <th>shipment_method_id</th>\n",
       "      <th>shipping_fee</th>\n",
       "      <th>carrier_min_estimate</th>\n",
       "      <th>carrier_max_estimate</th>\n",
       "      <th>item_zip</th>\n",
       "      <th>buyer_zip</th>\n",
       "      <th>...</th>\n",
       "      <th>payment_datetime</th>\n",
       "      <th>delivery_date</th>\n",
       "      <th>weight</th>\n",
       "      <th>package_size</th>\n",
       "      <th>record_number</th>\n",
       "      <th>distance</th>\n",
       "      <th>buyyer_lat</th>\n",
       "      <th>buyyer_lon</th>\n",
       "      <th>seller_lon</th>\n",
       "      <th>seller_lat</th>\n",
       "    </tr>\n",
       "  </thead>\n",
       "  <tbody>\n",
       "    <tr>\n",
       "      <th>0</th>\n",
       "      <td>1</td>\n",
       "      <td>25454</td>\n",
       "      <td>3.0</td>\n",
       "      <td>2019-03-27</td>\n",
       "      <td>0</td>\n",
       "      <td>0.00</td>\n",
       "      <td>3.0</td>\n",
       "      <td>5.0</td>\n",
       "      <td>97219</td>\n",
       "      <td>49040</td>\n",
       "      <td>...</td>\n",
       "      <td>2019-03-24</td>\n",
       "      <td>2019-03-29</td>\n",
       "      <td>5.0</td>\n",
       "      <td>1.0</td>\n",
       "      <td>1</td>\n",
       "      <td>3001.839179</td>\n",
       "      <td>41.95</td>\n",
       "      <td>-85.32</td>\n",
       "      <td>-122.69</td>\n",
       "      <td>45.45</td>\n",
       "    </tr>\n",
       "    <tr>\n",
       "      <th>1</th>\n",
       "      <td>0</td>\n",
       "      <td>6727381</td>\n",
       "      <td>2.0</td>\n",
       "      <td>2018-06-03</td>\n",
       "      <td>0</td>\n",
       "      <td>3.00</td>\n",
       "      <td>3.0</td>\n",
       "      <td>5.0</td>\n",
       "      <td>11415-3528</td>\n",
       "      <td>62521</td>\n",
       "      <td>...</td>\n",
       "      <td>2018-06-02</td>\n",
       "      <td>2018-06-05</td>\n",
       "      <td>0.0</td>\n",
       "      <td>4.0</td>\n",
       "      <td>2</td>\n",
       "      <td>1282.908017</td>\n",
       "      <td>39.85</td>\n",
       "      <td>-88.93</td>\n",
       "      <td>-73.83</td>\n",
       "      <td>40.71</td>\n",
       "    </tr>\n",
       "    <tr>\n",
       "      <th>2</th>\n",
       "      <td>1</td>\n",
       "      <td>18507</td>\n",
       "      <td>1.0</td>\n",
       "      <td>2019-01-08</td>\n",
       "      <td>0</td>\n",
       "      <td>4.50</td>\n",
       "      <td>3.0</td>\n",
       "      <td>5.0</td>\n",
       "      <td>27292</td>\n",
       "      <td>53010</td>\n",
       "      <td>...</td>\n",
       "      <td>2019-01-06</td>\n",
       "      <td>2019-01-10</td>\n",
       "      <td>9.0</td>\n",
       "      <td>4.0</td>\n",
       "      <td>3</td>\n",
       "      <td>1104.444168</td>\n",
       "      <td>43.59</td>\n",
       "      <td>-88.28</td>\n",
       "      <td>-80.25</td>\n",
       "      <td>35.80</td>\n",
       "    </tr>\n",
       "    <tr>\n",
       "      <th>3</th>\n",
       "      <td>1</td>\n",
       "      <td>4677</td>\n",
       "      <td>1.0</td>\n",
       "      <td>2018-12-18</td>\n",
       "      <td>0</td>\n",
       "      <td>0.00</td>\n",
       "      <td>3.0</td>\n",
       "      <td>5.0</td>\n",
       "      <td>90703</td>\n",
       "      <td>80022</td>\n",
       "      <td>...</td>\n",
       "      <td>2018-12-17</td>\n",
       "      <td>2018-12-21</td>\n",
       "      <td>8.0</td>\n",
       "      <td>4.0</td>\n",
       "      <td>4</td>\n",
       "      <td>1353.390003</td>\n",
       "      <td>39.88</td>\n",
       "      <td>-104.80</td>\n",
       "      <td>-118.05</td>\n",
       "      <td>33.86</td>\n",
       "    </tr>\n",
       "    <tr>\n",
       "      <th>4</th>\n",
       "      <td>1</td>\n",
       "      <td>4677</td>\n",
       "      <td>1.0</td>\n",
       "      <td>2018-07-28</td>\n",
       "      <td>0</td>\n",
       "      <td>0.00</td>\n",
       "      <td>3.0</td>\n",
       "      <td>5.0</td>\n",
       "      <td>90703</td>\n",
       "      <td>55070</td>\n",
       "      <td>...</td>\n",
       "      <td>2018-07-27</td>\n",
       "      <td>2018-07-30</td>\n",
       "      <td>3.0</td>\n",
       "      <td>4.0</td>\n",
       "      <td>5</td>\n",
       "      <td>2456.330752</td>\n",
       "      <td>45.39</td>\n",
       "      <td>-93.38</td>\n",
       "      <td>-118.05</td>\n",
       "      <td>33.86</td>\n",
       "    </tr>\n",
       "    <tr>\n",
       "      <th>5</th>\n",
       "      <td>1</td>\n",
       "      <td>10514</td>\n",
       "      <td>1.0</td>\n",
       "      <td>2019-04-20</td>\n",
       "      <td>0</td>\n",
       "      <td>0.00</td>\n",
       "      <td>3.0</td>\n",
       "      <td>5.0</td>\n",
       "      <td>43215</td>\n",
       "      <td>77063</td>\n",
       "      <td>...</td>\n",
       "      <td>2019-04-19</td>\n",
       "      <td>2019-04-22</td>\n",
       "      <td>1.0</td>\n",
       "      <td>4.0</td>\n",
       "      <td>6</td>\n",
       "      <td>1608.340906</td>\n",
       "      <td>29.74</td>\n",
       "      <td>-95.52</td>\n",
       "      <td>-83.01</td>\n",
       "      <td>39.97</td>\n",
       "    </tr>\n",
       "    <tr>\n",
       "      <th>6</th>\n",
       "      <td>1</td>\n",
       "      <td>104</td>\n",
       "      <td>1.0</td>\n",
       "      <td>2019-02-09</td>\n",
       "      <td>0</td>\n",
       "      <td>0.00</td>\n",
       "      <td>3.0</td>\n",
       "      <td>5.0</td>\n",
       "      <td>91304</td>\n",
       "      <td>60565</td>\n",
       "      <td>...</td>\n",
       "      <td>2019-02-09</td>\n",
       "      <td>2019-02-11</td>\n",
       "      <td>0.0</td>\n",
       "      <td>4.0</td>\n",
       "      <td>7</td>\n",
       "      <td>2781.527939</td>\n",
       "      <td>41.73</td>\n",
       "      <td>-88.12</td>\n",
       "      <td>-118.59</td>\n",
       "      <td>34.22</td>\n",
       "    </tr>\n",
       "    <tr>\n",
       "      <th>7</th>\n",
       "      <td>1</td>\n",
       "      <td>340356</td>\n",
       "      <td>1.0</td>\n",
       "      <td>2018-04-24</td>\n",
       "      <td>0</td>\n",
       "      <td>2.95</td>\n",
       "      <td>3.0</td>\n",
       "      <td>5.0</td>\n",
       "      <td>49735</td>\n",
       "      <td>29379</td>\n",
       "      <td>...</td>\n",
       "      <td>2018-04-23</td>\n",
       "      <td>2018-04-25</td>\n",
       "      <td>1.0</td>\n",
       "      <td>4.0</td>\n",
       "      <td>8</td>\n",
       "      <td>1174.270246</td>\n",
       "      <td>34.72</td>\n",
       "      <td>-81.62</td>\n",
       "      <td>-84.67</td>\n",
       "      <td>45.02</td>\n",
       "    </tr>\n",
       "    <tr>\n",
       "      <th>8</th>\n",
       "      <td>1</td>\n",
       "      <td>113915</td>\n",
       "      <td>5.0</td>\n",
       "      <td>2019-10-12</td>\n",
       "      <td>3</td>\n",
       "      <td>0.00</td>\n",
       "      <td>2.0</td>\n",
       "      <td>8.0</td>\n",
       "      <td>43606</td>\n",
       "      <td>32958</td>\n",
       "      <td>...</td>\n",
       "      <td>2019-10-11</td>\n",
       "      <td>2019-10-15</td>\n",
       "      <td>0.0</td>\n",
       "      <td>0.0</td>\n",
       "      <td>9</td>\n",
       "      <td>1568.867800</td>\n",
       "      <td>27.78</td>\n",
       "      <td>-80.48</td>\n",
       "      <td>-83.58</td>\n",
       "      <td>41.66</td>\n",
       "    </tr>\n",
       "    <tr>\n",
       "      <th>9</th>\n",
       "      <td>1</td>\n",
       "      <td>130301</td>\n",
       "      <td>1.0</td>\n",
       "      <td>2019-08-10</td>\n",
       "      <td>1</td>\n",
       "      <td>0.00</td>\n",
       "      <td>2.0</td>\n",
       "      <td>5.0</td>\n",
       "      <td>35117</td>\n",
       "      <td>84776</td>\n",
       "      <td>...</td>\n",
       "      <td>2019-08-09</td>\n",
       "      <td>2019-08-12</td>\n",
       "      <td>112.0</td>\n",
       "      <td>4.0</td>\n",
       "      <td>10</td>\n",
       "      <td>2311.015450</td>\n",
       "      <td>37.64</td>\n",
       "      <td>-112.08</td>\n",
       "      <td>-86.89</td>\n",
       "      <td>33.67</td>\n",
       "    </tr>\n",
       "  </tbody>\n",
       "</table>\n",
       "<p>10 rows × 23 columns</p>\n",
       "</div>"
      ],
      "text/plain": [
       "   b2c_c2c  seller_id  declared_handling_days acceptance_scan_timestamp  \\\n",
       "0        1      25454                     3.0                2019-03-27   \n",
       "1        0    6727381                     2.0                2018-06-03   \n",
       "2        1      18507                     1.0                2019-01-08   \n",
       "3        1       4677                     1.0                2018-12-18   \n",
       "4        1       4677                     1.0                2018-07-28   \n",
       "5        1      10514                     1.0                2019-04-20   \n",
       "6        1        104                     1.0                2019-02-09   \n",
       "7        1     340356                     1.0                2018-04-24   \n",
       "8        1     113915                     5.0                2019-10-12   \n",
       "9        1     130301                     1.0                2019-08-10   \n",
       "\n",
       "   shipment_method_id  shipping_fee  carrier_min_estimate  \\\n",
       "0                   0          0.00                   3.0   \n",
       "1                   0          3.00                   3.0   \n",
       "2                   0          4.50                   3.0   \n",
       "3                   0          0.00                   3.0   \n",
       "4                   0          0.00                   3.0   \n",
       "5                   0          0.00                   3.0   \n",
       "6                   0          0.00                   3.0   \n",
       "7                   0          2.95                   3.0   \n",
       "8                   3          0.00                   2.0   \n",
       "9                   1          0.00                   2.0   \n",
       "\n",
       "   carrier_max_estimate    item_zip buyer_zip  ...  payment_datetime  \\\n",
       "0                   5.0       97219     49040  ...        2019-03-24   \n",
       "1                   5.0  11415-3528     62521  ...        2018-06-02   \n",
       "2                   5.0       27292     53010  ...        2019-01-06   \n",
       "3                   5.0       90703     80022  ...        2018-12-17   \n",
       "4                   5.0       90703     55070  ...        2018-07-27   \n",
       "5                   5.0       43215     77063  ...        2019-04-19   \n",
       "6                   5.0       91304     60565  ...        2019-02-09   \n",
       "7                   5.0       49735     29379  ...        2018-04-23   \n",
       "8                   8.0       43606     32958  ...        2019-10-11   \n",
       "9                   5.0       35117     84776  ...        2019-08-09   \n",
       "\n",
       "   delivery_date  weight package_size record_number     distance  buyyer_lat  \\\n",
       "0     2019-03-29     5.0          1.0             1  3001.839179       41.95   \n",
       "1     2018-06-05     0.0          4.0             2  1282.908017       39.85   \n",
       "2     2019-01-10     9.0          4.0             3  1104.444168       43.59   \n",
       "3     2018-12-21     8.0          4.0             4  1353.390003       39.88   \n",
       "4     2018-07-30     3.0          4.0             5  2456.330752       45.39   \n",
       "5     2019-04-22     1.0          4.0             6  1608.340906       29.74   \n",
       "6     2019-02-11     0.0          4.0             7  2781.527939       41.73   \n",
       "7     2018-04-25     1.0          4.0             8  1174.270246       34.72   \n",
       "8     2019-10-15     0.0          0.0             9  1568.867800       27.78   \n",
       "9     2019-08-12   112.0          4.0            10  2311.015450       37.64   \n",
       "\n",
       "   buyyer_lon  seller_lon  seller_lat  \n",
       "0      -85.32     -122.69       45.45  \n",
       "1      -88.93      -73.83       40.71  \n",
       "2      -88.28      -80.25       35.80  \n",
       "3     -104.80     -118.05       33.86  \n",
       "4      -93.38     -118.05       33.86  \n",
       "5      -95.52      -83.01       39.97  \n",
       "6      -88.12     -118.59       34.22  \n",
       "7      -81.62      -84.67       45.02  \n",
       "8      -80.48      -83.58       41.66  \n",
       "9     -112.08      -86.89       33.67  \n",
       "\n",
       "[10 rows x 23 columns]"
      ]
     },
     "execution_count": 140,
     "metadata": {},
     "output_type": "execute_result"
    }
   ],
   "source": [
    "df_ebay.head(10)"
   ]
  },
  {
   "attachments": {},
   "cell_type": "markdown",
   "id": "2ce7616d",
   "metadata": {},
   "source": [
    "#### Creater new column using `acceptance_scan_timestamp`, `payment_datetime` and `delivery_date`"
   ]
  },
  {
   "attachments": {},
   "cell_type": "markdown",
   "id": "c0402965",
   "metadata": {},
   "source": [
    "Now we see that most of the column is in the good shape. But the model cannot run with the datetime type of variable. So we are going to create some 2 new column base on the datetime column. \n",
    "-   **handling_date** = `acceptance_scan_timestamp` - `payment_dateime`\n",
    "-   **shipping_date** = `delivery_date` - `acceptance_scan_timestamp`\n",
    "-   **total_time** = `delivery_date` - `payment_dateime`"
   ]
  },
  {
   "attachments": {},
   "cell_type": "markdown",
   "id": "43c32d61",
   "metadata": {},
   "source": [
    "First, we convert all 3 columns to datetime value"
   ]
  },
  {
   "cell_type": "code",
   "execution_count": 141,
   "id": "f47a8ac2",
   "metadata": {},
   "outputs": [],
   "source": [
    "df_ebay['acceptance_scan_timestamp']= pd.to_datetime(df_ebay['acceptance_scan_timestamp'])\n",
    "df_ebay['payment_datetime']= pd.to_datetime(df_ebay['payment_datetime'])\n",
    "df_ebay['delivery_date']= pd.to_datetime(df_ebay['delivery_date'])"
   ]
  },
  {
   "cell_type": "code",
   "execution_count": 142,
   "id": "7c4be0a9",
   "metadata": {},
   "outputs": [],
   "source": [
    "#calulate date function\n",
    "def date_calculate(day1, day2):\n",
    "    number_of_day=[]\n",
    "    date_list= day2- day1\n",
    "    for day in date_list:\n",
    "        date= day.days\n",
    "        number_of_day.append(date)\n",
    "    return number_of_day\n"
   ]
  },
  {
   "cell_type": "code",
   "execution_count": 143,
   "id": "583f5c55",
   "metadata": {},
   "outputs": [],
   "source": [
    "#calulate handling_date\n",
    "handling_date= date_calculate(df_ebay['payment_datetime'], df_ebay['acceptance_scan_timestamp'])\n",
    "\n",
    "#calculate shipping_date\n",
    "shipping_date= date_calculate(df_ebay['acceptance_scan_timestamp'], df_ebay['delivery_date'])\n",
    "\n",
    "#calculate totlatime\n",
    "\n",
    "total_time= date_calculate(df_ebay['payment_datetime'], df_ebay['delivery_date'])\n"
   ]
  },
  {
   "attachments": {},
   "cell_type": "markdown",
   "id": "7f9c8363",
   "metadata": {},
   "source": [
    "Create `handling_date` and `shipping_date` as new columns in data frame and add the value for it"
   ]
  },
  {
   "cell_type": "code",
   "execution_count": 144,
   "id": "86fa77d3",
   "metadata": {},
   "outputs": [],
   "source": [
    "df_ebay['handling_date']= handling_date\n",
    "df_ebay['shipping_date']= shipping_date\n",
    "df_ebay['total_time']= total_time"
   ]
  },
  {
   "cell_type": "code",
   "execution_count": 145,
   "id": "3bd82c40",
   "metadata": {},
   "outputs": [
    {
     "data": {
      "text/html": [
       "<div>\n",
       "<style scoped>\n",
       "    .dataframe tbody tr th:only-of-type {\n",
       "        vertical-align: middle;\n",
       "    }\n",
       "\n",
       "    .dataframe tbody tr th {\n",
       "        vertical-align: top;\n",
       "    }\n",
       "\n",
       "    .dataframe thead th {\n",
       "        text-align: right;\n",
       "    }\n",
       "</style>\n",
       "<table border=\"1\" class=\"dataframe\">\n",
       "  <thead>\n",
       "    <tr style=\"text-align: right;\">\n",
       "      <th></th>\n",
       "      <th>b2c_c2c</th>\n",
       "      <th>seller_id</th>\n",
       "      <th>declared_handling_days</th>\n",
       "      <th>acceptance_scan_timestamp</th>\n",
       "      <th>shipment_method_id</th>\n",
       "      <th>shipping_fee</th>\n",
       "      <th>carrier_min_estimate</th>\n",
       "      <th>carrier_max_estimate</th>\n",
       "      <th>item_zip</th>\n",
       "      <th>buyer_zip</th>\n",
       "      <th>...</th>\n",
       "      <th>package_size</th>\n",
       "      <th>record_number</th>\n",
       "      <th>distance</th>\n",
       "      <th>buyyer_lat</th>\n",
       "      <th>buyyer_lon</th>\n",
       "      <th>seller_lon</th>\n",
       "      <th>seller_lat</th>\n",
       "      <th>handling_date</th>\n",
       "      <th>shipping_date</th>\n",
       "      <th>total_time</th>\n",
       "    </tr>\n",
       "  </thead>\n",
       "  <tbody>\n",
       "    <tr>\n",
       "      <th>77693</th>\n",
       "      <td>1</td>\n",
       "      <td>264</td>\n",
       "      <td>0.0</td>\n",
       "      <td>2018-11-09</td>\n",
       "      <td>1</td>\n",
       "      <td>0.00</td>\n",
       "      <td>2.0</td>\n",
       "      <td>5.0</td>\n",
       "      <td>45069</td>\n",
       "      <td>48162</td>\n",
       "      <td>...</td>\n",
       "      <td>4.0</td>\n",
       "      <td>77694</td>\n",
       "      <td>303.671714</td>\n",
       "      <td>41.96</td>\n",
       "      <td>-83.43</td>\n",
       "      <td>-84.40</td>\n",
       "      <td>39.33</td>\n",
       "      <td>1</td>\n",
       "      <td>1</td>\n",
       "      <td>2</td>\n",
       "    </tr>\n",
       "    <tr>\n",
       "      <th>24568</th>\n",
       "      <td>0</td>\n",
       "      <td>892856</td>\n",
       "      <td>0.0</td>\n",
       "      <td>2019-10-02</td>\n",
       "      <td>0</td>\n",
       "      <td>0.00</td>\n",
       "      <td>3.0</td>\n",
       "      <td>5.0</td>\n",
       "      <td>35749</td>\n",
       "      <td>42303</td>\n",
       "      <td>...</td>\n",
       "      <td>4.0</td>\n",
       "      <td>24569</td>\n",
       "      <td>324.766779</td>\n",
       "      <td>37.76</td>\n",
       "      <td>-87.05</td>\n",
       "      <td>-86.74</td>\n",
       "      <td>34.85</td>\n",
       "      <td>2</td>\n",
       "      <td>1</td>\n",
       "      <td>3</td>\n",
       "    </tr>\n",
       "    <tr>\n",
       "      <th>83775</th>\n",
       "      <td>1</td>\n",
       "      <td>466909</td>\n",
       "      <td>1.0</td>\n",
       "      <td>2018-07-30</td>\n",
       "      <td>5</td>\n",
       "      <td>14.99</td>\n",
       "      <td>2.0</td>\n",
       "      <td>5.0</td>\n",
       "      <td>37760</td>\n",
       "      <td>77377</td>\n",
       "      <td>...</td>\n",
       "      <td>4.0</td>\n",
       "      <td>83776</td>\n",
       "      <td>1319.200459</td>\n",
       "      <td>30.06</td>\n",
       "      <td>-95.68</td>\n",
       "      <td>-83.48</td>\n",
       "      <td>36.11</td>\n",
       "      <td>0</td>\n",
       "      <td>2</td>\n",
       "      <td>2</td>\n",
       "    </tr>\n",
       "    <tr>\n",
       "      <th>90862</th>\n",
       "      <td>1</td>\n",
       "      <td>36987</td>\n",
       "      <td>1.0</td>\n",
       "      <td>2019-09-24</td>\n",
       "      <td>2</td>\n",
       "      <td>19.78</td>\n",
       "      <td>2.0</td>\n",
       "      <td>9.0</td>\n",
       "      <td>91335</td>\n",
       "      <td>11214</td>\n",
       "      <td>...</td>\n",
       "      <td>4.0</td>\n",
       "      <td>90863</td>\n",
       "      <td>3955.395118</td>\n",
       "      <td>40.60</td>\n",
       "      <td>-74.00</td>\n",
       "      <td>-118.54</td>\n",
       "      <td>34.20</td>\n",
       "      <td>1</td>\n",
       "      <td>3</td>\n",
       "      <td>4</td>\n",
       "    </tr>\n",
       "    <tr>\n",
       "      <th>47973</th>\n",
       "      <td>0</td>\n",
       "      <td>925745</td>\n",
       "      <td>1.0</td>\n",
       "      <td>2018-01-14</td>\n",
       "      <td>0</td>\n",
       "      <td>2.75</td>\n",
       "      <td>3.0</td>\n",
       "      <td>5.0</td>\n",
       "      <td>47188</td>\n",
       "      <td>79772</td>\n",
       "      <td>...</td>\n",
       "      <td>4.0</td>\n",
       "      <td>47974</td>\n",
       "      <td>NaN</td>\n",
       "      <td>NaN</td>\n",
       "      <td>NaN</td>\n",
       "      <td>NaN</td>\n",
       "      <td>NaN</td>\n",
       "      <td>2</td>\n",
       "      <td>3</td>\n",
       "      <td>5</td>\n",
       "    </tr>\n",
       "    <tr>\n",
       "      <th>80829</th>\n",
       "      <td>0</td>\n",
       "      <td>123969</td>\n",
       "      <td>2.0</td>\n",
       "      <td>2019-03-22</td>\n",
       "      <td>3</td>\n",
       "      <td>0.00</td>\n",
       "      <td>2.0</td>\n",
       "      <td>8.0</td>\n",
       "      <td>46052</td>\n",
       "      <td>89027</td>\n",
       "      <td>...</td>\n",
       "      <td>4.0</td>\n",
       "      <td>80830</td>\n",
       "      <td>2428.005195</td>\n",
       "      <td>36.78</td>\n",
       "      <td>-114.14</td>\n",
       "      <td>-86.47</td>\n",
       "      <td>40.05</td>\n",
       "      <td>2</td>\n",
       "      <td>3</td>\n",
       "      <td>5</td>\n",
       "    </tr>\n",
       "    <tr>\n",
       "      <th>22204</th>\n",
       "      <td>1</td>\n",
       "      <td>8682</td>\n",
       "      <td>1.0</td>\n",
       "      <td>2019-08-06</td>\n",
       "      <td>0</td>\n",
       "      <td>0.00</td>\n",
       "      <td>3.0</td>\n",
       "      <td>5.0</td>\n",
       "      <td>55447</td>\n",
       "      <td>74960</td>\n",
       "      <td>...</td>\n",
       "      <td>0.0</td>\n",
       "      <td>22205</td>\n",
       "      <td>1026.399241</td>\n",
       "      <td>35.81</td>\n",
       "      <td>-94.63</td>\n",
       "      <td>-93.49</td>\n",
       "      <td>45.00</td>\n",
       "      <td>2</td>\n",
       "      <td>2</td>\n",
       "      <td>4</td>\n",
       "    </tr>\n",
       "    <tr>\n",
       "      <th>81449</th>\n",
       "      <td>0</td>\n",
       "      <td>522596</td>\n",
       "      <td>5.0</td>\n",
       "      <td>2019-04-10</td>\n",
       "      <td>1</td>\n",
       "      <td>16.15</td>\n",
       "      <td>2.0</td>\n",
       "      <td>5.0</td>\n",
       "      <td>50510</td>\n",
       "      <td>55123</td>\n",
       "      <td>...</td>\n",
       "      <td>4.0</td>\n",
       "      <td>81450</td>\n",
       "      <td>267.984177</td>\n",
       "      <td>44.81</td>\n",
       "      <td>-93.14</td>\n",
       "      <td>-94.94</td>\n",
       "      <td>42.78</td>\n",
       "      <td>4</td>\n",
       "      <td>1</td>\n",
       "      <td>5</td>\n",
       "    </tr>\n",
       "    <tr>\n",
       "      <th>65197</th>\n",
       "      <td>1</td>\n",
       "      <td>110521</td>\n",
       "      <td>1.0</td>\n",
       "      <td>2018-08-29</td>\n",
       "      <td>2</td>\n",
       "      <td>5.50</td>\n",
       "      <td>2.0</td>\n",
       "      <td>9.0</td>\n",
       "      <td>07866</td>\n",
       "      <td>23430</td>\n",
       "      <td>...</td>\n",
       "      <td>4.0</td>\n",
       "      <td>65198</td>\n",
       "      <td>477.939808</td>\n",
       "      <td>36.98</td>\n",
       "      <td>-76.61</td>\n",
       "      <td>-74.49</td>\n",
       "      <td>40.95</td>\n",
       "      <td>0</td>\n",
       "      <td>2</td>\n",
       "      <td>2</td>\n",
       "    </tr>\n",
       "    <tr>\n",
       "      <th>64533</th>\n",
       "      <td>1</td>\n",
       "      <td>378074</td>\n",
       "      <td>2.0</td>\n",
       "      <td>2018-07-21</td>\n",
       "      <td>1</td>\n",
       "      <td>14.25</td>\n",
       "      <td>2.0</td>\n",
       "      <td>5.0</td>\n",
       "      <td>98296</td>\n",
       "      <td>53965</td>\n",
       "      <td>...</td>\n",
       "      <td>4.0</td>\n",
       "      <td>64534</td>\n",
       "      <td>2532.799127</td>\n",
       "      <td>43.62</td>\n",
       "      <td>-89.77</td>\n",
       "      <td>-122.09</td>\n",
       "      <td>47.85</td>\n",
       "      <td>1</td>\n",
       "      <td>2</td>\n",
       "      <td>3</td>\n",
       "    </tr>\n",
       "  </tbody>\n",
       "</table>\n",
       "<p>10 rows × 26 columns</p>\n",
       "</div>"
      ],
      "text/plain": [
       "       b2c_c2c  seller_id  declared_handling_days acceptance_scan_timestamp  \\\n",
       "77693        1        264                     0.0                2018-11-09   \n",
       "24568        0     892856                     0.0                2019-10-02   \n",
       "83775        1     466909                     1.0                2018-07-30   \n",
       "90862        1      36987                     1.0                2019-09-24   \n",
       "47973        0     925745                     1.0                2018-01-14   \n",
       "80829        0     123969                     2.0                2019-03-22   \n",
       "22204        1       8682                     1.0                2019-08-06   \n",
       "81449        0     522596                     5.0                2019-04-10   \n",
       "65197        1     110521                     1.0                2018-08-29   \n",
       "64533        1     378074                     2.0                2018-07-21   \n",
       "\n",
       "       shipment_method_id  shipping_fee  carrier_min_estimate  \\\n",
       "77693                   1          0.00                   2.0   \n",
       "24568                   0          0.00                   3.0   \n",
       "83775                   5         14.99                   2.0   \n",
       "90862                   2         19.78                   2.0   \n",
       "47973                   0          2.75                   3.0   \n",
       "80829                   3          0.00                   2.0   \n",
       "22204                   0          0.00                   3.0   \n",
       "81449                   1         16.15                   2.0   \n",
       "65197                   2          5.50                   2.0   \n",
       "64533                   1         14.25                   2.0   \n",
       "\n",
       "       carrier_max_estimate item_zip buyer_zip  ...  package_size  \\\n",
       "77693                   5.0    45069     48162  ...           4.0   \n",
       "24568                   5.0    35749     42303  ...           4.0   \n",
       "83775                   5.0    37760     77377  ...           4.0   \n",
       "90862                   9.0    91335     11214  ...           4.0   \n",
       "47973                   5.0    47188     79772  ...           4.0   \n",
       "80829                   8.0    46052     89027  ...           4.0   \n",
       "22204                   5.0    55447     74960  ...           0.0   \n",
       "81449                   5.0    50510     55123  ...           4.0   \n",
       "65197                   9.0    07866     23430  ...           4.0   \n",
       "64533                   5.0    98296     53965  ...           4.0   \n",
       "\n",
       "       record_number     distance buyyer_lat buyyer_lon  seller_lon  \\\n",
       "77693          77694   303.671714      41.96     -83.43      -84.40   \n",
       "24568          24569   324.766779      37.76     -87.05      -86.74   \n",
       "83775          83776  1319.200459      30.06     -95.68      -83.48   \n",
       "90862          90863  3955.395118      40.60     -74.00     -118.54   \n",
       "47973          47974          NaN        NaN        NaN         NaN   \n",
       "80829          80830  2428.005195      36.78    -114.14      -86.47   \n",
       "22204          22205  1026.399241      35.81     -94.63      -93.49   \n",
       "81449          81450   267.984177      44.81     -93.14      -94.94   \n",
       "65197          65198   477.939808      36.98     -76.61      -74.49   \n",
       "64533          64534  2532.799127      43.62     -89.77     -122.09   \n",
       "\n",
       "       seller_lat  handling_date  shipping_date  total_time  \n",
       "77693       39.33              1              1           2  \n",
       "24568       34.85              2              1           3  \n",
       "83775       36.11              0              2           2  \n",
       "90862       34.20              1              3           4  \n",
       "47973         NaN              2              3           5  \n",
       "80829       40.05              2              3           5  \n",
       "22204       45.00              2              2           4  \n",
       "81449       42.78              4              1           5  \n",
       "65197       40.95              0              2           2  \n",
       "64533       47.85              1              2           3  \n",
       "\n",
       "[10 rows x 26 columns]"
      ]
     },
     "execution_count": 145,
     "metadata": {},
     "output_type": "execute_result"
    }
   ],
   "source": [
    "#check data frame\n",
    "df_ebay.sample(10)"
   ]
  },
  {
   "attachments": {},
   "cell_type": "markdown",
   "id": "ad2a5817",
   "metadata": {},
   "source": [
    "#### Seprate the payment_datetime to year, mon, date column"
   ]
  },
  {
   "cell_type": "code",
   "execution_count": 146,
   "id": "b54671ee",
   "metadata": {},
   "outputs": [],
   "source": [
    "df_ebay['pay_year']= df_ebay['payment_datetime'].dt.year\n",
    "df_ebay['pay_month']= df_ebay['payment_datetime'].dt.month\n",
    "df_ebay['pay_date']= df_ebay['payment_datetime'].dt.day\n"
   ]
  },
  {
   "cell_type": "code",
   "execution_count": 147,
   "id": "740d2321",
   "metadata": {},
   "outputs": [
    {
     "data": {
      "text/html": [
       "<div>\n",
       "<style scoped>\n",
       "    .dataframe tbody tr th:only-of-type {\n",
       "        vertical-align: middle;\n",
       "    }\n",
       "\n",
       "    .dataframe tbody tr th {\n",
       "        vertical-align: top;\n",
       "    }\n",
       "\n",
       "    .dataframe thead th {\n",
       "        text-align: right;\n",
       "    }\n",
       "</style>\n",
       "<table border=\"1\" class=\"dataframe\">\n",
       "  <thead>\n",
       "    <tr style=\"text-align: right;\">\n",
       "      <th></th>\n",
       "      <th>b2c_c2c</th>\n",
       "      <th>seller_id</th>\n",
       "      <th>declared_handling_days</th>\n",
       "      <th>acceptance_scan_timestamp</th>\n",
       "      <th>shipment_method_id</th>\n",
       "      <th>shipping_fee</th>\n",
       "      <th>carrier_min_estimate</th>\n",
       "      <th>carrier_max_estimate</th>\n",
       "      <th>item_zip</th>\n",
       "      <th>buyer_zip</th>\n",
       "      <th>...</th>\n",
       "      <th>buyyer_lat</th>\n",
       "      <th>buyyer_lon</th>\n",
       "      <th>seller_lon</th>\n",
       "      <th>seller_lat</th>\n",
       "      <th>handling_date</th>\n",
       "      <th>shipping_date</th>\n",
       "      <th>total_time</th>\n",
       "      <th>pay_year</th>\n",
       "      <th>pay_month</th>\n",
       "      <th>pay_date</th>\n",
       "    </tr>\n",
       "  </thead>\n",
       "  <tbody>\n",
       "    <tr>\n",
       "      <th>0</th>\n",
       "      <td>1</td>\n",
       "      <td>25454</td>\n",
       "      <td>3.0</td>\n",
       "      <td>2019-03-27</td>\n",
       "      <td>0</td>\n",
       "      <td>0.0</td>\n",
       "      <td>3.0</td>\n",
       "      <td>5.0</td>\n",
       "      <td>97219</td>\n",
       "      <td>49040</td>\n",
       "      <td>...</td>\n",
       "      <td>41.95</td>\n",
       "      <td>-85.32</td>\n",
       "      <td>-122.69</td>\n",
       "      <td>45.45</td>\n",
       "      <td>3</td>\n",
       "      <td>2</td>\n",
       "      <td>5</td>\n",
       "      <td>2019</td>\n",
       "      <td>3</td>\n",
       "      <td>24</td>\n",
       "    </tr>\n",
       "    <tr>\n",
       "      <th>1</th>\n",
       "      <td>0</td>\n",
       "      <td>6727381</td>\n",
       "      <td>2.0</td>\n",
       "      <td>2018-06-03</td>\n",
       "      <td>0</td>\n",
       "      <td>3.0</td>\n",
       "      <td>3.0</td>\n",
       "      <td>5.0</td>\n",
       "      <td>11415-3528</td>\n",
       "      <td>62521</td>\n",
       "      <td>...</td>\n",
       "      <td>39.85</td>\n",
       "      <td>-88.93</td>\n",
       "      <td>-73.83</td>\n",
       "      <td>40.71</td>\n",
       "      <td>1</td>\n",
       "      <td>2</td>\n",
       "      <td>3</td>\n",
       "      <td>2018</td>\n",
       "      <td>6</td>\n",
       "      <td>2</td>\n",
       "    </tr>\n",
       "    <tr>\n",
       "      <th>2</th>\n",
       "      <td>1</td>\n",
       "      <td>18507</td>\n",
       "      <td>1.0</td>\n",
       "      <td>2019-01-08</td>\n",
       "      <td>0</td>\n",
       "      <td>4.5</td>\n",
       "      <td>3.0</td>\n",
       "      <td>5.0</td>\n",
       "      <td>27292</td>\n",
       "      <td>53010</td>\n",
       "      <td>...</td>\n",
       "      <td>43.59</td>\n",
       "      <td>-88.28</td>\n",
       "      <td>-80.25</td>\n",
       "      <td>35.80</td>\n",
       "      <td>2</td>\n",
       "      <td>2</td>\n",
       "      <td>4</td>\n",
       "      <td>2019</td>\n",
       "      <td>1</td>\n",
       "      <td>6</td>\n",
       "    </tr>\n",
       "    <tr>\n",
       "      <th>3</th>\n",
       "      <td>1</td>\n",
       "      <td>4677</td>\n",
       "      <td>1.0</td>\n",
       "      <td>2018-12-18</td>\n",
       "      <td>0</td>\n",
       "      <td>0.0</td>\n",
       "      <td>3.0</td>\n",
       "      <td>5.0</td>\n",
       "      <td>90703</td>\n",
       "      <td>80022</td>\n",
       "      <td>...</td>\n",
       "      <td>39.88</td>\n",
       "      <td>-104.80</td>\n",
       "      <td>-118.05</td>\n",
       "      <td>33.86</td>\n",
       "      <td>1</td>\n",
       "      <td>3</td>\n",
       "      <td>4</td>\n",
       "      <td>2018</td>\n",
       "      <td>12</td>\n",
       "      <td>17</td>\n",
       "    </tr>\n",
       "    <tr>\n",
       "      <th>4</th>\n",
       "      <td>1</td>\n",
       "      <td>4677</td>\n",
       "      <td>1.0</td>\n",
       "      <td>2018-07-28</td>\n",
       "      <td>0</td>\n",
       "      <td>0.0</td>\n",
       "      <td>3.0</td>\n",
       "      <td>5.0</td>\n",
       "      <td>90703</td>\n",
       "      <td>55070</td>\n",
       "      <td>...</td>\n",
       "      <td>45.39</td>\n",
       "      <td>-93.38</td>\n",
       "      <td>-118.05</td>\n",
       "      <td>33.86</td>\n",
       "      <td>1</td>\n",
       "      <td>2</td>\n",
       "      <td>3</td>\n",
       "      <td>2018</td>\n",
       "      <td>7</td>\n",
       "      <td>27</td>\n",
       "    </tr>\n",
       "  </tbody>\n",
       "</table>\n",
       "<p>5 rows × 29 columns</p>\n",
       "</div>"
      ],
      "text/plain": [
       "   b2c_c2c  seller_id  declared_handling_days acceptance_scan_timestamp  \\\n",
       "0        1      25454                     3.0                2019-03-27   \n",
       "1        0    6727381                     2.0                2018-06-03   \n",
       "2        1      18507                     1.0                2019-01-08   \n",
       "3        1       4677                     1.0                2018-12-18   \n",
       "4        1       4677                     1.0                2018-07-28   \n",
       "\n",
       "   shipment_method_id  shipping_fee  carrier_min_estimate  \\\n",
       "0                   0           0.0                   3.0   \n",
       "1                   0           3.0                   3.0   \n",
       "2                   0           4.5                   3.0   \n",
       "3                   0           0.0                   3.0   \n",
       "4                   0           0.0                   3.0   \n",
       "\n",
       "   carrier_max_estimate    item_zip buyer_zip  ...  buyyer_lat  buyyer_lon  \\\n",
       "0                   5.0       97219     49040  ...       41.95      -85.32   \n",
       "1                   5.0  11415-3528     62521  ...       39.85      -88.93   \n",
       "2                   5.0       27292     53010  ...       43.59      -88.28   \n",
       "3                   5.0       90703     80022  ...       39.88     -104.80   \n",
       "4                   5.0       90703     55070  ...       45.39      -93.38   \n",
       "\n",
       "   seller_lon seller_lat handling_date  shipping_date  total_time  pay_year  \\\n",
       "0     -122.69      45.45             3              2           5      2019   \n",
       "1      -73.83      40.71             1              2           3      2018   \n",
       "2      -80.25      35.80             2              2           4      2019   \n",
       "3     -118.05      33.86             1              3           4      2018   \n",
       "4     -118.05      33.86             1              2           3      2018   \n",
       "\n",
       "   pay_month  pay_date  \n",
       "0          3        24  \n",
       "1          6         2  \n",
       "2          1         6  \n",
       "3         12        17  \n",
       "4          7        27  \n",
       "\n",
       "[5 rows x 29 columns]"
      ]
     },
     "execution_count": 147,
     "metadata": {},
     "output_type": "execute_result"
    }
   ],
   "source": [
    "#Check table\n",
    "df_ebay.head()"
   ]
  },
  {
   "cell_type": "code",
   "execution_count": 148,
   "id": "ba2a979e",
   "metadata": {},
   "outputs": [
    {
     "name": "stdout",
     "output_type": "stream",
     "text": [
      "<class 'pandas.core.frame.DataFrame'>\n",
      "Int64Index: 100000 entries, 0 to 99999\n",
      "Data columns (total 29 columns):\n",
      " #   Column                     Non-Null Count   Dtype         \n",
      "---  ------                     --------------   -----         \n",
      " 0   b2c_c2c                    100000 non-null  int64         \n",
      " 1   seller_id                  100000 non-null  int64         \n",
      " 2   declared_handling_days     100000 non-null  float64       \n",
      " 3   acceptance_scan_timestamp  100000 non-null  datetime64[ns]\n",
      " 4   shipment_method_id         100000 non-null  int64         \n",
      " 5   shipping_fee               100000 non-null  float64       \n",
      " 6   carrier_min_estimate       100000 non-null  float64       \n",
      " 7   carrier_max_estimate       100000 non-null  float64       \n",
      " 8   item_zip                   100000 non-null  object        \n",
      " 9   buyer_zip                  100000 non-null  object        \n",
      " 10  category_id                100000 non-null  int64         \n",
      " 11  item_price                 100000 non-null  float64       \n",
      " 12  quantity                   100000 non-null  int64         \n",
      " 13  payment_datetime           100000 non-null  datetime64[ns]\n",
      " 14  delivery_date              100000 non-null  datetime64[ns]\n",
      " 15  weight                     100000 non-null  float64       \n",
      " 16  package_size               100000 non-null  float64       \n",
      " 17  record_number              100000 non-null  int64         \n",
      " 18  distance                   98699 non-null   float64       \n",
      " 19  buyyer_lat                 98699 non-null   float64       \n",
      " 20  buyyer_lon                 98699 non-null   float64       \n",
      " 21  seller_lon                 98699 non-null   float64       \n",
      " 22  seller_lat                 98699 non-null   float64       \n",
      " 23  handling_date              100000 non-null  int64         \n",
      " 24  shipping_date              100000 non-null  int64         \n",
      " 25  total_time                 100000 non-null  int64         \n",
      " 26  pay_year                   100000 non-null  int64         \n",
      " 27  pay_month                  100000 non-null  int64         \n",
      " 28  pay_date                   100000 non-null  int64         \n",
      "dtypes: datetime64[ns](3), float64(12), int64(12), object(2)\n",
      "memory usage: 24.9+ MB\n"
     ]
    }
   ],
   "source": [
    "df_ebay.info()"
   ]
  },
  {
   "cell_type": "code",
   "execution_count": 149,
   "id": "5027276f",
   "metadata": {},
   "outputs": [
    {
     "name": "stdout",
     "output_type": "stream",
     "text": [
      "<class 'pandas.core.frame.DataFrame'>\n",
      "Int64Index: 100000 entries, 0 to 99999\n",
      "Data columns (total 29 columns):\n",
      " #   Column                     Non-Null Count   Dtype         \n",
      "---  ------                     --------------   -----         \n",
      " 0   b2c_c2c                    100000 non-null  int64         \n",
      " 1   seller_id                  100000 non-null  int64         \n",
      " 2   declared_handling_days     100000 non-null  float64       \n",
      " 3   acceptance_scan_timestamp  100000 non-null  datetime64[ns]\n",
      " 4   shipment_method_id         100000 non-null  int64         \n",
      " 5   shipping_fee               100000 non-null  float64       \n",
      " 6   carrier_min_estimate       100000 non-null  float64       \n",
      " 7   carrier_max_estimate       100000 non-null  float64       \n",
      " 8   item_zip                   100000 non-null  object        \n",
      " 9   buyer_zip                  100000 non-null  object        \n",
      " 10  category_id                100000 non-null  int64         \n",
      " 11  item_price                 100000 non-null  float64       \n",
      " 12  quantity                   100000 non-null  int64         \n",
      " 13  payment_datetime           100000 non-null  datetime64[ns]\n",
      " 14  delivery_date              100000 non-null  datetime64[ns]\n",
      " 15  weight                     100000 non-null  float64       \n",
      " 16  package_size               100000 non-null  float64       \n",
      " 17  record_number              100000 non-null  int64         \n",
      " 18  distance                   98699 non-null   float64       \n",
      " 19  buyyer_lat                 98699 non-null   float64       \n",
      " 20  buyyer_lon                 98699 non-null   float64       \n",
      " 21  seller_lon                 98699 non-null   float64       \n",
      " 22  seller_lat                 98699 non-null   float64       \n",
      " 23  handling_date              100000 non-null  int64         \n",
      " 24  shipping_date              100000 non-null  int64         \n",
      " 25  total_time                 100000 non-null  int64         \n",
      " 26  pay_year                   100000 non-null  int64         \n",
      " 27  pay_month                  100000 non-null  int64         \n",
      " 28  pay_date                   100000 non-null  int64         \n",
      "dtypes: datetime64[ns](3), float64(12), int64(12), object(2)\n",
      "memory usage: 24.9+ MB\n"
     ]
    }
   ],
   "source": [
    "df_ebay.info()"
   ]
  },
  {
   "attachments": {},
   "cell_type": "markdown",
   "id": "b414f673",
   "metadata": {},
   "source": [
    "We are going to convert all the float column in to interger."
   ]
  },
  {
   "attachments": {},
   "cell_type": "markdown",
   "id": "8cc3e029",
   "metadata": {},
   "source": [
    "\n",
    "#### Recheck the table and save data in new csv file\n"
   ]
  },
  {
   "cell_type": "code",
   "execution_count": 150,
   "id": "c2a10861",
   "metadata": {},
   "outputs": [
    {
     "data": {
      "text/plain": [
       "(100000, 29)"
      ]
     },
     "execution_count": 150,
     "metadata": {},
     "output_type": "execute_result"
    }
   ],
   "source": [
    "df_ebay.shape\n"
   ]
  },
  {
   "cell_type": "code",
   "execution_count": 151,
   "id": "308fa5ef",
   "metadata": {},
   "outputs": [
    {
     "name": "stdout",
     "output_type": "stream",
     "text": [
      "<class 'pandas.core.frame.DataFrame'>\n",
      "Int64Index: 100000 entries, 0 to 99999\n",
      "Data columns (total 29 columns):\n",
      " #   Column                     Non-Null Count   Dtype         \n",
      "---  ------                     --------------   -----         \n",
      " 0   b2c_c2c                    100000 non-null  int64         \n",
      " 1   seller_id                  100000 non-null  int64         \n",
      " 2   declared_handling_days     100000 non-null  float64       \n",
      " 3   acceptance_scan_timestamp  100000 non-null  datetime64[ns]\n",
      " 4   shipment_method_id         100000 non-null  int64         \n",
      " 5   shipping_fee               100000 non-null  float64       \n",
      " 6   carrier_min_estimate       100000 non-null  float64       \n",
      " 7   carrier_max_estimate       100000 non-null  float64       \n",
      " 8   item_zip                   100000 non-null  object        \n",
      " 9   buyer_zip                  100000 non-null  object        \n",
      " 10  category_id                100000 non-null  int64         \n",
      " 11  item_price                 100000 non-null  float64       \n",
      " 12  quantity                   100000 non-null  int64         \n",
      " 13  payment_datetime           100000 non-null  datetime64[ns]\n",
      " 14  delivery_date              100000 non-null  datetime64[ns]\n",
      " 15  weight                     100000 non-null  float64       \n",
      " 16  package_size               100000 non-null  float64       \n",
      " 17  record_number              100000 non-null  int64         \n",
      " 18  distance                   98699 non-null   float64       \n",
      " 19  buyyer_lat                 98699 non-null   float64       \n",
      " 20  buyyer_lon                 98699 non-null   float64       \n",
      " 21  seller_lon                 98699 non-null   float64       \n",
      " 22  seller_lat                 98699 non-null   float64       \n",
      " 23  handling_date              100000 non-null  int64         \n",
      " 24  shipping_date              100000 non-null  int64         \n",
      " 25  total_time                 100000 non-null  int64         \n",
      " 26  pay_year                   100000 non-null  int64         \n",
      " 27  pay_month                  100000 non-null  int64         \n",
      " 28  pay_date                   100000 non-null  int64         \n",
      "dtypes: datetime64[ns](3), float64(12), int64(12), object(2)\n",
      "memory usage: 24.9+ MB\n"
     ]
    }
   ],
   "source": [
    "df_ebay.info()"
   ]
  },
  {
   "cell_type": "code",
   "execution_count": 152,
   "id": "2bb94646",
   "metadata": {},
   "outputs": [],
   "source": [
    "#convert all float column to interger\n",
    "df_ebay[['declared_handling_days', 'shipping_fee','carrier_min_estimate', 'carrier_max_estimate', 'item_price', 'weight', 'package_size', 'distance']] =\\\n",
    "      round(df_ebay[['declared_handling_days', 'shipping_fee','carrier_min_estimate', 'carrier_max_estimate', 'item_price', 'weight', 'package_size', 'distance']])"
   ]
  },
  {
   "cell_type": "code",
   "execution_count": 153,
   "id": "9026cad9",
   "metadata": {},
   "outputs": [
    {
     "data": {
      "text/plain": [
       "b2c_c2c                         0\n",
       "seller_id                       0\n",
       "declared_handling_days          0\n",
       "acceptance_scan_timestamp       0\n",
       "shipment_method_id              0\n",
       "shipping_fee                    0\n",
       "carrier_min_estimate            0\n",
       "carrier_max_estimate            0\n",
       "item_zip                        0\n",
       "buyer_zip                       0\n",
       "category_id                     0\n",
       "item_price                      0\n",
       "quantity                        0\n",
       "payment_datetime                0\n",
       "delivery_date                   0\n",
       "weight                          0\n",
       "package_size                    0\n",
       "record_number                   0\n",
       "distance                     1301\n",
       "buyyer_lat                   1301\n",
       "buyyer_lon                   1301\n",
       "seller_lon                   1301\n",
       "seller_lat                   1301\n",
       "handling_date                   0\n",
       "shipping_date                   0\n",
       "total_time                      0\n",
       "pay_year                        0\n",
       "pay_month                       0\n",
       "pay_date                        0\n",
       "dtype: int64"
      ]
     },
     "execution_count": 153,
     "metadata": {},
     "output_type": "execute_result"
    }
   ],
   "source": [
    "#check null again\n",
    "df_ebay.isna().sum()"
   ]
  },
  {
   "attachments": {},
   "cell_type": "markdown",
   "id": "81d43b67",
   "metadata": {},
   "source": [
    "We can see there are some value in the `distance` column is count as NA here. It could be because the Zipcode of the buyer or seller is not in the right format. We are going to drop all of row with NA in distance here since it is only 1257 rows over 95042 rows in total(around 1.3% the amount of data)."
   ]
  },
  {
   "cell_type": "code",
   "execution_count": 154,
   "id": "06f021c7",
   "metadata": {},
   "outputs": [
    {
     "data": {
      "text/plain": [
       "False"
      ]
     },
     "execution_count": 154,
     "metadata": {},
     "output_type": "execute_result"
    }
   ],
   "source": [
    "df_ebay= df_ebay.dropna()\n",
    "#check Dropped\n",
    "df_ebay.isna().any().any()"
   ]
  },
  {
   "cell_type": "code",
   "execution_count": 155,
   "id": "c187eeb8",
   "metadata": {},
   "outputs": [
    {
     "name": "stdout",
     "output_type": "stream",
     "text": [
      "<class 'pandas.core.frame.DataFrame'>\n",
      "Int64Index: 98699 entries, 0 to 99999\n",
      "Data columns (total 29 columns):\n",
      " #   Column                     Non-Null Count  Dtype         \n",
      "---  ------                     --------------  -----         \n",
      " 0   b2c_c2c                    98699 non-null  int64         \n",
      " 1   seller_id                  98699 non-null  int64         \n",
      " 2   declared_handling_days     98699 non-null  float64       \n",
      " 3   acceptance_scan_timestamp  98699 non-null  datetime64[ns]\n",
      " 4   shipment_method_id         98699 non-null  int64         \n",
      " 5   shipping_fee               98699 non-null  float64       \n",
      " 6   carrier_min_estimate       98699 non-null  float64       \n",
      " 7   carrier_max_estimate       98699 non-null  float64       \n",
      " 8   item_zip                   98699 non-null  object        \n",
      " 9   buyer_zip                  98699 non-null  object        \n",
      " 10  category_id                98699 non-null  int64         \n",
      " 11  item_price                 98699 non-null  float64       \n",
      " 12  quantity                   98699 non-null  int64         \n",
      " 13  payment_datetime           98699 non-null  datetime64[ns]\n",
      " 14  delivery_date              98699 non-null  datetime64[ns]\n",
      " 15  weight                     98699 non-null  float64       \n",
      " 16  package_size               98699 non-null  float64       \n",
      " 17  record_number              98699 non-null  int64         \n",
      " 18  distance                   98699 non-null  float64       \n",
      " 19  buyyer_lat                 98699 non-null  float64       \n",
      " 20  buyyer_lon                 98699 non-null  float64       \n",
      " 21  seller_lon                 98699 non-null  float64       \n",
      " 22  seller_lat                 98699 non-null  float64       \n",
      " 23  handling_date              98699 non-null  int64         \n",
      " 24  shipping_date              98699 non-null  int64         \n",
      " 25  total_time                 98699 non-null  int64         \n",
      " 26  pay_year                   98699 non-null  int64         \n",
      " 27  pay_month                  98699 non-null  int64         \n",
      " 28  pay_date                   98699 non-null  int64         \n",
      "dtypes: datetime64[ns](3), float64(12), int64(12), object(2)\n",
      "memory usage: 22.6+ MB\n"
     ]
    }
   ],
   "source": [
    "df_ebay.info()"
   ]
  },
  {
   "attachments": {},
   "cell_type": "markdown",
   "id": "c63f2edb",
   "metadata": {},
   "source": [
    "Now we export the data to the new CSV then later on we only work with clean data"
   ]
  },
  {
   "cell_type": "code",
   "execution_count": 156,
   "id": "46243027",
   "metadata": {},
   "outputs": [],
   "source": [
    "df_ebay.to_csv('../data/cleaned/Ebay_cleaned.csv')"
   ]
  },
  {
   "attachments": {},
   "cell_type": "markdown",
   "id": "0931f3ac",
   "metadata": {},
   "source": [
    "## Summary and Next-step"
   ]
  },
  {
   "attachments": {},
   "cell_type": "markdown",
   "id": "8dbfbf69",
   "metadata": {},
   "source": [
    "In this notebook we did:\n",
    "-   Filled missing value of the data\n",
    "-   Fixed some error value( handling day <0)\n",
    "-   Added new columns aslo delete the column which has relevent meaning with other"
   ]
  },
  {
   "attachments": {},
   "cell_type": "markdown",
   "id": "c3584125",
   "metadata": {},
   "source": [
    "***Next Step***\n",
    "-   Create some regression models\n",
    "-   Evaluate and tune hyperparameters for them.\n",
    "-   Find which model will predict the less amount of  late dates and the difference with the actual value is not significantly"
   ]
  }
 ],
 "metadata": {
  "kernelspec": {
   "display_name": "base",
   "language": "python",
   "name": "python3"
  },
  "language_info": {
   "codemirror_mode": {
    "name": "ipython",
    "version": 3
   },
   "file_extension": ".py",
   "mimetype": "text/x-python",
   "name": "python",
   "nbconvert_exporter": "python",
   "pygments_lexer": "ipython3",
   "version": "3.10.9"
  }
 },
 "nbformat": 4,
 "nbformat_minor": 5
}
