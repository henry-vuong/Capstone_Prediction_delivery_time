{
 "cells": [
  {
   "attachments": {},
   "cell_type": "markdown",
   "metadata": {},
   "source": [
    "### This notebook will only work with th data which already clean by the EDA notebook."
   ]
  },
  {
   "cell_type": "code",
   "execution_count": 44,
   "metadata": {},
   "outputs": [],
   "source": [
    "#base import\n",
    "import numpy as np\n",
    "import pandas as pd\n",
    "import matplotlib.pyplot as plt\n",
    "#Model Import\n",
    "from sklearn.linear_model import LinearRegression\n",
    "from sklearn.linear_model import Ridge\n",
    "from xgboost import XGBRegressor\n",
    "import tensorflow as tf\n",
    "from tensorflow import keras\n",
    "from tensorflow.keras import Sequential\n",
    "from tensorflow.keras import layers\n",
    "from tensorflow.keras.layers import Dense, Dropout, Embedding, LSTM\n",
    "from tensorflow.keras.optimizers import Adam\n",
    "#preprocessing import\n",
    "from sklearn.preprocessing import StandardScaler\n",
    "from sklearn.model_selection import train_test_split, GridSearchCV\n",
    "from sklearn.pipeline import Pipeline\n",
    "#accuracy calculate import\n",
    "from sklearn.metrics import mean_squared_error\n",
    "from sklearn.metrics import accuracy_score\n",
    "np.random.seed(123)\n"
   ]
  },
  {
   "cell_type": "code",
   "execution_count": 45,
   "metadata": {},
   "outputs": [
    {
     "data": {
      "text/html": [
       "<div>\n",
       "<style scoped>\n",
       "    .dataframe tbody tr th:only-of-type {\n",
       "        vertical-align: middle;\n",
       "    }\n",
       "\n",
       "    .dataframe tbody tr th {\n",
       "        vertical-align: top;\n",
       "    }\n",
       "\n",
       "    .dataframe thead th {\n",
       "        text-align: right;\n",
       "    }\n",
       "</style>\n",
       "<table border=\"1\" class=\"dataframe\">\n",
       "  <thead>\n",
       "    <tr style=\"text-align: right;\">\n",
       "      <th></th>\n",
       "      <th>b2c_c2c</th>\n",
       "      <th>seller_id</th>\n",
       "      <th>declared_handling_days</th>\n",
       "      <th>acceptance_scan_timestamp</th>\n",
       "      <th>shipment_method_id</th>\n",
       "      <th>shipping_fee</th>\n",
       "      <th>carrier_min_estimate</th>\n",
       "      <th>carrier_max_estimate</th>\n",
       "      <th>item_zip</th>\n",
       "      <th>buyer_zip</th>\n",
       "      <th>category_id</th>\n",
       "      <th>item_price</th>\n",
       "      <th>quantity</th>\n",
       "      <th>payment_datetime</th>\n",
       "      <th>delivery_date</th>\n",
       "      <th>weight</th>\n",
       "      <th>package_size</th>\n",
       "      <th>record_number</th>\n",
       "      <th>distance</th>\n",
       "      <th>seller_lat</th>\n",
       "      <th>seller_lon</th>\n",
       "      <th>buyer_lat</th>\n",
       "      <th>buyer_lon</th>\n",
       "      <th>handling_date</th>\n",
       "      <th>shipping_date</th>\n",
       "      <th>total_time</th>\n",
       "      <th>pay_year</th>\n",
       "      <th>pay_month</th>\n",
       "      <th>pay_date</th>\n",
       "    </tr>\n",
       "  </thead>\n",
       "  <tbody>\n",
       "    <tr>\n",
       "      <th>0</th>\n",
       "      <td>1</td>\n",
       "      <td>25454</td>\n",
       "      <td>3</td>\n",
       "      <td>2019-03-27</td>\n",
       "      <td>0</td>\n",
       "      <td>0</td>\n",
       "      <td>3</td>\n",
       "      <td>5</td>\n",
       "      <td>97219</td>\n",
       "      <td>49040</td>\n",
       "      <td>13</td>\n",
       "      <td>28</td>\n",
       "      <td>1</td>\n",
       "      <td>2019-03-24</td>\n",
       "      <td>2019-03-29</td>\n",
       "      <td>5</td>\n",
       "      <td>1</td>\n",
       "      <td>1</td>\n",
       "      <td>3001</td>\n",
       "      <td>45.45</td>\n",
       "      <td>-122.69</td>\n",
       "      <td>41.95</td>\n",
       "      <td>-85.32</td>\n",
       "      <td>3</td>\n",
       "      <td>2</td>\n",
       "      <td>5</td>\n",
       "      <td>2019</td>\n",
       "      <td>3</td>\n",
       "      <td>24</td>\n",
       "    </tr>\n",
       "    <tr>\n",
       "      <th>1</th>\n",
       "      <td>0</td>\n",
       "      <td>6727381</td>\n",
       "      <td>2</td>\n",
       "      <td>2018-06-03</td>\n",
       "      <td>0</td>\n",
       "      <td>3</td>\n",
       "      <td>3</td>\n",
       "      <td>5</td>\n",
       "      <td>11415-3528</td>\n",
       "      <td>62521</td>\n",
       "      <td>0</td>\n",
       "      <td>20</td>\n",
       "      <td>1</td>\n",
       "      <td>2018-06-02</td>\n",
       "      <td>2018-06-05</td>\n",
       "      <td>0</td>\n",
       "      <td>4</td>\n",
       "      <td>2</td>\n",
       "      <td>1282</td>\n",
       "      <td>40.71</td>\n",
       "      <td>-73.83</td>\n",
       "      <td>39.85</td>\n",
       "      <td>-88.93</td>\n",
       "      <td>1</td>\n",
       "      <td>2</td>\n",
       "      <td>3</td>\n",
       "      <td>2018</td>\n",
       "      <td>6</td>\n",
       "      <td>2</td>\n",
       "    </tr>\n",
       "    <tr>\n",
       "      <th>2</th>\n",
       "      <td>1</td>\n",
       "      <td>18507</td>\n",
       "      <td>1</td>\n",
       "      <td>2019-01-08</td>\n",
       "      <td>0</td>\n",
       "      <td>4</td>\n",
       "      <td>3</td>\n",
       "      <td>5</td>\n",
       "      <td>27292</td>\n",
       "      <td>53010</td>\n",
       "      <td>1</td>\n",
       "      <td>20</td>\n",
       "      <td>1</td>\n",
       "      <td>2019-01-06</td>\n",
       "      <td>2019-01-10</td>\n",
       "      <td>9</td>\n",
       "      <td>4</td>\n",
       "      <td>3</td>\n",
       "      <td>1104</td>\n",
       "      <td>35.80</td>\n",
       "      <td>-80.25</td>\n",
       "      <td>43.59</td>\n",
       "      <td>-88.28</td>\n",
       "      <td>2</td>\n",
       "      <td>2</td>\n",
       "      <td>4</td>\n",
       "      <td>2019</td>\n",
       "      <td>1</td>\n",
       "      <td>6</td>\n",
       "    </tr>\n",
       "    <tr>\n",
       "      <th>3</th>\n",
       "      <td>1</td>\n",
       "      <td>4677</td>\n",
       "      <td>1</td>\n",
       "      <td>2018-12-18</td>\n",
       "      <td>0</td>\n",
       "      <td>0</td>\n",
       "      <td>3</td>\n",
       "      <td>5</td>\n",
       "      <td>90703</td>\n",
       "      <td>80022</td>\n",
       "      <td>1</td>\n",
       "      <td>36</td>\n",
       "      <td>1</td>\n",
       "      <td>2018-12-17</td>\n",
       "      <td>2018-12-21</td>\n",
       "      <td>8</td>\n",
       "      <td>4</td>\n",
       "      <td>4</td>\n",
       "      <td>1353</td>\n",
       "      <td>33.86</td>\n",
       "      <td>-118.05</td>\n",
       "      <td>39.88</td>\n",
       "      <td>-104.80</td>\n",
       "      <td>1</td>\n",
       "      <td>3</td>\n",
       "      <td>4</td>\n",
       "      <td>2018</td>\n",
       "      <td>12</td>\n",
       "      <td>17</td>\n",
       "    </tr>\n",
       "    <tr>\n",
       "      <th>4</th>\n",
       "      <td>1</td>\n",
       "      <td>4677</td>\n",
       "      <td>1</td>\n",
       "      <td>2018-07-28</td>\n",
       "      <td>0</td>\n",
       "      <td>0</td>\n",
       "      <td>3</td>\n",
       "      <td>5</td>\n",
       "      <td>90703</td>\n",
       "      <td>55070</td>\n",
       "      <td>1</td>\n",
       "      <td>25</td>\n",
       "      <td>1</td>\n",
       "      <td>2018-07-27</td>\n",
       "      <td>2018-07-30</td>\n",
       "      <td>3</td>\n",
       "      <td>4</td>\n",
       "      <td>5</td>\n",
       "      <td>2456</td>\n",
       "      <td>33.86</td>\n",
       "      <td>-118.05</td>\n",
       "      <td>45.39</td>\n",
       "      <td>-93.38</td>\n",
       "      <td>1</td>\n",
       "      <td>2</td>\n",
       "      <td>3</td>\n",
       "      <td>2018</td>\n",
       "      <td>7</td>\n",
       "      <td>27</td>\n",
       "    </tr>\n",
       "  </tbody>\n",
       "</table>\n",
       "</div>"
      ],
      "text/plain": [
       "   b2c_c2c  seller_id  declared_handling_days acceptance_scan_timestamp  \\\n",
       "0        1      25454                       3                2019-03-27   \n",
       "1        0    6727381                       2                2018-06-03   \n",
       "2        1      18507                       1                2019-01-08   \n",
       "3        1       4677                       1                2018-12-18   \n",
       "4        1       4677                       1                2018-07-28   \n",
       "\n",
       "   shipment_method_id  shipping_fee  carrier_min_estimate  \\\n",
       "0                   0             0                     3   \n",
       "1                   0             3                     3   \n",
       "2                   0             4                     3   \n",
       "3                   0             0                     3   \n",
       "4                   0             0                     3   \n",
       "\n",
       "   carrier_max_estimate    item_zip buyer_zip  category_id  item_price  \\\n",
       "0                     5       97219     49040           13          28   \n",
       "1                     5  11415-3528     62521            0          20   \n",
       "2                     5       27292     53010            1          20   \n",
       "3                     5       90703     80022            1          36   \n",
       "4                     5       90703     55070            1          25   \n",
       "\n",
       "   quantity payment_datetime delivery_date  weight  package_size  \\\n",
       "0         1       2019-03-24    2019-03-29       5             1   \n",
       "1         1       2018-06-02    2018-06-05       0             4   \n",
       "2         1       2019-01-06    2019-01-10       9             4   \n",
       "3         1       2018-12-17    2018-12-21       8             4   \n",
       "4         1       2018-07-27    2018-07-30       3             4   \n",
       "\n",
       "   record_number  distance  seller_lat  seller_lon  buyer_lat  buyer_lon  \\\n",
       "0              1      3001       45.45     -122.69      41.95     -85.32   \n",
       "1              2      1282       40.71      -73.83      39.85     -88.93   \n",
       "2              3      1104       35.80      -80.25      43.59     -88.28   \n",
       "3              4      1353       33.86     -118.05      39.88    -104.80   \n",
       "4              5      2456       33.86     -118.05      45.39     -93.38   \n",
       "\n",
       "   handling_date  shipping_date  total_time  pay_year  pay_month  pay_date  \n",
       "0              3              2           5      2019          3        24  \n",
       "1              1              2           3      2018          6         2  \n",
       "2              2              2           4      2019          1         6  \n",
       "3              1              3           4      2018         12        17  \n",
       "4              1              2           3      2018          7        27  "
      ]
     },
     "execution_count": 45,
     "metadata": {},
     "output_type": "execute_result"
    }
   ],
   "source": [
    "ebay_clean= pd.read_csv('../data/cleaned/Ebay_cleaned.csv', index_col=0)\n",
    "pd.set_option('display.max_columns', None)\n",
    "ebay_clean.head()"
   ]
  },
  {
   "cell_type": "code",
   "execution_count": 46,
   "metadata": {},
   "outputs": [
    {
     "data": {
      "text/plain": [
       "b2c_c2c                      0\n",
       "seller_id                    0\n",
       "declared_handling_days       0\n",
       "acceptance_scan_timestamp    0\n",
       "shipment_method_id           0\n",
       "shipping_fee                 0\n",
       "carrier_min_estimate         0\n",
       "carrier_max_estimate         0\n",
       "item_zip                     0\n",
       "buyer_zip                    0\n",
       "category_id                  0\n",
       "item_price                   0\n",
       "quantity                     0\n",
       "payment_datetime             0\n",
       "delivery_date                0\n",
       "weight                       0\n",
       "package_size                 0\n",
       "record_number                0\n",
       "distance                     0\n",
       "seller_lat                   0\n",
       "seller_lon                   0\n",
       "buyer_lat                    0\n",
       "buyer_lon                    0\n",
       "handling_date                0\n",
       "shipping_date                0\n",
       "total_time                   0\n",
       "pay_year                     0\n",
       "pay_month                    0\n",
       "pay_date                     0\n",
       "dtype: int64"
      ]
     },
     "execution_count": 46,
     "metadata": {},
     "output_type": "execute_result"
    }
   ],
   "source": [
    "ebay_clean.isna().sum()"
   ]
  },
  {
   "cell_type": "code",
   "execution_count": 47,
   "metadata": {},
   "outputs": [
    {
     "name": "stdout",
     "output_type": "stream",
     "text": [
      "<class 'pandas.core.frame.DataFrame'>\n",
      "Int64Index: 493951 entries, 0 to 499999\n",
      "Data columns (total 29 columns):\n",
      " #   Column                     Non-Null Count   Dtype  \n",
      "---  ------                     --------------   -----  \n",
      " 0   b2c_c2c                    493951 non-null  int64  \n",
      " 1   seller_id                  493951 non-null  int64  \n",
      " 2   declared_handling_days     493951 non-null  int64  \n",
      " 3   acceptance_scan_timestamp  493951 non-null  object \n",
      " 4   shipment_method_id         493951 non-null  int64  \n",
      " 5   shipping_fee               493951 non-null  int64  \n",
      " 6   carrier_min_estimate       493951 non-null  int64  \n",
      " 7   carrier_max_estimate       493951 non-null  int64  \n",
      " 8   item_zip                   493951 non-null  object \n",
      " 9   buyer_zip                  493951 non-null  object \n",
      " 10  category_id                493951 non-null  int64  \n",
      " 11  item_price                 493951 non-null  int64  \n",
      " 12  quantity                   493951 non-null  int64  \n",
      " 13  payment_datetime           493951 non-null  object \n",
      " 14  delivery_date              493951 non-null  object \n",
      " 15  weight                     493951 non-null  int64  \n",
      " 16  package_size               493951 non-null  int64  \n",
      " 17  record_number              493951 non-null  int64  \n",
      " 18  distance                   493951 non-null  int64  \n",
      " 19  seller_lat                 493951 non-null  float64\n",
      " 20  seller_lon                 493951 non-null  float64\n",
      " 21  buyer_lat                  493951 non-null  float64\n",
      " 22  buyer_lon                  493951 non-null  float64\n",
      " 23  handling_date              493951 non-null  int64  \n",
      " 24  shipping_date              493951 non-null  int64  \n",
      " 25  total_time                 493951 non-null  int64  \n",
      " 26  pay_year                   493951 non-null  int64  \n",
      " 27  pay_month                  493951 non-null  int64  \n",
      " 28  pay_date                   493951 non-null  int64  \n",
      "dtypes: float64(4), int64(20), object(5)\n",
      "memory usage: 113.1+ MB\n"
     ]
    }
   ],
   "source": [
    "ebay_clean.info()"
   ]
  },
  {
   "cell_type": "code",
   "execution_count": 48,
   "metadata": {},
   "outputs": [],
   "source": [
    "X= ebay_clean[['b2c_c2c', 'declared_handling_days', 'shipment_method_id', 'shipping_fee', 'item_price', 'weight', 'package_size', 'distance']]\n",
    "y= ebay_clean['total_time']"
   ]
  },
  {
   "cell_type": "code",
   "execution_count": 49,
   "metadata": {},
   "outputs": [
    {
     "name": "stdout",
     "output_type": "stream",
     "text": [
      "(493951,)\n",
      "(493951, 8)\n"
     ]
    }
   ],
   "source": [
    "print(y.shape)\n",
    "print(X.shape)"
   ]
  },
  {
   "cell_type": "code",
   "execution_count": 50,
   "metadata": {},
   "outputs": [],
   "source": [
    "#split\n",
    "\n",
    "X_train, X_test, y_train, y_test = train_test_split(X, y, test_size=0.2, random_state=1)"
   ]
  },
  {
   "attachments": {},
   "cell_type": "markdown",
   "metadata": {},
   "source": [
    "Scale data\n"
   ]
  },
  {
   "cell_type": "code",
   "execution_count": 51,
   "metadata": {},
   "outputs": [],
   "source": [
    "scaler= StandardScaler()\n",
    "X_train_ss= scaler.fit_transform(X_train, y_train)\n",
    "X_test_ss= scaler.transform(X_test)"
   ]
  },
  {
   "cell_type": "code",
   "execution_count": 52,
   "metadata": {},
   "outputs": [],
   "source": [
    "y_true_test= y_test.values\n",
    "y_true_train= y_train.values"
   ]
  },
  {
   "attachments": {},
   "cell_type": "markdown",
   "metadata": {},
   "source": [
    "**Accuracy function**"
   ]
  },
  {
   "cell_type": "code",
   "execution_count": 53,
   "metadata": {},
   "outputs": [],
   "source": [
    "def define_late(y_actual, pred):\n",
    "    '''\n",
    "        This function is using for calculate the accurancy of the model in the differnce aspect:\n",
    "        when the model run, the accuracy will calculate the exacly match number for the true predict, the predict give late or early delivery will be count as false.\n",
    "        But in the business point of view, The order which is delivered early than the prediction will not get any complaint from customer and will be consider as the ontime deliver.\n",
    "        In this function, we will modify the accuracy of the model base on the logic above:\n",
    "            day predict > actual delivered: Ontime\n",
    "            day predict = actual delivered: Ontime\n",
    "            day predict < actual delivered: Late\n",
    "\n",
    "    '''\n",
    "    ontime= 0\n",
    "    late= 0\n",
    "    accuracy_sc=0\n",
    "    for i in range(len(pred)):\n",
    "        if pred[i] == y_actual[i] or pred[i]> y_actual[i]:\n",
    "            ontime+=1\n",
    "        else:\n",
    "            late+=1\n",
    "    accuracy_sc= ontime/len(y_actual)*100\n",
    "    return accuracy_sc"
   ]
  },
  {
   "attachments": {},
   "cell_type": "markdown",
   "metadata": {},
   "source": [
    "**Loss Function Calulate**\n",
    "$$L = \\frac{1}{N}.abs([P_E.\\sum_{early shipments}(actual delivery days - predicted deliveryday)+ P_L.\\sum_{late shipments}(actual delivery days - predicted deliveryday)])$$\n",
    "while $P_E = 0.4$, $P_L = 0.6$ and N is number of record in the dataset"
   ]
  },
  {
   "cell_type": "code",
   "execution_count": 54,
   "metadata": {},
   "outputs": [],
   "source": [
    "def evaluate_loss(preds, actual):\n",
    "    ''''\n",
    "        This Loss function was provided by the ebay team, who was given out the dataset for their Machine learning challenge\n",
    "        From a business point of view, it is a worse experience for a buyer if a shipment arrives after the estimated delivery date (“late shipment”) \n",
    "            as compared to arriving before the estimated delivery date (“early shipment”). \n",
    "            The formula for the loss function was mentioned above.\n",
    "        \n",
    "    '''\n",
    "    early_loss, late_loss = 0,0 \n",
    "    for i in range(len(preds)):\n",
    "        if preds[i] < actual[i]:\n",
    "            #early shipment\n",
    "            early_loss += actual[i] - preds[i]\n",
    "        elif preds[i] > actual[i]:\n",
    "            #late shipment\n",
    "            late_loss += preds[i] - actual[i]\n",
    "    loss = (1/len(preds)) * (0.4 * (early_loss) + 0.6 * (late_loss))\n",
    "    return loss"
   ]
  },
  {
   "attachments": {},
   "cell_type": "markdown",
   "metadata": {},
   "source": [
    "#### LinearRegression model"
   ]
  },
  {
   "cell_type": "code",
   "execution_count": 55,
   "metadata": {},
   "outputs": [],
   "source": [
    "#Initialize\n",
    "linear_model= LinearRegression()\n",
    "#fit model\n",
    "linear_model.fit(X_train_ss, y_train)\n",
    "linear_preds= linear_model.predict(X_test_ss)\n",
    "linear_train_pred= linear_model.predict(X_train_ss)\n",
    "linear_train_pred= np.round(linear_train_pred)\n",
    "linear_preds= np.round(linear_preds)\n",
    "linear_score_test=  linear_model.score(X_test_ss, y_test)\n",
    "linear_score_train=  linear_model.score(X_train_ss, y_train)\n",
    "linear_accuracy_test= define_late(y_true_test, linear_preds)\n",
    "linear_accuracy_train= define_late(y_true_train, linear_train_pred)"
   ]
  },
  {
   "cell_type": "code",
   "execution_count": 56,
   "metadata": {},
   "outputs": [
    {
     "name": "stdout",
     "output_type": "stream",
     "text": [
      "Accuracy score test:  70.61371987326781\n",
      "Accuracy score train: 70.62810001012248\n"
     ]
    }
   ],
   "source": [
    "print(f'Accuracy score test:  {linear_accuracy_test}')\n",
    "print(f'Accuracy score train: {linear_accuracy_train}')"
   ]
  },
  {
   "attachments": {},
   "cell_type": "markdown",
   "metadata": {},
   "source": [
    "#### Ridge model"
   ]
  },
  {
   "cell_type": "code",
   "execution_count": 57,
   "metadata": {},
   "outputs": [],
   "source": [
    "# Initialize\n",
    "ridge_model= Ridge(solver='lsqr')\n",
    "\n",
    "# fit\n",
    "ridge_model.fit(X_train_ss, y_train)\n",
    "ridge_preds= ridge_model.predict(X_test_ss)\n",
    "ridge_preds= np.round(ridge_preds)\n",
    "ridge_train_pred= ridge_model.predict(X_train_ss)\n",
    "ridge_train_pred= np.round(ridge_train_pred)\n",
    "ridge_score_test= ridge_model.score(X_test_ss, y_test)\n",
    "ridge_score_train= ridge_model.score(X_train_ss, y_train)\n",
    "ridge_accuracy_test= define_late(y_true_test, ridge_preds)\n",
    "ridge_accuracy_train= define_late(y_true_train, ridge_train_pred)\n"
   ]
  },
  {
   "cell_type": "code",
   "execution_count": 58,
   "metadata": {},
   "outputs": [
    {
     "name": "stdout",
     "output_type": "stream",
     "text": [
      "Ridge Accuracy score test:  70.61878106305231\n",
      "Ridge Accuracy score train: 70.62734082397004\n"
     ]
    }
   ],
   "source": [
    "print(f'Ridge Accuracy score test:  {ridge_accuracy_test}')\n",
    "print(f'Ridge Accuracy score train: {ridge_accuracy_train}')"
   ]
  },
  {
   "attachments": {},
   "cell_type": "markdown",
   "metadata": {},
   "source": [
    "#### XGboost"
   ]
  },
  {
   "cell_type": "code",
   "execution_count": 59,
   "metadata": {},
   "outputs": [
    {
     "name": "stdout",
     "output_type": "stream",
     "text": [
      "Train Score: 0.2243377815372739\n",
      "test score: 0.13916641540699792\n",
      "Test Accuracy : 71.60368859511495\n",
      "Train Accuracy : 71.63528697236562\n"
     ]
    }
   ],
   "source": [
    "# initialize \n",
    "xg_boost= XGBRegressor()\n",
    "#fit\n",
    "xg_boost.fit(X_train_ss, y_train)\n",
    "xg_pred= xg_boost.predict(X_test_ss)\n",
    "xg_pred= np.round(xg_pred)\n",
    "xg_train_pred= xg_boost.predict(X_train_ss)\n",
    "xg_train_pred= np.round(xg_train_pred)\n",
    "xg_train_accuracy=define_late(y_true_train, xg_train_pred)\n",
    "xg_test_accuracy= define_late(y_true_test, xg_pred)\n",
    "print(f'Train Score: {xg_boost.score(X_train_ss, y_train)}')\n",
    "print(f'test score: {xg_boost.score(X_test_ss, y_test)}')\n",
    "print(f'Test Accuracy : {xg_test_accuracy}')\n",
    "print(f'Train Accuracy : {xg_train_accuracy}')"
   ]
  },
  {
   "cell_type": "code",
   "execution_count": 60,
   "metadata": {},
   "outputs": [
    {
     "name": "stdout",
     "output_type": "stream",
     "text": [
      "rigde lost= 0.8006822483829498 -- linear loss= 0.8006579546719841 --xg lost= 0.758265429037058\n"
     ]
    }
   ],
   "source": [
    "print(f'rigde lost= {evaluate_loss(ridge_preds, y_true_test)} -- linear loss= {evaluate_loss(linear_preds, y_true_test)} --xg lost= {evaluate_loss(xg_pred, y_true_test)}')"
   ]
  },
  {
   "cell_type": "code",
   "execution_count": 61,
   "metadata": {},
   "outputs": [],
   "source": [
    "accuracy = [linear_accuracy_test, linear_accuracy_train, ridge_accuracy_test, ridge_accuracy_train, xg_test_accuracy, xg_train_accuracy]\n",
    "columns=['linear test', 'linear train', 'ridge test', 'ridge train', 'xg test', 'xg train']"
   ]
  },
  {
   "attachments": {},
   "cell_type": "markdown",
   "metadata": {},
   "source": [
    "#### Neural Network"
   ]
  },
  {
   "cell_type": "code",
   "execution_count": 62,
   "metadata": {},
   "outputs": [],
   "source": [
    "#build model\n",
    "tf.random.set_seed(123)\n",
    "# Create a new sequential model\n",
    "nn_model= keras.Sequential()\n",
    "regularizer= keras.regularizers.l2(0.02)\n",
    "#hidden layers\n",
    "nn_model.add(Dense(40, activation=\"relu\", kernel_regularizer=regularizer))\n",
    "nn_model.add(Dropout(0.2))\n",
    "nn_model.add(Dense(40, activation=\"relu\", kernel_regularizer=regularizer))\n",
    "nn_model.add(Dense(40, activation=\"relu\", kernel_regularizer=regularizer))\n",
    "# nn_model.add(Dropout(0.2))\n",
    "#output layer\n",
    "nn_model.add(Dense(1))\n",
    "\n",
    "#compile nn_model\n",
    "nn_model.compile(\n",
    "     optimizer=keras.optimizers.Adam(),\n",
    "     loss=keras.losses.MeanSquaredError(),\n",
    "     metrics=[keras.metrics.BinaryAccuracy()]\n",
    ")"
   ]
  },
  {
   "cell_type": "code",
   "execution_count": 63,
   "metadata": {},
   "outputs": [],
   "source": [
    "history= nn_model.fit(X_train_ss, y_train, epochs=50,batch_size=64, verbose=0)"
   ]
  },
  {
   "cell_type": "code",
   "execution_count": 67,
   "metadata": {},
   "outputs": [
    {
     "name": "stdout",
     "output_type": "stream",
     "text": [
      "3088/3088 [==============================] - 1s 202us/step\n",
      "12349/12349 [==============================] - 2s 198us/step\n"
     ]
    }
   ],
   "source": [
    "#evaluate\n",
    "NN_train_accuracy=history.history['binary_accuracy'][-1] \n",
    "result = nn_model.evaluate(X_test_ss,y_test, verbose=0)\n",
    "NN_pred_test = np.round(nn_model.predict(X_test_ss))\n",
    "NN_pred_train = np.round(nn_model.predict(X_train_ss))"
   ]
  },
  {
   "cell_type": "code",
   "execution_count": 68,
   "metadata": {},
   "outputs": [
    {
     "name": "stdout",
     "output_type": "stream",
     "text": [
      "Test Accuracy: 73.81846524480974\n",
      "Train Accuracy: 73.85767790262172\n"
     ]
    }
   ],
   "source": [
    "print(f'Test Accuracy: {define_late(y_true_test, NN_pred_test)}')\n",
    "print(f'Train Accuracy: {define_late(y_true_train, NN_pred_train)}')"
   ]
  },
  {
   "attachments": {},
   "cell_type": "markdown",
   "metadata": {},
   "source": [
    "#### Recurrent Neural Network\n"
   ]
  },
  {
   "cell_type": "code",
   "execution_count": 70,
   "metadata": {},
   "outputs": [
    {
     "name": "stdout",
     "output_type": "stream",
     "text": [
      "(395160, 8) (395160,)\n"
     ]
    }
   ],
   "source": [
    "print(X_train_ss.shape, y_train.shape)"
   ]
  },
  {
   "cell_type": "code",
   "execution_count": 34,
   "metadata": {},
   "outputs": [],
   "source": [
    "#Make embedding\n",
    "number_class= X_train_ss.shape[1]\n",
    "embedding_dim= 8\n"
   ]
  },
  {
   "cell_type": "code",
   "execution_count": 71,
   "metadata": {},
   "outputs": [],
   "source": [
    "tf.random.set_seed(123)\n",
    "\n",
    "#define rnn\n",
    "rnn_mode= keras.Sequential()\n",
    "# add layers\n",
    "embedding_layer=Embedding(number_class, embedding_dim)\n",
    "\n",
    "rnn_mode.add(LSTM(64, activation='relu', input_shape=(X_train_ss.shape[1], 1)))\n",
    "\n",
    "rnn_mode.add(Dense(64, activation= 'relu'))\n",
    "\n",
    "#output layer\n",
    "rnn_mode.add(Dense(1))\n",
    "\n",
    "# Compile mode\n",
    "rnn_mode.compile(\n",
    "    loss='mean_squared_error', \n",
    "    optimizer=Adam(learning_rate=0.02),\n",
    "    metrics='accuracy'\n",
    ")"
   ]
  },
  {
   "cell_type": "code",
   "execution_count": 72,
   "metadata": {},
   "outputs": [
    {
     "name": "stdout",
     "output_type": "stream",
     "text": [
      "Epoch 1/50\n",
      "9879/9879 [==============================] - 15s 1ms/step - loss: 9.7709 - accuracy: 0.0304 - val_loss: 8.9675 - val_accuracy: 0.0300\n",
      "Epoch 2/50\n",
      "9879/9879 [==============================] - 14s 1ms/step - loss: 9.7223 - accuracy: 0.0304 - val_loss: 8.9556 - val_accuracy: 0.0300\n",
      "Epoch 3/50\n",
      "9879/9879 [==============================] - 14s 1ms/step - loss: 9.7224 - accuracy: 0.0304 - val_loss: 8.9443 - val_accuracy: 0.0300\n",
      "Epoch 4/50\n",
      "9879/9879 [==============================] - 14s 1ms/step - loss: 9.7224 - accuracy: 0.0304 - val_loss: 8.9437 - val_accuracy: 0.0300\n",
      "Epoch 5/50\n",
      "9879/9879 [==============================] - 14s 1ms/step - loss: 9.7226 - accuracy: 0.0304 - val_loss: 8.9438 - val_accuracy: 0.0300\n",
      "Epoch 6/50\n",
      "9879/9879 [==============================] - 14s 1ms/step - loss: 9.7224 - accuracy: 0.0304 - val_loss: 8.9459 - val_accuracy: 0.0300\n",
      "Epoch 7/50\n",
      "9879/9879 [==============================] - 14s 1ms/step - loss: 9.7222 - accuracy: 0.0304 - val_loss: 8.9546 - val_accuracy: 0.0300\n",
      "Epoch 8/50\n",
      "9879/9879 [==============================] - 14s 1ms/step - loss: 9.7229 - accuracy: 0.0304 - val_loss: 8.9440 - val_accuracy: 0.0300\n",
      "Epoch 9/50\n",
      "9879/9879 [==============================] - 14s 1ms/step - loss: 9.7213 - accuracy: 0.0304 - val_loss: 8.9509 - val_accuracy: 0.0300\n",
      "Epoch 10/50\n",
      "9879/9879 [==============================] - 14s 1ms/step - loss: 9.7228 - accuracy: 0.0304 - val_loss: 8.9569 - val_accuracy: 0.0300\n",
      "Epoch 11/50\n",
      "9879/9879 [==============================] - 14s 1ms/step - loss: 9.7225 - accuracy: 0.0304 - val_loss: 8.9438 - val_accuracy: 0.0300\n",
      "Epoch 12/50\n",
      "9879/9879 [==============================] - 14s 1ms/step - loss: 9.7229 - accuracy: 0.0304 - val_loss: 8.9542 - val_accuracy: 0.0300\n",
      "Epoch 13/50\n",
      "9879/9879 [==============================] - 14s 1ms/step - loss: 9.7228 - accuracy: 0.0304 - val_loss: 8.9438 - val_accuracy: 0.0300\n",
      "Epoch 14/50\n",
      "9879/9879 [==============================] - 14s 1ms/step - loss: 9.7219 - accuracy: 0.0304 - val_loss: 8.9595 - val_accuracy: 0.0300\n",
      "Epoch 15/50\n",
      "9879/9879 [==============================] - 14s 1ms/step - loss: 9.7223 - accuracy: 0.0304 - val_loss: 8.9438 - val_accuracy: 0.0300\n",
      "Epoch 16/50\n",
      "9879/9879 [==============================] - 14s 1ms/step - loss: 9.7218 - accuracy: 0.0304 - val_loss: 8.9481 - val_accuracy: 0.0300\n",
      "Epoch 17/50\n",
      "9879/9879 [==============================] - 14s 1ms/step - loss: 9.7224 - accuracy: 0.0304 - val_loss: 8.9670 - val_accuracy: 0.0300\n",
      "Epoch 18/50\n",
      "9879/9879 [==============================] - 14s 1ms/step - loss: 9.7221 - accuracy: 0.0304 - val_loss: 8.9514 - val_accuracy: 0.0300\n",
      "Epoch 19/50\n",
      "9879/9879 [==============================] - 14s 1ms/step - loss: 9.7222 - accuracy: 0.0304 - val_loss: 8.9445 - val_accuracy: 0.0300\n",
      "Epoch 20/50\n",
      "9879/9879 [==============================] - 14s 1ms/step - loss: 9.7228 - accuracy: 0.0304 - val_loss: 8.9437 - val_accuracy: 0.0300\n",
      "Epoch 21/50\n",
      "9879/9879 [==============================] - 14s 1ms/step - loss: 9.7228 - accuracy: 0.0304 - val_loss: 8.9557 - val_accuracy: 0.0300\n",
      "Epoch 22/50\n",
      "9879/9879 [==============================] - 14s 1ms/step - loss: 9.7227 - accuracy: 0.0304 - val_loss: 8.9797 - val_accuracy: 0.0300\n",
      "Epoch 23/50\n",
      "9879/9879 [==============================] - 14s 1ms/step - loss: 9.7220 - accuracy: 0.0304 - val_loss: 8.9443 - val_accuracy: 0.0300\n",
      "Epoch 24/50\n",
      "9879/9879 [==============================] - 14s 1ms/step - loss: 9.7218 - accuracy: 0.0304 - val_loss: 8.9444 - val_accuracy: 0.0300\n",
      "Epoch 25/50\n",
      "9879/9879 [==============================] - 14s 1ms/step - loss: 9.7220 - accuracy: 0.0304 - val_loss: 8.9459 - val_accuracy: 0.0300\n",
      "Epoch 26/50\n",
      "9879/9879 [==============================] - 14s 1ms/step - loss: 9.7221 - accuracy: 0.0304 - val_loss: 8.9559 - val_accuracy: 0.0300\n",
      "Epoch 27/50\n",
      "9879/9879 [==============================] - 14s 1ms/step - loss: 9.7229 - accuracy: 0.0304 - val_loss: 8.9452 - val_accuracy: 0.0300\n",
      "Epoch 28/50\n",
      "9879/9879 [==============================] - 14s 1ms/step - loss: 9.7226 - accuracy: 0.0304 - val_loss: 8.9446 - val_accuracy: 0.0300\n",
      "Epoch 29/50\n",
      "9879/9879 [==============================] - 14s 1ms/step - loss: 9.7218 - accuracy: 0.0304 - val_loss: 8.9484 - val_accuracy: 0.0300\n",
      "Epoch 30/50\n",
      "9879/9879 [==============================] - 14s 1ms/step - loss: 9.7219 - accuracy: 0.0304 - val_loss: 8.9451 - val_accuracy: 0.0300\n",
      "Epoch 31/50\n",
      "9879/9879 [==============================] - 13s 1ms/step - loss: 9.7221 - accuracy: 0.0304 - val_loss: 8.9452 - val_accuracy: 0.0300\n",
      "Epoch 32/50\n",
      "9879/9879 [==============================] - 14s 1ms/step - loss: 9.7226 - accuracy: 0.0304 - val_loss: 8.9470 - val_accuracy: 0.0300\n",
      "Epoch 33/50\n",
      "9879/9879 [==============================] - 14s 1ms/step - loss: 9.7216 - accuracy: 0.0304 - val_loss: 8.9451 - val_accuracy: 0.0300\n",
      "Epoch 34/50\n",
      "9879/9879 [==============================] - 13s 1ms/step - loss: 9.7219 - accuracy: 0.0304 - val_loss: 8.9454 - val_accuracy: 0.0300\n",
      "Epoch 35/50\n",
      "9879/9879 [==============================] - 13s 1ms/step - loss: 9.7221 - accuracy: 0.0304 - val_loss: 8.9447 - val_accuracy: 0.0300\n",
      "Epoch 36/50\n",
      "9879/9879 [==============================] - 13s 1ms/step - loss: 9.7231 - accuracy: 0.0304 - val_loss: 8.9608 - val_accuracy: 0.0300\n",
      "Epoch 37/50\n",
      "9879/9879 [==============================] - 13s 1ms/step - loss: 9.7224 - accuracy: 0.0304 - val_loss: 8.9464 - val_accuracy: 0.0300\n",
      "Epoch 38/50\n",
      "9879/9879 [==============================] - 14s 1ms/step - loss: 9.7220 - accuracy: 0.0304 - val_loss: 8.9565 - val_accuracy: 0.0300\n",
      "Epoch 39/50\n",
      "9879/9879 [==============================] - 13s 1ms/step - loss: 9.7227 - accuracy: 0.0304 - val_loss: 8.9441 - val_accuracy: 0.0300\n",
      "Epoch 40/50\n",
      "9879/9879 [==============================] - 14s 1ms/step - loss: 9.7219 - accuracy: 0.0304 - val_loss: 8.9524 - val_accuracy: 0.0300\n",
      "Epoch 41/50\n",
      "9879/9879 [==============================] - 14s 1ms/step - loss: 9.7223 - accuracy: 0.0304 - val_loss: 8.9454 - val_accuracy: 0.0300\n",
      "Epoch 42/50\n",
      "9879/9879 [==============================] - 14s 1ms/step - loss: 9.7218 - accuracy: 0.0304 - val_loss: 8.9450 - val_accuracy: 0.0300\n",
      "Epoch 43/50\n",
      "9879/9879 [==============================] - 14s 1ms/step - loss: 9.7218 - accuracy: 0.0304 - val_loss: 8.9447 - val_accuracy: 0.0300\n",
      "Epoch 44/50\n",
      "9879/9879 [==============================] - 14s 1ms/step - loss: 9.7223 - accuracy: 0.0304 - val_loss: 8.9564 - val_accuracy: 0.0300\n",
      "Epoch 45/50\n",
      "9879/9879 [==============================] - 14s 1ms/step - loss: 9.7228 - accuracy: 0.0304 - val_loss: 8.9439 - val_accuracy: 0.0300\n",
      "Epoch 46/50\n",
      "9879/9879 [==============================] - 13s 1ms/step - loss: 9.7224 - accuracy: 0.0304 - val_loss: 8.9465 - val_accuracy: 0.0300\n",
      "Epoch 47/50\n",
      "9879/9879 [==============================] - 13s 1ms/step - loss: 9.7225 - accuracy: 0.0304 - val_loss: 8.9489 - val_accuracy: 0.0300\n",
      "Epoch 48/50\n",
      "9879/9879 [==============================] - 13s 1ms/step - loss: 9.7222 - accuracy: 0.0304 - val_loss: 8.9553 - val_accuracy: 0.0300\n",
      "Epoch 49/50\n",
      "9879/9879 [==============================] - 14s 1ms/step - loss: 9.7218 - accuracy: 0.0304 - val_loss: 8.9438 - val_accuracy: 0.0300\n",
      "Epoch 50/50\n",
      "9879/9879 [==============================] - 14s 1ms/step - loss: 9.7220 - accuracy: 0.0304 - val_loss: 8.9442 - val_accuracy: 0.0300\n"
     ]
    }
   ],
   "source": [
    "# fit model\n",
    "rnn_history= rnn_mode.fit(X_train_ss, y_train, epochs=50, batch_size=32, validation_split=0.2)"
   ]
  },
  {
   "cell_type": "code",
   "execution_count": 74,
   "metadata": {},
   "outputs": [
    {
     "name": "stdout",
     "output_type": "stream",
     "text": [
      "3088/3088 [==============================] - 2s 552us/step - loss: 9.7615 - accuracy: 0.0308\n",
      "3088/3088 [==============================] - 2s 549us/step\n",
      "12349/12349 [==============================] - 7s 541us/step\n"
     ]
    }
   ],
   "source": [
    "rnn_train_accu= rnn_history.history['accuracy'][-1]\n",
    "result= rnn_mode.evaluate(X_test_ss, y_test)\n",
    "rnn_pred_test= np.round(rnn_mode.predict(X_test_ss))\n",
    "rnn_pred_train= np.round(rnn_mode.predict(X_train_ss))"
   ]
  },
  {
   "cell_type": "code",
   "execution_count": 75,
   "metadata": {},
   "outputs": [
    {
     "name": "stdout",
     "output_type": "stream",
     "text": [
      "Model: \"sequential_3\"\n",
      "_________________________________________________________________\n",
      " Layer (type)                Output Shape              Param #   \n",
      "=================================================================\n",
      " lstm_1 (LSTM)               (None, 64)                16896     \n",
      "                                                                 \n",
      " dense_10 (Dense)            (None, 64)                4160      \n",
      "                                                                 \n",
      " dense_11 (Dense)            (None, 1)                 65        \n",
      "                                                                 \n",
      "=================================================================\n",
      "Total params: 21,121\n",
      "Trainable params: 21,121\n",
      "Non-trainable params: 0\n",
      "_________________________________________________________________\n"
     ]
    }
   ],
   "source": [
    "rnn_mode.summary()"
   ]
  },
  {
   "cell_type": "code",
   "execution_count": 76,
   "metadata": {},
   "outputs": [
    {
     "name": "stdout",
     "output_type": "stream",
     "text": [
      "Test  accuracy= 71.93873935884848\n",
      "Train  accuracy= 71.86354894220062\n"
     ]
    }
   ],
   "source": [
    "print(f'Test  accuracy= {define_late(y_true_test, rnn_pred_test)}')\n",
    "print(f'Train  accuracy= {define_late(y_true_train, rnn_pred_train)}')"
   ]
  },
  {
   "attachments": {},
   "cell_type": "markdown",
   "metadata": {},
   "source": [
    "So far we have tried : Linear Regression, Ridge regression, XGboost, Neural Network, and Recurrent Neural Network\n",
    "\n",
    "The score we have for each model is:\n",
    "\n",
    "  | Model | Accurancy Score |\n",
    "  | ----------- | ----------- |\n",
    "  | Linear Regression | 70.49 |\n",
    "  | Ridge Regression | 70.48 |\n",
    "  | XGboost | 71.51 |\n",
    "  | Neural Network | 72.21 |\n",
    "  | Recurrent Neural Network | 71.9486 |\n",
    "\n",
    "At the moment, Neural Network have the best accuracy for the datase with 72.21 percent of accuracy.  We are going to do tune hyperparameter to see if we can imporve the accuracy of the model."
   ]
  },
  {
   "attachments": {},
   "cell_type": "markdown",
   "metadata": {},
   "source": [
    "### Tuning Hyperparameter\n"
   ]
  },
  {
   "attachments": {},
   "cell_type": "markdown",
   "metadata": {},
   "source": [
    "##### Turning Hyperparameter for `Ridge` and `XGboost`"
   ]
  },
  {
   "cell_type": "code",
   "execution_count": 102,
   "metadata": {},
   "outputs": [],
   "source": [
    "estimators= [\n",
    "    ('normalise', StandardScaler()),\n",
    "    ('model', LinearRegression())\n",
    "] \n",
    "\n",
    "my_pipe= Pipeline(estimators)\n",
    "grid1= [\n",
    "    {\n",
    "        'model': [Ridge()],\n",
    "        'normalise':[StandardScaler()],\n",
    "        'model__alpha':[0.001, 0.01, 0.1, 1],\n",
    "        'model__solver':['auto', ]\n",
    "    }]\n",
    "gridCV1= GridSearchCV(my_pipe, grid1, cv=5, verbose=0)\n",
    "fit_grid1= gridCV1.fit(X_train, y_train)\n"
   ]
  },
  {
   "cell_type": "code",
   "execution_count": 107,
   "metadata": {},
   "outputs": [],
   "source": [
    "grid2=[    \n",
    "    {\n",
    "        'model':[XGBRegressor()],\n",
    "        'normalise':[StandardScaler()],\n",
    "        'model__subsample': np.arange(0.1, 1, 0.2),\n",
    "        'model__max_depth': range (4, 12, 2),\n",
    "        'model__n_estimators': [60, 120, 180],\n",
    "        'model__learning_rate': [0.1, 0.01, 0.05]\n",
    "    }\n",
    "]\n",
    "gridCV2= GridSearchCV(my_pipe, grid2, cv=10, verbose=0)\n",
    "fit_grid2= gridCV2.fit(X_train, y_train)"
   ]
  },
  {
   "cell_type": "code",
   "execution_count": 103,
   "metadata": {},
   "outputs": [
    {
     "data": {
      "text/html": [
       "<style>#sk-container-id-5 {color: black;background-color: white;}#sk-container-id-5 pre{padding: 0;}#sk-container-id-5 div.sk-toggleable {background-color: white;}#sk-container-id-5 label.sk-toggleable__label {cursor: pointer;display: block;width: 100%;margin-bottom: 0;padding: 0.3em;box-sizing: border-box;text-align: center;}#sk-container-id-5 label.sk-toggleable__label-arrow:before {content: \"▸\";float: left;margin-right: 0.25em;color: #696969;}#sk-container-id-5 label.sk-toggleable__label-arrow:hover:before {color: black;}#sk-container-id-5 div.sk-estimator:hover label.sk-toggleable__label-arrow:before {color: black;}#sk-container-id-5 div.sk-toggleable__content {max-height: 0;max-width: 0;overflow: hidden;text-align: left;background-color: #f0f8ff;}#sk-container-id-5 div.sk-toggleable__content pre {margin: 0.2em;color: black;border-radius: 0.25em;background-color: #f0f8ff;}#sk-container-id-5 input.sk-toggleable__control:checked~div.sk-toggleable__content {max-height: 200px;max-width: 100%;overflow: auto;}#sk-container-id-5 input.sk-toggleable__control:checked~label.sk-toggleable__label-arrow:before {content: \"▾\";}#sk-container-id-5 div.sk-estimator input.sk-toggleable__control:checked~label.sk-toggleable__label {background-color: #d4ebff;}#sk-container-id-5 div.sk-label input.sk-toggleable__control:checked~label.sk-toggleable__label {background-color: #d4ebff;}#sk-container-id-5 input.sk-hidden--visually {border: 0;clip: rect(1px 1px 1px 1px);clip: rect(1px, 1px, 1px, 1px);height: 1px;margin: -1px;overflow: hidden;padding: 0;position: absolute;width: 1px;}#sk-container-id-5 div.sk-estimator {font-family: monospace;background-color: #f0f8ff;border: 1px dotted black;border-radius: 0.25em;box-sizing: border-box;margin-bottom: 0.5em;}#sk-container-id-5 div.sk-estimator:hover {background-color: #d4ebff;}#sk-container-id-5 div.sk-parallel-item::after {content: \"\";width: 100%;border-bottom: 1px solid gray;flex-grow: 1;}#sk-container-id-5 div.sk-label:hover label.sk-toggleable__label {background-color: #d4ebff;}#sk-container-id-5 div.sk-serial::before {content: \"\";position: absolute;border-left: 1px solid gray;box-sizing: border-box;top: 0;bottom: 0;left: 50%;z-index: 0;}#sk-container-id-5 div.sk-serial {display: flex;flex-direction: column;align-items: center;background-color: white;padding-right: 0.2em;padding-left: 0.2em;position: relative;}#sk-container-id-5 div.sk-item {position: relative;z-index: 1;}#sk-container-id-5 div.sk-parallel {display: flex;align-items: stretch;justify-content: center;background-color: white;position: relative;}#sk-container-id-5 div.sk-item::before, #sk-container-id-5 div.sk-parallel-item::before {content: \"\";position: absolute;border-left: 1px solid gray;box-sizing: border-box;top: 0;bottom: 0;left: 50%;z-index: -1;}#sk-container-id-5 div.sk-parallel-item {display: flex;flex-direction: column;z-index: 1;position: relative;background-color: white;}#sk-container-id-5 div.sk-parallel-item:first-child::after {align-self: flex-end;width: 50%;}#sk-container-id-5 div.sk-parallel-item:last-child::after {align-self: flex-start;width: 50%;}#sk-container-id-5 div.sk-parallel-item:only-child::after {width: 0;}#sk-container-id-5 div.sk-dashed-wrapped {border: 1px dashed gray;margin: 0 0.4em 0.5em 0.4em;box-sizing: border-box;padding-bottom: 0.4em;background-color: white;}#sk-container-id-5 div.sk-label label {font-family: monospace;font-weight: bold;display: inline-block;line-height: 1.2em;}#sk-container-id-5 div.sk-label-container {text-align: center;}#sk-container-id-5 div.sk-container {/* jupyter's `normalize.less` sets `[hidden] { display: none; }` but bootstrap.min.css set `[hidden] { display: none !important; }` so we also need the `!important` here to be able to override the default hidden behavior on the sphinx rendered scikit-learn.org. See: https://github.com/scikit-learn/scikit-learn/issues/21755 */display: inline-block !important;position: relative;}#sk-container-id-5 div.sk-text-repr-fallback {display: none;}</style><div id=\"sk-container-id-5\" class=\"sk-top-container\"><div class=\"sk-text-repr-fallback\"><pre>Pipeline(steps=[(&#x27;normalise&#x27;, StandardScaler()), (&#x27;model&#x27;, Ridge(alpha=1))])</pre><b>In a Jupyter environment, please rerun this cell to show the HTML representation or trust the notebook. <br />On GitHub, the HTML representation is unable to render, please try loading this page with nbviewer.org.</b></div><div class=\"sk-container\" hidden><div class=\"sk-item sk-dashed-wrapped\"><div class=\"sk-label-container\"><div class=\"sk-label sk-toggleable\"><input class=\"sk-toggleable__control sk-hidden--visually\" id=\"sk-estimator-id-13\" type=\"checkbox\" ><label for=\"sk-estimator-id-13\" class=\"sk-toggleable__label sk-toggleable__label-arrow\">Pipeline</label><div class=\"sk-toggleable__content\"><pre>Pipeline(steps=[(&#x27;normalise&#x27;, StandardScaler()), (&#x27;model&#x27;, Ridge(alpha=1))])</pre></div></div></div><div class=\"sk-serial\"><div class=\"sk-item\"><div class=\"sk-estimator sk-toggleable\"><input class=\"sk-toggleable__control sk-hidden--visually\" id=\"sk-estimator-id-14\" type=\"checkbox\" ><label for=\"sk-estimator-id-14\" class=\"sk-toggleable__label sk-toggleable__label-arrow\">StandardScaler</label><div class=\"sk-toggleable__content\"><pre>StandardScaler()</pre></div></div></div><div class=\"sk-item\"><div class=\"sk-estimator sk-toggleable\"><input class=\"sk-toggleable__control sk-hidden--visually\" id=\"sk-estimator-id-15\" type=\"checkbox\" ><label for=\"sk-estimator-id-15\" class=\"sk-toggleable__label sk-toggleable__label-arrow\">Ridge</label><div class=\"sk-toggleable__content\"><pre>Ridge(alpha=1)</pre></div></div></div></div></div></div></div>"
      ],
      "text/plain": [
       "Pipeline(steps=[('normalise', StandardScaler()), ('model', Ridge(alpha=1))])"
      ]
     },
     "execution_count": 103,
     "metadata": {},
     "output_type": "execute_result"
    }
   ],
   "source": [
    "fit_grid1.best_estimator_"
   ]
  },
  {
   "cell_type": "code",
   "execution_count": 104,
   "metadata": {},
   "outputs": [
    {
     "data": {
      "text/plain": [
       "{'model': Ridge(alpha=1),\n",
       " 'model__alpha': 1,\n",
       " 'model__solver': 'auto',\n",
       " 'normalise': StandardScaler()}"
      ]
     },
     "execution_count": 104,
     "metadata": {},
     "output_type": "execute_result"
    }
   ],
   "source": [
    "fit_grid1.best_params_"
   ]
  },
  {
   "cell_type": "code",
   "execution_count": null,
   "metadata": {},
   "outputs": [
    {
     "ename": "NameError",
     "evalue": "name 'fit_grid2' is not defined",
     "output_type": "error",
     "traceback": [
      "\u001b[0;31m---------------------------------------------------------------------------\u001b[0m",
      "\u001b[0;31mNameError\u001b[0m                                 Traceback (most recent call last)",
      "Cell \u001b[0;32mIn[88], line 1\u001b[0m\n\u001b[0;32m----> 1\u001b[0m fit_grid2\u001b[39m.\u001b[39mbest_estimator_\n",
      "\u001b[0;31mNameError\u001b[0m: name 'fit_grid2' is not defined"
     ]
    }
   ],
   "source": [
    "fit_grid2.best_estimator_"
   ]
  },
  {
   "cell_type": "code",
   "execution_count": null,
   "metadata": {},
   "outputs": [
    {
     "ename": "NameError",
     "evalue": "name 'fit_grid2' is not defined",
     "output_type": "error",
     "traceback": [
      "\u001b[0;31m---------------------------------------------------------------------------\u001b[0m",
      "\u001b[0;31mNameError\u001b[0m                                 Traceback (most recent call last)",
      "Cell \u001b[0;32mIn[66], line 1\u001b[0m\n\u001b[0;32m----> 1\u001b[0m fit_grid2\u001b[39m.\u001b[39mbest_params_\n",
      "\u001b[0;31mNameError\u001b[0m: name 'fit_grid2' is not defined"
     ]
    }
   ],
   "source": [
    "fit_grid2.best_params_"
   ]
  },
  {
   "cell_type": "code",
   "execution_count": 105,
   "metadata": {},
   "outputs": [],
   "source": [
    "grid1_pred_test= np.round(fit_grid1.predict(X_test))\n",
    "grid1_pred_train= np.round(fit_grid1.predict(X_train))"
   ]
  },
  {
   "cell_type": "code",
   "execution_count": 106,
   "metadata": {},
   "outputs": [
    {
     "name": "stdout",
     "output_type": "stream",
     "text": [
      "Test Accuracy: 70.61371987326781\n",
      "Train Accuracy: 70.6283530721733\n"
     ]
    }
   ],
   "source": [
    "print(f'Ridge tuned hyperparameter Test Accuracy: {define_late(y_true_test, grid1_pred_test)}')\n",
    "print(f'Ridge tuned hyperparameter Train Accuracy: {define_late( y_true_train, grid1_pred_train)}')"
   ]
  },
  {
   "cell_type": "code",
   "execution_count": null,
   "metadata": {},
   "outputs": [],
   "source": [
    "print(f'XGBoost Test Accuracy: {define_late(y_true_test), np.round(fit_grid2.predict(X_test))}')\n",
    "print(f'XGBoost  Train Accuracy: {define_late(y_true_train), np.round(fit_grid2.predict(X_train))}')"
   ]
  },
  {
   "cell_type": "code",
   "execution_count": null,
   "metadata": {},
   "outputs": [],
   "source": []
  }
 ],
 "metadata": {
  "kernelspec": {
   "display_name": "base",
   "language": "python",
   "name": "python3"
  },
  "language_info": {
   "codemirror_mode": {
    "name": "ipython",
    "version": 3
   },
   "file_extension": ".py",
   "mimetype": "text/x-python",
   "name": "python",
   "nbconvert_exporter": "python",
   "pygments_lexer": "ipython3",
   "version": "3.10.9"
  },
  "orig_nbformat": 4
 },
 "nbformat": 4,
 "nbformat_minor": 2
}
