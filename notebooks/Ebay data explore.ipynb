{
 "cells": [
  {
   "attachments": {},
   "cell_type": "markdown",
   "id": "68767797",
   "metadata": {},
   "source": [
    "# Prediction Delivery Time"
   ]
  },
  {
   "attachments": {},
   "cell_type": "markdown",
   "id": "0c543189",
   "metadata": {},
   "source": []
  },
  {
   "attachments": {},
   "cell_type": "markdown",
   "id": "0228b123",
   "metadata": {},
   "source": [
    "# EDA Dataset"
   ]
  },
  {
   "attachments": {},
   "cell_type": "markdown",
   "id": "2a1e1ae1",
   "metadata": {},
   "source": [
    "## Explore"
   ]
  },
  {
   "cell_type": "code",
   "execution_count": 2,
   "id": "7cb2a21b",
   "metadata": {},
   "outputs": [],
   "source": [
    "import numpy as np\n",
    "import pandas as pd\n",
    "import matplotlib.pyplot as plt\n",
    "import plotly.express as px\n",
    "import seaborn as sns   \n"
   ]
  },
  {
   "cell_type": "code",
   "execution_count": 2,
   "id": "91a6b988",
   "metadata": {
    "scrolled": false
   },
   "outputs": [],
   "source": [
    "df_ebay = pd.read_csv('../data/raw/ebayShort.csv', nrows=100000 ,index_col=0)"
   ]
  },
  {
   "attachments": {},
   "cell_type": "markdown",
   "id": "e85df53c",
   "metadata": {},
   "source": [
    "As the data is too big, we first working in the shortcut of the total data with 1 million rows."
   ]
  },
  {
   "cell_type": "code",
   "execution_count": 3,
   "id": "7962e25e",
   "metadata": {},
   "outputs": [
    {
     "data": {
      "text/html": [
       "<div>\n",
       "<style scoped>\n",
       "    .dataframe tbody tr th:only-of-type {\n",
       "        vertical-align: middle;\n",
       "    }\n",
       "\n",
       "    .dataframe tbody tr th {\n",
       "        vertical-align: top;\n",
       "    }\n",
       "\n",
       "    .dataframe thead th {\n",
       "        text-align: right;\n",
       "    }\n",
       "</style>\n",
       "<table border=\"1\" class=\"dataframe\">\n",
       "  <thead>\n",
       "    <tr style=\"text-align: right;\">\n",
       "      <th></th>\n",
       "      <th>b2c_c2c</th>\n",
       "      <th>seller_id</th>\n",
       "      <th>declared_handling_days</th>\n",
       "      <th>acceptance_scan_timestamp</th>\n",
       "      <th>shipment_method_id</th>\n",
       "      <th>shipping_fee</th>\n",
       "      <th>carrier_min_estimate</th>\n",
       "      <th>carrier_max_estimate</th>\n",
       "      <th>item_zip</th>\n",
       "      <th>buyer_zip</th>\n",
       "      <th>category_id</th>\n",
       "      <th>item_price</th>\n",
       "      <th>quantity</th>\n",
       "      <th>payment_datetime</th>\n",
       "      <th>delivery_date</th>\n",
       "      <th>weight</th>\n",
       "      <th>weight_units</th>\n",
       "      <th>package_size</th>\n",
       "      <th>record_number</th>\n",
       "    </tr>\n",
       "  </thead>\n",
       "  <tbody>\n",
       "    <tr>\n",
       "      <th>0</th>\n",
       "      <td>B2C</td>\n",
       "      <td>25454</td>\n",
       "      <td>3.0</td>\n",
       "      <td>2019-03-26 15:11:00.000-07:00</td>\n",
       "      <td>0</td>\n",
       "      <td>0.0</td>\n",
       "      <td>3</td>\n",
       "      <td>5</td>\n",
       "      <td>97219</td>\n",
       "      <td>49040</td>\n",
       "      <td>13</td>\n",
       "      <td>27.95</td>\n",
       "      <td>1</td>\n",
       "      <td>2019-03-24 03:56:49.000-07:00</td>\n",
       "      <td>2019-03-29</td>\n",
       "      <td>5</td>\n",
       "      <td>1</td>\n",
       "      <td>LETTER</td>\n",
       "      <td>1</td>\n",
       "    </tr>\n",
       "    <tr>\n",
       "      <th>1</th>\n",
       "      <td>C2C</td>\n",
       "      <td>6727381</td>\n",
       "      <td>2.0</td>\n",
       "      <td>2018-06-02 12:53:00.000-07:00</td>\n",
       "      <td>0</td>\n",
       "      <td>3.0</td>\n",
       "      <td>3</td>\n",
       "      <td>5</td>\n",
       "      <td>11415-3528</td>\n",
       "      <td>62521</td>\n",
       "      <td>0</td>\n",
       "      <td>20.50</td>\n",
       "      <td>1</td>\n",
       "      <td>2018-06-01 13:43:54.000-07:00</td>\n",
       "      <td>2018-06-05</td>\n",
       "      <td>0</td>\n",
       "      <td>1</td>\n",
       "      <td>PACKAGE_THICK_ENVELOPE</td>\n",
       "      <td>2</td>\n",
       "    </tr>\n",
       "    <tr>\n",
       "      <th>2</th>\n",
       "      <td>B2C</td>\n",
       "      <td>18507</td>\n",
       "      <td>1.0</td>\n",
       "      <td>2019-01-07 16:22:00.000-05:00</td>\n",
       "      <td>0</td>\n",
       "      <td>4.5</td>\n",
       "      <td>3</td>\n",
       "      <td>5</td>\n",
       "      <td>27292</td>\n",
       "      <td>53010</td>\n",
       "      <td>1</td>\n",
       "      <td>19.90</td>\n",
       "      <td>1</td>\n",
       "      <td>2019-01-06 00:02:00.000-05:00</td>\n",
       "      <td>2019-01-10</td>\n",
       "      <td>9</td>\n",
       "      <td>1</td>\n",
       "      <td>PACKAGE_THICK_ENVELOPE</td>\n",
       "      <td>3</td>\n",
       "    </tr>\n",
       "    <tr>\n",
       "      <th>3</th>\n",
       "      <td>B2C</td>\n",
       "      <td>4677</td>\n",
       "      <td>1.0</td>\n",
       "      <td>2018-12-17 16:56:00.000-08:00</td>\n",
       "      <td>0</td>\n",
       "      <td>0.0</td>\n",
       "      <td>3</td>\n",
       "      <td>5</td>\n",
       "      <td>90703</td>\n",
       "      <td>80022</td>\n",
       "      <td>1</td>\n",
       "      <td>35.50</td>\n",
       "      <td>1</td>\n",
       "      <td>2018-12-16 10:28:28.000-08:00</td>\n",
       "      <td>2018-12-21</td>\n",
       "      <td>8</td>\n",
       "      <td>1</td>\n",
       "      <td>PACKAGE_THICK_ENVELOPE</td>\n",
       "      <td>4</td>\n",
       "    </tr>\n",
       "    <tr>\n",
       "      <th>4</th>\n",
       "      <td>B2C</td>\n",
       "      <td>4677</td>\n",
       "      <td>1.0</td>\n",
       "      <td>2018-07-27 16:48:00.000-07:00</td>\n",
       "      <td>0</td>\n",
       "      <td>0.0</td>\n",
       "      <td>3</td>\n",
       "      <td>5</td>\n",
       "      <td>90703</td>\n",
       "      <td>55070</td>\n",
       "      <td>1</td>\n",
       "      <td>25.00</td>\n",
       "      <td>1</td>\n",
       "      <td>2018-07-26 18:20:02.000-07:00</td>\n",
       "      <td>2018-07-30</td>\n",
       "      <td>3</td>\n",
       "      <td>1</td>\n",
       "      <td>PACKAGE_THICK_ENVELOPE</td>\n",
       "      <td>5</td>\n",
       "    </tr>\n",
       "  </tbody>\n",
       "</table>\n",
       "</div>"
      ],
      "text/plain": [
       "  b2c_c2c  seller_id  declared_handling_days      acceptance_scan_timestamp  \\\n",
       "0     B2C      25454                     3.0  2019-03-26 15:11:00.000-07:00   \n",
       "1     C2C    6727381                     2.0  2018-06-02 12:53:00.000-07:00   \n",
       "2     B2C      18507                     1.0  2019-01-07 16:22:00.000-05:00   \n",
       "3     B2C       4677                     1.0  2018-12-17 16:56:00.000-08:00   \n",
       "4     B2C       4677                     1.0  2018-07-27 16:48:00.000-07:00   \n",
       "\n",
       "   shipment_method_id  shipping_fee  carrier_min_estimate  \\\n",
       "0                   0           0.0                     3   \n",
       "1                   0           3.0                     3   \n",
       "2                   0           4.5                     3   \n",
       "3                   0           0.0                     3   \n",
       "4                   0           0.0                     3   \n",
       "\n",
       "   carrier_max_estimate    item_zip buyer_zip  category_id  item_price  \\\n",
       "0                     5       97219     49040           13       27.95   \n",
       "1                     5  11415-3528     62521            0       20.50   \n",
       "2                     5       27292     53010            1       19.90   \n",
       "3                     5       90703     80022            1       35.50   \n",
       "4                     5       90703     55070            1       25.00   \n",
       "\n",
       "   quantity               payment_datetime delivery_date  weight  \\\n",
       "0         1  2019-03-24 03:56:49.000-07:00    2019-03-29       5   \n",
       "1         1  2018-06-01 13:43:54.000-07:00    2018-06-05       0   \n",
       "2         1  2019-01-06 00:02:00.000-05:00    2019-01-10       9   \n",
       "3         1  2018-12-16 10:28:28.000-08:00    2018-12-21       8   \n",
       "4         1  2018-07-26 18:20:02.000-07:00    2018-07-30       3   \n",
       "\n",
       "   weight_units            package_size  record_number  \n",
       "0             1                  LETTER              1  \n",
       "1             1  PACKAGE_THICK_ENVELOPE              2  \n",
       "2             1  PACKAGE_THICK_ENVELOPE              3  \n",
       "3             1  PACKAGE_THICK_ENVELOPE              4  \n",
       "4             1  PACKAGE_THICK_ENVELOPE              5  "
      ]
     },
     "execution_count": 3,
     "metadata": {},
     "output_type": "execute_result"
    }
   ],
   "source": [
    "# Look at the first 5 row\n",
    "\n",
    "df_ebay.head()"
   ]
  },
  {
   "cell_type": "code",
   "execution_count": 4,
   "id": "d2b54046",
   "metadata": {},
   "outputs": [
    {
     "data": {
      "text/html": [
       "<div>\n",
       "<style scoped>\n",
       "    .dataframe tbody tr th:only-of-type {\n",
       "        vertical-align: middle;\n",
       "    }\n",
       "\n",
       "    .dataframe tbody tr th {\n",
       "        vertical-align: top;\n",
       "    }\n",
       "\n",
       "    .dataframe thead th {\n",
       "        text-align: right;\n",
       "    }\n",
       "</style>\n",
       "<table border=\"1\" class=\"dataframe\">\n",
       "  <thead>\n",
       "    <tr style=\"text-align: right;\">\n",
       "      <th></th>\n",
       "      <th>b2c_c2c</th>\n",
       "      <th>seller_id</th>\n",
       "      <th>declared_handling_days</th>\n",
       "      <th>acceptance_scan_timestamp</th>\n",
       "      <th>shipment_method_id</th>\n",
       "      <th>shipping_fee</th>\n",
       "      <th>carrier_min_estimate</th>\n",
       "      <th>carrier_max_estimate</th>\n",
       "      <th>item_zip</th>\n",
       "      <th>buyer_zip</th>\n",
       "      <th>category_id</th>\n",
       "      <th>item_price</th>\n",
       "      <th>quantity</th>\n",
       "      <th>payment_datetime</th>\n",
       "      <th>delivery_date</th>\n",
       "      <th>weight</th>\n",
       "      <th>weight_units</th>\n",
       "      <th>package_size</th>\n",
       "      <th>record_number</th>\n",
       "    </tr>\n",
       "  </thead>\n",
       "  <tbody>\n",
       "    <tr>\n",
       "      <th>9634</th>\n",
       "      <td>B2C</td>\n",
       "      <td>19202</td>\n",
       "      <td>5.0</td>\n",
       "      <td>2019-03-07 22:38:00.000-05:00</td>\n",
       "      <td>7</td>\n",
       "      <td>0.00</td>\n",
       "      <td>2</td>\n",
       "      <td>5</td>\n",
       "      <td>27006</td>\n",
       "      <td>36207</td>\n",
       "      <td>3</td>\n",
       "      <td>18.03</td>\n",
       "      <td>1</td>\n",
       "      <td>2019-03-02 23:23:43.000-05:00</td>\n",
       "      <td>2019-03-09</td>\n",
       "      <td>48</td>\n",
       "      <td>1</td>\n",
       "      <td>PACKAGE_THICK_ENVELOPE</td>\n",
       "      <td>9635</td>\n",
       "    </tr>\n",
       "    <tr>\n",
       "      <th>91094</th>\n",
       "      <td>B2C</td>\n",
       "      <td>146846</td>\n",
       "      <td>3.0</td>\n",
       "      <td>2018-10-12 21:35:00.000-04:00</td>\n",
       "      <td>0</td>\n",
       "      <td>0.00</td>\n",
       "      <td>3</td>\n",
       "      <td>5</td>\n",
       "      <td>02053</td>\n",
       "      <td>26681</td>\n",
       "      <td>1</td>\n",
       "      <td>30.00</td>\n",
       "      <td>2</td>\n",
       "      <td>2018-10-11 14:30:32.000-04:00</td>\n",
       "      <td>2018-10-15</td>\n",
       "      <td>8</td>\n",
       "      <td>1</td>\n",
       "      <td>PACKAGE_THICK_ENVELOPE</td>\n",
       "      <td>91095</td>\n",
       "    </tr>\n",
       "    <tr>\n",
       "      <th>10774</th>\n",
       "      <td>C2C</td>\n",
       "      <td>354803</td>\n",
       "      <td>1.0</td>\n",
       "      <td>2019-07-22 14:44:00.000-05:00</td>\n",
       "      <td>2</td>\n",
       "      <td>7.55</td>\n",
       "      <td>2</td>\n",
       "      <td>9</td>\n",
       "      <td>50220</td>\n",
       "      <td>03446</td>\n",
       "      <td>13</td>\n",
       "      <td>20.00</td>\n",
       "      <td>1</td>\n",
       "      <td>2019-07-20 13:35:18.000-05:00</td>\n",
       "      <td>2019-07-24</td>\n",
       "      <td>0</td>\n",
       "      <td>1</td>\n",
       "      <td>PACKAGE_THICK_ENVELOPE</td>\n",
       "      <td>10775</td>\n",
       "    </tr>\n",
       "    <tr>\n",
       "      <th>64306</th>\n",
       "      <td>C2C</td>\n",
       "      <td>168334</td>\n",
       "      <td>3.0</td>\n",
       "      <td>2018-07-06 12:56:00.000-04:00</td>\n",
       "      <td>0</td>\n",
       "      <td>3.75</td>\n",
       "      <td>3</td>\n",
       "      <td>5</td>\n",
       "      <td>26508</td>\n",
       "      <td>26003</td>\n",
       "      <td>6</td>\n",
       "      <td>8.99</td>\n",
       "      <td>1</td>\n",
       "      <td>2018-07-05 01:26:04.000-04:00</td>\n",
       "      <td>2018-07-07</td>\n",
       "      <td>8</td>\n",
       "      <td>1</td>\n",
       "      <td>PACKAGE_THICK_ENVELOPE</td>\n",
       "      <td>64307</td>\n",
       "    </tr>\n",
       "    <tr>\n",
       "      <th>90686</th>\n",
       "      <td>B2C</td>\n",
       "      <td>2830</td>\n",
       "      <td>1.0</td>\n",
       "      <td>2018-09-07 19:48:00.000-07:00</td>\n",
       "      <td>0</td>\n",
       "      <td>0.00</td>\n",
       "      <td>3</td>\n",
       "      <td>5</td>\n",
       "      <td>94539</td>\n",
       "      <td>95019</td>\n",
       "      <td>5</td>\n",
       "      <td>267.99</td>\n",
       "      <td>1</td>\n",
       "      <td>2018-09-06 09:38:00.000-07:00</td>\n",
       "      <td>2018-09-08</td>\n",
       "      <td>0</td>\n",
       "      <td>1</td>\n",
       "      <td>LETTER</td>\n",
       "      <td>90687</td>\n",
       "    </tr>\n",
       "  </tbody>\n",
       "</table>\n",
       "</div>"
      ],
      "text/plain": [
       "      b2c_c2c  seller_id  declared_handling_days  \\\n",
       "9634      B2C      19202                     5.0   \n",
       "91094     B2C     146846                     3.0   \n",
       "10774     C2C     354803                     1.0   \n",
       "64306     C2C     168334                     3.0   \n",
       "90686     B2C       2830                     1.0   \n",
       "\n",
       "           acceptance_scan_timestamp  shipment_method_id  shipping_fee  \\\n",
       "9634   2019-03-07 22:38:00.000-05:00                   7          0.00   \n",
       "91094  2018-10-12 21:35:00.000-04:00                   0          0.00   \n",
       "10774  2019-07-22 14:44:00.000-05:00                   2          7.55   \n",
       "64306  2018-07-06 12:56:00.000-04:00                   0          3.75   \n",
       "90686  2018-09-07 19:48:00.000-07:00                   0          0.00   \n",
       "\n",
       "       carrier_min_estimate  carrier_max_estimate item_zip buyer_zip  \\\n",
       "9634                      2                     5    27006     36207   \n",
       "91094                     3                     5    02053     26681   \n",
       "10774                     2                     9    50220     03446   \n",
       "64306                     3                     5    26508     26003   \n",
       "90686                     3                     5    94539     95019   \n",
       "\n",
       "       category_id  item_price  quantity               payment_datetime  \\\n",
       "9634             3       18.03         1  2019-03-02 23:23:43.000-05:00   \n",
       "91094            1       30.00         2  2018-10-11 14:30:32.000-04:00   \n",
       "10774           13       20.00         1  2019-07-20 13:35:18.000-05:00   \n",
       "64306            6        8.99         1  2018-07-05 01:26:04.000-04:00   \n",
       "90686            5      267.99         1  2018-09-06 09:38:00.000-07:00   \n",
       "\n",
       "      delivery_date  weight  weight_units            package_size  \\\n",
       "9634     2019-03-09      48             1  PACKAGE_THICK_ENVELOPE   \n",
       "91094    2018-10-15       8             1  PACKAGE_THICK_ENVELOPE   \n",
       "10774    2019-07-24       0             1  PACKAGE_THICK_ENVELOPE   \n",
       "64306    2018-07-07       8             1  PACKAGE_THICK_ENVELOPE   \n",
       "90686    2018-09-08       0             1                  LETTER   \n",
       "\n",
       "       record_number  \n",
       "9634            9635  \n",
       "91094          91095  \n",
       "10774          10775  \n",
       "64306          64307  \n",
       "90686          90687  "
      ]
     },
     "execution_count": 4,
     "metadata": {},
     "output_type": "execute_result"
    }
   ],
   "source": [
    "#Look at 5 random row\n",
    "df_ebay.sample(5)"
   ]
  },
  {
   "cell_type": "code",
   "execution_count": 5,
   "id": "433d66e8",
   "metadata": {},
   "outputs": [
    {
     "data": {
      "text/plain": [
       "(100000, 19)"
      ]
     },
     "execution_count": 5,
     "metadata": {},
     "output_type": "execute_result"
    }
   ],
   "source": [
    "#check the shape of the dataset\n",
    "df_ebay.shape"
   ]
  },
  {
   "cell_type": "code",
   "execution_count": 6,
   "id": "9c3ad0b0",
   "metadata": {},
   "outputs": [
    {
     "name": "stdout",
     "output_type": "stream",
     "text": [
      "There are 100000 columns and 19 rows\n"
     ]
    }
   ],
   "source": [
    "print(f'There are {df_ebay.shape[0]} columns and {df_ebay.shape[1]} rows')"
   ]
  },
  {
   "cell_type": "code",
   "execution_count": 7,
   "id": "893fa645",
   "metadata": {},
   "outputs": [
    {
     "name": "stdout",
     "output_type": "stream",
     "text": [
      "<class 'pandas.core.frame.DataFrame'>\n",
      "Int64Index: 100000 entries, 0 to 99999\n",
      "Data columns (total 19 columns):\n",
      " #   Column                     Non-Null Count   Dtype  \n",
      "---  ------                     --------------   -----  \n",
      " 0   b2c_c2c                    100000 non-null  object \n",
      " 1   seller_id                  100000 non-null  int64  \n",
      " 2   declared_handling_days     95042 non-null   float64\n",
      " 3   acceptance_scan_timestamp  100000 non-null  object \n",
      " 4   shipment_method_id         100000 non-null  int64  \n",
      " 5   shipping_fee               100000 non-null  float64\n",
      " 6   carrier_min_estimate       100000 non-null  int64  \n",
      " 7   carrier_max_estimate       100000 non-null  int64  \n",
      " 8   item_zip                   100000 non-null  object \n",
      " 9   buyer_zip                  100000 non-null  object \n",
      " 10  category_id                100000 non-null  int64  \n",
      " 11  item_price                 100000 non-null  float64\n",
      " 12  quantity                   100000 non-null  int64  \n",
      " 13  payment_datetime           100000 non-null  object \n",
      " 14  delivery_date              100000 non-null  object \n",
      " 15  weight                     100000 non-null  int64  \n",
      " 16  weight_units               100000 non-null  int64  \n",
      " 17  package_size               100000 non-null  object \n",
      " 18  record_number              100000 non-null  int64  \n",
      "dtypes: float64(3), int64(9), object(7)\n",
      "memory usage: 15.3+ MB\n"
     ]
    }
   ],
   "source": [
    "# Get a quick overview of dataset variables\n",
    "df_ebay.info()"
   ]
  },
  {
   "cell_type": "code",
   "execution_count": 8,
   "id": "309d3385",
   "metadata": {},
   "outputs": [
    {
     "data": {
      "text/html": [
       "<div>\n",
       "<style scoped>\n",
       "    .dataframe tbody tr th:only-of-type {\n",
       "        vertical-align: middle;\n",
       "    }\n",
       "\n",
       "    .dataframe tbody tr th {\n",
       "        vertical-align: top;\n",
       "    }\n",
       "\n",
       "    .dataframe thead th {\n",
       "        text-align: right;\n",
       "    }\n",
       "</style>\n",
       "<table border=\"1\" class=\"dataframe\">\n",
       "  <thead>\n",
       "    <tr style=\"text-align: right;\">\n",
       "      <th></th>\n",
       "      <th>b2c_c2c</th>\n",
       "      <th>acceptance_scan_timestamp</th>\n",
       "      <th>item_zip</th>\n",
       "      <th>buyer_zip</th>\n",
       "      <th>payment_datetime</th>\n",
       "      <th>delivery_date</th>\n",
       "      <th>package_size</th>\n",
       "    </tr>\n",
       "  </thead>\n",
       "  <tbody>\n",
       "    <tr>\n",
       "      <th>0</th>\n",
       "      <td>B2C</td>\n",
       "      <td>2019-03-26 15:11:00.000-07:00</td>\n",
       "      <td>97219</td>\n",
       "      <td>49040</td>\n",
       "      <td>2019-03-24 03:56:49.000-07:00</td>\n",
       "      <td>2019-03-29</td>\n",
       "      <td>LETTER</td>\n",
       "    </tr>\n",
       "    <tr>\n",
       "      <th>1</th>\n",
       "      <td>C2C</td>\n",
       "      <td>2018-06-02 12:53:00.000-07:00</td>\n",
       "      <td>11415-3528</td>\n",
       "      <td>62521</td>\n",
       "      <td>2018-06-01 13:43:54.000-07:00</td>\n",
       "      <td>2018-06-05</td>\n",
       "      <td>PACKAGE_THICK_ENVELOPE</td>\n",
       "    </tr>\n",
       "    <tr>\n",
       "      <th>2</th>\n",
       "      <td>B2C</td>\n",
       "      <td>2019-01-07 16:22:00.000-05:00</td>\n",
       "      <td>27292</td>\n",
       "      <td>53010</td>\n",
       "      <td>2019-01-06 00:02:00.000-05:00</td>\n",
       "      <td>2019-01-10</td>\n",
       "      <td>PACKAGE_THICK_ENVELOPE</td>\n",
       "    </tr>\n",
       "    <tr>\n",
       "      <th>3</th>\n",
       "      <td>B2C</td>\n",
       "      <td>2018-12-17 16:56:00.000-08:00</td>\n",
       "      <td>90703</td>\n",
       "      <td>80022</td>\n",
       "      <td>2018-12-16 10:28:28.000-08:00</td>\n",
       "      <td>2018-12-21</td>\n",
       "      <td>PACKAGE_THICK_ENVELOPE</td>\n",
       "    </tr>\n",
       "    <tr>\n",
       "      <th>4</th>\n",
       "      <td>B2C</td>\n",
       "      <td>2018-07-27 16:48:00.000-07:00</td>\n",
       "      <td>90703</td>\n",
       "      <td>55070</td>\n",
       "      <td>2018-07-26 18:20:02.000-07:00</td>\n",
       "      <td>2018-07-30</td>\n",
       "      <td>PACKAGE_THICK_ENVELOPE</td>\n",
       "    </tr>\n",
       "  </tbody>\n",
       "</table>\n",
       "</div>"
      ],
      "text/plain": [
       "  b2c_c2c      acceptance_scan_timestamp    item_zip buyer_zip  \\\n",
       "0     B2C  2019-03-26 15:11:00.000-07:00       97219     49040   \n",
       "1     C2C  2018-06-02 12:53:00.000-07:00  11415-3528     62521   \n",
       "2     B2C  2019-01-07 16:22:00.000-05:00       27292     53010   \n",
       "3     B2C  2018-12-17 16:56:00.000-08:00       90703     80022   \n",
       "4     B2C  2018-07-27 16:48:00.000-07:00       90703     55070   \n",
       "\n",
       "                payment_datetime delivery_date            package_size  \n",
       "0  2019-03-24 03:56:49.000-07:00    2019-03-29                  LETTER  \n",
       "1  2018-06-01 13:43:54.000-07:00    2018-06-05  PACKAGE_THICK_ENVELOPE  \n",
       "2  2019-01-06 00:02:00.000-05:00    2019-01-10  PACKAGE_THICK_ENVELOPE  \n",
       "3  2018-12-16 10:28:28.000-08:00    2018-12-21  PACKAGE_THICK_ENVELOPE  \n",
       "4  2018-07-26 18:20:02.000-07:00    2018-07-30  PACKAGE_THICK_ENVELOPE  "
      ]
     },
     "execution_count": 8,
     "metadata": {},
     "output_type": "execute_result"
    }
   ],
   "source": [
    "# top 5 rows showing only 'object' columns\n",
    "df_ebay.select_dtypes('object').head()"
   ]
  },
  {
   "attachments": {},
   "cell_type": "markdown",
   "id": "e279c271",
   "metadata": {},
   "source": [
    "Let see the percent of the kind of customer B2C(Business to Consumer) and C2C(Consumer to Consumer)"
   ]
  },
  {
   "cell_type": "code",
   "execution_count": 14,
   "id": "3a140d0e",
   "metadata": {},
   "outputs": [
    {
     "data": {
      "text/plain": [
       "Text(0.5, 1.0, 'portion of B2C and C2C')"
      ]
     },
     "execution_count": 14,
     "metadata": {},
     "output_type": "execute_result"
    },
    {
     "data": {
      "image/png": "[encoded data removed]",
      "text/plain": [
       "<Figure size 600x1200 with 1 Axes>"
      ]
     },
     "metadata": {},
     "output_type": "display_data"
    }
   ],
   "source": [
    "plt.figure(figsize=(6, 12))\n",
    "plt.pie(df_ebay['b2c_c2c'].value_counts(), labels= df_ebay['b2c_c2c'].unique(), labeldistance=0.3, autopct='%1.1f%%')\n",
    "plt.title('portion of B2C and C2C')"
   ]
  },
  {
   "cell_type": "code",
   "execution_count": null,
   "id": "66f0c027",
   "metadata": {},
   "outputs": [],
   "source": []
  },
  {
   "attachments": {},
   "cell_type": "markdown",
   "id": "edc3e2ce",
   "metadata": {},
   "source": [
    "## Data Cleaning"
   ]
  },
  {
   "attachments": {},
   "cell_type": "markdown",
   "id": "0fcd7f0e",
   "metadata": {},
   "source": [
    "First let do some common checking in the dataset.\n",
    " -  Null value\n",
    " -  Duplicate row"
   ]
  },
  {
   "cell_type": "code",
   "execution_count": null,
   "id": "fe190cea",
   "metadata": {},
   "outputs": [],
   "source": [
    "#Checking null\n",
    "df_ebay.isna().sum()"
   ]
  },
  {
   "attachments": {},
   "cell_type": "markdown",
   "id": "42ed5253",
   "metadata": {},
   "source": [
    "There is 47180 missing value in total 1 million rows. We could delete it but I decide to have deepper look at it later\n"
   ]
  },
  {
   "cell_type": "code",
   "execution_count": null,
   "id": "732aeced",
   "metadata": {},
   "outputs": [],
   "source": [
    "# checking duplicate rows\n",
    "df_ebay.duplicated().any()"
   ]
  },
  {
   "attachments": {},
   "cell_type": "markdown",
   "id": "9f6923e8",
   "metadata": {},
   "source": [
    "There are no duplicate row in the database"
   ]
  },
  {
   "cell_type": "code",
   "execution_count": null,
   "id": "419f37fe",
   "metadata": {},
   "outputs": [],
   "source": [
    "#recall shape column\n",
    "df_ebay.shape[1]"
   ]
  },
  {
   "attachments": {},
   "cell_type": "markdown",
   "id": "6649561a",
   "metadata": {},
   "source": [
    "Let check out the distributions, we are going to loop over the columns and print some subplot."
   ]
  },
  {
   "cell_type": "code",
   "execution_count": null,
   "id": "16ababed",
   "metadata": {},
   "outputs": [],
   "source": [
    "#checking the b2c_c2c column\n",
    "df_ebay['b2c_c2c'].value_counts()"
   ]
  },
  {
   "attachments": {},
   "cell_type": "markdown",
   "id": "7265d608",
   "metadata": {},
   "source": [
    "Convert `b2c_c2c` column to binary"
   ]
  },
  {
   "cell_type": "code",
   "execution_count": null,
   "id": "419f37fe",
   "metadata": {},
   "outputs": [],
   "source": [
    "df_ebay['b2c_c2c']= np.where(df_ebay['b2c_c2c']=='B2C', 1, 0)"
   ]
  },
  {
   "attachments": {},
   "cell_type": "markdown",
   "id": "e487cece",
   "metadata": {},
   "source": [
    "Test it"
   ]
  },
  {
   "cell_type": "code",
   "execution_count": null,
   "id": "c441e935",
   "metadata": {},
   "outputs": [],
   "source": [
    "df_ebay.head()"
   ]
  },
  {
   "attachments": {},
   "cell_type": "markdown",
   "id": "42373f00",
   "metadata": {},
   "source": [
    "There is 2 `weight_units` is 1 and 2. Let say 1 - 's' and 2 - 'kg'. We are going to convert all the weight units to lb."
   ]
  },
  {
   "cell_type": "code",
   "execution_count": null,
   "id": "6a4f722d",
   "metadata": {},
   "outputs": [],
   "source": [
    "#check the record has weigtht unit =2 to able to compare\n",
    "df_ebay[df_ebay['weight_units']==2].head()"
   ]
  },
  {
   "cell_type": "code",
   "execution_count": null,
   "id": "841a3056",
   "metadata": {},
   "outputs": [],
   "source": [
    "df_ebay['weight'] = np.where(df_ebay['weight_units']==1, df_ebay['weight'], df_ebay['weight']*2.20462 )"
   ]
  },
  {
   "attachments": {},
   "cell_type": "markdown",
   "id": "639a420d",
   "metadata": {},
   "source": [
    "check the record with `weight_units`=2 to see if the `weight` column is change"
   ]
  },
  {
   "cell_type": "code",
   "execution_count": null,
   "id": "3a3a77e9",
   "metadata": {},
   "outputs": [],
   "source": [
    "df_ebay[df_ebay['weight_units']==2]"
   ]
  },
  {
   "attachments": {},
   "cell_type": "markdown",
   "id": "b5609392",
   "metadata": {},
   "source": [
    "All the `weight` with the `weight_units` = 2 are convert to the **lb** unit. So now we do not need to keep the weight column since all the weight is in the **lb**. Therefore, we are going to drop the `weight column`."
   ]
  },
  {
   "cell_type": "code",
   "execution_count": null,
   "id": "5fd9e287",
   "metadata": {},
   "outputs": [],
   "source": [
    "df_ebay.drop(columns='weight', axis=1, inplace=True)\n"
   ]
  },
  {
   "cell_type": "code",
   "execution_count": null,
   "id": "a02d6e10",
   "metadata": {},
   "outputs": [],
   "source": [
    "#check it\n",
    "df_ebay.info()"
   ]
  },
  {
   "attachments": {},
   "cell_type": "markdown",
   "id": "3894a05b",
   "metadata": {},
   "source": [
    "The `weigth` column has been dropped. Next we are going to calculate the distance between the buyer and the seller buy using there zip code in the `item_zip` and `buyer_zip` columns."
   ]
  },
  {
   "cell_type": "code",
   "execution_count": null,
   "id": "1043b4e3",
   "metadata": {},
   "outputs": [],
   "source": [
    "#check any null value in these columns.\n",
    "print(df_ebay['item_zip'].isna().any())\n",
    "print(df_ebay['buyer_zip'].isna().any())"
   ]
  },
  {
   "cell_type": "code",
   "execution_count": null,
   "id": "c11c69a7",
   "metadata": {},
   "outputs": [],
   "source": [
    "item_zip= df_ebay['item_zip']\n",
    "buyer_zip= df_ebay['buyer_zip']"
   ]
  },
  {
   "cell_type": "code",
   "execution_count": null,
   "id": "9adf328f",
   "metadata": {},
   "outputs": [],
   "source": [
    "# function to calculate distance between 2 zip codeusing Geocode. this function take more time to process. So We change to other package \n",
    "# country = Nominatim(user_agent=\"US\")\n",
    "# distance= []\n",
    "# def distance_cal(item_zip, buyer_zip):\n",
    "# # for i in range(len(buyer_zip)):\n",
    "#     if buyer_zip and item_zip:\n",
    "#         location1= country.geocode(item_zip)\n",
    "#         location2= country.geocode(buyer_zip)\n",
    "#         if location1 is None or location2 is None:\n",
    "#             return None\n",
    "#         lat1 = location1.latitude \n",
    "#         lon1 = location1.longitude\n",
    "#         lat2 = location2.latitude\n",
    "#         lon2 = location2.longitude\n",
    "#         # distance between them\n",
    "#         if lat1 is not None or lon1 is not None or lat2 is not None or lon2 is not None:\n",
    "#             return geodesic((lat1, lon1), (lat2, lon2)).miles\n",
    "#         else:\n",
    "#             return None\n",
    "#     else:\n",
    "#         return None   \n",
    "    \n",
    "# def add_distance_col(item_zip, buyer_zip):\n",
    "#     item = item_zip.apply(lambda x: str(x))\n",
    "#     buyer = buyer_zip.apply(lambda x: str(x))\n",
    "\n",
    "#     zips= pd.concat([item, buyer], axis=1)\n",
    "#     zips['distance']= zips.apply(lambda x: distance_cal(x.item_zip, x.buyer_zip), axis=1)\n",
    "#     return(zips)\n",
    "# add_distance_col(item_zip, buyer_zip)"
   ]
  },
  {
   "cell_type": "code",
   "execution_count": null,
   "id": "5ffc6c00",
   "metadata": {},
   "outputs": [],
   "source": [
    "import mpu\n",
    "from uszipcode import SearchEngine\n",
    "\n",
    "def get_distance(item_zip, buyer_zip):\n",
    "    \"\"\"\n",
    "    We are going to use the package mpu and uszipcode to imporve the speed of calculating the distance between buyer and seller by using zip code. \n",
    "    These 2 packages make the speed of calculation much faster compare with using the geopy package\n",
    "    \"\"\"\n",
    "    if item_zip is not None and buyer_zip is not None:\n",
    "        search = SearchEngine()\n",
    "        item_location = search.by_zipcode(item_zip[0:5])\n",
    "        buyer_location =search.by_zipcode(buyer_zip[0:5])\n",
    "        if item_location is None or buyer_location is None:\n",
    "            return None\n",
    "        else:\n",
    "            lat1 =item_location.lat\n",
    "            long1 =item_location.lng\n",
    "            lat2 =buyer_location.lat\n",
    "            long2 =buyer_location.lng\n",
    "            if lat1 is None or lat2 is None or long1 is None or long2 is None:\n",
    "                return None\n",
    "            return mpu.haversine_distance((lat1,long1),(lat2,long2)) \n",
    "    else:\n",
    "        return None\n",
    "\n",
    "\n",
    "def add_zip_distance_column(item_zip, buyer_zip):\n",
    "    item_zip_str = item_zip.apply(lambda x: str(x))\n",
    "    buyer_zip_str = buyer_zip.apply(lambda x: str(x))\n",
    "\n",
    "    zips = pd.concat([item_zip_str, buyer_zip_str], axis=1)\n",
    "\n",
    "    zips['distance'] = zips.apply(lambda x: get_distance(x.item_zip, x.buyer_zip), axis=1)\n",
    "    \n",
    "    return zips['distance']"
   ]
  },
  {
   "cell_type": "code",
   "execution_count": null,
   "id": "154132b4",
   "metadata": {},
   "outputs": [],
   "source": [
    "distance = add_zip_distance_column(item_zip, buyer_zip)"
   ]
  },
  {
   "attachments": {},
   "cell_type": "markdown",
   "id": "0431bd71",
   "metadata": {},
   "source": [
    "Add the value of the distance in to the data frame"
   ]
  },
  {
   "cell_type": "code",
   "execution_count": null,
   "id": "57803421",
   "metadata": {},
   "outputs": [],
   "source": [
    "df_ebay['distance']= distance\n",
    "df_ebay.head(10)"
   ]
  },
  {
   "attachments": {},
   "cell_type": "markdown",
   "id": "2c7ce090",
   "metadata": {},
   "source": [
    " we also delete the `buyer_zip` and `item_zip` column since it is no more usefull when we have the distance"
   ]
  },
  {
   "attachments": {},
   "cell_type": "markdown",
   "id": "ef6430ba",
   "metadata": {},
   "source": []
  }
 ],
 "metadata": {
  "kernelspec": {
   "display_name": "Python 3 (ipykernel)",
   "language": "python",
   "name": "python3"
  },
  "language_info": {
   "codemirror_mode": {
    "name": "ipython",
    "version": 3
   },
   "file_extension": ".py",
   "mimetype": "text/x-python",
   "name": "python",
   "nbconvert_exporter": "python",
   "pygments_lexer": "ipython3",
   "version": "3.10.9"
  }
 },
 "nbformat": 4,
 "nbformat_minor": 5
}
