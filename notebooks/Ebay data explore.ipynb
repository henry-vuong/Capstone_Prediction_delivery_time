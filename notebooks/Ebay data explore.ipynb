{
 "cells": [
  {
   "attachments": {},
   "cell_type": "markdown",
   "id": "68767797",
   "metadata": {},
   "source": [
    "# Prediction Delivery Time"
   ]
  },
  {
   "attachments": {},
   "cell_type": "markdown",
   "id": "0c543189",
   "metadata": {},
   "source": []
  },
  {
   "attachments": {},
   "cell_type": "markdown",
   "id": "0228b123",
   "metadata": {},
   "source": [
    "# EDA Dataset"
   ]
  },
  {
   "attachments": {},
   "cell_type": "markdown",
   "id": "2a1e1ae1",
   "metadata": {},
   "source": [
    "## Explore"
   ]
  },
  {
   "cell_type": "code",
   "execution_count": 60,
   "id": "7cb2a21b",
   "metadata": {},
   "outputs": [],
   "source": [
    "import numpy as np\n",
    "import pandas as pd\n",
    "import matplotlib.pyplot as plt\n",
    "import seaborn as sns   \n",
    "from geopy.distance import geodesic\n",
    "from geopy.geocoders import Nominatim"
   ]
  },
  {
   "cell_type": "code",
   "execution_count": 2,
   "id": "da1b9e79",
   "metadata": {
    "scrolled": true
   },
   "outputs": [
    {
     "data": {
      "text/plain": [
       "array([0, 1, 2, 3, 4, 5, 6, 7, 8, 9])"
      ]
     },
     "execution_count": 2,
     "metadata": {},
     "output_type": "execute_result"
    }
   ],
   "source": [
    "list1 =np.array(range(10))\n",
    "list1"
   ]
  },
  {
   "cell_type": "code",
   "execution_count": 3,
   "id": "91a6b988",
   "metadata": {
    "scrolled": false
   },
   "outputs": [],
   "source": [
    "df_ebay = pd.read_csv('../data/raw/ebayShort.csv', index_col=0)"
   ]
  },
  {
   "attachments": {},
   "cell_type": "markdown",
   "id": "e85df53c",
   "metadata": {},
   "source": [
    "As the data is too big, we first working in the shortcut of the total data with 1 million rows."
   ]
  },
  {
   "cell_type": "code",
   "execution_count": 4,
   "id": "7962e25e",
   "metadata": {},
   "outputs": [
    {
     "data": {
      "text/html": [
       "<div>\n",
       "<style scoped>\n",
       "    .dataframe tbody tr th:only-of-type {\n",
       "        vertical-align: middle;\n",
       "    }\n",
       "\n",
       "    .dataframe tbody tr th {\n",
       "        vertical-align: top;\n",
       "    }\n",
       "\n",
       "    .dataframe thead th {\n",
       "        text-align: right;\n",
       "    }\n",
       "</style>\n",
       "<table border=\"1\" class=\"dataframe\">\n",
       "  <thead>\n",
       "    <tr style=\"text-align: right;\">\n",
       "      <th></th>\n",
       "      <th>b2c_c2c</th>\n",
       "      <th>seller_id</th>\n",
       "      <th>declared_handling_days</th>\n",
       "      <th>acceptance_scan_timestamp</th>\n",
       "      <th>shipment_method_id</th>\n",
       "      <th>shipping_fee</th>\n",
       "      <th>carrier_min_estimate</th>\n",
       "      <th>carrier_max_estimate</th>\n",
       "      <th>item_zip</th>\n",
       "      <th>buyer_zip</th>\n",
       "      <th>category_id</th>\n",
       "      <th>item_price</th>\n",
       "      <th>quantity</th>\n",
       "      <th>payment_datetime</th>\n",
       "      <th>delivery_date</th>\n",
       "      <th>weight</th>\n",
       "      <th>weight_units</th>\n",
       "      <th>package_size</th>\n",
       "      <th>record_number</th>\n",
       "    </tr>\n",
       "  </thead>\n",
       "  <tbody>\n",
       "    <tr>\n",
       "      <th>0</th>\n",
       "      <td>B2C</td>\n",
       "      <td>25454</td>\n",
       "      <td>3.0</td>\n",
       "      <td>2019-03-26 15:11:00.000-07:00</td>\n",
       "      <td>0</td>\n",
       "      <td>0.0</td>\n",
       "      <td>3</td>\n",
       "      <td>5</td>\n",
       "      <td>97219</td>\n",
       "      <td>49040</td>\n",
       "      <td>13</td>\n",
       "      <td>27.95</td>\n",
       "      <td>1</td>\n",
       "      <td>2019-03-24 03:56:49.000-07:00</td>\n",
       "      <td>2019-03-29</td>\n",
       "      <td>5</td>\n",
       "      <td>1</td>\n",
       "      <td>LETTER</td>\n",
       "      <td>1</td>\n",
       "    </tr>\n",
       "    <tr>\n",
       "      <th>1</th>\n",
       "      <td>C2C</td>\n",
       "      <td>6727381</td>\n",
       "      <td>2.0</td>\n",
       "      <td>2018-06-02 12:53:00.000-07:00</td>\n",
       "      <td>0</td>\n",
       "      <td>3.0</td>\n",
       "      <td>3</td>\n",
       "      <td>5</td>\n",
       "      <td>11415-3528</td>\n",
       "      <td>62521</td>\n",
       "      <td>0</td>\n",
       "      <td>20.50</td>\n",
       "      <td>1</td>\n",
       "      <td>2018-06-01 13:43:54.000-07:00</td>\n",
       "      <td>2018-06-05</td>\n",
       "      <td>0</td>\n",
       "      <td>1</td>\n",
       "      <td>PACKAGE_THICK_ENVELOPE</td>\n",
       "      <td>2</td>\n",
       "    </tr>\n",
       "    <tr>\n",
       "      <th>2</th>\n",
       "      <td>B2C</td>\n",
       "      <td>18507</td>\n",
       "      <td>1.0</td>\n",
       "      <td>2019-01-07 16:22:00.000-05:00</td>\n",
       "      <td>0</td>\n",
       "      <td>4.5</td>\n",
       "      <td>3</td>\n",
       "      <td>5</td>\n",
       "      <td>27292</td>\n",
       "      <td>53010</td>\n",
       "      <td>1</td>\n",
       "      <td>19.90</td>\n",
       "      <td>1</td>\n",
       "      <td>2019-01-06 00:02:00.000-05:00</td>\n",
       "      <td>2019-01-10</td>\n",
       "      <td>9</td>\n",
       "      <td>1</td>\n",
       "      <td>PACKAGE_THICK_ENVELOPE</td>\n",
       "      <td>3</td>\n",
       "    </tr>\n",
       "    <tr>\n",
       "      <th>3</th>\n",
       "      <td>B2C</td>\n",
       "      <td>4677</td>\n",
       "      <td>1.0</td>\n",
       "      <td>2018-12-17 16:56:00.000-08:00</td>\n",
       "      <td>0</td>\n",
       "      <td>0.0</td>\n",
       "      <td>3</td>\n",
       "      <td>5</td>\n",
       "      <td>90703</td>\n",
       "      <td>80022</td>\n",
       "      <td>1</td>\n",
       "      <td>35.50</td>\n",
       "      <td>1</td>\n",
       "      <td>2018-12-16 10:28:28.000-08:00</td>\n",
       "      <td>2018-12-21</td>\n",
       "      <td>8</td>\n",
       "      <td>1</td>\n",
       "      <td>PACKAGE_THICK_ENVELOPE</td>\n",
       "      <td>4</td>\n",
       "    </tr>\n",
       "    <tr>\n",
       "      <th>4</th>\n",
       "      <td>B2C</td>\n",
       "      <td>4677</td>\n",
       "      <td>1.0</td>\n",
       "      <td>2018-07-27 16:48:00.000-07:00</td>\n",
       "      <td>0</td>\n",
       "      <td>0.0</td>\n",
       "      <td>3</td>\n",
       "      <td>5</td>\n",
       "      <td>90703</td>\n",
       "      <td>55070</td>\n",
       "      <td>1</td>\n",
       "      <td>25.00</td>\n",
       "      <td>1</td>\n",
       "      <td>2018-07-26 18:20:02.000-07:00</td>\n",
       "      <td>2018-07-30</td>\n",
       "      <td>3</td>\n",
       "      <td>1</td>\n",
       "      <td>PACKAGE_THICK_ENVELOPE</td>\n",
       "      <td>5</td>\n",
       "    </tr>\n",
       "  </tbody>\n",
       "</table>\n",
       "</div>"
      ],
      "text/plain": [
       "  b2c_c2c  seller_id  declared_handling_days      acceptance_scan_timestamp  \\\n",
       "0     B2C      25454                     3.0  2019-03-26 15:11:00.000-07:00   \n",
       "1     C2C    6727381                     2.0  2018-06-02 12:53:00.000-07:00   \n",
       "2     B2C      18507                     1.0  2019-01-07 16:22:00.000-05:00   \n",
       "3     B2C       4677                     1.0  2018-12-17 16:56:00.000-08:00   \n",
       "4     B2C       4677                     1.0  2018-07-27 16:48:00.000-07:00   \n",
       "\n",
       "   shipment_method_id  shipping_fee  carrier_min_estimate  \\\n",
       "0                   0           0.0                     3   \n",
       "1                   0           3.0                     3   \n",
       "2                   0           4.5                     3   \n",
       "3                   0           0.0                     3   \n",
       "4                   0           0.0                     3   \n",
       "\n",
       "   carrier_max_estimate    item_zip buyer_zip  category_id  item_price  \\\n",
       "0                     5       97219     49040           13       27.95   \n",
       "1                     5  11415-3528     62521            0       20.50   \n",
       "2                     5       27292     53010            1       19.90   \n",
       "3                     5       90703     80022            1       35.50   \n",
       "4                     5       90703     55070            1       25.00   \n",
       "\n",
       "   quantity               payment_datetime delivery_date  weight  \\\n",
       "0         1  2019-03-24 03:56:49.000-07:00    2019-03-29       5   \n",
       "1         1  2018-06-01 13:43:54.000-07:00    2018-06-05       0   \n",
       "2         1  2019-01-06 00:02:00.000-05:00    2019-01-10       9   \n",
       "3         1  2018-12-16 10:28:28.000-08:00    2018-12-21       8   \n",
       "4         1  2018-07-26 18:20:02.000-07:00    2018-07-30       3   \n",
       "\n",
       "   weight_units            package_size  record_number  \n",
       "0             1                  LETTER              1  \n",
       "1             1  PACKAGE_THICK_ENVELOPE              2  \n",
       "2             1  PACKAGE_THICK_ENVELOPE              3  \n",
       "3             1  PACKAGE_THICK_ENVELOPE              4  \n",
       "4             1  PACKAGE_THICK_ENVELOPE              5  "
      ]
     },
     "execution_count": 4,
     "metadata": {},
     "output_type": "execute_result"
    }
   ],
   "source": [
    "# Look at the first 5 row\n",
    "\n",
    "df_ebay.head()"
   ]
  },
  {
   "cell_type": "code",
   "execution_count": 5,
   "id": "d2b54046",
   "metadata": {},
   "outputs": [
    {
     "data": {
      "text/html": [
       "<div>\n",
       "<style scoped>\n",
       "    .dataframe tbody tr th:only-of-type {\n",
       "        vertical-align: middle;\n",
       "    }\n",
       "\n",
       "    .dataframe tbody tr th {\n",
       "        vertical-align: top;\n",
       "    }\n",
       "\n",
       "    .dataframe thead th {\n",
       "        text-align: right;\n",
       "    }\n",
       "</style>\n",
       "<table border=\"1\" class=\"dataframe\">\n",
       "  <thead>\n",
       "    <tr style=\"text-align: right;\">\n",
       "      <th></th>\n",
       "      <th>b2c_c2c</th>\n",
       "      <th>seller_id</th>\n",
       "      <th>declared_handling_days</th>\n",
       "      <th>acceptance_scan_timestamp</th>\n",
       "      <th>shipment_method_id</th>\n",
       "      <th>shipping_fee</th>\n",
       "      <th>carrier_min_estimate</th>\n",
       "      <th>carrier_max_estimate</th>\n",
       "      <th>item_zip</th>\n",
       "      <th>buyer_zip</th>\n",
       "      <th>category_id</th>\n",
       "      <th>item_price</th>\n",
       "      <th>quantity</th>\n",
       "      <th>payment_datetime</th>\n",
       "      <th>delivery_date</th>\n",
       "      <th>weight</th>\n",
       "      <th>weight_units</th>\n",
       "      <th>package_size</th>\n",
       "      <th>record_number</th>\n",
       "    </tr>\n",
       "  </thead>\n",
       "  <tbody>\n",
       "    <tr>\n",
       "      <th>711858</th>\n",
       "      <td>B2C</td>\n",
       "      <td>37648</td>\n",
       "      <td>2.0</td>\n",
       "      <td>2019-09-09 14:16:00.000-07:00</td>\n",
       "      <td>4</td>\n",
       "      <td>12.99</td>\n",
       "      <td>2</td>\n",
       "      <td>9</td>\n",
       "      <td>90621</td>\n",
       "      <td>32505</td>\n",
       "      <td>10</td>\n",
       "      <td>20.00</td>\n",
       "      <td>1</td>\n",
       "      <td>2019-09-06 18:03:06.000-07:00</td>\n",
       "      <td>2019-09-11</td>\n",
       "      <td>0</td>\n",
       "      <td>1</td>\n",
       "      <td>PACKAGE_THICK_ENVELOPE</td>\n",
       "      <td>711859</td>\n",
       "    </tr>\n",
       "    <tr>\n",
       "      <th>697423</th>\n",
       "      <td>B2C</td>\n",
       "      <td>155043</td>\n",
       "      <td>0.0</td>\n",
       "      <td>2018-03-06 20:26:00.000-08:00</td>\n",
       "      <td>0</td>\n",
       "      <td>0.00</td>\n",
       "      <td>3</td>\n",
       "      <td>5</td>\n",
       "      <td>92677</td>\n",
       "      <td>46051</td>\n",
       "      <td>23</td>\n",
       "      <td>85.00</td>\n",
       "      <td>4</td>\n",
       "      <td>2018-03-05 18:05:08.000-08:00</td>\n",
       "      <td>2018-03-08</td>\n",
       "      <td>32</td>\n",
       "      <td>1</td>\n",
       "      <td>PACKAGE_THICK_ENVELOPE</td>\n",
       "      <td>697424</td>\n",
       "    </tr>\n",
       "    <tr>\n",
       "      <th>434243</th>\n",
       "      <td>C2C</td>\n",
       "      <td>1402112</td>\n",
       "      <td>1.0</td>\n",
       "      <td>2019-09-23 10:04:00.000-07:00</td>\n",
       "      <td>0</td>\n",
       "      <td>5.00</td>\n",
       "      <td>3</td>\n",
       "      <td>5</td>\n",
       "      <td>98372</td>\n",
       "      <td>49009</td>\n",
       "      <td>6</td>\n",
       "      <td>150.00</td>\n",
       "      <td>1</td>\n",
       "      <td>2019-09-20 06:40:25.000-07:00</td>\n",
       "      <td>2019-09-26</td>\n",
       "      <td>12</td>\n",
       "      <td>1</td>\n",
       "      <td>PACKAGE_THICK_ENVELOPE</td>\n",
       "      <td>434244</td>\n",
       "    </tr>\n",
       "    <tr>\n",
       "      <th>658082</th>\n",
       "      <td>B2C</td>\n",
       "      <td>90</td>\n",
       "      <td>2.0</td>\n",
       "      <td>2018-11-26 16:19:00.000-05:00</td>\n",
       "      <td>0</td>\n",
       "      <td>0.00</td>\n",
       "      <td>3</td>\n",
       "      <td>5</td>\n",
       "      <td>43026</td>\n",
       "      <td>98277</td>\n",
       "      <td>1</td>\n",
       "      <td>31.46</td>\n",
       "      <td>1</td>\n",
       "      <td>2018-11-24 10:21:00.000-05:00</td>\n",
       "      <td>2018-12-01</td>\n",
       "      <td>3</td>\n",
       "      <td>1</td>\n",
       "      <td>PACKAGE_THICK_ENVELOPE</td>\n",
       "      <td>658083</td>\n",
       "    </tr>\n",
       "    <tr>\n",
       "      <th>778534</th>\n",
       "      <td>B2C</td>\n",
       "      <td>531</td>\n",
       "      <td>0.0</td>\n",
       "      <td>2018-04-27 14:17:00.000-07:00</td>\n",
       "      <td>0</td>\n",
       "      <td>0.00</td>\n",
       "      <td>3</td>\n",
       "      <td>5</td>\n",
       "      <td>98375</td>\n",
       "      <td>39531</td>\n",
       "      <td>2</td>\n",
       "      <td>11.01</td>\n",
       "      <td>1</td>\n",
       "      <td>2018-04-27 08:08:03.000-07:00</td>\n",
       "      <td>2018-04-30</td>\n",
       "      <td>1</td>\n",
       "      <td>1</td>\n",
       "      <td>PACKAGE_THICK_ENVELOPE</td>\n",
       "      <td>778535</td>\n",
       "    </tr>\n",
       "  </tbody>\n",
       "</table>\n",
       "</div>"
      ],
      "text/plain": [
       "       b2c_c2c  seller_id  declared_handling_days  \\\n",
       "711858     B2C      37648                     2.0   \n",
       "697423     B2C     155043                     0.0   \n",
       "434243     C2C    1402112                     1.0   \n",
       "658082     B2C         90                     2.0   \n",
       "778534     B2C        531                     0.0   \n",
       "\n",
       "            acceptance_scan_timestamp  shipment_method_id  shipping_fee  \\\n",
       "711858  2019-09-09 14:16:00.000-07:00                   4         12.99   \n",
       "697423  2018-03-06 20:26:00.000-08:00                   0          0.00   \n",
       "434243  2019-09-23 10:04:00.000-07:00                   0          5.00   \n",
       "658082  2018-11-26 16:19:00.000-05:00                   0          0.00   \n",
       "778534  2018-04-27 14:17:00.000-07:00                   0          0.00   \n",
       "\n",
       "        carrier_min_estimate  carrier_max_estimate item_zip buyer_zip  \\\n",
       "711858                     2                     9    90621     32505   \n",
       "697423                     3                     5    92677     46051   \n",
       "434243                     3                     5    98372     49009   \n",
       "658082                     3                     5    43026     98277   \n",
       "778534                     3                     5    98375     39531   \n",
       "\n",
       "        category_id  item_price  quantity               payment_datetime  \\\n",
       "711858           10       20.00         1  2019-09-06 18:03:06.000-07:00   \n",
       "697423           23       85.00         4  2018-03-05 18:05:08.000-08:00   \n",
       "434243            6      150.00         1  2019-09-20 06:40:25.000-07:00   \n",
       "658082            1       31.46         1  2018-11-24 10:21:00.000-05:00   \n",
       "778534            2       11.01         1  2018-04-27 08:08:03.000-07:00   \n",
       "\n",
       "       delivery_date  weight  weight_units            package_size  \\\n",
       "711858    2019-09-11       0             1  PACKAGE_THICK_ENVELOPE   \n",
       "697423    2018-03-08      32             1  PACKAGE_THICK_ENVELOPE   \n",
       "434243    2019-09-26      12             1  PACKAGE_THICK_ENVELOPE   \n",
       "658082    2018-12-01       3             1  PACKAGE_THICK_ENVELOPE   \n",
       "778534    2018-04-30       1             1  PACKAGE_THICK_ENVELOPE   \n",
       "\n",
       "        record_number  \n",
       "711858         711859  \n",
       "697423         697424  \n",
       "434243         434244  \n",
       "658082         658083  \n",
       "778534         778535  "
      ]
     },
     "execution_count": 5,
     "metadata": {},
     "output_type": "execute_result"
    }
   ],
   "source": [
    "#Look at 5 random row\n",
    "df_ebay.sample(5)"
   ]
  },
  {
   "cell_type": "code",
   "execution_count": 6,
   "id": "433d66e8",
   "metadata": {},
   "outputs": [
    {
     "data": {
      "text/plain": [
       "(1000000, 19)"
      ]
     },
     "execution_count": 6,
     "metadata": {},
     "output_type": "execute_result"
    }
   ],
   "source": [
    "#check the shape of the dataset\n",
    "df_ebay.shape"
   ]
  },
  {
   "cell_type": "code",
   "execution_count": 7,
   "id": "9c3ad0b0",
   "metadata": {},
   "outputs": [
    {
     "name": "stdout",
     "output_type": "stream",
     "text": [
      "There are 1000000 columns and 19 rows\n"
     ]
    }
   ],
   "source": [
    "print(f'There are {df_ebay.shape[0]} columns and {df_ebay.shape[1]} rows')"
   ]
  },
  {
   "cell_type": "code",
   "execution_count": 8,
   "id": "893fa645",
   "metadata": {},
   "outputs": [
    {
     "name": "stdout",
     "output_type": "stream",
     "text": [
      "<class 'pandas.core.frame.DataFrame'>\n",
      "Int64Index: 1000000 entries, 0 to 999999\n",
      "Data columns (total 19 columns):\n",
      " #   Column                     Non-Null Count    Dtype  \n",
      "---  ------                     --------------    -----  \n",
      " 0   b2c_c2c                    1000000 non-null  object \n",
      " 1   seller_id                  1000000 non-null  int64  \n",
      " 2   declared_handling_days     952820 non-null   float64\n",
      " 3   acceptance_scan_timestamp  1000000 non-null  object \n",
      " 4   shipment_method_id         1000000 non-null  int64  \n",
      " 5   shipping_fee               1000000 non-null  float64\n",
      " 6   carrier_min_estimate       1000000 non-null  int64  \n",
      " 7   carrier_max_estimate       1000000 non-null  int64  \n",
      " 8   item_zip                   1000000 non-null  object \n",
      " 9   buyer_zip                  1000000 non-null  object \n",
      " 10  category_id                1000000 non-null  int64  \n",
      " 11  item_price                 1000000 non-null  float64\n",
      " 12  quantity                   1000000 non-null  int64  \n",
      " 13  payment_datetime           1000000 non-null  object \n",
      " 14  delivery_date              1000000 non-null  object \n",
      " 15  weight                     1000000 non-null  int64  \n",
      " 16  weight_units               1000000 non-null  int64  \n",
      " 17  package_size               1000000 non-null  object \n",
      " 18  record_number              1000000 non-null  int64  \n",
      "dtypes: float64(3), int64(9), object(7)\n",
      "memory usage: 152.6+ MB\n"
     ]
    }
   ],
   "source": [
    "# Get a quick overview of dataset variables\n",
    "df_ebay.info()"
   ]
  },
  {
   "cell_type": "code",
   "execution_count": 9,
   "id": "309d3385",
   "metadata": {},
   "outputs": [
    {
     "data": {
      "text/html": [
       "<div>\n",
       "<style scoped>\n",
       "    .dataframe tbody tr th:only-of-type {\n",
       "        vertical-align: middle;\n",
       "    }\n",
       "\n",
       "    .dataframe tbody tr th {\n",
       "        vertical-align: top;\n",
       "    }\n",
       "\n",
       "    .dataframe thead th {\n",
       "        text-align: right;\n",
       "    }\n",
       "</style>\n",
       "<table border=\"1\" class=\"dataframe\">\n",
       "  <thead>\n",
       "    <tr style=\"text-align: right;\">\n",
       "      <th></th>\n",
       "      <th>b2c_c2c</th>\n",
       "      <th>acceptance_scan_timestamp</th>\n",
       "      <th>item_zip</th>\n",
       "      <th>buyer_zip</th>\n",
       "      <th>payment_datetime</th>\n",
       "      <th>delivery_date</th>\n",
       "      <th>package_size</th>\n",
       "    </tr>\n",
       "  </thead>\n",
       "  <tbody>\n",
       "    <tr>\n",
       "      <th>0</th>\n",
       "      <td>B2C</td>\n",
       "      <td>2019-03-26 15:11:00.000-07:00</td>\n",
       "      <td>97219</td>\n",
       "      <td>49040</td>\n",
       "      <td>2019-03-24 03:56:49.000-07:00</td>\n",
       "      <td>2019-03-29</td>\n",
       "      <td>LETTER</td>\n",
       "    </tr>\n",
       "    <tr>\n",
       "      <th>1</th>\n",
       "      <td>C2C</td>\n",
       "      <td>2018-06-02 12:53:00.000-07:00</td>\n",
       "      <td>11415-3528</td>\n",
       "      <td>62521</td>\n",
       "      <td>2018-06-01 13:43:54.000-07:00</td>\n",
       "      <td>2018-06-05</td>\n",
       "      <td>PACKAGE_THICK_ENVELOPE</td>\n",
       "    </tr>\n",
       "    <tr>\n",
       "      <th>2</th>\n",
       "      <td>B2C</td>\n",
       "      <td>2019-01-07 16:22:00.000-05:00</td>\n",
       "      <td>27292</td>\n",
       "      <td>53010</td>\n",
       "      <td>2019-01-06 00:02:00.000-05:00</td>\n",
       "      <td>2019-01-10</td>\n",
       "      <td>PACKAGE_THICK_ENVELOPE</td>\n",
       "    </tr>\n",
       "    <tr>\n",
       "      <th>3</th>\n",
       "      <td>B2C</td>\n",
       "      <td>2018-12-17 16:56:00.000-08:00</td>\n",
       "      <td>90703</td>\n",
       "      <td>80022</td>\n",
       "      <td>2018-12-16 10:28:28.000-08:00</td>\n",
       "      <td>2018-12-21</td>\n",
       "      <td>PACKAGE_THICK_ENVELOPE</td>\n",
       "    </tr>\n",
       "    <tr>\n",
       "      <th>4</th>\n",
       "      <td>B2C</td>\n",
       "      <td>2018-07-27 16:48:00.000-07:00</td>\n",
       "      <td>90703</td>\n",
       "      <td>55070</td>\n",
       "      <td>2018-07-26 18:20:02.000-07:00</td>\n",
       "      <td>2018-07-30</td>\n",
       "      <td>PACKAGE_THICK_ENVELOPE</td>\n",
       "    </tr>\n",
       "  </tbody>\n",
       "</table>\n",
       "</div>"
      ],
      "text/plain": [
       "  b2c_c2c      acceptance_scan_timestamp    item_zip buyer_zip  \\\n",
       "0     B2C  2019-03-26 15:11:00.000-07:00       97219     49040   \n",
       "1     C2C  2018-06-02 12:53:00.000-07:00  11415-3528     62521   \n",
       "2     B2C  2019-01-07 16:22:00.000-05:00       27292     53010   \n",
       "3     B2C  2018-12-17 16:56:00.000-08:00       90703     80022   \n",
       "4     B2C  2018-07-27 16:48:00.000-07:00       90703     55070   \n",
       "\n",
       "                payment_datetime delivery_date            package_size  \n",
       "0  2019-03-24 03:56:49.000-07:00    2019-03-29                  LETTER  \n",
       "1  2018-06-01 13:43:54.000-07:00    2018-06-05  PACKAGE_THICK_ENVELOPE  \n",
       "2  2019-01-06 00:02:00.000-05:00    2019-01-10  PACKAGE_THICK_ENVELOPE  \n",
       "3  2018-12-16 10:28:28.000-08:00    2018-12-21  PACKAGE_THICK_ENVELOPE  \n",
       "4  2018-07-26 18:20:02.000-07:00    2018-07-30  PACKAGE_THICK_ENVELOPE  "
      ]
     },
     "execution_count": 9,
     "metadata": {},
     "output_type": "execute_result"
    }
   ],
   "source": [
    "# top 5 rows showing only 'object' columns\n",
    "df_ebay.select_dtypes('object').head()"
   ]
  },
  {
   "cell_type": "code",
   "execution_count": 64,
   "id": "3a140d0e",
   "metadata": {},
   "outputs": [
    {
     "data": {
      "text/plain": [
       "<Figure size 1400x2600 with 0 Axes>"
      ]
     },
     "metadata": {},
     "output_type": "display_data"
    },
    {
     "data": {
      "image/png": "[encoded data removed]",
      "text/plain": [
       "<Figure size 640x480 with 4 Axes>"
      ]
     },
     "metadata": {},
     "output_type": "display_data"
    }
   ],
   "source": [
    "plt.figure(figsize=(14, 26))\n",
    "plt.subplots(2, 2)\n",
    "\n",
    "plt.subplot(2, 2, 1)\n",
    "plt.pie(df_ebay['b2c_c2c'].value_counts(), labels= df_ebay['b2c_c2c'].unique(), labeldistance=0.3, autopct='%1.1f%%')\n",
    "plt.title('portion of B2C and C2C')\n",
    "\n",
    "plt.subplot(2, 2, 2)\n",
    "plt.scatter( df_ebay['item_price'], df_ebay['carrier_max_estimate'])\n",
    "\n",
    "plt.show()"
   ]
  },
  {
   "cell_type": "code",
   "execution_count": null,
   "id": "66f0c027",
   "metadata": {},
   "outputs": [],
   "source": []
  },
  {
   "attachments": {},
   "cell_type": "markdown",
   "id": "edc3e2ce",
   "metadata": {},
   "source": [
    "## Data Cleaning"
   ]
  },
  {
   "attachments": {},
   "cell_type": "markdown",
   "id": "0fcd7f0e",
   "metadata": {},
   "source": [
    "First let do some common checking in the dataset.\n",
    " -  Null value\n",
    " -  Duplicate row"
   ]
  },
  {
   "cell_type": "code",
   "execution_count": 11,
   "id": "fe190cea",
   "metadata": {},
   "outputs": [
    {
     "data": {
      "text/plain": [
       "b2c_c2c                          0\n",
       "seller_id                        0\n",
       "declared_handling_days       47180\n",
       "acceptance_scan_timestamp        0\n",
       "shipment_method_id               0\n",
       "shipping_fee                     0\n",
       "carrier_min_estimate             0\n",
       "carrier_max_estimate             0\n",
       "item_zip                         0\n",
       "buyer_zip                        0\n",
       "category_id                      0\n",
       "item_price                       0\n",
       "quantity                         0\n",
       "payment_datetime                 0\n",
       "delivery_date                    0\n",
       "weight                           0\n",
       "weight_units                     0\n",
       "package_size                     0\n",
       "record_number                    0\n",
       "dtype: int64"
      ]
     },
     "execution_count": 11,
     "metadata": {},
     "output_type": "execute_result"
    }
   ],
   "source": [
    "#Checking null\n",
    "df_ebay.isna().sum()"
   ]
  },
  {
   "attachments": {},
   "cell_type": "markdown",
   "id": "42ed5253",
   "metadata": {},
   "source": [
    "There is 47180 missing value in total 1 million rows. We could delete it but I decide to have deepper look at it later\n"
   ]
  },
  {
   "cell_type": "code",
   "execution_count": 12,
   "id": "732aeced",
   "metadata": {},
   "outputs": [
    {
     "data": {
      "text/plain": [
       "False"
      ]
     },
     "execution_count": 12,
     "metadata": {},
     "output_type": "execute_result"
    }
   ],
   "source": [
    "# checking duplicate rows\n",
    "df_ebay.duplicated().any()"
   ]
  },
  {
   "attachments": {},
   "cell_type": "markdown",
   "id": "9f6923e8",
   "metadata": {},
   "source": [
    "There are no duplicate row in the database"
   ]
  },
  {
   "cell_type": "code",
   "execution_count": 13,
   "id": "419f37fe",
   "metadata": {},
   "outputs": [
    {
     "data": {
      "text/plain": [
       "19"
      ]
     },
     "execution_count": 13,
     "metadata": {},
     "output_type": "execute_result"
    }
   ],
   "source": [
    "#recall shape column\n",
    "df_ebay.shape[1]"
   ]
  },
  {
   "attachments": {},
   "cell_type": "markdown",
   "id": "6649561a",
   "metadata": {},
   "source": [
    "Let check out the distributions, we are going to loop over the columns and print some subplot."
   ]
  },
  {
   "cell_type": "code",
   "execution_count": 14,
   "id": "16ababed",
   "metadata": {},
   "outputs": [
    {
     "data": {
      "text/plain": [
       "B2C    707485\n",
       "C2C    292515\n",
       "Name: b2c_c2c, dtype: int64"
      ]
     },
     "execution_count": 14,
     "metadata": {},
     "output_type": "execute_result"
    }
   ],
   "source": [
    "#checking the b2c_c2c column\n",
    "df_ebay['b2c_c2c'].value_counts()"
   ]
  },
  {
   "attachments": {},
   "cell_type": "markdown",
   "id": "7265d608",
   "metadata": {},
   "source": [
    "Convert `b2c_c2c` column to binary"
   ]
  },
  {
   "cell_type": "code",
   "execution_count": 15,
   "id": "419f37fe",
   "metadata": {},
   "outputs": [],
   "source": [
    "df_ebay['b2c_c2c']= np.where(df_ebay['b2c_c2c']=='B2C', 1, 0)"
   ]
  },
  {
   "attachments": {},
   "cell_type": "markdown",
   "id": "e487cece",
   "metadata": {},
   "source": [
    "Test it"
   ]
  },
  {
   "cell_type": "code",
   "execution_count": 16,
   "id": "c441e935",
   "metadata": {},
   "outputs": [
    {
     "data": {
      "text/html": [
       "<div>\n",
       "<style scoped>\n",
       "    .dataframe tbody tr th:only-of-type {\n",
       "        vertical-align: middle;\n",
       "    }\n",
       "\n",
       "    .dataframe tbody tr th {\n",
       "        vertical-align: top;\n",
       "    }\n",
       "\n",
       "    .dataframe thead th {\n",
       "        text-align: right;\n",
       "    }\n",
       "</style>\n",
       "<table border=\"1\" class=\"dataframe\">\n",
       "  <thead>\n",
       "    <tr style=\"text-align: right;\">\n",
       "      <th></th>\n",
       "      <th>b2c_c2c</th>\n",
       "      <th>seller_id</th>\n",
       "      <th>declared_handling_days</th>\n",
       "      <th>acceptance_scan_timestamp</th>\n",
       "      <th>shipment_method_id</th>\n",
       "      <th>shipping_fee</th>\n",
       "      <th>carrier_min_estimate</th>\n",
       "      <th>carrier_max_estimate</th>\n",
       "      <th>item_zip</th>\n",
       "      <th>buyer_zip</th>\n",
       "      <th>category_id</th>\n",
       "      <th>item_price</th>\n",
       "      <th>quantity</th>\n",
       "      <th>payment_datetime</th>\n",
       "      <th>delivery_date</th>\n",
       "      <th>weight</th>\n",
       "      <th>weight_units</th>\n",
       "      <th>package_size</th>\n",
       "      <th>record_number</th>\n",
       "    </tr>\n",
       "  </thead>\n",
       "  <tbody>\n",
       "    <tr>\n",
       "      <th>0</th>\n",
       "      <td>1</td>\n",
       "      <td>25454</td>\n",
       "      <td>3.0</td>\n",
       "      <td>2019-03-26 15:11:00.000-07:00</td>\n",
       "      <td>0</td>\n",
       "      <td>0.0</td>\n",
       "      <td>3</td>\n",
       "      <td>5</td>\n",
       "      <td>97219</td>\n",
       "      <td>49040</td>\n",
       "      <td>13</td>\n",
       "      <td>27.95</td>\n",
       "      <td>1</td>\n",
       "      <td>2019-03-24 03:56:49.000-07:00</td>\n",
       "      <td>2019-03-29</td>\n",
       "      <td>5</td>\n",
       "      <td>1</td>\n",
       "      <td>LETTER</td>\n",
       "      <td>1</td>\n",
       "    </tr>\n",
       "    <tr>\n",
       "      <th>1</th>\n",
       "      <td>0</td>\n",
       "      <td>6727381</td>\n",
       "      <td>2.0</td>\n",
       "      <td>2018-06-02 12:53:00.000-07:00</td>\n",
       "      <td>0</td>\n",
       "      <td>3.0</td>\n",
       "      <td>3</td>\n",
       "      <td>5</td>\n",
       "      <td>11415-3528</td>\n",
       "      <td>62521</td>\n",
       "      <td>0</td>\n",
       "      <td>20.50</td>\n",
       "      <td>1</td>\n",
       "      <td>2018-06-01 13:43:54.000-07:00</td>\n",
       "      <td>2018-06-05</td>\n",
       "      <td>0</td>\n",
       "      <td>1</td>\n",
       "      <td>PACKAGE_THICK_ENVELOPE</td>\n",
       "      <td>2</td>\n",
       "    </tr>\n",
       "    <tr>\n",
       "      <th>2</th>\n",
       "      <td>1</td>\n",
       "      <td>18507</td>\n",
       "      <td>1.0</td>\n",
       "      <td>2019-01-07 16:22:00.000-05:00</td>\n",
       "      <td>0</td>\n",
       "      <td>4.5</td>\n",
       "      <td>3</td>\n",
       "      <td>5</td>\n",
       "      <td>27292</td>\n",
       "      <td>53010</td>\n",
       "      <td>1</td>\n",
       "      <td>19.90</td>\n",
       "      <td>1</td>\n",
       "      <td>2019-01-06 00:02:00.000-05:00</td>\n",
       "      <td>2019-01-10</td>\n",
       "      <td>9</td>\n",
       "      <td>1</td>\n",
       "      <td>PACKAGE_THICK_ENVELOPE</td>\n",
       "      <td>3</td>\n",
       "    </tr>\n",
       "    <tr>\n",
       "      <th>3</th>\n",
       "      <td>1</td>\n",
       "      <td>4677</td>\n",
       "      <td>1.0</td>\n",
       "      <td>2018-12-17 16:56:00.000-08:00</td>\n",
       "      <td>0</td>\n",
       "      <td>0.0</td>\n",
       "      <td>3</td>\n",
       "      <td>5</td>\n",
       "      <td>90703</td>\n",
       "      <td>80022</td>\n",
       "      <td>1</td>\n",
       "      <td>35.50</td>\n",
       "      <td>1</td>\n",
       "      <td>2018-12-16 10:28:28.000-08:00</td>\n",
       "      <td>2018-12-21</td>\n",
       "      <td>8</td>\n",
       "      <td>1</td>\n",
       "      <td>PACKAGE_THICK_ENVELOPE</td>\n",
       "      <td>4</td>\n",
       "    </tr>\n",
       "    <tr>\n",
       "      <th>4</th>\n",
       "      <td>1</td>\n",
       "      <td>4677</td>\n",
       "      <td>1.0</td>\n",
       "      <td>2018-07-27 16:48:00.000-07:00</td>\n",
       "      <td>0</td>\n",
       "      <td>0.0</td>\n",
       "      <td>3</td>\n",
       "      <td>5</td>\n",
       "      <td>90703</td>\n",
       "      <td>55070</td>\n",
       "      <td>1</td>\n",
       "      <td>25.00</td>\n",
       "      <td>1</td>\n",
       "      <td>2018-07-26 18:20:02.000-07:00</td>\n",
       "      <td>2018-07-30</td>\n",
       "      <td>3</td>\n",
       "      <td>1</td>\n",
       "      <td>PACKAGE_THICK_ENVELOPE</td>\n",
       "      <td>5</td>\n",
       "    </tr>\n",
       "  </tbody>\n",
       "</table>\n",
       "</div>"
      ],
      "text/plain": [
       "   b2c_c2c  seller_id  declared_handling_days      acceptance_scan_timestamp  \\\n",
       "0        1      25454                     3.0  2019-03-26 15:11:00.000-07:00   \n",
       "1        0    6727381                     2.0  2018-06-02 12:53:00.000-07:00   \n",
       "2        1      18507                     1.0  2019-01-07 16:22:00.000-05:00   \n",
       "3        1       4677                     1.0  2018-12-17 16:56:00.000-08:00   \n",
       "4        1       4677                     1.0  2018-07-27 16:48:00.000-07:00   \n",
       "\n",
       "   shipment_method_id  shipping_fee  carrier_min_estimate  \\\n",
       "0                   0           0.0                     3   \n",
       "1                   0           3.0                     3   \n",
       "2                   0           4.5                     3   \n",
       "3                   0           0.0                     3   \n",
       "4                   0           0.0                     3   \n",
       "\n",
       "   carrier_max_estimate    item_zip buyer_zip  category_id  item_price  \\\n",
       "0                     5       97219     49040           13       27.95   \n",
       "1                     5  11415-3528     62521            0       20.50   \n",
       "2                     5       27292     53010            1       19.90   \n",
       "3                     5       90703     80022            1       35.50   \n",
       "4                     5       90703     55070            1       25.00   \n",
       "\n",
       "   quantity               payment_datetime delivery_date  weight  \\\n",
       "0         1  2019-03-24 03:56:49.000-07:00    2019-03-29       5   \n",
       "1         1  2018-06-01 13:43:54.000-07:00    2018-06-05       0   \n",
       "2         1  2019-01-06 00:02:00.000-05:00    2019-01-10       9   \n",
       "3         1  2018-12-16 10:28:28.000-08:00    2018-12-21       8   \n",
       "4         1  2018-07-26 18:20:02.000-07:00    2018-07-30       3   \n",
       "\n",
       "   weight_units            package_size  record_number  \n",
       "0             1                  LETTER              1  \n",
       "1             1  PACKAGE_THICK_ENVELOPE              2  \n",
       "2             1  PACKAGE_THICK_ENVELOPE              3  \n",
       "3             1  PACKAGE_THICK_ENVELOPE              4  \n",
       "4             1  PACKAGE_THICK_ENVELOPE              5  "
      ]
     },
     "execution_count": 16,
     "metadata": {},
     "output_type": "execute_result"
    }
   ],
   "source": [
    "df_ebay.head()"
   ]
  },
  {
   "attachments": {},
   "cell_type": "markdown",
   "id": "42373f00",
   "metadata": {},
   "source": [
    "There is 2 `weight_units` is 1 and 2. Let say 1 - 's' and 2 - 'kg'. We are going to convert all the weight units to lb."
   ]
  },
  {
   "cell_type": "code",
   "execution_count": 17,
   "id": "6a4f722d",
   "metadata": {},
   "outputs": [
    {
     "data": {
      "text/html": [
       "<div>\n",
       "<style scoped>\n",
       "    .dataframe tbody tr th:only-of-type {\n",
       "        vertical-align: middle;\n",
       "    }\n",
       "\n",
       "    .dataframe tbody tr th {\n",
       "        vertical-align: top;\n",
       "    }\n",
       "\n",
       "    .dataframe thead th {\n",
       "        text-align: right;\n",
       "    }\n",
       "</style>\n",
       "<table border=\"1\" class=\"dataframe\">\n",
       "  <thead>\n",
       "    <tr style=\"text-align: right;\">\n",
       "      <th></th>\n",
       "      <th>b2c_c2c</th>\n",
       "      <th>seller_id</th>\n",
       "      <th>declared_handling_days</th>\n",
       "      <th>acceptance_scan_timestamp</th>\n",
       "      <th>shipment_method_id</th>\n",
       "      <th>shipping_fee</th>\n",
       "      <th>carrier_min_estimate</th>\n",
       "      <th>carrier_max_estimate</th>\n",
       "      <th>item_zip</th>\n",
       "      <th>buyer_zip</th>\n",
       "      <th>category_id</th>\n",
       "      <th>item_price</th>\n",
       "      <th>quantity</th>\n",
       "      <th>payment_datetime</th>\n",
       "      <th>delivery_date</th>\n",
       "      <th>weight</th>\n",
       "      <th>weight_units</th>\n",
       "      <th>package_size</th>\n",
       "      <th>record_number</th>\n",
       "    </tr>\n",
       "  </thead>\n",
       "  <tbody>\n",
       "    <tr>\n",
       "      <th>115821</th>\n",
       "      <td>1</td>\n",
       "      <td>46815</td>\n",
       "      <td>1.0</td>\n",
       "      <td>2018-01-29 10:06:00.000-06:00</td>\n",
       "      <td>0</td>\n",
       "      <td>0.0</td>\n",
       "      <td>3</td>\n",
       "      <td>5</td>\n",
       "      <td>35503</td>\n",
       "      <td>30605</td>\n",
       "      <td>1</td>\n",
       "      <td>6.89</td>\n",
       "      <td>2</td>\n",
       "      <td>2018-01-28 20:18:59.000-06:00</td>\n",
       "      <td>2018-01-31</td>\n",
       "      <td>113</td>\n",
       "      <td>2</td>\n",
       "      <td>LARGE_ENVELOPE</td>\n",
       "      <td>115822</td>\n",
       "    </tr>\n",
       "    <tr>\n",
       "      <th>847218</th>\n",
       "      <td>1</td>\n",
       "      <td>40624</td>\n",
       "      <td>1.0</td>\n",
       "      <td>2019-10-03 13:18:00.000-05:00</td>\n",
       "      <td>2</td>\n",
       "      <td>0.0</td>\n",
       "      <td>2</td>\n",
       "      <td>9</td>\n",
       "      <td>63044</td>\n",
       "      <td>85715</td>\n",
       "      <td>6</td>\n",
       "      <td>26.99</td>\n",
       "      <td>1</td>\n",
       "      <td>2019-10-03 01:28:56.000-05:00</td>\n",
       "      <td>2019-10-10</td>\n",
       "      <td>0</td>\n",
       "      <td>2</td>\n",
       "      <td>NONE</td>\n",
       "      <td>847219</td>\n",
       "    </tr>\n",
       "    <tr>\n",
       "      <th>908707</th>\n",
       "      <td>0</td>\n",
       "      <td>295500</td>\n",
       "      <td>1.0</td>\n",
       "      <td>2018-03-21 14:00:00.000-04:00</td>\n",
       "      <td>5</td>\n",
       "      <td>7.0</td>\n",
       "      <td>2</td>\n",
       "      <td>5</td>\n",
       "      <td>02050</td>\n",
       "      <td>02109</td>\n",
       "      <td>1</td>\n",
       "      <td>29.30</td>\n",
       "      <td>1</td>\n",
       "      <td>2018-03-04 08:51:33.000-05:00</td>\n",
       "      <td>2018-03-07</td>\n",
       "      <td>13</td>\n",
       "      <td>2</td>\n",
       "      <td>LARGE_ENVELOPE</td>\n",
       "      <td>908708</td>\n",
       "    </tr>\n",
       "  </tbody>\n",
       "</table>\n",
       "</div>"
      ],
      "text/plain": [
       "        b2c_c2c  seller_id  declared_handling_days  \\\n",
       "115821        1      46815                     1.0   \n",
       "847218        1      40624                     1.0   \n",
       "908707        0     295500                     1.0   \n",
       "\n",
       "            acceptance_scan_timestamp  shipment_method_id  shipping_fee  \\\n",
       "115821  2018-01-29 10:06:00.000-06:00                   0           0.0   \n",
       "847218  2019-10-03 13:18:00.000-05:00                   2           0.0   \n",
       "908707  2018-03-21 14:00:00.000-04:00                   5           7.0   \n",
       "\n",
       "        carrier_min_estimate  carrier_max_estimate item_zip buyer_zip  \\\n",
       "115821                     3                     5    35503     30605   \n",
       "847218                     2                     9    63044     85715   \n",
       "908707                     2                     5    02050     02109   \n",
       "\n",
       "        category_id  item_price  quantity               payment_datetime  \\\n",
       "115821            1        6.89         2  2018-01-28 20:18:59.000-06:00   \n",
       "847218            6       26.99         1  2019-10-03 01:28:56.000-05:00   \n",
       "908707            1       29.30         1  2018-03-04 08:51:33.000-05:00   \n",
       "\n",
       "       delivery_date  weight  weight_units    package_size  record_number  \n",
       "115821    2018-01-31     113             2  LARGE_ENVELOPE         115822  \n",
       "847218    2019-10-10       0             2            NONE         847219  \n",
       "908707    2018-03-07      13             2  LARGE_ENVELOPE         908708  "
      ]
     },
     "execution_count": 17,
     "metadata": {},
     "output_type": "execute_result"
    }
   ],
   "source": [
    "#check the record has weigtht unit =2 to able to compare\n",
    "df_ebay[df_ebay['weight_units']==2].head()"
   ]
  },
  {
   "cell_type": "code",
   "execution_count": 18,
   "id": "841a3056",
   "metadata": {},
   "outputs": [],
   "source": [
    "df_ebay['weight'] = np.where(df_ebay['weight_units']==1, df_ebay['weight'], df_ebay['weight']*2.20462 )"
   ]
  },
  {
   "attachments": {},
   "cell_type": "markdown",
   "id": "639a420d",
   "metadata": {},
   "source": [
    "check the record with `weight_units`=2 to see if the `weight` column is change"
   ]
  },
  {
   "cell_type": "code",
   "execution_count": 19,
   "id": "3a3a77e9",
   "metadata": {},
   "outputs": [
    {
     "data": {
      "text/html": [
       "<div>\n",
       "<style scoped>\n",
       "    .dataframe tbody tr th:only-of-type {\n",
       "        vertical-align: middle;\n",
       "    }\n",
       "\n",
       "    .dataframe tbody tr th {\n",
       "        vertical-align: top;\n",
       "    }\n",
       "\n",
       "    .dataframe thead th {\n",
       "        text-align: right;\n",
       "    }\n",
       "</style>\n",
       "<table border=\"1\" class=\"dataframe\">\n",
       "  <thead>\n",
       "    <tr style=\"text-align: right;\">\n",
       "      <th></th>\n",
       "      <th>b2c_c2c</th>\n",
       "      <th>seller_id</th>\n",
       "      <th>declared_handling_days</th>\n",
       "      <th>acceptance_scan_timestamp</th>\n",
       "      <th>shipment_method_id</th>\n",
       "      <th>shipping_fee</th>\n",
       "      <th>carrier_min_estimate</th>\n",
       "      <th>carrier_max_estimate</th>\n",
       "      <th>item_zip</th>\n",
       "      <th>buyer_zip</th>\n",
       "      <th>category_id</th>\n",
       "      <th>item_price</th>\n",
       "      <th>quantity</th>\n",
       "      <th>payment_datetime</th>\n",
       "      <th>delivery_date</th>\n",
       "      <th>weight</th>\n",
       "      <th>weight_units</th>\n",
       "      <th>package_size</th>\n",
       "      <th>record_number</th>\n",
       "    </tr>\n",
       "  </thead>\n",
       "  <tbody>\n",
       "    <tr>\n",
       "      <th>115821</th>\n",
       "      <td>1</td>\n",
       "      <td>46815</td>\n",
       "      <td>1.0</td>\n",
       "      <td>2018-01-29 10:06:00.000-06:00</td>\n",
       "      <td>0</td>\n",
       "      <td>0.0</td>\n",
       "      <td>3</td>\n",
       "      <td>5</td>\n",
       "      <td>35503</td>\n",
       "      <td>30605</td>\n",
       "      <td>1</td>\n",
       "      <td>6.89</td>\n",
       "      <td>2</td>\n",
       "      <td>2018-01-28 20:18:59.000-06:00</td>\n",
       "      <td>2018-01-31</td>\n",
       "      <td>249.12206</td>\n",
       "      <td>2</td>\n",
       "      <td>LARGE_ENVELOPE</td>\n",
       "      <td>115822</td>\n",
       "    </tr>\n",
       "    <tr>\n",
       "      <th>847218</th>\n",
       "      <td>1</td>\n",
       "      <td>40624</td>\n",
       "      <td>1.0</td>\n",
       "      <td>2019-10-03 13:18:00.000-05:00</td>\n",
       "      <td>2</td>\n",
       "      <td>0.0</td>\n",
       "      <td>2</td>\n",
       "      <td>9</td>\n",
       "      <td>63044</td>\n",
       "      <td>85715</td>\n",
       "      <td>6</td>\n",
       "      <td>26.99</td>\n",
       "      <td>1</td>\n",
       "      <td>2019-10-03 01:28:56.000-05:00</td>\n",
       "      <td>2019-10-10</td>\n",
       "      <td>0.00000</td>\n",
       "      <td>2</td>\n",
       "      <td>NONE</td>\n",
       "      <td>847219</td>\n",
       "    </tr>\n",
       "    <tr>\n",
       "      <th>908707</th>\n",
       "      <td>0</td>\n",
       "      <td>295500</td>\n",
       "      <td>1.0</td>\n",
       "      <td>2018-03-21 14:00:00.000-04:00</td>\n",
       "      <td>5</td>\n",
       "      <td>7.0</td>\n",
       "      <td>2</td>\n",
       "      <td>5</td>\n",
       "      <td>02050</td>\n",
       "      <td>02109</td>\n",
       "      <td>1</td>\n",
       "      <td>29.30</td>\n",
       "      <td>1</td>\n",
       "      <td>2018-03-04 08:51:33.000-05:00</td>\n",
       "      <td>2018-03-07</td>\n",
       "      <td>28.66006</td>\n",
       "      <td>2</td>\n",
       "      <td>LARGE_ENVELOPE</td>\n",
       "      <td>908708</td>\n",
       "    </tr>\n",
       "  </tbody>\n",
       "</table>\n",
       "</div>"
      ],
      "text/plain": [
       "        b2c_c2c  seller_id  declared_handling_days  \\\n",
       "115821        1      46815                     1.0   \n",
       "847218        1      40624                     1.0   \n",
       "908707        0     295500                     1.0   \n",
       "\n",
       "            acceptance_scan_timestamp  shipment_method_id  shipping_fee  \\\n",
       "115821  2018-01-29 10:06:00.000-06:00                   0           0.0   \n",
       "847218  2019-10-03 13:18:00.000-05:00                   2           0.0   \n",
       "908707  2018-03-21 14:00:00.000-04:00                   5           7.0   \n",
       "\n",
       "        carrier_min_estimate  carrier_max_estimate item_zip buyer_zip  \\\n",
       "115821                     3                     5    35503     30605   \n",
       "847218                     2                     9    63044     85715   \n",
       "908707                     2                     5    02050     02109   \n",
       "\n",
       "        category_id  item_price  quantity               payment_datetime  \\\n",
       "115821            1        6.89         2  2018-01-28 20:18:59.000-06:00   \n",
       "847218            6       26.99         1  2019-10-03 01:28:56.000-05:00   \n",
       "908707            1       29.30         1  2018-03-04 08:51:33.000-05:00   \n",
       "\n",
       "       delivery_date     weight  weight_units    package_size  record_number  \n",
       "115821    2018-01-31  249.12206             2  LARGE_ENVELOPE         115822  \n",
       "847218    2019-10-10    0.00000             2            NONE         847219  \n",
       "908707    2018-03-07   28.66006             2  LARGE_ENVELOPE         908708  "
      ]
     },
     "execution_count": 19,
     "metadata": {},
     "output_type": "execute_result"
    }
   ],
   "source": [
    "df_ebay[df_ebay['weight_units']==2]"
   ]
  },
  {
   "attachments": {},
   "cell_type": "markdown",
   "id": "b5609392",
   "metadata": {},
   "source": [
    "Now  we change the `weight_units` column all to the same unit"
   ]
  },
  {
   "cell_type": "code",
   "execution_count": 20,
   "id": "5fd9e287",
   "metadata": {},
   "outputs": [],
   "source": [
    "df_ebay['weight_units']= np.where(df_ebay['weight_units']== 2, 1, 1)\n"
   ]
  },
  {
   "cell_type": "code",
   "execution_count": 68,
   "id": "fdb555c0",
   "metadata": {},
   "outputs": [
    {
     "data": {
      "text/plain": [
       "Series([], dtype: int64)"
      ]
     },
     "execution_count": 68,
     "metadata": {},
     "output_type": "execute_result"
    }
   ],
   "source": [
    "#check\n",
    "df_ebay[df_ebay['weight_units']==2].value_counts()"
   ]
  },
  {
   "cell_type": "code",
   "execution_count": 96,
   "id": "1043b4e3",
   "metadata": {},
   "outputs": [
    {
     "data": {
      "text/plain": [
       "False"
      ]
     },
     "execution_count": 96,
     "metadata": {},
     "output_type": "execute_result"
    }
   ],
   "source": [
    "df_ebay['item_zip'].isna().any()"
   ]
  },
  {
   "cell_type": "code",
   "execution_count": 116,
   "id": "c11c69a7",
   "metadata": {},
   "outputs": [],
   "source": [
    "item_zip= df_ebay['item_zip'].values\n",
    "buyer_zip= df_ebay['buyer_zip'].values"
   ]
  },
  {
   "cell_type": "code",
   "execution_count": 117,
   "id": "9adf328f",
   "metadata": {},
   "outputs": [],
   "source": [
    "# country= Nominatim(user_agent='US')\n",
    "# distance=[]\n",
    "# location1= country.geocode(item_zip[52])\n",
    "# # location2= country.geocode(buyer_zip[52])\n",
    "# # lat1 = location1.latitude \n",
    "# # lon1 = location1.longitude\n",
    "# # lat2 = location2.latitude\n",
    "# # lon2 = location2.longitude\n",
    "# # distance.append(geodesic((lat1, lon1), (lat2, lon2)))\n",
    "# print(location1)\n",
    "\n",
    "#calculate distance between 2 zip code\n",
    "country = Nominatim(user_agent=\"US\")\n",
    "distance= []\n",
    "for i in range(len(buyer_zip)):\n",
    "    if buyer_zip[i] is not None or item_zip[i] is not None:\n",
    "        location1= country.geocode(item_zip[i])\n",
    "        location2= country.geocode(buyer_zip[1])\n",
    "        if location1 is None or location2 is None:\n",
    "            distance.append(None)\n",
    "            continue\n",
    "        lat1 = location1.latitude \n",
    "        lon1 = location1.longitude\n",
    "        lat2 = location2.latitude\n",
    "        lon2 = location2.longitude\n",
    "        # distance between them\n",
    "        if lat1 is not None or lon1 is not None or lat2 is not None or lon2 is not None:\n",
    "            distance.append(geodesic((lat1, lon1), (lat2, lon2)))\n",
    "        else:\n",
    "            distance.append(None)\n",
    "    else:\n",
    "        distance.append(None)        \n",
    "print(distance)"
   ]
  },
  {
   "attachments": {},
   "cell_type": "markdown",
   "id": "2c7ce090",
   "metadata": {},
   "source": [
    "Then create the distance column and add the distance value in this column. Also delete the `buyer_zip` and `item_zip` column."
   ]
  },
  {
   "cell_type": "code",
   "execution_count": 83,
   "id": "155f6c96",
   "metadata": {},
   "outputs": [
    {
     "ename": "ValueError",
     "evalue": "Length of values (50) does not match length of index (1000000)",
     "output_type": "error",
     "traceback": [
      "\u001b[0;31m---------------------------------------------------------------------------\u001b[0m",
      "\u001b[0;31mValueError\u001b[0m                                Traceback (most recent call last)",
      "Cell \u001b[0;32mIn[83], line 1\u001b[0m\n\u001b[0;32m----> 1\u001b[0m df_ebay[\u001b[39m'\u001b[39m\u001b[39mdistance\u001b[39m\u001b[39m'\u001b[39m]\u001b[39m=\u001b[39m distance\n",
      "File \u001b[0;32m~/anaconda3/lib/python3.10/site-packages/pandas/core/frame.py:3980\u001b[0m, in \u001b[0;36mDataFrame.__setitem__\u001b[0;34m(self, key, value)\u001b[0m\n\u001b[1;32m   3977\u001b[0m     \u001b[39mself\u001b[39m\u001b[39m.\u001b[39m_setitem_array([key], value)\n\u001b[1;32m   3978\u001b[0m \u001b[39melse\u001b[39;00m:\n\u001b[1;32m   3979\u001b[0m     \u001b[39m# set column\u001b[39;00m\n\u001b[0;32m-> 3980\u001b[0m     \u001b[39mself\u001b[39;49m\u001b[39m.\u001b[39;49m_set_item(key, value)\n",
      "File \u001b[0;32m~/anaconda3/lib/python3.10/site-packages/pandas/core/frame.py:4174\u001b[0m, in \u001b[0;36mDataFrame._set_item\u001b[0;34m(self, key, value)\u001b[0m\n\u001b[1;32m   4164\u001b[0m \u001b[39mdef\u001b[39;00m \u001b[39m_set_item\u001b[39m(\u001b[39mself\u001b[39m, key, value) \u001b[39m-\u001b[39m\u001b[39m>\u001b[39m \u001b[39mNone\u001b[39;00m:\n\u001b[1;32m   4165\u001b[0m     \u001b[39m\"\"\"\u001b[39;00m\n\u001b[1;32m   4166\u001b[0m \u001b[39m    Add series to DataFrame in specified column.\u001b[39;00m\n\u001b[1;32m   4167\u001b[0m \n\u001b[0;32m   (...)\u001b[0m\n\u001b[1;32m   4172\u001b[0m \u001b[39m    ensure homogeneity.\u001b[39;00m\n\u001b[1;32m   4173\u001b[0m \u001b[39m    \"\"\"\u001b[39;00m\n\u001b[0;32m-> 4174\u001b[0m     value \u001b[39m=\u001b[39m \u001b[39mself\u001b[39;49m\u001b[39m.\u001b[39;49m_sanitize_column(value)\n\u001b[1;32m   4176\u001b[0m     \u001b[39mif\u001b[39;00m (\n\u001b[1;32m   4177\u001b[0m         key \u001b[39min\u001b[39;00m \u001b[39mself\u001b[39m\u001b[39m.\u001b[39mcolumns\n\u001b[1;32m   4178\u001b[0m         \u001b[39mand\u001b[39;00m value\u001b[39m.\u001b[39mndim \u001b[39m==\u001b[39m \u001b[39m1\u001b[39m\n\u001b[1;32m   4179\u001b[0m         \u001b[39mand\u001b[39;00m \u001b[39mnot\u001b[39;00m is_extension_array_dtype(value)\n\u001b[1;32m   4180\u001b[0m     ):\n\u001b[1;32m   4181\u001b[0m         \u001b[39m# broadcast across multiple columns if necessary\u001b[39;00m\n\u001b[1;32m   4182\u001b[0m         \u001b[39mif\u001b[39;00m \u001b[39mnot\u001b[39;00m \u001b[39mself\u001b[39m\u001b[39m.\u001b[39mcolumns\u001b[39m.\u001b[39mis_unique \u001b[39mor\u001b[39;00m \u001b[39misinstance\u001b[39m(\u001b[39mself\u001b[39m\u001b[39m.\u001b[39mcolumns, MultiIndex):\n",
      "File \u001b[0;32m~/anaconda3/lib/python3.10/site-packages/pandas/core/frame.py:4915\u001b[0m, in \u001b[0;36mDataFrame._sanitize_column\u001b[0;34m(self, value)\u001b[0m\n\u001b[1;32m   4912\u001b[0m     \u001b[39mreturn\u001b[39;00m _reindex_for_setitem(Series(value), \u001b[39mself\u001b[39m\u001b[39m.\u001b[39mindex)\n\u001b[1;32m   4914\u001b[0m \u001b[39mif\u001b[39;00m is_list_like(value):\n\u001b[0;32m-> 4915\u001b[0m     com\u001b[39m.\u001b[39;49mrequire_length_match(value, \u001b[39mself\u001b[39;49m\u001b[39m.\u001b[39;49mindex)\n\u001b[1;32m   4916\u001b[0m \u001b[39mreturn\u001b[39;00m sanitize_array(value, \u001b[39mself\u001b[39m\u001b[39m.\u001b[39mindex, copy\u001b[39m=\u001b[39m\u001b[39mTrue\u001b[39;00m, allow_2d\u001b[39m=\u001b[39m\u001b[39mTrue\u001b[39;00m)\n",
      "File \u001b[0;32m~/anaconda3/lib/python3.10/site-packages/pandas/core/common.py:571\u001b[0m, in \u001b[0;36mrequire_length_match\u001b[0;34m(data, index)\u001b[0m\n\u001b[1;32m    567\u001b[0m \u001b[39m\"\"\"\u001b[39;00m\n\u001b[1;32m    568\u001b[0m \u001b[39mCheck the length of data matches the length of the index.\u001b[39;00m\n\u001b[1;32m    569\u001b[0m \u001b[39m\"\"\"\u001b[39;00m\n\u001b[1;32m    570\u001b[0m \u001b[39mif\u001b[39;00m \u001b[39mlen\u001b[39m(data) \u001b[39m!=\u001b[39m \u001b[39mlen\u001b[39m(index):\n\u001b[0;32m--> 571\u001b[0m     \u001b[39mraise\u001b[39;00m \u001b[39mValueError\u001b[39;00m(\n\u001b[1;32m    572\u001b[0m         \u001b[39m\"\u001b[39m\u001b[39mLength of values \u001b[39m\u001b[39m\"\u001b[39m\n\u001b[1;32m    573\u001b[0m         \u001b[39mf\u001b[39m\u001b[39m\"\u001b[39m\u001b[39m(\u001b[39m\u001b[39m{\u001b[39;00m\u001b[39mlen\u001b[39m(data)\u001b[39m}\u001b[39;00m\u001b[39m) \u001b[39m\u001b[39m\"\u001b[39m\n\u001b[1;32m    574\u001b[0m         \u001b[39m\"\u001b[39m\u001b[39mdoes not match length of index \u001b[39m\u001b[39m\"\u001b[39m\n\u001b[1;32m    575\u001b[0m         \u001b[39mf\u001b[39m\u001b[39m\"\u001b[39m\u001b[39m(\u001b[39m\u001b[39m{\u001b[39;00m\u001b[39mlen\u001b[39m(index)\u001b[39m}\u001b[39;00m\u001b[39m)\u001b[39m\u001b[39m\"\u001b[39m\n\u001b[1;32m    576\u001b[0m     )\n",
      "\u001b[0;31mValueError\u001b[0m: Length of values (50) does not match length of index (1000000)"
     ]
    }
   ],
   "source": [
    "\n",
    "df_ebay['distance']= distance"
   ]
  },
  {
   "cell_type": "code",
   "execution_count": null,
   "id": "858a7a04",
   "metadata": {},
   "outputs": [],
   "source": []
  }
 ],
 "metadata": {
  "kernelspec": {
   "display_name": "Python 3 (ipykernel)",
   "language": "python",
   "name": "python3"
  },
  "language_info": {
   "codemirror_mode": {
    "name": "ipython",
    "version": 3
   },
   "file_extension": ".py",
   "mimetype": "text/x-python",
   "name": "python",
   "nbconvert_exporter": "python",
   "pygments_lexer": "ipython3",
   "version": "3.10.9"
  }
 },
 "nbformat": 4,
 "nbformat_minor": 5
}
