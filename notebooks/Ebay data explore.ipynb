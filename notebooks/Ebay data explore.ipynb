{
 "cells": [
  {
   "attachments": {},
   "cell_type": "markdown",
   "id": "68767797",
   "metadata": {},
   "source": [
    "# Prediction Delivery Time"
   ]
  },
  {
   "attachments": {},
   "cell_type": "markdown",
   "id": "0c543189",
   "metadata": {},
   "source": []
  },
  {
   "attachments": {},
   "cell_type": "markdown",
   "id": "0228b123",
   "metadata": {},
   "source": [
    "# EDA Dataset"
   ]
  },
  {
   "attachments": {},
   "cell_type": "markdown",
   "id": "2a1e1ae1",
   "metadata": {},
   "source": [
    "## Explore"
   ]
  },
  {
   "cell_type": "code",
   "execution_count": null,
   "id": "7cb2a21b",
   "metadata": {},
   "outputs": [],
   "source": [
    "import numpy as np\n",
    "import pandas as pd\n",
    "import matplotlib.pyplot as plt\n",
    "import seaborn as sns   "
   ]
  },
  {
   "cell_type": "code",
   "execution_count": null,
   "id": "da1b9e79",
   "metadata": {
    "scrolled": true
   },
   "outputs": [],
   "source": [
    "list1 =np.array(range(10))\n",
    "list1"
   ]
  },
  {
   "cell_type": "code",
   "execution_count": 20,
   "id": "91a6b988",
   "metadata": {
    "scrolled": false
   },
   "outputs": [],
   "source": [
    "df_ebay = pd.read_csv('../data/raw/ebayShort.csv', index_col=0)"
   ]
  },
  {
   "attachments": {},
   "cell_type": "markdown",
   "id": "e85df53c",
   "metadata": {},
   "source": [
    "As the data is too big, we first working in the shortcut of the total data with 1 million rows."
   ]
  },
  {
   "cell_type": "code",
   "execution_count": null,
   "id": "7962e25e",
   "metadata": {},
   "outputs": [],
   "source": [
    "# Look at the first 5 row\n",
    "\n",
    "df_ebay.head()"
   ]
  },
  {
   "cell_type": "code",
   "execution_count": 21,
   "id": "d2b54046",
   "metadata": {},
   "outputs": [
    {
     "data": {
      "text/html": [
       "<div>\n",
       "<style scoped>\n",
       "    .dataframe tbody tr th:only-of-type {\n",
       "        vertical-align: middle;\n",
       "    }\n",
       "\n",
       "    .dataframe tbody tr th {\n",
       "        vertical-align: top;\n",
       "    }\n",
       "\n",
       "    .dataframe thead th {\n",
       "        text-align: right;\n",
       "    }\n",
       "</style>\n",
       "<table border=\"1\" class=\"dataframe\">\n",
       "  <thead>\n",
       "    <tr style=\"text-align: right;\">\n",
       "      <th></th>\n",
       "      <th>b2c_c2c</th>\n",
       "      <th>seller_id</th>\n",
       "      <th>declared_handling_days</th>\n",
       "      <th>acceptance_scan_timestamp</th>\n",
       "      <th>shipment_method_id</th>\n",
       "      <th>shipping_fee</th>\n",
       "      <th>carrier_min_estimate</th>\n",
       "      <th>carrier_max_estimate</th>\n",
       "      <th>item_zip</th>\n",
       "      <th>buyer_zip</th>\n",
       "      <th>category_id</th>\n",
       "      <th>item_price</th>\n",
       "      <th>quantity</th>\n",
       "      <th>payment_datetime</th>\n",
       "      <th>delivery_date</th>\n",
       "      <th>weight</th>\n",
       "      <th>weight_units</th>\n",
       "      <th>package_size</th>\n",
       "      <th>record_number</th>\n",
       "    </tr>\n",
       "  </thead>\n",
       "  <tbody>\n",
       "    <tr>\n",
       "      <th>177376</th>\n",
       "      <td>C2C</td>\n",
       "      <td>3427893</td>\n",
       "      <td>3.0</td>\n",
       "      <td>2018-03-15 16:31:00.000-04:00</td>\n",
       "      <td>0</td>\n",
       "      <td>25.00</td>\n",
       "      <td>3</td>\n",
       "      <td>5</td>\n",
       "      <td>02170</td>\n",
       "      <td>56572</td>\n",
       "      <td>6</td>\n",
       "      <td>862.00</td>\n",
       "      <td>1</td>\n",
       "      <td>2018-03-14 07:50:23.000-04:00</td>\n",
       "      <td>2018-03-17</td>\n",
       "      <td>8</td>\n",
       "      <td>1</td>\n",
       "      <td>PACKAGE_THICK_ENVELOPE</td>\n",
       "      <td>177377</td>\n",
       "    </tr>\n",
       "    <tr>\n",
       "      <th>471991</th>\n",
       "      <td>B2C</td>\n",
       "      <td>125374</td>\n",
       "      <td>NaN</td>\n",
       "      <td>2018-10-29 11:49:00.000-07:00</td>\n",
       "      <td>1</td>\n",
       "      <td>16.45</td>\n",
       "      <td>2</td>\n",
       "      <td>5</td>\n",
       "      <td>80528</td>\n",
       "      <td>35216</td>\n",
       "      <td>0</td>\n",
       "      <td>39.99</td>\n",
       "      <td>1</td>\n",
       "      <td>2018-10-26 16:12:17.000-06:00</td>\n",
       "      <td>2018-10-31</td>\n",
       "      <td>53</td>\n",
       "      <td>1</td>\n",
       "      <td>PACKAGE_THICK_ENVELOPE</td>\n",
       "      <td>471992</td>\n",
       "    </tr>\n",
       "    <tr>\n",
       "      <th>810623</th>\n",
       "      <td>C2C</td>\n",
       "      <td>452556</td>\n",
       "      <td>3.0</td>\n",
       "      <td>2019-03-04 13:25:00.000-08:00</td>\n",
       "      <td>0</td>\n",
       "      <td>4.81</td>\n",
       "      <td>3</td>\n",
       "      <td>5</td>\n",
       "      <td>93510</td>\n",
       "      <td>21811</td>\n",
       "      <td>8</td>\n",
       "      <td>77.99</td>\n",
       "      <td>1</td>\n",
       "      <td>2019-03-01 18:01:15.000-08:00</td>\n",
       "      <td>2019-03-09</td>\n",
       "      <td>8</td>\n",
       "      <td>1</td>\n",
       "      <td>PACKAGE_THICK_ENVELOPE</td>\n",
       "      <td>810624</td>\n",
       "    </tr>\n",
       "    <tr>\n",
       "      <th>558285</th>\n",
       "      <td>B2C</td>\n",
       "      <td>194</td>\n",
       "      <td>1.0</td>\n",
       "      <td>2018-04-18 19:02:00.000-07:00</td>\n",
       "      <td>0</td>\n",
       "      <td>0.00</td>\n",
       "      <td>3</td>\n",
       "      <td>5</td>\n",
       "      <td>518000</td>\n",
       "      <td>20783</td>\n",
       "      <td>5</td>\n",
       "      <td>5.99</td>\n",
       "      <td>1</td>\n",
       "      <td>2018-04-17 05:47:04.000-07:00</td>\n",
       "      <td>2018-04-21</td>\n",
       "      <td>0</td>\n",
       "      <td>1</td>\n",
       "      <td>LETTER</td>\n",
       "      <td>558286</td>\n",
       "    </tr>\n",
       "    <tr>\n",
       "      <th>718184</th>\n",
       "      <td>C2C</td>\n",
       "      <td>1069328</td>\n",
       "      <td>1.0</td>\n",
       "      <td>2018-04-13 12:23:00.000-04:00</td>\n",
       "      <td>4</td>\n",
       "      <td>7.59</td>\n",
       "      <td>2</td>\n",
       "      <td>9</td>\n",
       "      <td>08052</td>\n",
       "      <td>33002</td>\n",
       "      <td>4</td>\n",
       "      <td>5.51</td>\n",
       "      <td>1</td>\n",
       "      <td>2018-04-02 20:02:30.000-04:00</td>\n",
       "      <td>2018-04-17</td>\n",
       "      <td>8</td>\n",
       "      <td>1</td>\n",
       "      <td>PACKAGE_THICK_ENVELOPE</td>\n",
       "      <td>718185</td>\n",
       "    </tr>\n",
       "  </tbody>\n",
       "</table>\n",
       "</div>"
      ],
      "text/plain": [
       "       b2c_c2c  seller_id  declared_handling_days  \\\n",
       "177376     C2C    3427893                     3.0   \n",
       "471991     B2C     125374                     NaN   \n",
       "810623     C2C     452556                     3.0   \n",
       "558285     B2C        194                     1.0   \n",
       "718184     C2C    1069328                     1.0   \n",
       "\n",
       "            acceptance_scan_timestamp  shipment_method_id  shipping_fee  \\\n",
       "177376  2018-03-15 16:31:00.000-04:00                   0         25.00   \n",
       "471991  2018-10-29 11:49:00.000-07:00                   1         16.45   \n",
       "810623  2019-03-04 13:25:00.000-08:00                   0          4.81   \n",
       "558285  2018-04-18 19:02:00.000-07:00                   0          0.00   \n",
       "718184  2018-04-13 12:23:00.000-04:00                   4          7.59   \n",
       "\n",
       "        carrier_min_estimate  carrier_max_estimate item_zip buyer_zip  \\\n",
       "177376                     3                     5    02170     56572   \n",
       "471991                     2                     5    80528     35216   \n",
       "810623                     3                     5    93510     21811   \n",
       "558285                     3                     5   518000     20783   \n",
       "718184                     2                     9    08052     33002   \n",
       "\n",
       "        category_id  item_price  quantity               payment_datetime  \\\n",
       "177376            6      862.00         1  2018-03-14 07:50:23.000-04:00   \n",
       "471991            0       39.99         1  2018-10-26 16:12:17.000-06:00   \n",
       "810623            8       77.99         1  2019-03-01 18:01:15.000-08:00   \n",
       "558285            5        5.99         1  2018-04-17 05:47:04.000-07:00   \n",
       "718184            4        5.51         1  2018-04-02 20:02:30.000-04:00   \n",
       "\n",
       "       delivery_date  weight  weight_units            package_size  \\\n",
       "177376    2018-03-17       8             1  PACKAGE_THICK_ENVELOPE   \n",
       "471991    2018-10-31      53             1  PACKAGE_THICK_ENVELOPE   \n",
       "810623    2019-03-09       8             1  PACKAGE_THICK_ENVELOPE   \n",
       "558285    2018-04-21       0             1                  LETTER   \n",
       "718184    2018-04-17       8             1  PACKAGE_THICK_ENVELOPE   \n",
       "\n",
       "        record_number  \n",
       "177376         177377  \n",
       "471991         471992  \n",
       "810623         810624  \n",
       "558285         558286  \n",
       "718184         718185  "
      ]
     },
     "execution_count": 21,
     "metadata": {},
     "output_type": "execute_result"
    }
   ],
   "source": [
    "#Look at 5 random row\n",
    "df_ebay.sample(5)"
   ]
  },
  {
   "cell_type": "code",
   "execution_count": null,
   "id": "433d66e8",
   "metadata": {},
   "outputs": [],
   "source": [
    "#check the shape of the dataset\n",
    "df_ebay.shape"
   ]
  },
  {
   "cell_type": "code",
   "execution_count": null,
   "id": "9c3ad0b0",
   "metadata": {},
   "outputs": [],
   "source": [
    "print(f'There are {df_ebay.shape[0]} columns and {df_ebay.shape[1]} rows')"
   ]
  },
  {
   "cell_type": "code",
   "execution_count": null,
   "id": "893fa645",
   "metadata": {},
   "outputs": [],
   "source": [
    "# Get a quick overview of dataset variables\n",
    "df_ebay.info()"
   ]
  },
  {
   "cell_type": "code",
   "execution_count": null,
   "id": "309d3385",
   "metadata": {},
   "outputs": [],
   "source": [
    "# top 5 rows showing only 'object' columns\n",
    "df_ebay.select_dtypes('object').head()"
   ]
  },
  {
   "cell_type": "code",
   "execution_count": null,
   "id": "3a140d0e",
   "metadata": {},
   "outputs": [],
   "source": [
    "plt.figure(figsize=(14, 26))\n",
    "plt.subplots(2, 2)\n",
    "\n",
    "plt.subplot(2, 2, 1)\n",
    "plt.pie(df_ebay['b2c_c2c'].value_counts(), labels= df_ebay['b2c_c2c'].unique(), labeldistance=0.5, autopct='%1.1f%%')\n",
    "plt.title('portion of B2C and C2C')\n",
    "\n",
    "plt.subplot(2, 2, 2)\n",
    "plt.scatter( df_ebay['item_price'], df_ebay['carrier_max_estimate'])\n",
    "\n",
    "plt.show()"
   ]
  },
  {
   "cell_type": "code",
   "execution_count": null,
   "id": "66f0c027",
   "metadata": {},
   "outputs": [],
   "source": []
  },
  {
   "attachments": {},
   "cell_type": "markdown",
   "id": "edc3e2ce",
   "metadata": {},
   "source": [
    "## Data Cleaning"
   ]
  },
  {
   "attachments": {},
   "cell_type": "markdown",
   "id": "0fcd7f0e",
   "metadata": {},
   "source": [
    "First let do some common checking in the dataset.\n",
    " -  Null value\n",
    " -  Duplicate row"
   ]
  },
  {
   "cell_type": "code",
   "execution_count": 34,
   "id": "fe190cea",
   "metadata": {},
   "outputs": [
    {
     "data": {
      "text/plain": [
       "b2c_c2c                          0\n",
       "seller_id                        0\n",
       "declared_handling_days       47180\n",
       "acceptance_scan_timestamp        0\n",
       "shipment_method_id               0\n",
       "shipping_fee                     0\n",
       "carrier_min_estimate             0\n",
       "carrier_max_estimate             0\n",
       "item_zip                         0\n",
       "buyer_zip                        0\n",
       "category_id                      0\n",
       "item_price                       0\n",
       "quantity                         0\n",
       "payment_datetime                 0\n",
       "delivery_date                    0\n",
       "weight                           0\n",
       "weight_units                     0\n",
       "package_size                     0\n",
       "record_number                    0\n",
       "dtype: int64"
      ]
     },
     "execution_count": 34,
     "metadata": {},
     "output_type": "execute_result"
    }
   ],
   "source": [
    "#Checking null\n",
    "df_ebay.isna().sum()"
   ]
  },
  {
   "attachments": {},
   "cell_type": "markdown",
   "id": "42ed5253",
   "metadata": {},
   "source": [
    "There is 47180 missing value in total 1 million rows. We could delete it but I decide to have deepper look at it later\n"
   ]
  },
  {
   "cell_type": "code",
   "execution_count": null,
   "id": "732aeced",
   "metadata": {},
   "outputs": [],
   "source": [
    "# checking duplicate rows\n",
    "df_ebay.duplicated().any()"
   ]
  },
  {
   "attachments": {},
   "cell_type": "markdown",
   "id": "9f6923e8",
   "metadata": {},
   "source": [
    "There are no duplicate row in the database"
   ]
  },
  {
   "cell_type": "code",
   "execution_count": null,
   "id": "419f37fe",
   "metadata": {},
   "outputs": [],
   "source": [
    "#recall shape column\n",
    "df_ebay.shape[1]"
   ]
  },
  {
   "attachments": {},
   "cell_type": "markdown",
   "id": "6649561a",
   "metadata": {},
   "source": [
    "Let check out the distributions, we are going to loop over the columns and print some subplot."
   ]
  },
  {
   "cell_type": "code",
   "execution_count": null,
   "id": "16ababed",
   "metadata": {},
   "outputs": [],
   "source": [
    "#checking the b2c_c2c column\n",
    "df_ebay['b2c_c2c'].value_counts()"
   ]
  },
  {
   "attachments": {},
   "cell_type": "markdown",
   "id": "7265d608",
   "metadata": {},
   "source": [
    "Convert `b2c_c2c` column to binary"
   ]
  },
  {
   "cell_type": "code",
   "execution_count": null,
   "id": "419f37fe",
   "metadata": {},
   "outputs": [],
   "source": [
    "df_ebay['b2c_c2c']= np.where(df_ebay['b2c_c2c']=='B2C', 1, 0)"
   ]
  },
  {
   "attachments": {},
   "cell_type": "markdown",
   "id": "e487cece",
   "metadata": {},
   "source": [
    "Test it"
   ]
  },
  {
   "cell_type": "code",
   "execution_count": null,
   "id": "c441e935",
   "metadata": {},
   "outputs": [],
   "source": [
    "df_ebay.head()"
   ]
  },
  {
   "attachments": {},
   "cell_type": "markdown",
   "id": "42373f00",
   "metadata": {},
   "source": [
    "There is 2 `weight_units` is 1 and 2. Let say 1 - 's' and 2 - 'kg'. We are going to convert all the weight units to lb."
   ]
  },
  {
   "cell_type": "code",
   "execution_count": 22,
   "id": "6a4f722d",
   "metadata": {},
   "outputs": [
    {
     "data": {
      "text/html": [
       "<div>\n",
       "<style scoped>\n",
       "    .dataframe tbody tr th:only-of-type {\n",
       "        vertical-align: middle;\n",
       "    }\n",
       "\n",
       "    .dataframe tbody tr th {\n",
       "        vertical-align: top;\n",
       "    }\n",
       "\n",
       "    .dataframe thead th {\n",
       "        text-align: right;\n",
       "    }\n",
       "</style>\n",
       "<table border=\"1\" class=\"dataframe\">\n",
       "  <thead>\n",
       "    <tr style=\"text-align: right;\">\n",
       "      <th></th>\n",
       "      <th>b2c_c2c</th>\n",
       "      <th>seller_id</th>\n",
       "      <th>declared_handling_days</th>\n",
       "      <th>acceptance_scan_timestamp</th>\n",
       "      <th>shipment_method_id</th>\n",
       "      <th>shipping_fee</th>\n",
       "      <th>carrier_min_estimate</th>\n",
       "      <th>carrier_max_estimate</th>\n",
       "      <th>item_zip</th>\n",
       "      <th>buyer_zip</th>\n",
       "      <th>category_id</th>\n",
       "      <th>item_price</th>\n",
       "      <th>quantity</th>\n",
       "      <th>payment_datetime</th>\n",
       "      <th>delivery_date</th>\n",
       "      <th>weight</th>\n",
       "      <th>weight_units</th>\n",
       "      <th>package_size</th>\n",
       "      <th>record_number</th>\n",
       "    </tr>\n",
       "  </thead>\n",
       "  <tbody>\n",
       "    <tr>\n",
       "      <th>115821</th>\n",
       "      <td>B2C</td>\n",
       "      <td>46815</td>\n",
       "      <td>1.0</td>\n",
       "      <td>2018-01-29 10:06:00.000-06:00</td>\n",
       "      <td>0</td>\n",
       "      <td>0.0</td>\n",
       "      <td>3</td>\n",
       "      <td>5</td>\n",
       "      <td>35503</td>\n",
       "      <td>30605</td>\n",
       "      <td>1</td>\n",
       "      <td>6.89</td>\n",
       "      <td>2</td>\n",
       "      <td>2018-01-28 20:18:59.000-06:00</td>\n",
       "      <td>2018-01-31</td>\n",
       "      <td>113</td>\n",
       "      <td>2</td>\n",
       "      <td>LARGE_ENVELOPE</td>\n",
       "      <td>115822</td>\n",
       "    </tr>\n",
       "    <tr>\n",
       "      <th>847218</th>\n",
       "      <td>B2C</td>\n",
       "      <td>40624</td>\n",
       "      <td>1.0</td>\n",
       "      <td>2019-10-03 13:18:00.000-05:00</td>\n",
       "      <td>2</td>\n",
       "      <td>0.0</td>\n",
       "      <td>2</td>\n",
       "      <td>9</td>\n",
       "      <td>63044</td>\n",
       "      <td>85715</td>\n",
       "      <td>6</td>\n",
       "      <td>26.99</td>\n",
       "      <td>1</td>\n",
       "      <td>2019-10-03 01:28:56.000-05:00</td>\n",
       "      <td>2019-10-10</td>\n",
       "      <td>0</td>\n",
       "      <td>2</td>\n",
       "      <td>NONE</td>\n",
       "      <td>847219</td>\n",
       "    </tr>\n",
       "    <tr>\n",
       "      <th>908707</th>\n",
       "      <td>C2C</td>\n",
       "      <td>295500</td>\n",
       "      <td>1.0</td>\n",
       "      <td>2018-03-21 14:00:00.000-04:00</td>\n",
       "      <td>5</td>\n",
       "      <td>7.0</td>\n",
       "      <td>2</td>\n",
       "      <td>5</td>\n",
       "      <td>02050</td>\n",
       "      <td>02109</td>\n",
       "      <td>1</td>\n",
       "      <td>29.30</td>\n",
       "      <td>1</td>\n",
       "      <td>2018-03-04 08:51:33.000-05:00</td>\n",
       "      <td>2018-03-07</td>\n",
       "      <td>13</td>\n",
       "      <td>2</td>\n",
       "      <td>LARGE_ENVELOPE</td>\n",
       "      <td>908708</td>\n",
       "    </tr>\n",
       "  </tbody>\n",
       "</table>\n",
       "</div>"
      ],
      "text/plain": [
       "       b2c_c2c  seller_id  declared_handling_days  \\\n",
       "115821     B2C      46815                     1.0   \n",
       "847218     B2C      40624                     1.0   \n",
       "908707     C2C     295500                     1.0   \n",
       "\n",
       "            acceptance_scan_timestamp  shipment_method_id  shipping_fee  \\\n",
       "115821  2018-01-29 10:06:00.000-06:00                   0           0.0   \n",
       "847218  2019-10-03 13:18:00.000-05:00                   2           0.0   \n",
       "908707  2018-03-21 14:00:00.000-04:00                   5           7.0   \n",
       "\n",
       "        carrier_min_estimate  carrier_max_estimate item_zip buyer_zip  \\\n",
       "115821                     3                     5    35503     30605   \n",
       "847218                     2                     9    63044     85715   \n",
       "908707                     2                     5    02050     02109   \n",
       "\n",
       "        category_id  item_price  quantity               payment_datetime  \\\n",
       "115821            1        6.89         2  2018-01-28 20:18:59.000-06:00   \n",
       "847218            6       26.99         1  2019-10-03 01:28:56.000-05:00   \n",
       "908707            1       29.30         1  2018-03-04 08:51:33.000-05:00   \n",
       "\n",
       "       delivery_date  weight  weight_units    package_size  record_number  \n",
       "115821    2018-01-31     113             2  LARGE_ENVELOPE         115822  \n",
       "847218    2019-10-10       0             2            NONE         847219  \n",
       "908707    2018-03-07      13             2  LARGE_ENVELOPE         908708  "
      ]
     },
     "execution_count": 22,
     "metadata": {},
     "output_type": "execute_result"
    }
   ],
   "source": [
    "#check the record has weigtht unit =2 to able to compare\n",
    "df_ebay[df_ebay['weight_units']==2].head()"
   ]
  },
  {
   "cell_type": "code",
   "execution_count": 23,
   "id": "841a3056",
   "metadata": {},
   "outputs": [],
   "source": [
    "df_ebay['weight'] = np.where(df_ebay['weight_units']==1, df_ebay['weight'], df_ebay['weight']*2.20462 )"
   ]
  },
  {
   "attachments": {},
   "cell_type": "markdown",
   "id": "639a420d",
   "metadata": {},
   "source": [
    "check the record with `weight_units`=2 to see if the `weight` column is change"
   ]
  },
  {
   "cell_type": "code",
   "execution_count": 24,
   "id": "3a3a77e9",
   "metadata": {},
   "outputs": [
    {
     "data": {
      "text/html": [
       "<div>\n",
       "<style scoped>\n",
       "    .dataframe tbody tr th:only-of-type {\n",
       "        vertical-align: middle;\n",
       "    }\n",
       "\n",
       "    .dataframe tbody tr th {\n",
       "        vertical-align: top;\n",
       "    }\n",
       "\n",
       "    .dataframe thead th {\n",
       "        text-align: right;\n",
       "    }\n",
       "</style>\n",
       "<table border=\"1\" class=\"dataframe\">\n",
       "  <thead>\n",
       "    <tr style=\"text-align: right;\">\n",
       "      <th></th>\n",
       "      <th>b2c_c2c</th>\n",
       "      <th>seller_id</th>\n",
       "      <th>declared_handling_days</th>\n",
       "      <th>acceptance_scan_timestamp</th>\n",
       "      <th>shipment_method_id</th>\n",
       "      <th>shipping_fee</th>\n",
       "      <th>carrier_min_estimate</th>\n",
       "      <th>carrier_max_estimate</th>\n",
       "      <th>item_zip</th>\n",
       "      <th>buyer_zip</th>\n",
       "      <th>category_id</th>\n",
       "      <th>item_price</th>\n",
       "      <th>quantity</th>\n",
       "      <th>payment_datetime</th>\n",
       "      <th>delivery_date</th>\n",
       "      <th>weight</th>\n",
       "      <th>weight_units</th>\n",
       "      <th>package_size</th>\n",
       "      <th>record_number</th>\n",
       "    </tr>\n",
       "  </thead>\n",
       "  <tbody>\n",
       "    <tr>\n",
       "      <th>115821</th>\n",
       "      <td>B2C</td>\n",
       "      <td>46815</td>\n",
       "      <td>1.0</td>\n",
       "      <td>2018-01-29 10:06:00.000-06:00</td>\n",
       "      <td>0</td>\n",
       "      <td>0.0</td>\n",
       "      <td>3</td>\n",
       "      <td>5</td>\n",
       "      <td>35503</td>\n",
       "      <td>30605</td>\n",
       "      <td>1</td>\n",
       "      <td>6.89</td>\n",
       "      <td>2</td>\n",
       "      <td>2018-01-28 20:18:59.000-06:00</td>\n",
       "      <td>2018-01-31</td>\n",
       "      <td>249.12206</td>\n",
       "      <td>2</td>\n",
       "      <td>LARGE_ENVELOPE</td>\n",
       "      <td>115822</td>\n",
       "    </tr>\n",
       "    <tr>\n",
       "      <th>847218</th>\n",
       "      <td>B2C</td>\n",
       "      <td>40624</td>\n",
       "      <td>1.0</td>\n",
       "      <td>2019-10-03 13:18:00.000-05:00</td>\n",
       "      <td>2</td>\n",
       "      <td>0.0</td>\n",
       "      <td>2</td>\n",
       "      <td>9</td>\n",
       "      <td>63044</td>\n",
       "      <td>85715</td>\n",
       "      <td>6</td>\n",
       "      <td>26.99</td>\n",
       "      <td>1</td>\n",
       "      <td>2019-10-03 01:28:56.000-05:00</td>\n",
       "      <td>2019-10-10</td>\n",
       "      <td>0.00000</td>\n",
       "      <td>2</td>\n",
       "      <td>NONE</td>\n",
       "      <td>847219</td>\n",
       "    </tr>\n",
       "    <tr>\n",
       "      <th>908707</th>\n",
       "      <td>C2C</td>\n",
       "      <td>295500</td>\n",
       "      <td>1.0</td>\n",
       "      <td>2018-03-21 14:00:00.000-04:00</td>\n",
       "      <td>5</td>\n",
       "      <td>7.0</td>\n",
       "      <td>2</td>\n",
       "      <td>5</td>\n",
       "      <td>02050</td>\n",
       "      <td>02109</td>\n",
       "      <td>1</td>\n",
       "      <td>29.30</td>\n",
       "      <td>1</td>\n",
       "      <td>2018-03-04 08:51:33.000-05:00</td>\n",
       "      <td>2018-03-07</td>\n",
       "      <td>28.66006</td>\n",
       "      <td>2</td>\n",
       "      <td>LARGE_ENVELOPE</td>\n",
       "      <td>908708</td>\n",
       "    </tr>\n",
       "  </tbody>\n",
       "</table>\n",
       "</div>"
      ],
      "text/plain": [
       "       b2c_c2c  seller_id  declared_handling_days  \\\n",
       "115821     B2C      46815                     1.0   \n",
       "847218     B2C      40624                     1.0   \n",
       "908707     C2C     295500                     1.0   \n",
       "\n",
       "            acceptance_scan_timestamp  shipment_method_id  shipping_fee  \\\n",
       "115821  2018-01-29 10:06:00.000-06:00                   0           0.0   \n",
       "847218  2019-10-03 13:18:00.000-05:00                   2           0.0   \n",
       "908707  2018-03-21 14:00:00.000-04:00                   5           7.0   \n",
       "\n",
       "        carrier_min_estimate  carrier_max_estimate item_zip buyer_zip  \\\n",
       "115821                     3                     5    35503     30605   \n",
       "847218                     2                     9    63044     85715   \n",
       "908707                     2                     5    02050     02109   \n",
       "\n",
       "        category_id  item_price  quantity               payment_datetime  \\\n",
       "115821            1        6.89         2  2018-01-28 20:18:59.000-06:00   \n",
       "847218            6       26.99         1  2019-10-03 01:28:56.000-05:00   \n",
       "908707            1       29.30         1  2018-03-04 08:51:33.000-05:00   \n",
       "\n",
       "       delivery_date     weight  weight_units    package_size  record_number  \n",
       "115821    2018-01-31  249.12206             2  LARGE_ENVELOPE         115822  \n",
       "847218    2019-10-10    0.00000             2            NONE         847219  \n",
       "908707    2018-03-07   28.66006             2  LARGE_ENVELOPE         908708  "
      ]
     },
     "execution_count": 24,
     "metadata": {},
     "output_type": "execute_result"
    }
   ],
   "source": [
    "df_ebay[df_ebay['weight_units']==2]"
   ]
  },
  {
   "attachments": {},
   "cell_type": "markdown",
   "id": "b5609392",
   "metadata": {},
   "source": [
    "Now  we change the `weight_units` column all to the same unit"
   ]
  },
  {
   "cell_type": "code",
   "execution_count": 25,
   "id": "5fd9e287",
   "metadata": {},
   "outputs": [],
   "source": [
    "df_ebay['weight_units']= np.where(df_ebay['weight_units']== 2, 1, 1)\n"
   ]
  },
  {
   "cell_type": "code",
   "execution_count": 28,
   "id": "fdb555c0",
   "metadata": {},
   "outputs": [
    {
     "data": {
      "text/plain": [
       "Series([], dtype: int64)"
      ]
     },
     "execution_count": 28,
     "metadata": {},
     "output_type": "execute_result"
    }
   ],
   "source": [
    "#check\n",
    "df_ebay[df_ebay['weight_units']==2].value_counts()"
   ]
  }
 ],
 "metadata": {
  "kernelspec": {
   "display_name": "Python 3 (ipykernel)",
   "language": "python",
   "name": "python3"
  },
  "language_info": {
   "codemirror_mode": {
    "name": "ipython",
    "version": 3
   },
   "file_extension": ".py",
   "mimetype": "text/x-python",
   "name": "python",
   "nbconvert_exporter": "python",
   "pygments_lexer": "ipython3",
   "version": "3.9.13"
  }
 },
 "nbformat": 4,
 "nbformat_minor": 5
}
