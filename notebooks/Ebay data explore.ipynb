{
 "cells": [
  {
   "cell_type": "markdown",
   "id": "0228b123",
   "metadata": {},
   "source": [
    "# EDA Dataset"
   ]
  },
  {
   "cell_type": "markdown",
   "id": "2a1e1ae1",
   "metadata": {},
   "source": [
    "## Explore"
   ]
  },
  {
   "cell_type": "code",
   "execution_count": 1,
   "id": "7cb2a21b",
   "metadata": {},
   "outputs": [],
   "source": [
    "import numpy as np\n",
    "import pandas as pd\n",
    "import matplotlib.pyplot as plt\n",
    "import seaborn as sns   "
   ]
  },
  {
   "cell_type": "code",
   "execution_count": 2,
   "id": "da1b9e79",
   "metadata": {
    "scrolled": true
   },
   "outputs": [
    {
     "data": {
      "text/plain": [
       "array([0, 1, 2, 3, 4, 5, 6, 7, 8, 9])"
      ]
     },
     "execution_count": 2,
     "metadata": {},
     "output_type": "execute_result"
    }
   ],
   "source": [
    "list1 =np.array(range(10))\n",
    "list1"
   ]
  },
  {
   "cell_type": "code",
   "execution_count": 3,
   "id": "91a6b988",
   "metadata": {
    "scrolled": false
   },
   "outputs": [],
   "source": [
    "df_ebay = pd.read_csv('../data/raw/ebayShort.csv', index_col=0)"
   ]
  },
  {
   "attachments": {},
   "cell_type": "markdown",
   "id": "e85df53c",
   "metadata": {},
   "source": [
    "As the data is too big, we first working in the shortcut of the total data with 1 million rows."
   ]
  },
  {
   "cell_type": "code",
   "execution_count": 4,
   "id": "7962e25e",
   "metadata": {},
   "outputs": [
    {
     "data": {
      "text/html": [
       "<div>\n",
       "<style scoped>\n",
       "    .dataframe tbody tr th:only-of-type {\n",
       "        vertical-align: middle;\n",
       "    }\n",
       "\n",
       "    .dataframe tbody tr th {\n",
       "        vertical-align: top;\n",
       "    }\n",
       "\n",
       "    .dataframe thead th {\n",
       "        text-align: right;\n",
       "    }\n",
       "</style>\n",
       "<table border=\"1\" class=\"dataframe\">\n",
       "  <thead>\n",
       "    <tr style=\"text-align: right;\">\n",
       "      <th></th>\n",
       "      <th>b2c_c2c</th>\n",
       "      <th>seller_id</th>\n",
       "      <th>declared_handling_days</th>\n",
       "      <th>acceptance_scan_timestamp</th>\n",
       "      <th>shipment_method_id</th>\n",
       "      <th>shipping_fee</th>\n",
       "      <th>carrier_min_estimate</th>\n",
       "      <th>carrier_max_estimate</th>\n",
       "      <th>item_zip</th>\n",
       "      <th>buyer_zip</th>\n",
       "      <th>category_id</th>\n",
       "      <th>item_price</th>\n",
       "      <th>quantity</th>\n",
       "      <th>payment_datetime</th>\n",
       "      <th>delivery_date</th>\n",
       "      <th>weight</th>\n",
       "      <th>weight_units</th>\n",
       "      <th>package_size</th>\n",
       "      <th>record_number</th>\n",
       "    </tr>\n",
       "  </thead>\n",
       "  <tbody>\n",
       "    <tr>\n",
       "      <th>0</th>\n",
       "      <td>B2C</td>\n",
       "      <td>25454</td>\n",
       "      <td>3.0</td>\n",
       "      <td>2019-03-26 15:11:00.000-07:00</td>\n",
       "      <td>0</td>\n",
       "      <td>0.0</td>\n",
       "      <td>3</td>\n",
       "      <td>5</td>\n",
       "      <td>97219</td>\n",
       "      <td>49040</td>\n",
       "      <td>13</td>\n",
       "      <td>27.95</td>\n",
       "      <td>1</td>\n",
       "      <td>2019-03-24 03:56:49.000-07:00</td>\n",
       "      <td>2019-03-29</td>\n",
       "      <td>5</td>\n",
       "      <td>1</td>\n",
       "      <td>LETTER</td>\n",
       "      <td>1</td>\n",
       "    </tr>\n",
       "    <tr>\n",
       "      <th>1</th>\n",
       "      <td>C2C</td>\n",
       "      <td>6727381</td>\n",
       "      <td>2.0</td>\n",
       "      <td>2018-06-02 12:53:00.000-07:00</td>\n",
       "      <td>0</td>\n",
       "      <td>3.0</td>\n",
       "      <td>3</td>\n",
       "      <td>5</td>\n",
       "      <td>11415-3528</td>\n",
       "      <td>62521</td>\n",
       "      <td>0</td>\n",
       "      <td>20.50</td>\n",
       "      <td>1</td>\n",
       "      <td>2018-06-01 13:43:54.000-07:00</td>\n",
       "      <td>2018-06-05</td>\n",
       "      <td>0</td>\n",
       "      <td>1</td>\n",
       "      <td>PACKAGE_THICK_ENVELOPE</td>\n",
       "      <td>2</td>\n",
       "    </tr>\n",
       "    <tr>\n",
       "      <th>2</th>\n",
       "      <td>B2C</td>\n",
       "      <td>18507</td>\n",
       "      <td>1.0</td>\n",
       "      <td>2019-01-07 16:22:00.000-05:00</td>\n",
       "      <td>0</td>\n",
       "      <td>4.5</td>\n",
       "      <td>3</td>\n",
       "      <td>5</td>\n",
       "      <td>27292</td>\n",
       "      <td>53010</td>\n",
       "      <td>1</td>\n",
       "      <td>19.90</td>\n",
       "      <td>1</td>\n",
       "      <td>2019-01-06 00:02:00.000-05:00</td>\n",
       "      <td>2019-01-10</td>\n",
       "      <td>9</td>\n",
       "      <td>1</td>\n",
       "      <td>PACKAGE_THICK_ENVELOPE</td>\n",
       "      <td>3</td>\n",
       "    </tr>\n",
       "    <tr>\n",
       "      <th>3</th>\n",
       "      <td>B2C</td>\n",
       "      <td>4677</td>\n",
       "      <td>1.0</td>\n",
       "      <td>2018-12-17 16:56:00.000-08:00</td>\n",
       "      <td>0</td>\n",
       "      <td>0.0</td>\n",
       "      <td>3</td>\n",
       "      <td>5</td>\n",
       "      <td>90703</td>\n",
       "      <td>80022</td>\n",
       "      <td>1</td>\n",
       "      <td>35.50</td>\n",
       "      <td>1</td>\n",
       "      <td>2018-12-16 10:28:28.000-08:00</td>\n",
       "      <td>2018-12-21</td>\n",
       "      <td>8</td>\n",
       "      <td>1</td>\n",
       "      <td>PACKAGE_THICK_ENVELOPE</td>\n",
       "      <td>4</td>\n",
       "    </tr>\n",
       "    <tr>\n",
       "      <th>4</th>\n",
       "      <td>B2C</td>\n",
       "      <td>4677</td>\n",
       "      <td>1.0</td>\n",
       "      <td>2018-07-27 16:48:00.000-07:00</td>\n",
       "      <td>0</td>\n",
       "      <td>0.0</td>\n",
       "      <td>3</td>\n",
       "      <td>5</td>\n",
       "      <td>90703</td>\n",
       "      <td>55070</td>\n",
       "      <td>1</td>\n",
       "      <td>25.00</td>\n",
       "      <td>1</td>\n",
       "      <td>2018-07-26 18:20:02.000-07:00</td>\n",
       "      <td>2018-07-30</td>\n",
       "      <td>3</td>\n",
       "      <td>1</td>\n",
       "      <td>PACKAGE_THICK_ENVELOPE</td>\n",
       "      <td>5</td>\n",
       "    </tr>\n",
       "  </tbody>\n",
       "</table>\n",
       "</div>"
      ],
      "text/plain": [
       "  b2c_c2c  seller_id  declared_handling_days      acceptance_scan_timestamp  \\\n",
       "0     B2C      25454                     3.0  2019-03-26 15:11:00.000-07:00   \n",
       "1     C2C    6727381                     2.0  2018-06-02 12:53:00.000-07:00   \n",
       "2     B2C      18507                     1.0  2019-01-07 16:22:00.000-05:00   \n",
       "3     B2C       4677                     1.0  2018-12-17 16:56:00.000-08:00   \n",
       "4     B2C       4677                     1.0  2018-07-27 16:48:00.000-07:00   \n",
       "\n",
       "   shipment_method_id  shipping_fee  carrier_min_estimate  \\\n",
       "0                   0           0.0                     3   \n",
       "1                   0           3.0                     3   \n",
       "2                   0           4.5                     3   \n",
       "3                   0           0.0                     3   \n",
       "4                   0           0.0                     3   \n",
       "\n",
       "   carrier_max_estimate    item_zip buyer_zip  category_id  item_price  \\\n",
       "0                     5       97219     49040           13       27.95   \n",
       "1                     5  11415-3528     62521            0       20.50   \n",
       "2                     5       27292     53010            1       19.90   \n",
       "3                     5       90703     80022            1       35.50   \n",
       "4                     5       90703     55070            1       25.00   \n",
       "\n",
       "   quantity               payment_datetime delivery_date  weight  \\\n",
       "0         1  2019-03-24 03:56:49.000-07:00    2019-03-29       5   \n",
       "1         1  2018-06-01 13:43:54.000-07:00    2018-06-05       0   \n",
       "2         1  2019-01-06 00:02:00.000-05:00    2019-01-10       9   \n",
       "3         1  2018-12-16 10:28:28.000-08:00    2018-12-21       8   \n",
       "4         1  2018-07-26 18:20:02.000-07:00    2018-07-30       3   \n",
       "\n",
       "   weight_units            package_size  record_number  \n",
       "0             1                  LETTER              1  \n",
       "1             1  PACKAGE_THICK_ENVELOPE              2  \n",
       "2             1  PACKAGE_THICK_ENVELOPE              3  \n",
       "3             1  PACKAGE_THICK_ENVELOPE              4  \n",
       "4             1  PACKAGE_THICK_ENVELOPE              5  "
      ]
     },
     "execution_count": 4,
     "metadata": {},
     "output_type": "execute_result"
    }
   ],
   "source": [
    "# Look at the first 5 row\n",
    "\n",
    "df_ebay.head()"
   ]
  },
  {
   "cell_type": "code",
   "execution_count": 5,
   "id": "d2b54046",
   "metadata": {},
   "outputs": [
    {
     "data": {
      "text/html": [
       "<div>\n",
       "<style scoped>\n",
       "    .dataframe tbody tr th:only-of-type {\n",
       "        vertical-align: middle;\n",
       "    }\n",
       "\n",
       "    .dataframe tbody tr th {\n",
       "        vertical-align: top;\n",
       "    }\n",
       "\n",
       "    .dataframe thead th {\n",
       "        text-align: right;\n",
       "    }\n",
       "</style>\n",
       "<table border=\"1\" class=\"dataframe\">\n",
       "  <thead>\n",
       "    <tr style=\"text-align: right;\">\n",
       "      <th></th>\n",
       "      <th>b2c_c2c</th>\n",
       "      <th>seller_id</th>\n",
       "      <th>declared_handling_days</th>\n",
       "      <th>acceptance_scan_timestamp</th>\n",
       "      <th>shipment_method_id</th>\n",
       "      <th>shipping_fee</th>\n",
       "      <th>carrier_min_estimate</th>\n",
       "      <th>carrier_max_estimate</th>\n",
       "      <th>item_zip</th>\n",
       "      <th>buyer_zip</th>\n",
       "      <th>category_id</th>\n",
       "      <th>item_price</th>\n",
       "      <th>quantity</th>\n",
       "      <th>payment_datetime</th>\n",
       "      <th>delivery_date</th>\n",
       "      <th>weight</th>\n",
       "      <th>weight_units</th>\n",
       "      <th>package_size</th>\n",
       "      <th>record_number</th>\n",
       "    </tr>\n",
       "  </thead>\n",
       "  <tbody>\n",
       "    <tr>\n",
       "      <th>242618</th>\n",
       "      <td>C2C</td>\n",
       "      <td>156656</td>\n",
       "      <td>1.0</td>\n",
       "      <td>2019-03-09 09:38:00.000-05:00</td>\n",
       "      <td>1</td>\n",
       "      <td>10.85</td>\n",
       "      <td>2</td>\n",
       "      <td>5</td>\n",
       "      <td>24078</td>\n",
       "      <td>44870</td>\n",
       "      <td>11</td>\n",
       "      <td>14.99</td>\n",
       "      <td>1</td>\n",
       "      <td>2019-03-08 21:17:10.000-05:00</td>\n",
       "      <td>2019-03-12</td>\n",
       "      <td>80</td>\n",
       "      <td>1</td>\n",
       "      <td>PACKAGE_THICK_ENVELOPE</td>\n",
       "      <td>242619</td>\n",
       "    </tr>\n",
       "    <tr>\n",
       "      <th>132174</th>\n",
       "      <td>B2C</td>\n",
       "      <td>768932</td>\n",
       "      <td>3.0</td>\n",
       "      <td>2018-01-08 20:04:00.000-08:00</td>\n",
       "      <td>0</td>\n",
       "      <td>2.00</td>\n",
       "      <td>3</td>\n",
       "      <td>5</td>\n",
       "      <td>95121</td>\n",
       "      <td>34638</td>\n",
       "      <td>11</td>\n",
       "      <td>22.00</td>\n",
       "      <td>1</td>\n",
       "      <td>2018-01-03 17:18:05.000-08:00</td>\n",
       "      <td>2018-01-11</td>\n",
       "      <td>11</td>\n",
       "      <td>1</td>\n",
       "      <td>PACKAGE_THICK_ENVELOPE</td>\n",
       "      <td>132175</td>\n",
       "    </tr>\n",
       "    <tr>\n",
       "      <th>947870</th>\n",
       "      <td>B2C</td>\n",
       "      <td>37306</td>\n",
       "      <td>1.0</td>\n",
       "      <td>2019-07-25 16:15:00.000-04:00</td>\n",
       "      <td>1</td>\n",
       "      <td>0.00</td>\n",
       "      <td>2</td>\n",
       "      <td>5</td>\n",
       "      <td>11231</td>\n",
       "      <td>76548</td>\n",
       "      <td>9</td>\n",
       "      <td>13.99</td>\n",
       "      <td>1</td>\n",
       "      <td>2019-07-25 12:27:47.000-04:00</td>\n",
       "      <td>2019-07-29</td>\n",
       "      <td>8</td>\n",
       "      <td>1</td>\n",
       "      <td>PACKAGE_THICK_ENVELOPE</td>\n",
       "      <td>947871</td>\n",
       "    </tr>\n",
       "    <tr>\n",
       "      <th>744343</th>\n",
       "      <td>B2C</td>\n",
       "      <td>127922</td>\n",
       "      <td>1.0</td>\n",
       "      <td>2018-06-18 16:28:00.000-04:00</td>\n",
       "      <td>1</td>\n",
       "      <td>0.00</td>\n",
       "      <td>2</td>\n",
       "      <td>5</td>\n",
       "      <td>44094</td>\n",
       "      <td>39426</td>\n",
       "      <td>13</td>\n",
       "      <td>44.95</td>\n",
       "      <td>1</td>\n",
       "      <td>2018-06-15 16:52:37.000-04:00</td>\n",
       "      <td>2018-06-20</td>\n",
       "      <td>30</td>\n",
       "      <td>1</td>\n",
       "      <td>PACKAGE_THICK_ENVELOPE</td>\n",
       "      <td>744344</td>\n",
       "    </tr>\n",
       "    <tr>\n",
       "      <th>731611</th>\n",
       "      <td>C2C</td>\n",
       "      <td>162387</td>\n",
       "      <td>1.0</td>\n",
       "      <td>2018-02-22 12:30:00.000-05:00</td>\n",
       "      <td>0</td>\n",
       "      <td>0.00</td>\n",
       "      <td>3</td>\n",
       "      <td>5</td>\n",
       "      <td>32080</td>\n",
       "      <td>24501</td>\n",
       "      <td>3</td>\n",
       "      <td>21.00</td>\n",
       "      <td>1</td>\n",
       "      <td>2018-02-21 13:24:43.000-05:00</td>\n",
       "      <td>2018-02-26</td>\n",
       "      <td>3</td>\n",
       "      <td>1</td>\n",
       "      <td>PACKAGE_THICK_ENVELOPE</td>\n",
       "      <td>731612</td>\n",
       "    </tr>\n",
       "  </tbody>\n",
       "</table>\n",
       "</div>"
      ],
      "text/plain": [
       "       b2c_c2c  seller_id  declared_handling_days  \\\n",
       "242618     C2C     156656                     1.0   \n",
       "132174     B2C     768932                     3.0   \n",
       "947870     B2C      37306                     1.0   \n",
       "744343     B2C     127922                     1.0   \n",
       "731611     C2C     162387                     1.0   \n",
       "\n",
       "            acceptance_scan_timestamp  shipment_method_id  shipping_fee  \\\n",
       "242618  2019-03-09 09:38:00.000-05:00                   1         10.85   \n",
       "132174  2018-01-08 20:04:00.000-08:00                   0          2.00   \n",
       "947870  2019-07-25 16:15:00.000-04:00                   1          0.00   \n",
       "744343  2018-06-18 16:28:00.000-04:00                   1          0.00   \n",
       "731611  2018-02-22 12:30:00.000-05:00                   0          0.00   \n",
       "\n",
       "        carrier_min_estimate  carrier_max_estimate item_zip buyer_zip  \\\n",
       "242618                     2                     5    24078     44870   \n",
       "132174                     3                     5    95121     34638   \n",
       "947870                     2                     5    11231     76548   \n",
       "744343                     2                     5    44094     39426   \n",
       "731611                     3                     5    32080     24501   \n",
       "\n",
       "        category_id  item_price  quantity               payment_datetime  \\\n",
       "242618           11       14.99         1  2019-03-08 21:17:10.000-05:00   \n",
       "132174           11       22.00         1  2018-01-03 17:18:05.000-08:00   \n",
       "947870            9       13.99         1  2019-07-25 12:27:47.000-04:00   \n",
       "744343           13       44.95         1  2018-06-15 16:52:37.000-04:00   \n",
       "731611            3       21.00         1  2018-02-21 13:24:43.000-05:00   \n",
       "\n",
       "       delivery_date  weight  weight_units            package_size  \\\n",
       "242618    2019-03-12      80             1  PACKAGE_THICK_ENVELOPE   \n",
       "132174    2018-01-11      11             1  PACKAGE_THICK_ENVELOPE   \n",
       "947870    2019-07-29       8             1  PACKAGE_THICK_ENVELOPE   \n",
       "744343    2018-06-20      30             1  PACKAGE_THICK_ENVELOPE   \n",
       "731611    2018-02-26       3             1  PACKAGE_THICK_ENVELOPE   \n",
       "\n",
       "        record_number  \n",
       "242618         242619  \n",
       "132174         132175  \n",
       "947870         947871  \n",
       "744343         744344  \n",
       "731611         731612  "
      ]
     },
     "execution_count": 5,
     "metadata": {},
     "output_type": "execute_result"
    }
   ],
   "source": [
    "#Look at 5 random row\n",
    "df_ebay.sample(5)"
   ]
  },
  {
   "cell_type": "code",
   "execution_count": 6,
   "id": "433d66e8",
   "metadata": {},
   "outputs": [
    {
     "data": {
      "text/plain": [
       "(1000000, 19)"
      ]
     },
     "execution_count": 6,
     "metadata": {},
     "output_type": "execute_result"
    }
   ],
   "source": [
    "#check the shape of the dataset\n",
    "df_ebay.shape"
   ]
  },
  {
   "cell_type": "code",
   "execution_count": 7,
   "id": "9c3ad0b0",
   "metadata": {},
   "outputs": [
    {
     "name": "stdout",
     "output_type": "stream",
     "text": [
      "There are 1000000 columns and 19 rows\n"
     ]
    }
   ],
   "source": [
    "print(f'There are {df_ebay.shape[0]} columns and {df_ebay.shape[1]} rows')"
   ]
  },
  {
   "cell_type": "code",
   "execution_count": 8,
   "id": "893fa645",
   "metadata": {},
   "outputs": [
    {
     "name": "stdout",
     "output_type": "stream",
     "text": [
      "<class 'pandas.core.frame.DataFrame'>\n",
      "Int64Index: 1000000 entries, 0 to 999999\n",
      "Data columns (total 19 columns):\n",
      " #   Column                     Non-Null Count    Dtype  \n",
      "---  ------                     --------------    -----  \n",
      " 0   b2c_c2c                    1000000 non-null  object \n",
      " 1   seller_id                  1000000 non-null  int64  \n",
      " 2   declared_handling_days     952820 non-null   float64\n",
      " 3   acceptance_scan_timestamp  1000000 non-null  object \n",
      " 4   shipment_method_id         1000000 non-null  int64  \n",
      " 5   shipping_fee               1000000 non-null  float64\n",
      " 6   carrier_min_estimate       1000000 non-null  int64  \n",
      " 7   carrier_max_estimate       1000000 non-null  int64  \n",
      " 8   item_zip                   1000000 non-null  object \n",
      " 9   buyer_zip                  1000000 non-null  object \n",
      " 10  category_id                1000000 non-null  int64  \n",
      " 11  item_price                 1000000 non-null  float64\n",
      " 12  quantity                   1000000 non-null  int64  \n",
      " 13  payment_datetime           1000000 non-null  object \n",
      " 14  delivery_date              1000000 non-null  object \n",
      " 15  weight                     1000000 non-null  int64  \n",
      " 16  weight_units               1000000 non-null  int64  \n",
      " 17  package_size               1000000 non-null  object \n",
      " 18  record_number              1000000 non-null  int64  \n",
      "dtypes: float64(3), int64(9), object(7)\n",
      "memory usage: 152.6+ MB\n"
     ]
    }
   ],
   "source": [
    "# Get a quick overview of dataset variables\n",
    "df_ebay.info()"
   ]
  },
  {
   "cell_type": "code",
   "execution_count": 9,
   "id": "309d3385",
   "metadata": {},
   "outputs": [
    {
     "data": {
      "text/html": [
       "<div>\n",
       "<style scoped>\n",
       "    .dataframe tbody tr th:only-of-type {\n",
       "        vertical-align: middle;\n",
       "    }\n",
       "\n",
       "    .dataframe tbody tr th {\n",
       "        vertical-align: top;\n",
       "    }\n",
       "\n",
       "    .dataframe thead th {\n",
       "        text-align: right;\n",
       "    }\n",
       "</style>\n",
       "<table border=\"1\" class=\"dataframe\">\n",
       "  <thead>\n",
       "    <tr style=\"text-align: right;\">\n",
       "      <th></th>\n",
       "      <th>b2c_c2c</th>\n",
       "      <th>acceptance_scan_timestamp</th>\n",
       "      <th>item_zip</th>\n",
       "      <th>buyer_zip</th>\n",
       "      <th>payment_datetime</th>\n",
       "      <th>delivery_date</th>\n",
       "      <th>package_size</th>\n",
       "    </tr>\n",
       "  </thead>\n",
       "  <tbody>\n",
       "    <tr>\n",
       "      <th>0</th>\n",
       "      <td>B2C</td>\n",
       "      <td>2019-03-26 15:11:00.000-07:00</td>\n",
       "      <td>97219</td>\n",
       "      <td>49040</td>\n",
       "      <td>2019-03-24 03:56:49.000-07:00</td>\n",
       "      <td>2019-03-29</td>\n",
       "      <td>LETTER</td>\n",
       "    </tr>\n",
       "    <tr>\n",
       "      <th>1</th>\n",
       "      <td>C2C</td>\n",
       "      <td>2018-06-02 12:53:00.000-07:00</td>\n",
       "      <td>11415-3528</td>\n",
       "      <td>62521</td>\n",
       "      <td>2018-06-01 13:43:54.000-07:00</td>\n",
       "      <td>2018-06-05</td>\n",
       "      <td>PACKAGE_THICK_ENVELOPE</td>\n",
       "    </tr>\n",
       "    <tr>\n",
       "      <th>2</th>\n",
       "      <td>B2C</td>\n",
       "      <td>2019-01-07 16:22:00.000-05:00</td>\n",
       "      <td>27292</td>\n",
       "      <td>53010</td>\n",
       "      <td>2019-01-06 00:02:00.000-05:00</td>\n",
       "      <td>2019-01-10</td>\n",
       "      <td>PACKAGE_THICK_ENVELOPE</td>\n",
       "    </tr>\n",
       "    <tr>\n",
       "      <th>3</th>\n",
       "      <td>B2C</td>\n",
       "      <td>2018-12-17 16:56:00.000-08:00</td>\n",
       "      <td>90703</td>\n",
       "      <td>80022</td>\n",
       "      <td>2018-12-16 10:28:28.000-08:00</td>\n",
       "      <td>2018-12-21</td>\n",
       "      <td>PACKAGE_THICK_ENVELOPE</td>\n",
       "    </tr>\n",
       "    <tr>\n",
       "      <th>4</th>\n",
       "      <td>B2C</td>\n",
       "      <td>2018-07-27 16:48:00.000-07:00</td>\n",
       "      <td>90703</td>\n",
       "      <td>55070</td>\n",
       "      <td>2018-07-26 18:20:02.000-07:00</td>\n",
       "      <td>2018-07-30</td>\n",
       "      <td>PACKAGE_THICK_ENVELOPE</td>\n",
       "    </tr>\n",
       "  </tbody>\n",
       "</table>\n",
       "</div>"
      ],
      "text/plain": [
       "  b2c_c2c      acceptance_scan_timestamp    item_zip buyer_zip  \\\n",
       "0     B2C  2019-03-26 15:11:00.000-07:00       97219     49040   \n",
       "1     C2C  2018-06-02 12:53:00.000-07:00  11415-3528     62521   \n",
       "2     B2C  2019-01-07 16:22:00.000-05:00       27292     53010   \n",
       "3     B2C  2018-12-17 16:56:00.000-08:00       90703     80022   \n",
       "4     B2C  2018-07-27 16:48:00.000-07:00       90703     55070   \n",
       "\n",
       "                payment_datetime delivery_date            package_size  \n",
       "0  2019-03-24 03:56:49.000-07:00    2019-03-29                  LETTER  \n",
       "1  2018-06-01 13:43:54.000-07:00    2018-06-05  PACKAGE_THICK_ENVELOPE  \n",
       "2  2019-01-06 00:02:00.000-05:00    2019-01-10  PACKAGE_THICK_ENVELOPE  \n",
       "3  2018-12-16 10:28:28.000-08:00    2018-12-21  PACKAGE_THICK_ENVELOPE  \n",
       "4  2018-07-26 18:20:02.000-07:00    2018-07-30  PACKAGE_THICK_ENVELOPE  "
      ]
     },
     "execution_count": 9,
     "metadata": {},
     "output_type": "execute_result"
    }
   ],
   "source": [
    "# top 5 rows showing only 'object' columns\n",
    "df_ebay.select_dtypes('object').head()"
   ]
  },
  {
   "attachments": {},
   "cell_type": "markdown",
   "id": "edc3e2ce",
   "metadata": {},
   "source": [
    "## Data Cleaning"
   ]
  },
  {
   "attachments": {},
   "cell_type": "markdown",
   "id": "0fcd7f0e",
   "metadata": {},
   "source": [
    "First let do some common checking in the dataset.\n",
    " -  Null value\n",
    " -  Duplicate row"
   ]
  },
  {
   "cell_type": "code",
   "execution_count": 10,
   "id": "fe190cea",
   "metadata": {},
   "outputs": [
    {
     "data": {
      "text/plain": [
       "b2c_c2c                          0\n",
       "seller_id                        0\n",
       "declared_handling_days       47180\n",
       "acceptance_scan_timestamp        0\n",
       "shipment_method_id               0\n",
       "shipping_fee                     0\n",
       "carrier_min_estimate             0\n",
       "carrier_max_estimate             0\n",
       "item_zip                         0\n",
       "buyer_zip                        0\n",
       "category_id                      0\n",
       "item_price                       0\n",
       "quantity                         0\n",
       "payment_datetime                 0\n",
       "delivery_date                    0\n",
       "weight                           0\n",
       "weight_units                     0\n",
       "package_size                     0\n",
       "record_number                    0\n",
       "dtype: int64"
      ]
     },
     "execution_count": 10,
     "metadata": {},
     "output_type": "execute_result"
    }
   ],
   "source": [
    "#Checking null\n",
    "df_ebay.isna().sum()"
   ]
  },
  {
   "attachments": {},
   "cell_type": "markdown",
   "id": "42ed5253",
   "metadata": {},
   "source": [
    "There is 47180 missing value in total 1 million rows. We could delete it but I decide to have deepper look at it later\n"
   ]
  },
  {
   "cell_type": "code",
   "execution_count": 11,
   "id": "732aeced",
   "metadata": {},
   "outputs": [
    {
     "data": {
      "text/plain": [
       "False"
      ]
     },
     "execution_count": 11,
     "metadata": {},
     "output_type": "execute_result"
    }
   ],
   "source": [
    "# checking duplicate rows\n",
    "df_ebay.duplicated().any()"
   ]
  },
  {
   "attachments": {},
   "cell_type": "markdown",
   "id": "9f6923e8",
   "metadata": {},
   "source": [
    "There are no duplicate row in the database"
   ]
  },
  {
   "attachments": {},
   "cell_type": "markdown",
   "id": "7265d608",
   "metadata": {},
   "source": [
    "# Exploring the data"
   ]
  },
  {
   "cell_type": "code",
   "execution_count": 12,
   "id": "419f37fe",
   "metadata": {},
   "outputs": [
    {
     "data": {
      "text/plain": [
       "19"
      ]
     },
     "execution_count": 12,
     "metadata": {},
     "output_type": "execute_result"
    }
   ],
   "source": [
    "#recall shape column\n",
    "df_ebay.shape[1]"
   ]
  },
  {
   "attachments": {},
   "cell_type": "markdown",
   "id": "6649561a",
   "metadata": {},
   "source": [
    "Let check out the distributions, we are going to loop over the columns and print some subplot."
   ]
  },
  {
   "cell_type": "code",
   "execution_count": null,
   "id": "05468251",
   "metadata": {},
   "outputs": [],
   "source": []
  },
  {
   "cell_type": "code",
   "execution_count": null,
   "id": "7952689e",
   "metadata": {},
   "outputs": [],
   "source": []
  }
 ],
 "metadata": {
  "kernelspec": {
   "display_name": "Python 3 (ipykernel)",
   "language": "python",
   "name": "python3"
  },
  "language_info": {
   "codemirror_mode": {
    "name": "ipython",
    "version": 3
   },
   "file_extension": ".py",
   "mimetype": "text/x-python",
   "name": "python",
   "nbconvert_exporter": "python",
   "pygments_lexer": "ipython3",
   "version": "3.9.13"
  }
 },
 "nbformat": 4,
 "nbformat_minor": 5
}
